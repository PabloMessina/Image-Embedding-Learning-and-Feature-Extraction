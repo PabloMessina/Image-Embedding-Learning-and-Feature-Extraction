{
 "cells": [
  {
   "cell_type": "code",
   "execution_count": 3,
   "metadata": {},
   "outputs": [],
   "source": [
    "%load_ext autoreload\n",
    "%autoreload 1"
   ]
  },
  {
   "cell_type": "code",
   "execution_count": 4,
   "metadata": {},
   "outputs": [],
   "source": [
    "%aimport utils, Networks"
   ]
  },
  {
   "cell_type": "code",
   "execution_count": 36,
   "metadata": {},
   "outputs": [],
   "source": [
    "import numpy as np\n",
    "import pandas as pd\n",
    "import random\n",
    "import os\n",
    "import time\n",
    "from math import ceil\n",
    "from sklearn.preprocessing import StandardScaler\n",
    "from utils import load_embeddings_and_ids, concatenate_featmats, User,\\\n",
    "    VisualSimilarityHandler, HybridScorer, get_decaying_learning_rates"
   ]
  },
  {
   "cell_type": "code",
   "execution_count": 6,
   "metadata": {},
   "outputs": [],
   "source": [
    "# use a single GPU because we want to be nice with other people :)\n",
    "os.environ[\"CUDA_VISIBLE_DEVICES\"]=\"0\""
   ]
  },
  {
   "cell_type": "markdown",
   "metadata": {},
   "source": [
    "###  Load pre-trained image embeddings"
   ]
  },
  {
   "cell_type": "code",
   "execution_count": 7,
   "metadata": {},
   "outputs": [],
   "source": [
    "resnet50 = load_embeddings_and_ids('/mnt/workspace/Ugallery/ResNet50/', 'flatten_1.npy', 'ids')"
   ]
  },
  {
   "cell_type": "code",
   "execution_count": 8,
   "metadata": {},
   "outputs": [],
   "source": [
    "resnext101 = load_embeddings_and_ids('/mnt/workspace/Ugallery/resnext101_32x8d_wsl/', 'features.npy', 'ids.npy')"
   ]
  },
  {
   "cell_type": "code",
   "execution_count": 6,
   "metadata": {},
   "outputs": [],
   "source": [
    "# alexnet = load_embeddings_and_ids('/mnt/workspace/Ugallery/AlexNet/', 'fc7.npy', 'ids.npy')"
   ]
  },
  {
   "cell_type": "code",
   "execution_count": 7,
   "metadata": {},
   "outputs": [],
   "source": [
    "# inceptionv3 = load_embeddings_and_ids('/mnt/workspace/Ugallery/InceptionV3/', 'avg_pool.npy', 'ids')"
   ]
  },
  {
   "cell_type": "markdown",
   "metadata": {},
   "source": [
    "###  Concatenate embeddings + z-score normalization"
   ]
  },
  {
   "cell_type": "code",
   "execution_count": 9,
   "metadata": {},
   "outputs": [],
   "source": [
    "embedding_list = [\n",
    "    resnet50,\n",
    "    resnext101,\n",
    "#     alexnet,\n",
    "#     inceptionv3,\n",
    "]"
   ]
  },
  {
   "cell_type": "code",
   "execution_count": 10,
   "metadata": {},
   "outputs": [
    {
     "data": {
      "text/plain": [
       "13297"
      ]
     },
     "execution_count": 10,
     "metadata": {},
     "output_type": "execute_result"
    }
   ],
   "source": [
    "artwork_ids_set = set()\n",
    "for embedding in embedding_list:\n",
    "    if len(artwork_ids_set) == 0:        \n",
    "        artwork_ids_set.update(embedding['index2id'])\n",
    "    else:\n",
    "        artwork_ids_set.intersection_update(embedding['index2id'])\n",
    "artwork_ids = list(artwork_ids_set)\n",
    "artwork_id2index = {_id:i for i,_id in enumerate(artwork_ids)}\n",
    "n_artworks = len(artwork_ids)\n",
    "n_artworks"
   ]
  },
  {
   "cell_type": "code",
   "execution_count": 11,
   "metadata": {},
   "outputs": [],
   "source": [
    "featmat_list = [tmp['featmat'] for tmp in embedding_list]\n",
    "id2index_list = [tmp['id2index'] for tmp in embedding_list]\n",
    "concat_featmat = concatenate_featmats(artwork_ids, featmat_list, id2index_list)"
   ]
  },
  {
   "cell_type": "code",
   "execution_count": 12,
   "metadata": {},
   "outputs": [],
   "source": [
    "concat_featmat = StandardScaler().fit_transform(concat_featmat)"
   ]
  },
  {
   "cell_type": "code",
   "execution_count": 13,
   "metadata": {},
   "outputs": [
    {
     "data": {
      "text/plain": [
       "(13297, 4096)"
      ]
     },
     "execution_count": 13,
     "metadata": {},
     "output_type": "execute_result"
    }
   ],
   "source": [
    "concat_featmat.shape"
   ]
  },
  {
   "cell_type": "markdown",
   "metadata": {},
   "source": [
    "###  Load clusters"
   ]
  },
  {
   "cell_type": "code",
   "execution_count": 14,
   "metadata": {},
   "outputs": [],
   "source": [
    "import json"
   ]
  },
  {
   "cell_type": "code",
   "execution_count": 15,
   "metadata": {},
   "outputs": [],
   "source": [
    "def load_clusters(json_path):\n",
    "    with open(json_path) as f:\n",
    "        artId2clustId = json.load(f)\n",
    "    cluster_ids = np.full((n_artworks,), -1, dtype=int)\n",
    "    for k, v in artId2clustId.items():\n",
    "        cluster_ids[artwork_id2index[int(k)]] = v\n",
    "    return cluster_ids, artId2clustId"
   ]
  },
  {
   "cell_type": "code",
   "execution_count": 16,
   "metadata": {},
   "outputs": [],
   "source": [
    "def get_art_indexes_per_cluster(cluster_ids, n_clusters):\n",
    "    clusterId2artworkIndexes = [[] for _ in range(n_clusters)]\n",
    "    for i, cluster_id in enumerate(cluster_ids):\n",
    "        clusterId2artworkIndexes[cluster_id].append(i)\n",
    "    return clusterId2artworkIndexes"
   ]
  },
  {
   "cell_type": "code",
   "execution_count": 17,
   "metadata": {},
   "outputs": [],
   "source": [
    "cluster_ids, artId2clustId = load_clusters(\n",
    "    '/mnt/workspace/Ugallery/Clustering/artworkId2clusterId(resnet50+resnext101).json')"
   ]
  },
  {
   "cell_type": "code",
   "execution_count": 18,
   "metadata": {},
   "outputs": [
    {
     "name": "stdout",
     "output_type": "stream",
     "text": [
      "0 99 (13297,)\n"
     ]
    }
   ],
   "source": [
    "print(cluster_ids.min(), cluster_ids.max(), cluster_ids.shape)"
   ]
  },
  {
   "cell_type": "code",
   "execution_count": 19,
   "metadata": {},
   "outputs": [
    {
     "data": {
      "text/plain": [
       "100"
      ]
     },
     "execution_count": 19,
     "metadata": {},
     "output_type": "execute_result"
    }
   ],
   "source": [
    "n_clusters = len(set(cluster_ids))\n",
    "n_clusters"
   ]
  },
  {
   "cell_type": "code",
   "execution_count": 20,
   "metadata": {},
   "outputs": [],
   "source": [
    "clustId2artIndexes = get_art_indexes_per_cluster(cluster_ids, n_clusters)"
   ]
  },
  {
   "cell_type": "markdown",
   "metadata": {},
   "source": [
    "###  Load PCA200 embeddings"
   ]
  },
  {
   "cell_type": "code",
   "execution_count": 21,
   "metadata": {},
   "outputs": [],
   "source": [
    "pca200 = load_embeddings_and_ids(\n",
    "    '/mnt/workspace/Ugallery/PCA200(resnet50+resnext101)/',\n",
    "    'embeddings.npy',\n",
    "    'ids.npy',\n",
    ")"
   ]
  },
  {
   "cell_type": "code",
   "execution_count": 22,
   "metadata": {},
   "outputs": [],
   "source": [
    "pca200_embeddings = pca200['featmat']\n",
    "pca200_index2id = pca200['index2id']\n",
    "pca200_id2index = pca200['id2index']"
   ]
  },
  {
   "cell_type": "code",
   "execution_count": 23,
   "metadata": {},
   "outputs": [
    {
     "data": {
      "text/plain": [
       "(13297, 200)"
      ]
     },
     "execution_count": 23,
     "metadata": {},
     "output_type": "execute_result"
    }
   ],
   "source": [
    "pca200_embeddings.shape"
   ]
  },
  {
   "cell_type": "code",
   "execution_count": 24,
   "metadata": {},
   "outputs": [],
   "source": [
    "assert np.array_equal(artwork_ids, pca200_index2id)"
   ]
  },
  {
   "cell_type": "markdown",
   "metadata": {},
   "source": [
    "###  Load transactions"
   ]
  },
  {
   "cell_type": "code",
   "execution_count": 25,
   "metadata": {},
   "outputs": [],
   "source": [
    "sales_df = pd.read_csv('./data/valid_sales.csv')\n",
    "artworks_df = pd.read_csv('./data/valid_artworks.csv')"
   ]
  },
  {
   "cell_type": "code",
   "execution_count": 26,
   "metadata": {},
   "outputs": [],
   "source": [
    "artist_ids = np.full((n_artworks,), -1, dtype=int)\n",
    "for _artworkId, _artistId in zip(artworks_df.id, artworks_df.artist_id):\n",
    "    i = artwork_id2index[_artworkId]\n",
    "    artist_ids[i] = _artistId"
   ]
  },
  {
   "cell_type": "code",
   "execution_count": 27,
   "metadata": {},
   "outputs": [],
   "source": [
    "artistId2artworkIndexes = dict()\n",
    "for i, _artistId in enumerate(artist_ids):\n",
    "    if _artistId == -1:\n",
    "        continue\n",
    "    try:\n",
    "        artistId2artworkIndexes[_artistId].append(i)\n",
    "    except KeyError:\n",
    "        artistId2artworkIndexes[_artistId] = [i]"
   ]
  },
  {
   "cell_type": "markdown",
   "metadata": {},
   "source": [
    "### Collect transactions per user (making sure we hide the last nonfirst purchase basket per user)"
   ]
  },
  {
   "cell_type": "markdown",
   "metadata": {},
   "source": [
    "#### create list of users"
   ]
  },
  {
   "cell_type": "code",
   "execution_count": 28,
   "metadata": {},
   "outputs": [
    {
     "data": {
      "text/plain": [
       "2919"
      ]
     },
     "execution_count": 28,
     "metadata": {},
     "output_type": "execute_result"
    }
   ],
   "source": [
    "user_ids = sales_df.customer_id.unique()\n",
    "user_id2index = { _id:i for i,_id in enumerate(user_ids) }\n",
    "users = [User(uid) for uid in user_ids]\n",
    "n_users = len(user_ids)\n",
    "n_users"
   ]
  },
  {
   "cell_type": "markdown",
   "metadata": {},
   "source": [
    "#### collect and sanity check transactions per user"
   ]
  },
  {
   "cell_type": "code",
   "execution_count": 29,
   "metadata": {},
   "outputs": [],
   "source": [
    "sorted_sales_df = sales_df.sort_values('order_date')"
   ]
  },
  {
   "cell_type": "code",
   "execution_count": 30,
   "metadata": {},
   "outputs": [],
   "source": [
    "# clear structures to prevent possible duplicate elements\n",
    "for user in users:\n",
    "    user.clear()\n",
    "\n",
    "# collect transactions per user sorted by timestamp\n",
    "for uid, aid, t in zip(sorted_sales_df.customer_id,\n",
    "                       sorted_sales_df.artwork_id,\n",
    "                       sorted_sales_df.order_date):\n",
    "    users[user_id2index[uid]].append_transaction(\n",
    "        aid, t, artwork_id2index, artist_ids, cluster_ids, cluster_ids)\n",
    "    assert users[user_id2index[uid]]._uid == uid\n",
    "    \n",
    "# bin transctions with same timestamps into purchase baskets\n",
    "for user in users:\n",
    "    user.build_purchase_baskets()\n",
    "    user.sanity_check_purchase_baskets()\n",
    "    user.remove_last_nonfirst_purchase_basket(\n",
    "        artwork_id2index, artist_ids, cluster_ids, cluster_ids)\n",
    "    user.sanity_check_purchase_baskets()\n",
    "    user.refresh_nonpurchased_cluster_ids(n_clusters, n_clusters)\n",
    "    user.refresh_cluster_ids()\n",
    "    user.refresh_artist_ids()"
   ]
  },
  {
   "cell_type": "markdown",
   "metadata": {},
   "source": [
    "### Generate training data"
   ]
  },
  {
   "cell_type": "code",
   "execution_count": 31,
   "metadata": {},
   "outputs": [],
   "source": [
    "def hash_triple(ui, pi, ni):\n",
    "    return  ((pi * n_artworks) + ni) * n_users + ui"
   ]
  },
  {
   "cell_type": "code",
   "execution_count": 66,
   "metadata": {},
   "outputs": [],
   "source": [
    "def sanity_check_instance(instance, pos_in_profile=True):\n",
    "    ui, pi, ni = instance    \n",
    "    try:\n",
    "        assert 0 <= ui < n_users\n",
    "        assert 0 <= pi < n_artworks\n",
    "        assert 0 <= ni < n_artworks\n",
    "        assert pi != ni\n",
    "        assert not vissimhandler.same(pi,ni)        \n",
    "        user = users[ui]\n",
    "        profile_set = user.artwork_idxs_set\n",
    "        assert ni not in profile_set\n",
    "        if pos_in_profile is not None:\n",
    "            assert (pi in profile_set) == pos_in_profile\n",
    "        spi = hybrid_scorer.get_score(ui, user.artwork_idxs, pi)\n",
    "        sni = hybrid_scorer.get_score(ui, user.artwork_idxs, ni)\n",
    "        assert spi > sni\n",
    "    except AssertionError:\n",
    "        print('ui = ', ui)\n",
    "        print('pi = ', pi)\n",
    "        print('ni = ', ni)\n",
    "        raise"
   ]
  },
  {
   "cell_type": "code",
   "execution_count": 56,
   "metadata": {},
   "outputs": [],
   "source": [
    "def append_instance(container, instance, **kwargs):\n",
    "    global _hash_collisions\n",
    "    ui, pi, ni = instance\n",
    "    \n",
    "    h = hash_triple(ui, pi, ni)\n",
    "    if h in used_hashes:\n",
    "        _hash_collisions += 1\n",
    "        return False\n",
    "    \n",
    "    if vissimhandler.same(pi, ni):\n",
    "        return False\n",
    "    \n",
    "    sanity_check_instance(instance, **kwargs)\n",
    "    container.append(instance)\n",
    "    used_hashes.add(h)\n",
    "    return True"
   ]
  },
  {
   "cell_type": "code",
   "execution_count": 57,
   "metadata": {},
   "outputs": [],
   "source": [
    "def print_num_samples(sampler_func):\n",
    "    def wrapper(instances_container, n_samples):\n",
    "        len_before = len(instances_container)\n",
    "        sampler_func(instances_container, n_samples)\n",
    "        actual_samples = len(instances_container) - len_before\n",
    "        print('  target samples: %d' % n_samples)\n",
    "        print('  actual samples: %d' % actual_samples)\n",
    "        print('  delta: %d' % (n_samples - actual_samples))\n",
    "    return wrapper"
   ]
  },
  {
   "cell_type": "code",
   "execution_count": 38,
   "metadata": {},
   "outputs": [],
   "source": [
    "FINE_GRAINED_THRESHOLD = 0.7\n",
    "ARTIST_BOOST = 0.2\n",
    "CONFIDENCE_MARGIN = 0.18"
   ]
  },
  {
   "cell_type": "code",
   "execution_count": 35,
   "metadata": {},
   "outputs": [],
   "source": [
    "vissimhandler = VisualSimilarityHandler(cluster_ids, pca200_embeddings)"
   ]
  },
  {
   "cell_type": "code",
   "execution_count": 39,
   "metadata": {},
   "outputs": [],
   "source": [
    "hybrid_scorer = HybridScorer(vissimhandler, artist_ids, artist_boost=ARTIST_BOOST)"
   ]
  },
  {
   "cell_type": "code",
   "execution_count": 40,
   "metadata": {},
   "outputs": [],
   "source": [
    "vissimhandler.count = 0\n",
    "used_hashes = set()\n",
    "_hash_collisions = 0\n",
    "train_instances = []\n",
    "test_instances = []"
   ]
  },
  {
   "cell_type": "code",
   "execution_count": 41,
   "metadata": {},
   "outputs": [
    {
     "name": "stdout",
     "output_type": "stream",
     "text": [
      "5000000 250000\n"
     ]
    }
   ],
   "source": [
    "N_STRATEGIES = 2\n",
    "TOTAL_SAMPLES__TRAIN = 10000000\n",
    "TOTAL_SAMPLES__TEST =  TOTAL_SAMPLES__TRAIN * 0.05\n",
    "N_SAMPLES_PER_STRATEGY__TRAIN = ceil(TOTAL_SAMPLES__TRAIN / N_STRATEGIES)\n",
    "N_SAMPLES_PER_STRATEGY__TEST = ceil(TOTAL_SAMPLES__TEST / N_STRATEGIES)\n",
    "print(N_SAMPLES_PER_STRATEGY__TRAIN, N_SAMPLES_PER_STRATEGY__TEST)"
   ]
  },
  {
   "cell_type": "markdown",
   "metadata": {},
   "source": [
    "## Original BPR strategy"
   ]
  },
  {
   "cell_type": "markdown",
   "metadata": {},
   "source": [
    "#### 1) given profile, recommend profile\n",
    "Given a user's profile, all items in the profile should be ranked higher than items outside the profile (as long as the hybrid scorer agrees)"
   ]
  },
  {
   "cell_type": "code",
   "execution_count": 42,
   "metadata": {},
   "outputs": [],
   "source": [
    "def sample_artwork_index(i):\n",
    "    if random.random() <= FINE_GRAINED_THRESHOLD:\n",
    "        if artist_ids[i] == -1 or random.random() <= 0.5:\n",
    "            j = random.choice(clustId2artIndexes[cluster_ids[i]])\n",
    "        else:\n",
    "            j = random.choice(artistId2artworkIndexes[artist_ids[i]])\n",
    "    else:\n",
    "        c = random.randint(0, n_clusters-1)\n",
    "        j = random.choice(clustId2artIndexes[c])\n",
    "    return j"
   ]
  },
  {
   "cell_type": "code",
   "execution_count": 43,
   "metadata": {},
   "outputs": [],
   "source": [
    "def sample_artwork_index__outsideprofile(profile_set, pi):\n",
    "    while True:\n",
    "        ni = sample_artwork_index(pi)\n",
    "        if ni not in profile_set:\n",
    "            return ni"
   ]
  },
  {
   "cell_type": "code",
   "execution_count": 47,
   "metadata": {},
   "outputs": [],
   "source": [
    "@print_num_samples\n",
    "def generate_samples__rank_profile_above_nonprofile(instances_container, n_samples):\n",
    "    n_samples_per_user = ceil(n_samples / n_users)    \n",
    "    for ui, user in enumerate(users):\n",
    "        profile = user.artwork_idxs\n",
    "        profile_set = user.artwork_idxs_set\n",
    "        n = n_samples_per_user\n",
    "        while n > 0:\n",
    "            pi = random.choice(profile)\n",
    "            ni = sample_artwork_index__outsideprofile(profile_set, pi)\n",
    "            spi = hybrid_scorer.get_score(ui, profile, pi)\n",
    "            sni = hybrid_scorer.get_score(ui, profile, ni)\n",
    "            if spi <= sni: continue\n",
    "            if append_instance(instances_container, (ui, pi, ni)):\n",
    "                n -= 1"
   ]
  },
  {
   "cell_type": "code",
   "execution_count": 48,
   "metadata": {
    "scrolled": false
   },
   "outputs": [
    {
     "name": "stdout",
     "output_type": "stream",
     "text": [
      "====================\n",
      "sampling train instances ...\n",
      "  target samples: 5000000\n",
      "  actual samples: 5000247\n",
      "  delta: -247\n",
      "====================\n",
      "sampling test instances ...\n",
      "  target samples: 250000\n",
      "  actual samples: 251034\n",
      "  delta: -1034\n",
      "5000247 251034\n",
      "hash_collisions =  10202185\n",
      "visual_collisions =  0\n"
     ]
    }
   ],
   "source": [
    "print('====================\\nsampling train instances ...')\n",
    "generate_samples__rank_profile_above_nonprofile(\n",
    "    train_instances, n_samples=N_SAMPLES_PER_STRATEGY__TRAIN)\n",
    "\n",
    "print('====================\\nsampling test instances ...')\n",
    "generate_samples__rank_profile_above_nonprofile(\n",
    "    test_instances, n_samples=N_SAMPLES_PER_STRATEGY__TEST)\n",
    "\n",
    "print(len(train_instances), len(test_instances))\n",
    "print('hash_collisions = ', _hash_collisions)\n",
    "print('visual_collisions = ', vissimhandler.count)"
   ]
  },
  {
   "cell_type": "markdown",
   "metadata": {},
   "source": [
    "## Domain-specific strategies"
   ]
  },
  {
   "cell_type": "markdown",
   "metadata": {},
   "source": [
    "##### 2) Recommend outside profile items according to hybrid recommender (fake 1-item profiles)\n",
    "Given a fake profile of a single item, two other items should be ranked according to the hybrid recommender (provided that a certain margin of confidence is met)"
   ]
  },
  {
   "cell_type": "code",
   "execution_count": 61,
   "metadata": {},
   "outputs": [],
   "source": [
    "def sample_artwork_index__outside_profile(\n",
    "        artists_list, clusters_list, profile_set):\n",
    "    while True:\n",
    "        if random.random() <= FINE_GRAINED_THRESHOLD:\n",
    "            if random.random() <= 0.5:\n",
    "                a = random.choice(artists_list)\n",
    "                i = random.choice(artistId2artworkIndexes[a])\n",
    "            else:\n",
    "                c = random.choice(clusters_list)\n",
    "                i = random.choice(clustId2artIndexes[c])\n",
    "        else:\n",
    "            c = random.randint(0, n_clusters-1)\n",
    "            i = random.choice(clustId2artIndexes[c])\n",
    "        if i not in profile_set: return i"
   ]
  },
  {
   "cell_type": "code",
   "execution_count": 62,
   "metadata": {},
   "outputs": [],
   "source": [
    "@print_num_samples\n",
    "def generate_samples__outside_profile__real_users(\n",
    "        instances_container, n_samples):\n",
    "    \n",
    "    n_samples_per_user = ceil(n_samples / n_users)\n",
    "    debug = 0\n",
    "    for ui, user in enumerate(users):        \n",
    "        profile = user.artwork_idxs\n",
    "        profile_set = user.artwork_idxs_set\n",
    "        artists_list = user.artist_ids\n",
    "        clusters_list = user.content_cluster_ids\n",
    "        n = n_samples_per_user\n",
    "        user_margin = CONFIDENCE_MARGIN / len(profile)\n",
    "        while n > 0:\n",
    "            pi = sample_artwork_index__outside_profile(artists_list, clusters_list, profile_set)\n",
    "            ni = sample_artwork_index__outside_profile(artists_list, clusters_list, profile_set)\n",
    "            if pi == ni: continue\n",
    "            pi_score = hybrid_scorer.get_score(ui, profile, pi)\n",
    "            ni_score = hybrid_scorer.get_score(ui, profile, ni)\n",
    "            if pi_score < ni_score:\n",
    "                pi_score, ni_score = ni_score, pi_score\n",
    "                pi, ni = ni, pi\n",
    "            if pi_score < ni_score + user_margin: continue\n",
    "            if append_instance(instances_container, (ui, pi, ni), pos_in_profile=False):\n",
    "                n -= 1\n",
    "                if n == 0 or debug % 10000 == 0:\n",
    "                    print('debug: user %d/%d : n=%d' % (ui, len(users), n), flush=True, end='\\r')\n",
    "                debug += 1"
   ]
  },
  {
   "cell_type": "code",
   "execution_count": 67,
   "metadata": {},
   "outputs": [
    {
     "name": "stdout",
     "output_type": "stream",
     "text": [
      "=======================================\n",
      "sampling train instances ...\n",
      "  target samples: 5000000=0466\n",
      "  actual samples: 5000247\n",
      "  delta: -247\n",
      "=======================================\n",
      "sampling test instances ...\n",
      "  target samples: 250000n=03\n",
      "  actual samples: 251034\n",
      "  delta: -1034\n",
      "10000494 502068\n",
      "hash_collisions =  10584493\n",
      "visual_collisions =  0\n"
     ]
    }
   ],
   "source": [
    "print('=======================================\\nsampling train instances ...')\n",
    "generate_samples__outside_profile__real_users(\n",
    "    train_instances, n_samples=N_SAMPLES_PER_STRATEGY__TRAIN)\n",
    "\n",
    "print('=======================================\\nsampling test instances ...')\n",
    "generate_samples__outside_profile__real_users(\n",
    "    test_instances, n_samples=N_SAMPLES_PER_STRATEGY__TEST)\n",
    "\n",
    "print(len(train_instances), len(test_instances))\n",
    "print('hash_collisions = ', _hash_collisions)\n",
    "print('visual_collisions = ', vissimhandler.count)"
   ]
  },
  {
   "cell_type": "markdown",
   "metadata": {},
   "source": [
    "#### shuffle train instances"
   ]
  },
  {
   "cell_type": "code",
   "execution_count": 68,
   "metadata": {},
   "outputs": [],
   "source": [
    "random.shuffle(train_instances)"
   ]
  },
  {
   "cell_type": "markdown",
   "metadata": {},
   "source": [
    "### Training Model"
   ]
  },
  {
   "cell_type": "code",
   "execution_count": 69,
   "metadata": {},
   "outputs": [],
   "source": [
    "def generate_minibatches(tuples, batch_size):\n",
    "    n_tuples = len(tuples)\n",
    "    n_batches = ceil(n_tuples / batch_size)\n",
    "    \n",
    "    assert n_batches * batch_size >= n_tuples\n",
    "    assert (n_batches - 1) * batch_size < n_tuples\n",
    "    \n",
    "    indexes = list(range(n_tuples))\n",
    "    random.shuffle(indexes)\n",
    "    \n",
    "    print('n_tuples = ', n_tuples)\n",
    "    print('n_batches = ', n_batches)\n",
    "    \n",
    "    user_index_batches = [None] * n_batches\n",
    "    pos_index_batches = [None] * n_batches\n",
    "    neg_index_batches = [None] * n_batches\n",
    "    \n",
    "    for i in range(n_batches):\n",
    "        jmin = i * batch_size\n",
    "        jmax = min(jmin + batch_size, n_tuples)\n",
    "        actual_batch_size = jmax - jmin\n",
    "        \n",
    "        user_index_batch = np.empty((actual_batch_size,), dtype=int)\n",
    "        pos_index_batch = np.empty((actual_batch_size,), dtype=int)\n",
    "        neg_index_batch = np.empty((actual_batch_size,), dtype=int)\n",
    "        \n",
    "        for j in range(actual_batch_size):\n",
    "            t = tuples[indexes[jmin+j]]\n",
    "            user_index_batch[j] = t[0]\n",
    "            pos_index_batch[j] = t[1]\n",
    "            neg_index_batch[j] = t[2]\n",
    "\n",
    "        user_index_batches[i] = user_index_batch\n",
    "        pos_index_batches[i] = pos_index_batch\n",
    "        neg_index_batches[i] = neg_index_batch\n",
    "        \n",
    "    return dict(\n",
    "        user_index_batches = user_index_batches,\n",
    "        pos_index_batches  = pos_index_batches,\n",
    "        neg_index_batches  = neg_index_batches,\n",
    "        n_batches          = n_batches,\n",
    "    )"
   ]
  },
  {
   "cell_type": "code",
   "execution_count": 70,
   "metadata": {},
   "outputs": [],
   "source": [
    "def sanity_check_minibatches(minibatches):\n",
    "    user_index_batches = minibatches['user_index_batches']\n",
    "    pos_index_batches = minibatches['pos_index_batches']\n",
    "    neg_index_batches = minibatches['neg_index_batches']\n",
    "    n_batches = minibatches['n_batches']\n",
    "    assert n_batches == len(user_index_batches)\n",
    "    assert n_batches == len(pos_index_batches)\n",
    "    assert n_batches == len(neg_index_batches)\n",
    "    assert n_batches > 0\n",
    "    \n",
    "    for user_index, pos_index, neg_index in zip(\n",
    "        user_index_batches,\n",
    "        pos_index_batches,\n",
    "        neg_index_batches\n",
    "    ):\n",
    "        n = user_index.shape[0]\n",
    "        assert n == pos_index.shape[0]\n",
    "        assert n == neg_index.shape[0]\n",
    "        \n",
    "        for i in range(n):\n",
    "            ui = user_index[i]\n",
    "            pi = pos_index[i]\n",
    "            ni = neg_index[i]\n",
    "            assert pi != ni\n",
    "            assert ni not in users[ui].artwork_idxs_set"
   ]
  },
  {
   "cell_type": "code",
   "execution_count": 71,
   "metadata": {},
   "outputs": [],
   "source": [
    "import tensorflow as tf\n",
    "from Networks import VBPR_Network_Train, TrainLogger"
   ]
  },
  {
   "cell_type": "code",
   "execution_count": 72,
   "metadata": {},
   "outputs": [],
   "source": [
    "def train_network(train_minibatches, test_minibatches,\n",
    "                  n_train_instances, n_test_instances, batch_size,\n",
    "                  pretrained_embeddings,\n",
    "                  user_latent_dim,\n",
    "                  item_latent_dim,\n",
    "                  item_visual_dim,\n",
    "                  model_path,\n",
    "                  max_seconds_training=3600,\n",
    "                  min_seconds_to_check_improvement=60,\n",
    "                  early_stopping_checks=4,\n",
    "                  weight_decay=0.001,\n",
    "                  learning_rates=[1e-3]):\n",
    "    \n",
    "    n_train_batches = train_minibatches['n_batches']\n",
    "    n_test_batches = test_minibatches['n_batches']\n",
    "    \n",
    "    print('learning_rates = ', learning_rates)\n",
    "    \n",
    "    with tf.Graph().as_default():\n",
    "        network = VBPR_Network_Train(\n",
    "            n_users=n_users,\n",
    "            n_items=n_artworks,\n",
    "            user_latent_dim=user_latent_dim,\n",
    "            item_latent_dim=item_latent_dim,\n",
    "            item_visual_dim=item_visual_dim,            \n",
    "            pretrained_dim=pretrained_embeddings.shape[1],\n",
    "            weight_decay=weight_decay,\n",
    "        )\n",
    "        \n",
    "        print('Variables to be trained:')\n",
    "        for x in tf.global_variables():\n",
    "            print('\\t', x)        \n",
    "        \n",
    "        gpu_options = tf.GPUOptions(\n",
    "            per_process_gpu_memory_fraction=0.5,\n",
    "            allow_growth=True\n",
    "        )\n",
    "        config = tf.ConfigProto(gpu_options=gpu_options)\n",
    "        with tf.Session() as sess:\n",
    "            try:\n",
    "                saver = tf.train.Saver()            \n",
    "                saver.restore(sess, tf.train.latest_checkpoint(model_path))\n",
    "                print('model successfully restored from checkpoint!')\n",
    "            except ValueError:\n",
    "                print('no checkpoint found: initializing variables with random values')\n",
    "                os.makedirs(MODEL_PATH, exist_ok=True)\n",
    "                sess.run(tf.global_variables_initializer())            \n",
    "            trainlogger = TrainLogger(model_path + 'train_logs.csv')\n",
    "\n",
    "            # ========= BEFORE TRAINING ============\n",
    "            \n",
    "            initial_test_acc = 0.            \n",
    "            for user_index, pos_index, neg_index in zip(\n",
    "                test_minibatches['user_index_batches'],\n",
    "                test_minibatches['pos_index_batches'],\n",
    "                test_minibatches['neg_index_batches']\n",
    "            ):\n",
    "                minibatch_test_acc = network.get_test_accuracy(\n",
    "                    sess, pretrained_embeddings, user_index, pos_index, neg_index)\n",
    "                initial_test_acc += minibatch_test_acc\n",
    "            initial_test_acc /= n_test_instances\n",
    "\n",
    "            print(\"Before training: test_accuracy = %f\" % initial_test_acc)\n",
    "            \n",
    "            best_test_acc = initial_test_acc\n",
    "            seconds_training = 0\n",
    "            elapsed_seconds_from_last_check = 0\n",
    "            checks_with_no_improvement = 0\n",
    "            last_improvement_loss = None\n",
    "            \n",
    "            # ========= TRAINING ============\n",
    "            \n",
    "            print ('Starting training ...')\n",
    "            n_lr = len(learning_rates)\n",
    "            lr_i = 0\n",
    "            train_loss_ema = None # exponential moving average\n",
    "            \n",
    "            while seconds_training < max_seconds_training:\n",
    "                \n",
    "                for train_i, (user_index, pos_index, neg_index) in enumerate(zip(\n",
    "                    train_minibatches['user_index_batches'],\n",
    "                    train_minibatches['pos_index_batches'],\n",
    "                    train_minibatches['neg_index_batches']\n",
    "                )):\n",
    "                    # optimize and get traing loss\n",
    "                    start_t = time.time()\n",
    "                    _, minibatch_train_loss = network.optimize_and_get_train_loss(\n",
    "                        sess, pretrained_embeddings, user_index, pos_index, neg_index, learning_rates[lr_i])\n",
    "                    delta_t = time.time() - start_t\n",
    "                    \n",
    "                    # update train loss exponential moving average\n",
    "                    train_loss_ema = minibatch_train_loss if train_loss_ema is None else\\\n",
    "                                    0.999 * train_loss_ema + 0.001 * minibatch_train_loss\n",
    "                    \n",
    "                    # update time tracking variables\n",
    "                    seconds_training += delta_t\n",
    "                    elapsed_seconds_from_last_check += delta_t\n",
    "                    \n",
    "                    # check for improvements using test set if it's time to do so\n",
    "                    if elapsed_seconds_from_last_check >= min_seconds_to_check_improvement:\n",
    "                        \n",
    "                        # --- testing                        \n",
    "                        test_acc = 0.\n",
    "                        for _user_index, _pos_index, _neg_index in zip(\n",
    "                            test_minibatches['user_index_batches'],\n",
    "                            test_minibatches['pos_index_batches'],\n",
    "                            test_minibatches['neg_index_batches']\n",
    "                        ):\n",
    "                            minibatch_test_acc = network.get_test_accuracy(\n",
    "                                sess, pretrained_embeddings, _user_index, _pos_index, _neg_index)\n",
    "                            test_acc += minibatch_test_acc\n",
    "                        test_acc /= n_test_instances\n",
    "                    \n",
    "                        print((\"train_i=%d, train_loss = %.12f, test_accuracy = %.6f,\"\n",
    "                               \" check_secs = %.2f, total_secs = %.2f\") % (\n",
    "                                train_i, train_loss_ema, test_acc, elapsed_seconds_from_last_check, seconds_training))                        \n",
    "                        \n",
    "                        # check for improvements\n",
    "                        if (test_acc > best_test_acc) or (\n",
    "                            test_acc == best_test_acc and (\n",
    "                                last_improvement_loss is not None and\\\n",
    "                                last_improvement_loss > train_loss_ema\n",
    "                            )\n",
    "                        ):  \n",
    "                            last_improvement_loss = train_loss_ema\n",
    "                            best_test_acc = test_acc\n",
    "                            checks_with_no_improvement = 0\n",
    "                            saver = tf.train.Saver()\n",
    "                            save_path = saver.save(sess, MODEL_PATH)                    \n",
    "                            print(\"   ** improvement detected: model saved to path \", save_path)\n",
    "                            model_updated = True\n",
    "                        else:\n",
    "                            checks_with_no_improvement += 1                            \n",
    "                            model_updated = False\n",
    "\n",
    "                        # --- logging ---                        \n",
    "                        trainlogger.log_update(\n",
    "                            train_loss_ema, test_acc, n_train_instances, n_test_instances,\n",
    "                            elapsed_seconds_from_last_check, batch_size, learning_rates[lr_i], 't' if model_updated else 'f')\n",
    "                        \n",
    "                        # --- check for early stopping\n",
    "                        if checks_with_no_improvement >= early_stopping_checks:\n",
    "                            if lr_i + 1 < len(learning_rates):\n",
    "                                lr_i += 1\n",
    "                                checks_with_no_improvement = 0\n",
    "                                print(\"   *** %d checks with no improvements -> using a smaller learning_rate = %f\" % (\n",
    "                                    early_stopping_checks, learning_rates[lr_i]))\n",
    "                            else:\n",
    "                                print(\"   *** %d checks with no improvements -> early stopping :(\" % early_stopping_checks)\n",
    "                                return\n",
    "                        \n",
    "                        # --- reset check variables\n",
    "                        elapsed_seconds_from_last_check = 0\n",
    "            print('====== TIMEOUT ======')"
   ]
  },
  {
   "cell_type": "code",
   "execution_count": 73,
   "metadata": {
    "scrolled": true
   },
   "outputs": [
    {
     "name": "stdout",
     "output_type": "stream",
     "text": [
      "n_tuples =  10000494\n",
      "n_batches =  239\n"
     ]
    }
   ],
   "source": [
    "train_batch_size = 42000\n",
    "train_minibatches = generate_minibatches(train_instances, train_batch_size)\n",
    "sanity_check_minibatches(train_minibatches)"
   ]
  },
  {
   "cell_type": "code",
   "execution_count": 74,
   "metadata": {},
   "outputs": [
    {
     "name": "stdout",
     "output_type": "stream",
     "text": [
      "n_tuples =  502068\n",
      "n_batches =  12\n"
     ]
    }
   ],
   "source": [
    "test_batch_size = 42000\n",
    "test_minibatches = generate_minibatches(test_instances, test_batch_size)\n",
    "sanity_check_minibatches(test_minibatches)"
   ]
  },
  {
   "cell_type": "code",
   "execution_count": 75,
   "metadata": {},
   "outputs": [
    {
     "data": {
      "text/plain": [
       "[0.001,\n",
       " 0.0006,\n",
       " 0.00035999999999999997,\n",
       " 0.00021599999999999996,\n",
       " 0.00012959999999999998]"
      ]
     },
     "execution_count": 75,
     "metadata": {},
     "output_type": "execute_result"
    }
   ],
   "source": [
    "learning_rates = get_decaying_learning_rates(1e-3, 1e-4, 0.6)\n",
    "learning_rates"
   ]
  },
  {
   "cell_type": "code",
   "execution_count": 77,
   "metadata": {},
   "outputs": [
    {
     "data": {
      "text/plain": [
       "(0.7, 0.2, 0.18)"
      ]
     },
     "execution_count": 77,
     "metadata": {},
     "output_type": "execute_result"
    }
   ],
   "source": [
    "FINE_GRAINED_THRESHOLD, ARTIST_BOOST, CONFIDENCE_MARGIN"
   ]
  },
  {
   "cell_type": "code",
   "execution_count": 78,
   "metadata": {},
   "outputs": [
    {
     "data": {
      "text/plain": [
       "'/mnt/workspace/pamessina_models/ugallery/VBPR/v14(10M-500k,rsnt50+rsnxt101,i(100l+100v),hyb(fa+dnn),ab.2,cm.18,fg.7,wd.0001)/'"
      ]
     },
     "execution_count": 78,
     "metadata": {},
     "output_type": "execute_result"
    }
   ],
   "source": [
    "# MODEL_PATH = '/mnt/workspace/pamessina_models/ugallery/VBPR/v8(10M-400K,rsnt50,u(200)i(100l+100v),+p-np,+npfavc-nfavc,fg.6,vcf.1)/'\n",
    "# MODEL_PATH = '/mnt/workspace/pamessina_models/ugallery/VBPR/v13(10M-500k,rsnt50+rsnxt101,i(100l+100v),+p-np,wd.0001)/'\n",
    "MODEL_PATH = '/mnt/workspace/pamessina_models/ugallery/VBPR/v14(10M-500k,rsnt50+rsnxt101,i(100l+100v),hyb(fa+dnn),ab.2,cm.18,fg.7,wd.0001)/'\n",
    "MODEL_PATH"
   ]
  },
  {
   "cell_type": "code",
   "execution_count": 79,
   "metadata": {
    "scrolled": false
   },
   "outputs": [
    {
     "name": "stdout",
     "output_type": "stream",
     "text": [
      "learning_rates =  [0.001, 0.0006, 0.00035999999999999997, 0.00021599999999999996, 0.00012959999999999998]\n",
      "Variables to be trained:\n",
      "\t <tf.Variable 'user_latent_factors:0' shape=(2919, 200) dtype=float32_ref>\n",
      "\t <tf.Variable 'item_latent_factors:0' shape=(13297, 100) dtype=float32_ref>\n",
      "\t <tf.Variable 'item_latent_biases:0' shape=(13297,) dtype=float32_ref>\n",
      "\t <tf.Variable 'visual_bias:0' shape=(4096,) dtype=float32_ref>\n",
      "\t <tf.Variable 'trainable_image_embedding/fc1/kernel:0' shape=(4096, 100) dtype=float32_ref>\n",
      "\t <tf.Variable 'beta1_power:0' shape=() dtype=float32_ref>\n",
      "\t <tf.Variable 'beta2_power:0' shape=() dtype=float32_ref>\n",
      "\t <tf.Variable 'user_latent_factors/Adam:0' shape=(2919, 200) dtype=float32_ref>\n",
      "\t <tf.Variable 'user_latent_factors/Adam_1:0' shape=(2919, 200) dtype=float32_ref>\n",
      "\t <tf.Variable 'item_latent_factors/Adam:0' shape=(13297, 100) dtype=float32_ref>\n",
      "\t <tf.Variable 'item_latent_factors/Adam_1:0' shape=(13297, 100) dtype=float32_ref>\n",
      "\t <tf.Variable 'item_latent_biases/Adam:0' shape=(13297,) dtype=float32_ref>\n",
      "\t <tf.Variable 'item_latent_biases/Adam_1:0' shape=(13297,) dtype=float32_ref>\n",
      "\t <tf.Variable 'visual_bias/Adam:0' shape=(4096,) dtype=float32_ref>\n",
      "\t <tf.Variable 'visual_bias/Adam_1:0' shape=(4096,) dtype=float32_ref>\n",
      "\t <tf.Variable 'trainable_image_embedding/fc1/kernel/Adam:0' shape=(4096, 100) dtype=float32_ref>\n",
      "\t <tf.Variable 'trainable_image_embedding/fc1/kernel/Adam_1:0' shape=(4096, 100) dtype=float32_ref>\n",
      "no checkpoint found: initializing variables with random values\n",
      "Before training: test_accuracy = 0.493537\n",
      "Starting training ...\n",
      "train_i=132, train_loss = 43.696513470297, test_accuracy = 0.943896, check_secs = 90.16, total_secs = 90.16\n",
      "   ** improvement detected: model saved to path  /mnt/workspace/pamessina_models/ugallery/VBPR/v14(10M-500k,rsnt50+rsnxt101,i(100l+100v),hyb(fa+dnn),ab.2,cm.18,fg.7,wd.0001)/\n",
      "train_i=27, train_loss = 32.733991589757, test_accuracy = 0.968247, check_secs = 90.02, total_secs = 180.18\n",
      "   ** improvement detected: model saved to path  /mnt/workspace/pamessina_models/ugallery/VBPR/v14(10M-500k,rsnt50+rsnxt101,i(100l+100v),hyb(fa+dnn),ab.2,cm.18,fg.7,wd.0001)/\n",
      "train_i=160, train_loss = 23.662061405664, test_accuracy = 0.976063, check_secs = 90.03, total_secs = 270.21\n",
      "   ** improvement detected: model saved to path  /mnt/workspace/pamessina_models/ugallery/VBPR/v14(10M-500k,rsnt50+rsnxt101,i(100l+100v),hyb(fa+dnn),ab.2,cm.18,fg.7,wd.0001)/\n",
      "train_i=53, train_loss = 16.872624954084, test_accuracy = 0.980262, check_secs = 90.09, total_secs = 360.30\n",
      "   ** improvement detected: model saved to path  /mnt/workspace/pamessina_models/ugallery/VBPR/v14(10M-500k,rsnt50+rsnxt101,i(100l+100v),hyb(fa+dnn),ab.2,cm.18,fg.7,wd.0001)/\n",
      "train_i=185, train_loss = 11.962558375074, test_accuracy = 0.982891, check_secs = 90.23, total_secs = 450.53\n",
      "   ** improvement detected: model saved to path  /mnt/workspace/pamessina_models/ugallery/VBPR/v14(10M-500k,rsnt50+rsnxt101,i(100l+100v),hyb(fa+dnn),ab.2,cm.18,fg.7,wd.0001)/\n",
      "train_i=77, train_loss = 8.467626840047, test_accuracy = 0.984954, check_secs = 90.11, total_secs = 540.65\n",
      "   ** improvement detected: model saved to path  /mnt/workspace/pamessina_models/ugallery/VBPR/v14(10M-500k,rsnt50+rsnxt101,i(100l+100v),hyb(fa+dnn),ab.2,cm.18,fg.7,wd.0001)/\n",
      "train_i=209, train_loss = 5.981122554050, test_accuracy = 0.986589, check_secs = 90.22, total_secs = 630.86\n",
      "   ** improvement detected: model saved to path  /mnt/workspace/pamessina_models/ugallery/VBPR/v14(10M-500k,rsnt50+rsnxt101,i(100l+100v),hyb(fa+dnn),ab.2,cm.18,fg.7,wd.0001)/\n",
      "train_i=101, train_loss = 4.228488274916, test_accuracy = 0.987794, check_secs = 90.03, total_secs = 720.89\n",
      "   ** improvement detected: model saved to path  /mnt/workspace/pamessina_models/ugallery/VBPR/v14(10M-500k,rsnt50+rsnxt101,i(100l+100v),hyb(fa+dnn),ab.2,cm.18,fg.7,wd.0001)/\n",
      "train_i=227, train_loss = 3.006830815563, test_accuracy = 0.988930, check_secs = 90.11, total_secs = 811.00\n",
      "   ** improvement detected: model saved to path  /mnt/workspace/pamessina_models/ugallery/VBPR/v14(10M-500k,rsnt50+rsnxt101,i(100l+100v),hyb(fa+dnn),ab.2,cm.18,fg.7,wd.0001)/\n",
      "train_i=111, train_loss = 2.149042644924, test_accuracy = 0.989713, check_secs = 90.10, total_secs = 901.10\n",
      "   ** improvement detected: model saved to path  /mnt/workspace/pamessina_models/ugallery/VBPR/v14(10M-500k,rsnt50+rsnxt101,i(100l+100v),hyb(fa+dnn),ab.2,cm.18,fg.7,wd.0001)/\n",
      "train_i=236, train_loss = 1.538539823317, test_accuracy = 0.990569, check_secs = 90.12, total_secs = 991.23\n",
      "   ** improvement detected: model saved to path  /mnt/workspace/pamessina_models/ugallery/VBPR/v14(10M-500k,rsnt50+rsnxt101,i(100l+100v),hyb(fa+dnn),ab.2,cm.18,fg.7,wd.0001)/\n",
      "train_i=112, train_loss = 1.116584398077, test_accuracy = 0.991178, check_secs = 90.22, total_secs = 1081.45\n",
      "   ** improvement detected: model saved to path  /mnt/workspace/pamessina_models/ugallery/VBPR/v14(10M-500k,rsnt50+rsnxt101,i(100l+100v),hyb(fa+dnn),ab.2,cm.18,fg.7,wd.0001)/\n",
      "train_i=220, train_loss = 0.819700940997, test_accuracy = 0.992007, check_secs = 90.13, total_secs = 1171.58\n",
      "   ** improvement detected: model saved to path  /mnt/workspace/pamessina_models/ugallery/VBPR/v14(10M-500k,rsnt50+rsnxt101,i(100l+100v),hyb(fa+dnn),ab.2,cm.18,fg.7,wd.0001)/\n",
      "train_i=87, train_loss = 0.606211525619, test_accuracy = 0.992650, check_secs = 90.23, total_secs = 1261.81\n",
      "   ** improvement detected: model saved to path  /mnt/workspace/pamessina_models/ugallery/VBPR/v14(10M-500k,rsnt50+rsnxt101,i(100l+100v),hyb(fa+dnn),ab.2,cm.18,fg.7,wd.0001)/\n",
      "train_i=197, train_loss = 0.449431683436, test_accuracy = 0.993328, check_secs = 90.05, total_secs = 1351.86\n",
      "   ** improvement detected: model saved to path  /mnt/workspace/pamessina_models/ugallery/VBPR/v14(10M-500k,rsnt50+rsnxt101,i(100l+100v),hyb(fa+dnn),ab.2,cm.18,fg.7,wd.0001)/\n",
      "train_i=73, train_loss = 0.333804472497, test_accuracy = 0.994158, check_secs = 90.17, total_secs = 1442.03\n",
      "   ** improvement detected: model saved to path  /mnt/workspace/pamessina_models/ugallery/VBPR/v14(10M-500k,rsnt50+rsnxt101,i(100l+100v),hyb(fa+dnn),ab.2,cm.18,fg.7,wd.0001)/\n",
      "train_i=180, train_loss = 0.251069172149, test_accuracy = 0.994965, check_secs = 90.17, total_secs = 1532.20\n",
      "   ** improvement detected: model saved to path  /mnt/workspace/pamessina_models/ugallery/VBPR/v14(10M-500k,rsnt50+rsnxt101,i(100l+100v),hyb(fa+dnn),ab.2,cm.18,fg.7,wd.0001)/\n",
      "train_i=56, train_loss = 0.188852475854, test_accuracy = 0.995762, check_secs = 90.15, total_secs = 1622.35\n",
      "   ** improvement detected: model saved to path  /mnt/workspace/pamessina_models/ugallery/VBPR/v14(10M-500k,rsnt50+rsnxt101,i(100l+100v),hyb(fa+dnn),ab.2,cm.18,fg.7,wd.0001)/\n",
      "train_i=173, train_loss = 0.143129420968, test_accuracy = 0.996441, check_secs = 90.07, total_secs = 1712.42\n",
      "   ** improvement detected: model saved to path  /mnt/workspace/pamessina_models/ugallery/VBPR/v14(10M-500k,rsnt50+rsnxt101,i(100l+100v),hyb(fa+dnn),ab.2,cm.18,fg.7,wd.0001)/\n",
      "train_i=62, train_loss = 0.109118336337, test_accuracy = 0.997038, check_secs = 90.04, total_secs = 1802.46\n",
      "   ** improvement detected: model saved to path  /mnt/workspace/pamessina_models/ugallery/VBPR/v14(10M-500k,rsnt50+rsnxt101,i(100l+100v),hyb(fa+dnn),ab.2,cm.18,fg.7,wd.0001)/\n",
      "train_i=190, train_loss = 0.084972234330, test_accuracy = 0.997305, check_secs = 90.24, total_secs = 1892.70\n",
      "   ** improvement detected: model saved to path  /mnt/workspace/pamessina_models/ugallery/VBPR/v14(10M-500k,rsnt50+rsnxt101,i(100l+100v),hyb(fa+dnn),ab.2,cm.18,fg.7,wd.0001)/\n",
      "train_i=80, train_loss = 0.067962884486, test_accuracy = 0.997367, check_secs = 90.17, total_secs = 1982.87\n",
      "   ** improvement detected: model saved to path  /mnt/workspace/pamessina_models/ugallery/VBPR/v14(10M-500k,rsnt50+rsnxt101,i(100l+100v),hyb(fa+dnn),ab.2,cm.18,fg.7,wd.0001)/\n",
      "train_i=209, train_loss = 0.056098881349, test_accuracy = 0.997508, check_secs = 90.22, total_secs = 2073.09\n",
      "   ** improvement detected: model saved to path  /mnt/workspace/pamessina_models/ugallery/VBPR/v14(10M-500k,rsnt50+rsnxt101,i(100l+100v),hyb(fa+dnn),ab.2,cm.18,fg.7,wd.0001)/\n",
      "train_i=99, train_loss = 0.047870997262, test_accuracy = 0.997532, check_secs = 90.12, total_secs = 2163.21\n",
      "   ** improvement detected: model saved to path  /mnt/workspace/pamessina_models/ugallery/VBPR/v14(10M-500k,rsnt50+rsnxt101,i(100l+100v),hyb(fa+dnn),ab.2,cm.18,fg.7,wd.0001)/\n"
     ]
    },
    {
     "name": "stdout",
     "output_type": "stream",
     "text": [
      "train_i=227, train_loss = 0.042189679619, test_accuracy = 0.997484, check_secs = 90.05, total_secs = 2253.26\n",
      "train_i=116, train_loss = 0.038273990319, test_accuracy = 0.997534, check_secs = 90.19, total_secs = 2343.45\n",
      "   ** improvement detected: model saved to path  /mnt/workspace/pamessina_models/ugallery/VBPR/v14(10M-500k,rsnt50+rsnxt101,i(100l+100v),hyb(fa+dnn),ab.2,cm.18,fg.7,wd.0001)/\n",
      "train_i=5, train_loss = 0.035570909706, test_accuracy = 0.997415, check_secs = 90.12, total_secs = 2433.57\n",
      "train_i=133, train_loss = 0.033723525098, test_accuracy = 0.997544, check_secs = 90.09, total_secs = 2523.66\n",
      "   ** improvement detected: model saved to path  /mnt/workspace/pamessina_models/ugallery/VBPR/v14(10M-500k,rsnt50+rsnxt101,i(100l+100v),hyb(fa+dnn),ab.2,cm.18,fg.7,wd.0001)/\n",
      "train_i=22, train_loss = 0.032447111655, test_accuracy = 0.997421, check_secs = 90.19, total_secs = 2613.85\n",
      "train_i=150, train_loss = 0.031575551235, test_accuracy = 0.997486, check_secs = 90.01, total_secs = 2703.86\n",
      "   *** 2 checks with no improvements -> using a smaller learning_rate = 0.000600\n",
      "train_i=39, train_loss = 0.030477239479, test_accuracy = 0.997923, check_secs = 90.03, total_secs = 2793.89\n",
      "   ** improvement detected: model saved to path  /mnt/workspace/pamessina_models/ugallery/VBPR/v14(10M-500k,rsnt50+rsnxt101,i(100l+100v),hyb(fa+dnn),ab.2,cm.18,fg.7,wd.0001)/\n",
      "train_i=166, train_loss = 0.029673416529, test_accuracy = 0.997887, check_secs = 90.09, total_secs = 2883.98\n",
      "train_i=54, train_loss = 0.029129531026, test_accuracy = 0.997873, check_secs = 90.14, total_secs = 2974.12\n",
      "   *** 2 checks with no improvements -> using a smaller learning_rate = 0.000360\n",
      "train_i=181, train_loss = 0.028496133469, test_accuracy = 0.998076, check_secs = 90.05, total_secs = 3064.17\n",
      "   ** improvement detected: model saved to path  /mnt/workspace/pamessina_models/ugallery/VBPR/v14(10M-500k,rsnt50+rsnxt101,i(100l+100v),hyb(fa+dnn),ab.2,cm.18,fg.7,wd.0001)/\n",
      "train_i=70, train_loss = 0.028026381545, test_accuracy = 0.998022, check_secs = 90.15, total_secs = 3154.31\n",
      "train_i=196, train_loss = 0.027709622094, test_accuracy = 0.998044, check_secs = 90.11, total_secs = 3244.42\n",
      "   *** 2 checks with no improvements -> using a smaller learning_rate = 0.000216\n",
      "train_i=84, train_loss = 0.027339235761, test_accuracy = 0.998158, check_secs = 90.16, total_secs = 3334.58\n",
      "   ** improvement detected: model saved to path  /mnt/workspace/pamessina_models/ugallery/VBPR/v14(10M-500k,rsnt50+rsnxt101,i(100l+100v),hyb(fa+dnn),ab.2,cm.18,fg.7,wd.0001)/\n",
      "train_i=211, train_loss = 0.027058441950, test_accuracy = 0.998132, check_secs = 90.03, total_secs = 3424.61\n",
      "train_i=99, train_loss = 0.026871685420, test_accuracy = 0.998132, check_secs = 90.16, total_secs = 3514.77\n",
      "   *** 2 checks with no improvements -> using a smaller learning_rate = 0.000130\n",
      "train_i=225, train_loss = 0.026646684603, test_accuracy = 0.998178, check_secs = 90.03, total_secs = 3604.80\n",
      "   ** improvement detected: model saved to path  /mnt/workspace/pamessina_models/ugallery/VBPR/v14(10M-500k,rsnt50+rsnxt101,i(100l+100v),hyb(fa+dnn),ab.2,cm.18,fg.7,wd.0001)/\n",
      "train_i=113, train_loss = 0.026476211788, test_accuracy = 0.998138, check_secs = 90.18, total_secs = 3694.98\n",
      "train_i=0, train_loss = 0.026358367202, test_accuracy = 0.998148, check_secs = 90.06, total_secs = 3785.04\n",
      "   *** 2 checks with no improvements -> early stopping :(\n"
     ]
    }
   ],
   "source": [
    "train_network(\n",
    "    train_minibatches, test_minibatches,\n",
    "    len(train_instances), len(test_instances),\n",
    "    batch_size=train_batch_size,\n",
    "    pretrained_embeddings=concat_featmat,\n",
    "    user_latent_dim=200,\n",
    "    item_latent_dim=100,\n",
    "    item_visual_dim=100,\n",
    "    model_path = MODEL_PATH,\n",
    "    max_seconds_training=3600*4,\n",
    "    min_seconds_to_check_improvement=90,\n",
    "    early_stopping_checks=2,\n",
    "    weight_decay=0.0001,\n",
    "    learning_rates=learning_rates,\n",
    ")"
   ]
  }
 ],
 "metadata": {
  "kernelspec": {
   "display_name": ".venv",
   "language": "python",
   "name": ".venv"
  },
  "language_info": {
   "codemirror_mode": {
    "name": "ipython",
    "version": 3
   },
   "file_extension": ".py",
   "mimetype": "text/x-python",
   "name": "python",
   "nbconvert_exporter": "python",
   "pygments_lexer": "ipython3",
   "version": "3.5.2"
  }
 },
 "nbformat": 4,
 "nbformat_minor": 2
}
