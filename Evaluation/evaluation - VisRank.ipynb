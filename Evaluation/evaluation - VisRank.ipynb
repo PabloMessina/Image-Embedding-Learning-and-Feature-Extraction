{
 "cells": [
  {
   "cell_type": "code",
   "execution_count": 1,
   "metadata": {},
   "outputs": [],
   "source": [
    "%load_ext autoreload\n",
    "%autoreload 1"
   ]
  },
  {
   "cell_type": "code",
   "execution_count": 36,
   "metadata": {},
   "outputs": [],
   "source": [
    "%aimport FeatureUtils\n",
    "%aimport ExperimentUtils\n",
    "%aimport Classes"
   ]
  },
  {
   "cell_type": "code",
   "execution_count": 37,
   "metadata": {},
   "outputs": [],
   "source": [
    "import numpy as np\n",
    "import FeatureUtils as featils\n",
    "from Classes import Customer, ProfileBase\n",
    "from ExperimentUtils import sanity_check_purchase_upload_events, recommendations_to_csv,\\\n",
    "        run_personalized_recommendation_experiment, append_simfunc_and_tags\n",
    "from TransactionsUtils import TransactionsHandler\n",
    "from scipy.spatial.distance import pdist, squareform"
   ]
  },
  {
   "cell_type": "code",
   "execution_count": 6,
   "metadata": {},
   "outputs": [],
   "source": [
    "dirpath = '/mnt/workspace/Ugallery/ResNet50/'\n",
    "index2id, id2index = featils.read_ids_file(dirpath, 'ids')\n",
    "resnet50 = np.load(dirpath + 'flatten_1.npy')"
   ]
  },
  {
   "cell_type": "code",
   "execution_count": 7,
   "metadata": {},
   "outputs": [
    {
     "data": {
      "text/plain": [
       "(13297, 2048)"
      ]
     },
     "execution_count": 7,
     "metadata": {},
     "output_type": "execute_result"
    }
   ],
   "source": [
    "resnet50.shape"
   ]
  },
  {
   "cell_type": "code",
   "execution_count": 8,
   "metadata": {},
   "outputs": [
    {
     "data": {
      "text/plain": [
       "13297"
      ]
     },
     "execution_count": 8,
     "metadata": {},
     "output_type": "execute_result"
    }
   ],
   "source": [
    "ids_with_features = set(index2id)\n",
    "len(ids_with_features)"
   ]
  },
  {
   "cell_type": "code",
   "execution_count": 9,
   "metadata": {},
   "outputs": [],
   "source": [
    "artworks_dict = TransactionsHandler.artworks_dict"
   ]
  },
  {
   "cell_type": "code",
   "execution_count": 14,
   "metadata": {},
   "outputs": [],
   "source": [
    "artwork_list = list(artworks_dict.values())\n",
    "for i in range(len(artwork_list)):\n",
    "    artwork_list[i].index = i"
   ]
  },
  {
   "cell_type": "code",
   "execution_count": 19,
   "metadata": {},
   "outputs": [],
   "source": [
    "tmp_matrix = featils.numpy_array_feature_matrix(resnet50, id2index, artwork_list)\n",
    "distmat_resnet50_cosine = squareform(pdist(tmp_matrix, 'cosine'))"
   ]
  },
  {
   "cell_type": "code",
   "execution_count": 10,
   "metadata": {},
   "outputs": [],
   "source": [
    "customers_dict = { cid : Customer() for cid in TransactionsHandler.valid_sales_df.customer_id.unique() }"
   ]
  },
  {
   "cell_type": "code",
   "execution_count": 11,
   "metadata": {},
   "outputs": [],
   "source": [
    "# ---- upload events -----\n",
    "upload_events = TransactionsHandler.upload_events\n",
    "\n",
    "# ---- purchase events -----\n",
    "purchase_session_events = TransactionsHandler.purchase_session_events\n",
    "\n",
    "# distribute purchases among customers\n",
    "for pe in purchase_session_events:\n",
    "    customers_dict[pe.customer_id].append_purchase_session(pe)\n",
    "\n",
    "# --- join events and sort by timestamp ----\n",
    "time_events = upload_events + purchase_session_events\n",
    "time_events.sort(key=lambda x : x.timestamp)"
   ]
  },
  {
   "cell_type": "code",
   "execution_count": 12,
   "metadata": {},
   "outputs": [
    {
     "name": "stdout",
     "output_type": "stream",
     "text": [
      "len(upload_events) =  7742\n",
      "len(purchase_session_events) =  4897\n",
      "len(time_events) =  12639\n"
     ]
    }
   ],
   "source": [
    "print(\"len(upload_events) = \", len(upload_events))\n",
    "print(\"len(purchase_session_events) = \", len(purchase_session_events))\n",
    "print(\"len(time_events) = \", len(time_events))"
   ]
  },
  {
   "cell_type": "code",
   "execution_count": 13,
   "metadata": {},
   "outputs": [
    {
     "name": "stdout",
     "output_type": "stream",
     "text": [
      "CHECK: event types are correct\n",
      "CHECK: events ordered by timestamp\n",
      "CHECK: products are only uploaded once\n",
      "CHECK: products can only be purchased if present in inventory\n"
     ]
    }
   ],
   "source": [
    "sanity_check_purchase_upload_events(time_events, artworks_dict)"
   ]
  },
  {
   "cell_type": "code",
   "execution_count": 20,
   "metadata": {},
   "outputs": [],
   "source": [
    "def get_pairwise_simfunc(distmat):\n",
    "    return lambda a1, a2 : -distmat[a1.index][a2.index]"
   ]
  },
  {
   "cell_type": "code",
   "execution_count": 39,
   "metadata": {},
   "outputs": [],
   "source": [
    "REC_SIZE = 20\n",
    "MAX_PROFILE_SIZES = [None]\n",
    "MAX_PROFILE_TAGS = ['_(maxprofsize=oo)' if size is None else ('_(maxprofsize=%d)' % size)\n",
    "                                                                for size in MAX_PROFILE_SIZES]\n",
    "# ------ similarity functions ------------\n",
    "PROFILE_SIMFUNCS = []\n",
    "SIMFUNC_TAGS = []\n",
    "\n",
    "distmats = (\n",
    "    distmat_resnet50_cosine,\n",
    ")\n",
    "labels = (\n",
    "    'resnet50-cosine',\n",
    ")\n",
    "\n",
    "ks = [2,None]"
   ]
  },
  {
   "cell_type": "code",
   "execution_count": 40,
   "metadata": {},
   "outputs": [],
   "source": [
    "for distmat, label in zip(distmats, labels):\n",
    "    pwsimfunc = get_pairwise_simfunc(distmat)\n",
    "    append_simfunc_and_tags(PROFILE_SIMFUNCS, SIMFUNC_TAGS, pwsimfunc, label, ks)"
   ]
  },
  {
   "cell_type": "code",
   "execution_count": 41,
   "metadata": {},
   "outputs": [
    {
     "data": {
      "text/plain": [
       "([None], ['_(maxprofsize=oo)'])"
      ]
     },
     "execution_count": 41,
     "metadata": {},
     "output_type": "execute_result"
    }
   ],
   "source": [
    "MAX_PROFILE_SIZES, MAX_PROFILE_TAGS"
   ]
  },
  {
   "cell_type": "code",
   "execution_count": 42,
   "metadata": {},
   "outputs": [
    {
     "data": {
      "text/plain": [
       "([<function ExperimentUtils.append_avgsimtopk.<locals>.<lambda>>,\n",
       "  <function ExperimentUtils.append_simfunc_and_tags.<locals>.<lambda>>],\n",
       " ['resnet50-cosine-avgsmtp2', 'resnet50-cosine-avgsim'])"
      ]
     },
     "execution_count": 42,
     "metadata": {},
     "output_type": "execute_result"
    }
   ],
   "source": [
    "PROFILE_SIMFUNCS, SIMFUNC_TAGS"
   ]
  },
  {
   "cell_type": "code",
   "execution_count": 26,
   "metadata": {},
   "outputs": [],
   "source": [
    "class Profile(ProfileBase):\n",
    "    # --- global -----        \n",
    "    @classmethod\n",
    "    def global_purchase_session_event_handler(cls, purch_sess):\n",
    "        pass\n",
    "\n",
    "    # --- instance ----    \n",
    "    def __init__(self, maxprofsize, artworks_dict, profile_scorefunc):\n",
    "        ProfileBase.__init__(self, maxprofsize, artworks_dict)\n",
    "        self.profile_scorefunc = profile_scorefunc        \n",
    "    def ready(self):\n",
    "        return len(self.consumed_artworks) > 0    \n",
    "    def handle_artwork_added(self, artwork):\n",
    "        pass        \n",
    "    def handle_artwork_removed(self, artwork):\n",
    "        pass    \n",
    "    def get_score(self, artwork):\n",
    "        return self.profile_scorefunc(artwork, self.consumed_artworks)    \n",
    "    def rank_inventory_ids(self, inventory_artworks):\n",
    "        pairs = [(self.get_score(a), a.id) for a in inventory_artworks]\n",
    "        pairs.sort(reverse=True)\n",
    "        return [p[1] for p in pairs]"
   ]
  },
  {
   "cell_type": "code",
   "execution_count": 29,
   "metadata": {},
   "outputs": [],
   "source": [
    "def run_experiments(artworks_dict, customers_dict, time_events):\n",
    "    \n",
    "    for maxprofsize, maxproftag in zip(MAX_PROFILE_SIZES, MAX_PROFILE_TAGS):\n",
    "        for profsimfunc, simfunctag in zip(PROFILE_SIMFUNCS, SIMFUNC_TAGS):\n",
    "            \n",
    "            create_profile_func = lambda _: Profile(maxprofsize, artworks_dict, profsimfunc)\n",
    "            recommendations = run_personalized_recommendation_experiment(\n",
    "                artworks_dict, customers_dict, time_events, create_profile_func, rec_size=REC_SIZE)\n",
    "            recommendations_to_csv(\n",
    "                recommendations, \"/mnt/workspace/ugallery_experiment_results/@{}{}_visrank_{}.csv\".format(\n",
    "                        REC_SIZE, maxproftag, simfunctag))"
   ]
  },
  {
   "cell_type": "code",
   "execution_count": 43,
   "metadata": {},
   "outputs": [
    {
     "name": "stdout",
     "output_type": "stream",
     "text": [
      "---------- starting experiment ------------\n",
      "500 tests done! elapsed time: 6.48 seconds\n",
      "1000 tests done! elapsed time: 13.63 seconds\n",
      "1500 tests done! elapsed time: 31.98 seconds\n",
      "1978 tests done! elapsed time: 108.00 seconds\n",
      "** recommendations successfully saved to /mnt/workspace/ugallery_experiment_results/@20_(maxprofsize=oo)_visrank_resnet50-cosine-avgsmtp2.csv\n",
      "---------- starting experiment ------------\n",
      "500 tests done! elapsed time: 5.09 seconds\n",
      "1000 tests done! elapsed time: 10.65 seconds\n",
      "1500 tests done! elapsed time: 27.09 seconds\n",
      "1978 tests done! elapsed time: 74.87 seconds\n",
      "** recommendations successfully saved to /mnt/workspace/ugallery_experiment_results/@20_(maxprofsize=oo)_visrank_resnet50-cosine-avgsim.csv\n"
     ]
    }
   ],
   "source": [
    "run_experiments(artworks_dict, customers_dict, time_events)"
   ]
  }
 ],
 "metadata": {
  "kernelspec": {
   "display_name": ".venv",
   "language": "python",
   "name": ".venv"
  },
  "language_info": {
   "codemirror_mode": {
    "name": "ipython",
    "version": 3
   },
   "file_extension": ".py",
   "mimetype": "text/x-python",
   "name": "python",
   "nbconvert_exporter": "python",
   "pygments_lexer": "ipython3",
   "version": "3.5.2"
  }
 },
 "nbformat": 4,
 "nbformat_minor": 2
}
