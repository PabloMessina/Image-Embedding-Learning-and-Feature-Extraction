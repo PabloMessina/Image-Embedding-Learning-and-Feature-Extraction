{
 "cells": [
  {
   "cell_type": "code",
   "execution_count": 1,
   "metadata": {},
   "outputs": [],
   "source": [
    "%load_ext autoreload\n",
    "%autoreload 1"
   ]
  },
  {
   "cell_type": "code",
   "execution_count": 2,
   "metadata": {},
   "outputs": [],
   "source": [
    "# hack based on https://stackoverflow.com/a/33532002\n",
    "from inspect import getsourcefile\n",
    "import os.path as path, sys\n",
    "current_dir = path.dirname(path.abspath(getsourcefile(lambda:0)))\n",
    "sys.path.insert(0, current_dir[:current_dir.rfind(path.sep)])"
   ]
  },
  {
   "cell_type": "code",
   "execution_count": 3,
   "metadata": {},
   "outputs": [],
   "source": [
    "%aimport FeatureUtils\n",
    "%aimport ExperimentUtils\n",
    "%aimport Networks"
   ]
  },
  {
   "cell_type": "code",
   "execution_count": 4,
   "metadata": {},
   "outputs": [],
   "source": [
    "import os\n",
    "import numpy as np\n",
    "import FeatureUtils as featils\n",
    "from Classes import Customer, ProfileBase\n",
    "from ExperimentUtils import sanity_check_purchase_upload_events, recommendations_to_csv,\\\n",
    "        run_personalized_recommendation_experiment\n",
    "from TransactionsUtils import TransactionsHandler"
   ]
  },
  {
   "cell_type": "code",
   "execution_count": 5,
   "metadata": {},
   "outputs": [],
   "source": [
    "os.environ['CUDA_VISIBLE_DEVICES'] = '0'"
   ]
  },
  {
   "cell_type": "code",
   "execution_count": 6,
   "metadata": {},
   "outputs": [],
   "source": [
    "dirpath = '/mnt/workspace/Ugallery/VBPR/vbpr_resnet_10m/'\n",
    "vbpr_item_vectors = np.load(dirpath + 'item_vectors.npy')\n",
    "vbpr_item_biases = np.load(dirpath + 'item_biases.npy')\n",
    "vbpr_item_index2id,\\\n",
    "vbpr_item_id2index = featils.read_ids_file(dirpath, 'items_ids')\n",
    "vbpr_user_vectors = np.load(dirpath + 'user_vectors.npy')\n",
    "vbpr_user_index2id,\\\n",
    "vbpr_user_id2index = featils.read_ids_file(dirpath, 'user_ids')"
   ]
  },
  {
   "cell_type": "code",
   "execution_count": 7,
   "metadata": {},
   "outputs": [
    {
     "data": {
      "text/plain": [
       "13297"
      ]
     },
     "execution_count": 7,
     "metadata": {},
     "output_type": "execute_result"
    }
   ],
   "source": [
    "ids_with_features = set(vbpr_item_index2id)\n",
    "len(ids_with_features)"
   ]
  },
  {
   "cell_type": "code",
   "execution_count": 8,
   "metadata": {},
   "outputs": [
    {
     "data": {
      "text/plain": [
       "((13297,), (13297, 200))"
      ]
     },
     "execution_count": 8,
     "metadata": {},
     "output_type": "execute_result"
    }
   ],
   "source": [
    "vbpr_item_biases.shape, vbpr_item_vectors.shape"
   ]
  },
  {
   "cell_type": "code",
   "execution_count": 9,
   "metadata": {},
   "outputs": [
    {
     "data": {
      "text/plain": [
       "(2919, 200)"
      ]
     },
     "execution_count": 9,
     "metadata": {},
     "output_type": "execute_result"
    }
   ],
   "source": [
    "vbpr_user_vectors.shape"
   ]
  },
  {
   "cell_type": "code",
   "execution_count": 10,
   "metadata": {},
   "outputs": [],
   "source": [
    "artworks_dict = TransactionsHandler.artworks_dict"
   ]
  },
  {
   "cell_type": "code",
   "execution_count": 11,
   "metadata": {},
   "outputs": [],
   "source": [
    "customers_dict = { cid : Customer(cid) for cid in TransactionsHandler.valid_sales_df.customer_id.unique() }"
   ]
  },
  {
   "cell_type": "code",
   "execution_count": 12,
   "metadata": {},
   "outputs": [],
   "source": [
    "# ---- upload events -----\n",
    "upload_events = TransactionsHandler.upload_events\n",
    "\n",
    "# ---- purchase events -----\n",
    "purchase_session_events = TransactionsHandler.purchase_session_events\n",
    "\n",
    "# distribute purchases among customers\n",
    "for pe in purchase_session_events:\n",
    "    customers_dict[pe.customer_id].append_purchase_session(pe)\n",
    "\n",
    "# --- join events and sort by timestamp ----\n",
    "time_events = upload_events + purchase_session_events\n",
    "time_events.sort(key=lambda x : x.timestamp)"
   ]
  },
  {
   "cell_type": "code",
   "execution_count": 13,
   "metadata": {},
   "outputs": [
    {
     "name": "stdout",
     "output_type": "stream",
     "text": [
      "len(upload_events) =  7742\n",
      "len(purchase_session_events) =  4897\n",
      "len(time_events) =  12639\n"
     ]
    }
   ],
   "source": [
    "print(\"len(upload_events) = \", len(upload_events))\n",
    "print(\"len(purchase_session_events) = \", len(purchase_session_events))\n",
    "print(\"len(time_events) = \", len(time_events))"
   ]
  },
  {
   "cell_type": "code",
   "execution_count": 14,
   "metadata": {},
   "outputs": [
    {
     "name": "stdout",
     "output_type": "stream",
     "text": [
      "CHECK: event types are correct\n",
      "CHECK: events ordered by timestamp\n",
      "CHECK: products are only uploaded once\n",
      "CHECK: products can only be purchased if present in inventory\n"
     ]
    }
   ],
   "source": [
    "sanity_check_purchase_upload_events(time_events, artworks_dict)"
   ]
  },
  {
   "cell_type": "code",
   "execution_count": 15,
   "metadata": {},
   "outputs": [],
   "source": [
    "REC_SIZE = 20"
   ]
  },
  {
   "cell_type": "code",
   "execution_count": 16,
   "metadata": {},
   "outputs": [],
   "source": [
    "import tensorflow as tf"
   ]
  },
  {
   "cell_type": "code",
   "execution_count": 17,
   "metadata": {},
   "outputs": [],
   "source": [
    "class Network:\n",
    "    def __init__(self):\n",
    "        \n",
    "        # --- placeholders\n",
    "        self._user_vector = tf.placeholder(shape=[200], dtype=tf.float32)\n",
    "        self._item_vectors = tf.placeholder(shape=[None, 200], dtype=tf.float32)\n",
    "        self._item_biases = tf.placeholder(shape=[None], dtype=tf.float32)        \n",
    "        self._candidate_item_indexes = tf.placeholder(shape=[None], dtype=tf.int32)\n",
    "        \n",
    "        # ---- candidate item vectors\n",
    "        self._candidate_item_vectors = tf.gather(self._item_vectors, self._candidate_item_indexes)\n",
    "        self._candidate_item_biases = tf.gather(self._item_biases, self._candidate_item_indexes)\n",
    "        \n",
    "        # ---- match scores\n",
    "        self._match_scores = tf.reduce_sum(tf.multiply(self._user_vector, self._candidate_item_vectors), 1) +\\\n",
    "                            self._candidate_item_biases\n",
    "    \n",
    "    def get_match_scores(self, sess, user_vector, item_vectors, item_biases, candidate_items_indexes):\n",
    "        return sess.run(\n",
    "            self._match_scores, feed_dict={\n",
    "            self._user_vector: user_vector,\n",
    "            self._item_vectors: item_vectors,\n",
    "            self._item_biases: item_biases,\n",
    "            self._candidate_item_indexes: candidate_items_indexes,\n",
    "        })"
   ]
  },
  {
   "cell_type": "code",
   "execution_count": 18,
   "metadata": {},
   "outputs": [],
   "source": [
    "class VBPR_Profile(ProfileBase):\n",
    "    # --- global -----        \n",
    "    @classmethod\n",
    "    def global_purchase_session_event_handler(cls, purch_sess):\n",
    "        pass\n",
    "\n",
    "    # --- instance ----    \n",
    "    def __init__(self, artworks_dict, network, sess, user_vector):\n",
    "        ProfileBase.__init__(self, None, artworks_dict)\n",
    "        self._network = network\n",
    "        self._sess = sess\n",
    "        self._user_vector = user_vector\n",
    "    def ready(self):\n",
    "        return len(self.consumed_artworks) > 0\n",
    "    def handle_artwork_added(self, artwork):\n",
    "        pass        \n",
    "    def handle_artwork_removed(self, artwork):\n",
    "        pass\n",
    "    def rank_inventory_ids(self, inventory_artworks):\n",
    "        inventory_indexes = [vbpr_item_id2index[a.id] for a in inventory_artworks]\n",
    "        match_scores = self._network.get_match_scores(self._sess,\n",
    "            self._user_vector, vbpr_item_vectors, vbpr_item_biases, inventory_indexes)\n",
    "        pairs = [(s,i) for s,i in zip(match_scores, inventory_indexes)]\n",
    "        pairs.sort(reverse=True)\n",
    "        return [vbpr_item_index2id[p[1]] for p in pairs]"
   ]
  },
  {
   "cell_type": "code",
   "execution_count": 19,
   "metadata": {},
   "outputs": [],
   "source": [
    "def run_experiment(artworks_dict, customers_dict, time_events, version):\n",
    "    with tf.Graph().as_default():\n",
    "        network = Network()\n",
    "        gpu_options = tf.GPUOptions(\n",
    "            per_process_gpu_memory_fraction=0.99,\n",
    "            allow_growth=True\n",
    "        )\n",
    "        config = tf.ConfigProto(gpu_options=gpu_options)\n",
    "        with tf.Session(config=config) as sess:\n",
    "            create_profile_func = lambda cid: VBPR_Profile(\n",
    "                artworks_dict, network, sess, vbpr_user_vectors[vbpr_user_id2index[cid]])\n",
    "            recommendations = run_personalized_recommendation_experiment(\n",
    "                artworks_dict, customers_dict, time_events, create_profile_func, rec_size=REC_SIZE)\n",
    "            recommendations_to_csv(\n",
    "                recommendations,\n",
    "                \"/mnt/workspace/ugallery_experiment_results/@{}_vbpr-{}\".format(REC_SIZE, version))"
   ]
  },
  {
   "cell_type": "code",
   "execution_count": 20,
   "metadata": {},
   "outputs": [
    {
     "name": "stdout",
     "output_type": "stream",
     "text": [
      "---------- starting experiment ------------\n",
      "500 tests done! elapsed time: 4.09 seconds\n",
      "1000 tests done! elapsed time: 8.21 seconds\n",
      "1500 tests done! elapsed time: 12.70 seconds\n",
      "1978 tests done! elapsed time: 17.19 seconds\n",
      "** recommendations successfully saved to /mnt/workspace/ugallery_experiment_results/@20_vbpr-vbpr_resnet_10m\n"
     ]
    }
   ],
   "source": [
    "run_experiment(artworks_dict, customers_dict, time_events,\n",
    "               version='vbpr_resnet_10m')"
   ]
  }
 ],
 "metadata": {
  "kernelspec": {
   "display_name": ".venv",
   "language": "python",
   "name": ".venv"
  },
  "language_info": {
   "codemirror_mode": {
    "name": "ipython",
    "version": 3
   },
   "file_extension": ".py",
   "mimetype": "text/x-python",
   "name": "python",
   "nbconvert_exporter": "python",
   "pygments_lexer": "ipython3",
   "version": "3.5.2"
  }
 },
 "nbformat": 4,
 "nbformat_minor": 2
}
