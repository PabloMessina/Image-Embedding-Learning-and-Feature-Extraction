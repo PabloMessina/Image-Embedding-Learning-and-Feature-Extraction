{
 "cells": [
  {
   "cell_type": "code",
   "execution_count": 12,
   "metadata": {},
   "outputs": [
    {
     "name": "stdout",
     "output_type": "stream",
     "text": [
      "The autoreload extension is already loaded. To reload it, use:\n",
      "  %reload_ext autoreload\n"
     ]
    }
   ],
   "source": [
    "%load_ext autoreload\n",
    "%autoreload 1"
   ]
  },
  {
   "cell_type": "code",
   "execution_count": 13,
   "metadata": {},
   "outputs": [],
   "source": [
    "%aimport utils"
   ]
  },
  {
   "cell_type": "code",
   "execution_count": 81,
   "metadata": {},
   "outputs": [],
   "source": [
    "import concurrent.futures\n",
    "import requests\n",
    "import pandas as pd\n",
    "import numpy as np\n",
    "from PIL import ImageFile, Image"
   ]
  },
  {
   "cell_type": "code",
   "execution_count": 27,
   "metadata": {},
   "outputs": [],
   "source": [
    "def getImageSize(uri):\n",
    "    try:\n",
    "        r = requests.get(uri, stream=True, timeout=3)\n",
    "        p = ImageFile.Parser()\n",
    "        i = 0\n",
    "        if r.status_code == 200:\n",
    "            while 1:\n",
    "                i+=1\n",
    "                data = r.raw.read(1024)\n",
    "                if not data:\n",
    "                    print('not image: uri = ', uri)\n",
    "                    size = None\n",
    "                    break\n",
    "                p.feed(data)\n",
    "                if p.image:\n",
    "                    size = p.image.size\n",
    "                    break\n",
    "        else:\n",
    "            print('r.status_code = %d, uri = %s' % (r.status_code, uri))\n",
    "            size = None\n",
    "        r.close()\n",
    "        return size\n",
    "    except requests.exceptions.Timeout as e:\n",
    "        print('timeout detected: uri = ', uri)\n",
    "        print(e)\n",
    "        return None"
   ]
  },
  {
   "cell_type": "code",
   "execution_count": 73,
   "metadata": {},
   "outputs": [],
   "source": [
    "try:\n",
    "    with open('./artworkId2ImageSize.csv') as f:\n",
    "        df = pd.read_csv(f)\n",
    "        id2size = {_id:(w,h) for _id,w,h in zip(df.id, df.width, df.height)}\n",
    "except FileNotFoundError:\n",
    "    id2size = dict()"
   ]
  },
  {
   "cell_type": "code",
   "execution_count": 74,
   "metadata": {},
   "outputs": [
    {
     "data": {
      "text/plain": [
       "7799"
      ]
     },
     "execution_count": 74,
     "metadata": {},
     "output_type": "execute_result"
    }
   ],
   "source": [
    "len(id2size)"
   ]
  },
  {
   "cell_type": "code",
   "execution_count": 75,
   "metadata": {},
   "outputs": [],
   "source": [
    "id2url = utils.get_id2url_map()"
   ]
  },
  {
   "cell_type": "code",
   "execution_count": 76,
   "metadata": {},
   "outputs": [],
   "source": [
    "pending_ids = [_id for _id in id2url if _id not in id2size]\n",
    "pending_urls = [url for _id, url in id2url.items() if _id not in id2size]"
   ]
  },
  {
   "cell_type": "code",
   "execution_count": 77,
   "metadata": {},
   "outputs": [
    {
     "data": {
      "text/plain": [
       "(6, 6)"
      ]
     },
     "execution_count": 77,
     "metadata": {},
     "output_type": "execute_result"
    }
   ],
   "source": [
    "len(pending_ids), len(pending_urls)"
   ]
  },
  {
   "cell_type": "code",
   "execution_count": 78,
   "metadata": {
    "scrolled": false
   },
   "outputs": [
    {
     "name": "stdout",
     "output_type": "stream",
     "text": [
      "r.status_code = 404, uri = http://static.ugallery.com/webdata/product/50106/Images/Large_test3.jpg\n",
      "r.status_code = 404, uri = http://static.ugallery.com/webdata/product/53466/Images/Large_test2.jpg\n",
      "r.status_code = 404, uri = http://static.ugallery.com/webdata/product/51917/Images/Large_test1.jpg\n",
      "r.status_code = 404, uri = http://static.ugallery.com/webdata/product/55624/Images/Large_test5.jpg\n",
      "r.status_code = 404, uri = http://static.ugallery.com/webdata/product/52754/Images/Large_test2.jpg\n",
      "r.status_code = 404, uri = http://static.ugallery.com/webdata/product/46399/Images/Large_test2.jpg\n"
     ]
    }
   ],
   "source": [
    "with concurrent.futures.ThreadPoolExecutor(max_workers=40) as executor:\n",
    "    futures = executor.map(getImageSize, pending_urls)\n",
    "    for _id, size in zip(pending_ids, futures):\n",
    "        if size is not None:\n",
    "            id2size[_id] = size"
   ]
  },
  {
   "cell_type": "code",
   "execution_count": 79,
   "metadata": {},
   "outputs": [],
   "source": [
    "with open('./artworkId2ImageSize.csv', mode='w') as f:\n",
    "    data = np.array([(_id, w, h) for _id, (w, h) in id2size.items()])\n",
    "    df = pd.DataFrame(data=data, columns=('id','width','height'))\n",
    "    df.to_csv(f, index=False)"
   ]
  },
  {
   "cell_type": "code",
   "execution_count": 84,
   "metadata": {},
   "outputs": [],
   "source": [
    "ids_with_issues = []"
   ]
  },
  {
   "cell_type": "code",
   "execution_count": 93,
   "metadata": {},
   "outputs": [
    {
     "name": "stdout",
     "output_type": "stream",
     "text": [
      "(700, 700)\n"
     ]
    }
   ],
   "source": [
    "with Image.open(\"/mnt/workspace/Ugallery/images/%d.jpg\" % 43559) as img:\n",
    "    print(img.size)"
   ]
  },
  {
   "cell_type": "code",
   "execution_count": 85,
   "metadata": {
    "scrolled": false
   },
   "outputs": [
    {
     "name": "stdout",
     "output_type": "stream",
     "text": [
      "id=49577, image size = (900,690), validation size = (900,681)\n",
      "id=49718, image size = (523,532), validation size = (701,700)\n",
      "id=50798, image size = (549,700), validation size = (561,700)\n",
      "id=51042, image size = (900,577), validation size = (900,668)\n",
      "id=52969, image size = (685,700), validation size = (699,700)\n",
      "id=53153, image size = (710,700), validation size = (182,180)\n",
      "id=53766, image size = (525,700), validation size = (560,700)\n",
      "id=50368, image size = (525,700), validation size = (526,700)\n",
      "id=8823, image size = (720,479), validation size = (270,180)\n",
      "id=43234, image size = (900,600), validation size = (269,180)\n",
      "id=43739, image size = (714,700), validation size = (703,700)\n",
      "id=11518, image size = (624,396), validation size = (284,180)\n",
      "id=44597, image size = (514,700), validation size = (525,700)\n",
      "id=45300, image size = (900,446), validation size = (900,449)\n",
      "id=13034, image size = (687,500), validation size = (248,180)\n",
      "id=48269, image size = (900,599), validation size = (900,600)\n",
      "id=48270, image size = (900,599), validation size = (900,600)\n",
      "id=48272, image size = (900,599), validation size = (900,600)\n",
      "id=48274, image size = (900,599), validation size = (900,600)\n",
      "id=48283, image size = (900,599), validation size = (900,600)\n",
      "id=48908, image size = (900,582), validation size = (900,600)\n"
     ]
    }
   ],
   "source": [
    "for _id, size in id2size.items():\n",
    "    with Image.open(\"/mnt/workspace/Ugallery/images/%d.jpg\" % _id) as img:\n",
    "        try:\n",
    "            assert size == img.size\n",
    "        except AssertionError:\n",
    "            print('id=%d, image size = (%d,%d), validation size = (%d,%d)' % (_id, *img.size, *size))\n",
    "            ids_with_issues.append(_id)"
   ]
  }
 ],
 "metadata": {
  "kernelspec": {
   "display_name": "Python 3",
   "language": "python",
   "name": "python3"
  },
  "language_info": {
   "codemirror_mode": {
    "name": "ipython",
    "version": 3
   },
   "file_extension": ".py",
   "mimetype": "text/x-python",
   "name": "python",
   "nbconvert_exporter": "python",
   "pygments_lexer": "ipython3",
   "version": "3.5.2"
  }
 },
 "nbformat": 4,
 "nbformat_minor": 2
}
