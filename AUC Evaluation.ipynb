{
 "cells": [
  {
   "cell_type": "code",
   "execution_count": 5,
   "metadata": {},
   "outputs": [],
   "source": [
    "import json\n",
    "from Networks import ContentBasedLearn2RankNetwork_Evaluation\n",
    "from utils import ground_truth_rank_indexes, auc_exact"
   ]
  },
  {
   "cell_type": "code",
   "execution_count": 2,
   "metadata": {},
   "outputs": [],
   "source": [
    "with open('./data/ugallery_AMT_train_test_5.json') as f:\n",
    "    train_test_5 = json.load(f)"
   ]
  },
  {
   "cell_type": "code",
   "execution_count": 6,
   "metadata": {},
   "outputs": [],
   "source": [
    "MODEL_PATH = ('/mnt/workspace/pamessina_models/ugallery/youtube_like/v16(10M-400K,avg+max,rsnt50'\n",
    "              '+alxnt+incepv3,u(300,300,200)i(200,200),+p(rl&fk)-np,+npfavc(rl&fk)-nfavc,+nxt+hdaccklst-nfavc,fg.6,vcf.1/')"
   ]
  },
  {
   "cell_type": "code",
   "execution_count": null,
   "metadata": {},
   "outputs": [],
   "source": [
    "def get_auc(model_path, train_test_list):\n",
    "    youtube_like = load_embeddings_and_ids(\n",
    "        ('/mnt/workspace/Ugallery/Youtube-like/v16(10M-400K,avg+max,rsnt50+alxnt+incepv3,u(300,300,200)'\n",
    "         'i(200,200),+p(rl&fk)-np,+npfavc(rl&fk)-nfavc,+nxt+hdaccklst-nfavc,fg.6,vcf.1/'),\n",
    "        'item_vectors.npy', 'ids')\n",
    "    embeddings = youtube_like['featmat']\n",
    "    artwork_ids = youtube_like['index2id']\n",
    "    artwork_id2index = youtube_like['id2index']\n",
    "    n_artworks = len(artwork_ids)\n",
    "    all_indexes = list(range(n_artworks))\n",
    "    \n",
    "    with tf.Graph().as_default():      \n",
    "        network = ContentBasedLearn2RankNetwork_Evaluation(\n",
    "            user_layer_units=[300,300,200],\n",
    "            latent_space_dim=200,\n",
    "            profile_pooling_mode='AVG+MAX',\n",
    "        )\n",
    "        with tf.Session() as sess:\n",
    "            saver = tf.train.Saver()\n",
    "            saver.restore(sess, tf.train.latest_checkpoint(model_path))\n",
    "            auc_tot = 0\n",
    "            for row in train_test_list:\n",
    "                train_indexes = [artwork_id2index[_id] for _id in row['train']]\n",
    "                test_indexes_set = set(artwork_id2index[_id] for _id in row['test'])\n",
    "                train_indexes_set = set(train_indexes)\n",
    "                candidate_indexes = [i in all_indexes if i not in train_indexes_set]\n",
    "                match_scores = network.get_match_scores(sess, embeddings, train_indexes, candidate_indexes)                \n",
    "                tuples = [(s,i) for i,s in zip(candidate_indexes, match_scores)]                \n",
    "                tuples.sort(reverse=True)\n",
    "                ranked_candidate_indexes = [t[1] for t in tuples]\n",
    "                gt_indexes = ground_truth_rank_indexes(ranked_candidate_indexes, test_indexes_set)\n",
    "                auc_tot += auc_exact(gt_indexes, len(candidate_indexes))\n",
    "            return auc_tot / len(train_test_list)"
   ]
  },
  {
   "cell_type": "code",
   "execution_count": null,
   "metadata": {},
   "outputs": [],
   "source": [
    "ContentBasedLearn2RankNetwork_Evaluation()"
   ]
  },
  {
   "cell_type": "code",
   "execution_count": 4,
   "metadata": {},
   "outputs": [
    {
     "name": "stdout",
     "output_type": "stream",
     "text": [
      "v1\r\n",
      "v10(10M-300K,avg+max,+prof(rl&fk)-nprof)\r\n",
      "v11(10M-300K,avg+max,+prof(rl&fk)-nprof,+nproffavc(rl&fk)-nfavc_loc)\r\n",
      "v12(10M-300K,avg+max,+prof(rl&fk)-nprof,+nxt+hide1+hideacc-nfavc_full)\r\n",
      "v13(10M-300K,avg+max,resnet50+alexnet+inceptionv3,u(300,300,200),i(200,200),+prof(rl&fk)-nprof,+nproffavc(rl&fk)-nfavc,+nxt+hideaccklast-nfavc,finegrained=0.5)\r\n",
      "v14(10M-300K,avg+max,rsnt50+alxnt+incpv3,u(300,300,200)i(200,200),+p(rl&fk)-np,+npfavc(rl&fk)-nfavc,+nxt+hdaccklst+hd1-nfavc,fg=.55)\r\n",
      "v15(10M-400K,avg+max,rsnt50+alxnt+incpv3,u300_300_200,i_200_200,+p(r&f)-np,+npfavc(r&f)-nfavc,fgvc(f),+nxt+hdaccklst-nfavc,fg.6,vconf.2)\r\n",
      "v16(10M-400K,avg+max,rsnt50+alxnt+incepv3,u(300,300,200)i(200,200),+p(rl&fk)-np,+npfavc(rl&fk)-nfavc,+nxt+hdaccklst-nfavc,fg.6,vcf.1\r\n",
      "v2\r\n",
      "v3_hidelast_usermodelbigger\r\n",
      "v5_usermodelbigger\r\n",
      "v6_avgpool+maxpool\r\n",
      "v7_avgpool+maxpool_prednextbasket\r\n",
      "v8_avgpool+maxpool_prednextbasket_hideandpred\r\n",
      "v9(10M-300K,avg+max,+prof(rl&fk)-nprof,+nproffavc(rl&fk)-nfavc_loc,+nxt+hide1+hideacc-nfavc_glob)\r\n"
     ]
    }
   ],
   "source": [
    "!ls \"/mnt/workspace/Ugallery/Youtube-like/\""
   ]
  }
 ],
 "metadata": {
  "kernelspec": {
   "display_name": "Python 3",
   "language": "python",
   "name": "python3"
  },
  "language_info": {
   "codemirror_mode": {
    "name": "ipython",
    "version": 3
   },
   "file_extension": ".py",
   "mimetype": "text/x-python",
   "name": "python",
   "nbconvert_exporter": "python",
   "pygments_lexer": "ipython3",
   "version": "3.5.2"
  }
 },
 "nbformat": 4,
 "nbformat_minor": 2
}
