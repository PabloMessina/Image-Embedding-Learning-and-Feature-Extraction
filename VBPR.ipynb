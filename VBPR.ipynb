{
 "cells": [
  {
   "cell_type": "code",
   "execution_count": 2,
   "metadata": {},
   "outputs": [],
   "source": [
    "%load_ext autoreload\n",
    "%autoreload 1"
   ]
  },
  {
   "cell_type": "code",
   "execution_count": 3,
   "metadata": {},
   "outputs": [],
   "source": [
    "%aimport utils"
   ]
  },
  {
   "cell_type": "code",
   "execution_count": 4,
   "metadata": {},
   "outputs": [],
   "source": [
    "import numpy as np\n",
    "import pandas as pd\n",
    "import random\n",
    "import os\n",
    "import time\n",
    "from math import ceil\n",
    "from utils import load_embeddings_and_ids, User, VisualDuplicateDetector, get_decaying_learning_rates"
   ]
  },
  {
   "cell_type": "code",
   "execution_count": 5,
   "metadata": {},
   "outputs": [],
   "source": [
    "# use a single GPU because we want to be nice with other people :)\n",
    "os.environ[\"CUDA_VISIBLE_DEVICES\"]=\"1\""
   ]
  },
  {
   "cell_type": "markdown",
   "metadata": {},
   "source": [
    "###  Load pre-trained ResNet50 image embeddings"
   ]
  },
  {
   "cell_type": "code",
   "execution_count": 6,
   "metadata": {},
   "outputs": [],
   "source": [
    "resnet50 = load_embeddings_and_ids('/mnt/workspace/Ugallery/ResNet50/', 'flatten_1.npy', 'ids')"
   ]
  },
  {
   "cell_type": "code",
   "execution_count": 7,
   "metadata": {},
   "outputs": [],
   "source": [
    "resnet50_embeddings =  resnet50['featmat']\n",
    "artwork_ids = resnet50['index2id']\n",
    "artwork_id2index = resnet50['id2index']"
   ]
  },
  {
   "cell_type": "code",
   "execution_count": 8,
   "metadata": {
    "scrolled": true
   },
   "outputs": [
    {
     "data": {
      "text/plain": [
       "13297"
      ]
     },
     "execution_count": 8,
     "metadata": {},
     "output_type": "execute_result"
    }
   ],
   "source": [
    "n_artworks = len(artwork_ids)\n",
    "n_artworks"
   ]
  },
  {
   "cell_type": "markdown",
   "metadata": {},
   "source": [
    "###  Load visual clusters"
   ]
  },
  {
   "cell_type": "code",
   "execution_count": 9,
   "metadata": {},
   "outputs": [],
   "source": [
    "import json"
   ]
  },
  {
   "cell_type": "code",
   "execution_count": 10,
   "metadata": {},
   "outputs": [],
   "source": [
    "with open('/mnt/workspace/Ugallery/Clustering/artworkId2clusterId(resnet50+alexnet+inceptionv3+vgg19+incepresv2).json') as f:\n",
    "    artworkId2clusterId = json.load(f)\n",
    "cluster_ids = np.full((n_artworks,), -1, dtype=int)\n",
    "for k, v in artworkId2clusterId.items():\n",
    "    cluster_ids[artwork_id2index[int(k)]] = v"
   ]
  },
  {
   "cell_type": "code",
   "execution_count": 11,
   "metadata": {},
   "outputs": [
    {
     "data": {
      "text/plain": [
       "(0, 99, (13297,))"
      ]
     },
     "execution_count": 11,
     "metadata": {},
     "output_type": "execute_result"
    }
   ],
   "source": [
    "cluster_ids.min(), cluster_ids.max(), cluster_ids.shape"
   ]
  },
  {
   "cell_type": "code",
   "execution_count": 12,
   "metadata": {},
   "outputs": [
    {
     "data": {
      "text/plain": [
       "100"
      ]
     },
     "execution_count": 12,
     "metadata": {},
     "output_type": "execute_result"
    }
   ],
   "source": [
    "n_clusters = len(set(cluster_ids))\n",
    "n_clusters"
   ]
  },
  {
   "cell_type": "code",
   "execution_count": 13,
   "metadata": {},
   "outputs": [],
   "source": [
    "clusterId2artworkIndexes = [[] for _ in range(n_clusters)]\n",
    "for i, cluster_id in enumerate(cluster_ids):\n",
    "    clusterId2artworkIndexes[cluster_id].append(i)"
   ]
  },
  {
   "cell_type": "markdown",
   "metadata": {},
   "source": [
    "###  Load transactions"
   ]
  },
  {
   "cell_type": "code",
   "execution_count": 14,
   "metadata": {},
   "outputs": [],
   "source": [
    "sales_df = pd.read_csv('./data/valid_sales.csv')\n",
    "artworks_df = pd.read_csv('./data/valid_artworks.csv')"
   ]
  },
  {
   "cell_type": "code",
   "execution_count": 15,
   "metadata": {},
   "outputs": [],
   "source": [
    "artist_ids = np.full((n_artworks,), -1, dtype=int)\n",
    "for _artworkId, _artistId in zip(artworks_df.id, artworks_df.artist_id):\n",
    "    i = artwork_id2index[_artworkId]\n",
    "    artist_ids[i] = _artistId"
   ]
  },
  {
   "cell_type": "code",
   "execution_count": 16,
   "metadata": {},
   "outputs": [],
   "source": [
    "artistId2artworkIndexes = dict()\n",
    "for i, _artistId in enumerate(artist_ids):\n",
    "    if _artistId == -1:\n",
    "        continue\n",
    "    try:\n",
    "        artistId2artworkIndexes[_artistId].append(i)\n",
    "    except KeyError:\n",
    "        artistId2artworkIndexes[_artistId] = [i]"
   ]
  },
  {
   "cell_type": "markdown",
   "metadata": {},
   "source": [
    "### Collect transactions per user (making sure we hide the last nonfirst purchase basket per user)"
   ]
  },
  {
   "cell_type": "markdown",
   "metadata": {},
   "source": [
    "#### create list of users"
   ]
  },
  {
   "cell_type": "code",
   "execution_count": 17,
   "metadata": {},
   "outputs": [
    {
     "data": {
      "text/plain": [
       "2919"
      ]
     },
     "execution_count": 17,
     "metadata": {},
     "output_type": "execute_result"
    }
   ],
   "source": [
    "user_ids = sales_df.customer_id.unique()\n",
    "user_id2index = { _id:i for i,_id in enumerate(user_ids) }\n",
    "users = [User(uid) for uid in user_ids]\n",
    "n_users = len(user_ids)\n",
    "n_users"
   ]
  },
  {
   "cell_type": "markdown",
   "metadata": {},
   "source": [
    "#### collect and sanity check transactions per user"
   ]
  },
  {
   "cell_type": "code",
   "execution_count": 18,
   "metadata": {},
   "outputs": [],
   "source": [
    "sorted_sales_df = sales_df.sort_values('order_date')"
   ]
  },
  {
   "cell_type": "code",
   "execution_count": 19,
   "metadata": {},
   "outputs": [],
   "source": [
    "# clear structures to prevent possible duplicate elements\n",
    "for user in users:\n",
    "    user.clear()\n",
    "\n",
    "# collect transactions per user sorted by timestamp\n",
    "for uid, aid, t in zip(sorted_sales_df.customer_id,\n",
    "                       sorted_sales_df.artwork_id,\n",
    "                       sorted_sales_df.order_date):\n",
    "    users[user_id2index[uid]].append_transaction(\n",
    "        aid, t, artwork_id2index, artist_ids, cluster_ids)\n",
    "    assert users[user_id2index[uid]]._uid == uid\n",
    "    \n",
    "# bin transctions with same timestamps into purchase baskets\n",
    "for user in users:\n",
    "    user.build_purchase_baskets()\n",
    "    user.sanity_check_purchase_baskets()\n",
    "    user.remove_last_nonfirst_purchase_basket(\n",
    "        artwork_id2index, artist_ids, cluster_ids)\n",
    "    user.sanity_check_purchase_baskets()\n",
    "    user.refresh_nonpurchased_cluster_ids(n_clusters)\n",
    "    user.refresh_cluster_ids()\n",
    "    user.refresh_artist_ids()"
   ]
  },
  {
   "cell_type": "markdown",
   "metadata": {},
   "source": [
    "### Generate training data"
   ]
  },
  {
   "cell_type": "code",
   "execution_count": 20,
   "metadata": {},
   "outputs": [],
   "source": [
    "def hash_triple(ui, pi, ni):\n",
    "    return  ((pi * n_artworks) + ni) * n_users + ui"
   ]
  },
  {
   "cell_type": "code",
   "execution_count": 47,
   "metadata": {},
   "outputs": [],
   "source": [
    "def sanity_check_instance(instance,\n",
    "                          pos_is_purchased=True,\n",
    "                          pos_sharing_cluster_artist=None,\n",
    "                          neg_notsharing_artist=None,\n",
    "                          neg_notsharing_artist_cluster=None,\n",
    "                         ):\n",
    "    ui, pi, ni = instance    \n",
    "    try:\n",
    "        assert 0 <= ui < n_users\n",
    "        assert 0 <= pi < n_artworks\n",
    "        assert 0 <= ni < n_artworks\n",
    "        assert pi != ni\n",
    "        assert not visdup_detector.same(pi,ni)\n",
    "        \n",
    "        assert 0 <= ui < n_users\n",
    "        user = users[ui]\n",
    "        \n",
    "        if pos_is_purchased is True:\n",
    "            assert pi in user.artwork_idxs_set\n",
    "        elif pos_is_purchased is False:\n",
    "            assert pi not in user.artwork_idxs_set\n",
    "            \n",
    "        if pos_sharing_cluster_artist:\n",
    "            assert artist_ids[pi] in user.artist_ids_set\n",
    "            assert cluster_ids[pi] in user.cluster_ids_set\n",
    "            \n",
    "        assert ni not in user.artwork_idxs_set\n",
    "        if neg_notsharing_artist:\n",
    "            assert artist_ids[ni] not in user.artist_ids_set\n",
    "        if neg_notsharing_artist_cluster:\n",
    "            assert artist_ids[ni] not in user.artist_ids_set\n",
    "            assert cluster_ids[ni] not in user.cluster_ids_set            \n",
    "    except AssertionError:\n",
    "        print('ui = ', ui)\n",
    "        print('pi = ', pi)\n",
    "        print('ni = ', ni)\n",
    "        raise"
   ]
  },
  {
   "cell_type": "code",
   "execution_count": 48,
   "metadata": {},
   "outputs": [],
   "source": [
    "def append_instance(container, instance, **kwargs):\n",
    "    global _hash_collisions\n",
    "    ui, pi, ni = instance\n",
    "    \n",
    "    h = hash_triple(ui, pi, ni)\n",
    "    if h in used_hashes:\n",
    "        _hash_collisions += 1\n",
    "        return False\n",
    "    \n",
    "    if visdup_detector.same(pi, ni):\n",
    "        return False\n",
    "    \n",
    "    sanity_check_instance(instance, **kwargs)\n",
    "    container.append(instance)\n",
    "    used_hashes.add(h)\n",
    "    return True"
   ]
  },
  {
   "cell_type": "code",
   "execution_count": 28,
   "metadata": {},
   "outputs": [],
   "source": [
    "def print_num_samples(sampler_func):\n",
    "    def wrapper(instances_container, n_samples):\n",
    "        len_before = len(instances_container)\n",
    "        sampler_func(instances_container, n_samples)\n",
    "        print('  %d new samples generated' % (len(instances_container) - len_before))\n",
    "    return wrapper"
   ]
  },
  {
   "cell_type": "code",
   "execution_count": 23,
   "metadata": {},
   "outputs": [],
   "source": [
    "visdup_detector = VisualDuplicateDetector(cluster_ids, resnet50_embeddings)"
   ]
  },
  {
   "cell_type": "code",
   "execution_count": 24,
   "metadata": {},
   "outputs": [],
   "source": [
    "visdup_detector.count = 0\n",
    "used_hashes = set()\n",
    "_hash_collisions = 0\n",
    "train_instances = []\n",
    "test_instances = []"
   ]
  },
  {
   "cell_type": "code",
   "execution_count": 25,
   "metadata": {},
   "outputs": [],
   "source": [
    "N_STRATEGIES = 2\n",
    "TOTAL_SAMPLES__TRAIN = 10000000\n",
    "TOTAL_SAMPLES__TEST =  300000"
   ]
  },
  {
   "cell_type": "code",
   "execution_count": 26,
   "metadata": {},
   "outputs": [
    {
     "data": {
      "text/plain": [
       "(5000000, 150000)"
      ]
     },
     "execution_count": 26,
     "metadata": {},
     "output_type": "execute_result"
    }
   ],
   "source": [
    "N_SAMPLES_PER_STRATEGY__TRAIN = int(TOTAL_SAMPLES__TRAIN / N_STRATEGIES)\n",
    "N_SAMPLES_PER_STRATEGY__TRAIN\n",
    "N_SAMPLES_PER_STRATEGY__TEST = int(TOTAL_SAMPLES__TEST / N_STRATEGIES)\n",
    "N_SAMPLES_PER_STRATEGY__TEST\n",
    "N_SAMPLES_PER_STRATEGY__TRAIN, N_SAMPLES_PER_STRATEGY__TEST"
   ]
  },
  {
   "cell_type": "markdown",
   "metadata": {},
   "source": [
    "## Original BPR strategy"
   ]
  },
  {
   "cell_type": "markdown",
   "metadata": {},
   "source": [
    "##### 1) Recommend profile given profile\n",
    "Given a user, his purchased items should be ranked higher than any of his non-purchased items"
   ]
  },
  {
   "cell_type": "code",
   "execution_count": 33,
   "metadata": {},
   "outputs": [],
   "source": [
    "def sample_artwork_index__nonpurchased(purchased_artwork_idxs):\n",
    "    while True:\n",
    "        i = random.randint(0, n_artworks-1)\n",
    "        if i not in purchased_artwork_idxs:\n",
    "            return i            "
   ]
  },
  {
   "cell_type": "code",
   "execution_count": 34,
   "metadata": {},
   "outputs": [],
   "source": [
    "@print_num_samples\n",
    "def generate_samples__rank_purchased_above_nonpurchased(instances_container, n_samples):\n",
    "    n_samples_per_user = ceil(n_samples / n_users)\n",
    "    for ui, user in enumerate(users):\n",
    "        profile = user.artwork_idxs\n",
    "        profile_set = user.artwork_idxs_set\n",
    "        for _ in range(n_samples_per_user):\n",
    "            for __ in range(5):\n",
    "                pi = random.choice(profile)\n",
    "                ni = sample_artwork_index__nonpurchased(profile_set)\n",
    "                if append_instance(instances_container, (ui, pi, ni)):\n",
    "                    break"
   ]
  },
  {
   "cell_type": "code",
   "execution_count": 35,
   "metadata": {
    "scrolled": false
   },
   "outputs": [
    {
     "name": "stdout",
     "output_type": "stream",
     "text": [
      "sampling train instances ...\n",
      "  5000219 new samples generated\n",
      "sampling test instances ...\n",
      "  151786 new samples generated\n",
      "5000219 151786\n",
      "hash_collisions =  310078\n",
      "visual_collisions =  4\n"
     ]
    }
   ],
   "source": [
    "print('sampling train instances ...')\n",
    "generate_samples__rank_purchased_above_nonpurchased(train_instances, n_samples=N_SAMPLES_PER_STRATEGY__TRAIN)\n",
    "print('sampling test instances ...')\n",
    "generate_samples__rank_purchased_above_nonpurchased(test_instances, n_samples=N_SAMPLES_PER_STRATEGY__TEST)\n",
    "print(len(train_instances), len(test_instances))\n",
    "print('hash_collisions = ', _hash_collisions)\n",
    "print('visual_collisions = ', visdup_detector.count)"
   ]
  },
  {
   "cell_type": "markdown",
   "metadata": {},
   "source": [
    "## Domain-specific strategies"
   ]
  },
  {
   "cell_type": "markdown",
   "metadata": {},
   "source": [
    "##### 2) Recommend visually similar items from favorite artists\n",
    "Given a user, any non-purchased item sharing artist and visual cluster with items in the user's profile should be ranked higher than any item that \n",
    "- option a) does not share artist with items in the user's profile OR\n",
    "- option b) does not share artist nor visual cluster with items in the user's profile"
   ]
  },
  {
   "cell_type": "code",
   "execution_count": 36,
   "metadata": {},
   "outputs": [],
   "source": [
    "def sample_artwork_index__notsharing_artist(artists_set):\n",
    "    while True:\n",
    "        i = random.randint(0, n_artworks-1)\n",
    "        if artist_ids[i] not in artists_set:\n",
    "            return i"
   ]
  },
  {
   "cell_type": "code",
   "execution_count": 45,
   "metadata": {},
   "outputs": [],
   "source": [
    "def sample_artwork_index__notsharing_artist_cluster(artists_set, nonp_clusters_list):\n",
    "    while True:\n",
    "        # not sharing cluster\n",
    "        c = random.choice(nonp_clusters_list)\n",
    "        i = random.choice(clusterId2artworkIndexes[c]) \n",
    "        \n",
    "        # not sharing artist\n",
    "        if artist_ids[i] in artists_set: continue\n",
    "        \n",
    "        return i"
   ]
  },
  {
   "cell_type": "code",
   "execution_count": 38,
   "metadata": {},
   "outputs": [],
   "source": [
    "def sample_artwork_index__nonpurchased__sharing_artist_cluster(profile_set, artists_list, clusters_set):\n",
    "    for _ in range(20): # try at most 20 times\n",
    "        # sharing artist\n",
    "        a = random.choice(artists_list)\n",
    "        i = random.choice(artistId2artworkIndexes[a])        \n",
    "        # non-puchased\n",
    "        if i in profile_set: continue        \n",
    "        # sharing cluster\n",
    "        if cluster_ids[i] in clusters_set:\n",
    "            return i\n",
    "    return None # failed to find"
   ]
  },
  {
   "cell_type": "code",
   "execution_count": 42,
   "metadata": {},
   "outputs": [],
   "source": [
    "@print_num_samples\n",
    "def generate_samples__rank_nonpurchased_sharingartistcluster_above_notsharingartist(instances_container, n_samples):\n",
    "    n_samples_per_user = ceil(n_samples / n_users)\n",
    "    for ui, user in enumerate(users):\n",
    "        \n",
    "        profile_set = user.artwork_idxs_set\n",
    "        artist_ids = user.artist_ids\n",
    "        cluster_ids_set = user.cluster_ids_set\n",
    "        artist_ids_set = user.artist_ids_set\n",
    "        \n",
    "        for _ in range(n_samples_per_user):\n",
    "            for __ in range(5):\n",
    "                pi = sample_artwork_index__nonpurchased__sharing_artist_cluster(profile_set, artist_ids, cluster_ids_set)\n",
    "                if pi is None:\n",
    "                    continue\n",
    "                ni = sample_artwork_index__notsharing_artist(artist_ids_set)\n",
    "                if append_instance(instances_container, (ui, pi, ni),\n",
    "                                   pos_is_purchased=False,\n",
    "                                   pos_sharing_cluster_artist=True,\n",
    "                                   neg_notsharing_artist=True):\n",
    "                    break"
   ]
  },
  {
   "cell_type": "code",
   "execution_count": 43,
   "metadata": {},
   "outputs": [],
   "source": [
    "@print_num_samples\n",
    "def generate_samples__rank_nonpurchased_sharingartistcluster_above_notsharingartistcluster(instances_container, n_samples):\n",
    "    n_samples_per_user = ceil(n_samples / n_users)\n",
    "    for ui, user in enumerate(users):\n",
    "        \n",
    "        profile_set = user.artwork_idxs_set\n",
    "        artist_ids = user.artist_ids\n",
    "        cluster_ids_set = user.cluster_ids_set\n",
    "        artist_ids_set = user.artist_ids_set\n",
    "        nonp_cluster_ids = user.nonp_cluster_ids\n",
    "        \n",
    "        for _ in range(n_samples_per_user):\n",
    "            for __ in range(5):\n",
    "                pi = sample_artwork_index__nonpurchased__sharing_artist_cluster(profile_set, artist_ids, cluster_ids_set)\n",
    "                if pi is None:\n",
    "                    continue\n",
    "                ni = sample_artwork_index__notsharing_artist_cluster(artist_ids_set, nonp_cluster_ids)\n",
    "                if append_instance(instances_container, (ui, pi, ni),\n",
    "                                   pos_is_purchased=False,\n",
    "                                   pos_sharing_cluster_artist=True,\n",
    "                                   neg_notsharing_artist_cluster=True):\n",
    "                    break"
   ]
  },
  {
   "cell_type": "code",
   "execution_count": 52,
   "metadata": {},
   "outputs": [
    {
     "name": "stdout",
     "output_type": "stream",
     "text": [
      "sampling train instances ...\n",
      "  53214 new samples generated\n",
      "sampling test instances ...\n",
      "9985460 300411\n",
      "hash_collisions =  495027\n",
      "visual_collisions =  4\n"
     ]
    }
   ],
   "source": [
    "print('sampling train instances ...')\n",
    "generate_samples__rank_nonpurchased_sharingartistcluster_above_notsharingartistcluster(\n",
    "#     train_instances, n_samples=N_SAMPLES_PER_STRATEGY__TRAIN)\n",
    "    train_instances, n_samples=67973)\n",
    "print('sampling test instances ...')\n",
    "# generate_samples__rank_nonpurchased_sharingartistcluster_above_notsharingartistcluster(\n",
    "# #     test_instances, n_samples=N_SAMPLES_PER_STRATEGY__TEST)\n",
    "#     test_instances, n_samples=8033)\n",
    "print(len(train_instances), len(test_instances))\n",
    "print('hash_collisions = ', _hash_collisions)\n",
    "print('visual_collisions = ', visdup_detector.count)"
   ]
  },
  {
   "cell_type": "markdown",
   "metadata": {},
   "source": [
    "### Training Model"
   ]
  },
  {
   "cell_type": "code",
   "execution_count": 53,
   "metadata": {},
   "outputs": [],
   "source": [
    "def generate_minibatches(tuples, batch_size):\n",
    "    n_tuples = len(tuples)\n",
    "    n_batches = ceil(n_tuples / batch_size)\n",
    "    \n",
    "    assert n_batches * batch_size >= n_tuples\n",
    "    assert (n_batches - 1) * batch_size < n_tuples\n",
    "    \n",
    "    indexes = list(range(n_tuples))\n",
    "    random.shuffle(indexes)\n",
    "    \n",
    "    print('n_tuples = ', n_tuples)\n",
    "    print('n_batches = ', n_batches)\n",
    "    \n",
    "    user_index_batches = [None] * n_batches\n",
    "    pos_index_batches = [None] * n_batches\n",
    "    neg_index_batches = [None] * n_batches\n",
    "    \n",
    "    for i in range(n_batches):\n",
    "        jmin = i * batch_size\n",
    "        jmax = min(jmin + batch_size, n_tuples)\n",
    "        actual_batch_size = jmax - jmin\n",
    "        \n",
    "        user_index_batch = np.empty((actual_batch_size,), dtype=int)\n",
    "        pos_index_batch = np.empty((actual_batch_size,), dtype=int)\n",
    "        neg_index_batch = np.empty((actual_batch_size,), dtype=int)\n",
    "        \n",
    "        for j in range(actual_batch_size):\n",
    "            t = tuples[indexes[jmin+j]]\n",
    "            user_index_batch[j] = t[0]\n",
    "            pos_index_batch[j] = t[1]\n",
    "            neg_index_batch[j] = t[2]\n",
    "\n",
    "        user_index_batches[i] = user_index_batch\n",
    "        pos_index_batches[i] = pos_index_batch\n",
    "        neg_index_batches[i] = neg_index_batch\n",
    "        \n",
    "    return dict(\n",
    "        user_index_batches = user_index_batches,\n",
    "        pos_index_batches  = pos_index_batches,\n",
    "        neg_index_batches  = neg_index_batches,\n",
    "        n_batches          = n_batches,\n",
    "    )"
   ]
  },
  {
   "cell_type": "code",
   "execution_count": 54,
   "metadata": {},
   "outputs": [],
   "source": [
    "def sanity_check_minibatches(minibatches):\n",
    "    user_index_batches = minibatches['user_index_batches']\n",
    "    pos_index_batches = minibatches['pos_index_batches']\n",
    "    neg_index_batches = minibatches['neg_index_batches']\n",
    "    n_batches = minibatches['n_batches']\n",
    "    assert n_batches == len(user_index_batches)\n",
    "    assert n_batches == len(pos_index_batches)\n",
    "    assert n_batches == len(neg_index_batches)\n",
    "    assert n_batches > 0\n",
    "    \n",
    "    for user_index, pos_index, neg_index in zip(\n",
    "        user_index_batches,\n",
    "        pos_index_batches,\n",
    "        neg_index_batches\n",
    "    ):\n",
    "        n = user_index.shape[0]\n",
    "        assert n == pos_index.shape[0]\n",
    "        assert n == neg_index.shape[0]\n",
    "        \n",
    "        for i in range(n):\n",
    "            ui = user_index[i]\n",
    "            pi = pos_index[i]\n",
    "            ni = neg_index[i]\n",
    "            assert pi != ni\n",
    "            assert ni not in users[ui].artwork_idxs_set"
   ]
  },
  {
   "cell_type": "code",
   "execution_count": 55,
   "metadata": {},
   "outputs": [],
   "source": [
    "MODEL_PATH = '/mnt/workspace/pamessina_models/ugallery/VBPR/v7(10M-300K,+prof-nonprof,+nonprof_favc-nonfavc)/'"
   ]
  },
  {
   "cell_type": "code",
   "execution_count": 56,
   "metadata": {},
   "outputs": [],
   "source": [
    "import tensorflow as tf\n",
    "from Networks import VBPR_Network_Train, TrainLogger"
   ]
  },
  {
   "cell_type": "code",
   "execution_count": 57,
   "metadata": {},
   "outputs": [],
   "source": [
    "def train_network(train_minibatches, test_minibatches,\n",
    "                  n_train_instances, n_test_instances, batch_size,\n",
    "                  max_seconds_training=3600,\n",
    "                  min_seconds_to_check_improvement=60,\n",
    "                  early_stopping_checks=4,\n",
    "                  learning_rates=[1e-3]):\n",
    "    \n",
    "    n_train_batches = train_minibatches['n_batches']\n",
    "    \n",
    "    print('learning_rates = ', learning_rates)\n",
    "    \n",
    "    with tf.Graph().as_default():\n",
    "        network = VBPR_Network_Train(\n",
    "            n_users=n_users,\n",
    "            n_items=n_artworks,\n",
    "            user_latent_dim=128,\n",
    "            item_latent_dim=64,\n",
    "            item_visual_dim=64,\n",
    "            pretrained_dim=2048,\n",
    "        )\n",
    "        with tf.Session() as sess:\n",
    "            try:\n",
    "                saver = tf.train.Saver()            \n",
    "                saver.restore(sess, tf.train.latest_checkpoint(MODEL_PATH))\n",
    "                print('model successfully restored from checkpoint!')\n",
    "            except ValueError:\n",
    "                print('no checkpoint found: initializing variables with random values')\n",
    "                os.makedirs(MODEL_PATH, exist_ok=True)\n",
    "                sess.run(tf.global_variables_initializer())            \n",
    "            trainlogger = TrainLogger(MODEL_PATH + 'train_logs.csv')\n",
    "\n",
    "            # ========= BEFORE TRAINING ============\n",
    "            \n",
    "            initial_test_acc = 0.            \n",
    "            for user_index, pos_index, neg_index in zip(\n",
    "                test_minibatches['user_index_batches'],\n",
    "                test_minibatches['pos_index_batches'],\n",
    "                test_minibatches['neg_index_batches']\n",
    "            ):\n",
    "                minibatch_test_acc = network.get_test_accuracy(\n",
    "                    sess, resnet50_embeddings, user_index, pos_index, neg_index)\n",
    "                initial_test_acc += minibatch_test_acc\n",
    "            initial_test_acc /= n_test_instances\n",
    "\n",
    "            print(\"Before training: test_accuracy = %f\" % initial_test_acc)\n",
    "            \n",
    "            best_test_acc = initial_test_acc\n",
    "            seconds_training = 0\n",
    "            elapsed_seconds_from_last_check = 0\n",
    "            checks_with_no_improvement = 0\n",
    "            last_improvement_loss = None\n",
    "            \n",
    "            # ========= TRAINING ============\n",
    "            \n",
    "            print ('Starting training ...')\n",
    "            n_lr = len(learning_rates)\n",
    "            lr_i = 0\n",
    "            train_loss_ema = None # exponential moving average\n",
    "            \n",
    "            while seconds_training < max_seconds_training:\n",
    "                \n",
    "                for train_i, (user_index, pos_index, neg_index) in enumerate(zip(\n",
    "                    train_minibatches['user_index_batches'],\n",
    "                    train_minibatches['pos_index_batches'],\n",
    "                    train_minibatches['neg_index_batches']\n",
    "                )):\n",
    "                    # optimize and get traing loss\n",
    "                    start_t = time.time()\n",
    "                    _, minibatch_train_loss = network.optimize_and_get_train_loss(\n",
    "                        sess, resnet50_embeddings, user_index, pos_index, neg_index, learning_rates[lr_i])\n",
    "                    delta_t = time.time() - start_t\n",
    "                    \n",
    "                    # update train loss exponential moving average\n",
    "                    train_loss_ema = minibatch_train_loss if train_loss_ema is None else\\\n",
    "                                    0.999 * train_loss_ema + 0.001 * minibatch_train_loss\n",
    "                    \n",
    "                    # update time tracking variables\n",
    "                    seconds_training += delta_t\n",
    "                    elapsed_seconds_from_last_check += delta_t\n",
    "                    \n",
    "                    # check for improvements using test set if it's time to do so\n",
    "                    if elapsed_seconds_from_last_check >= min_seconds_to_check_improvement:\n",
    "                        \n",
    "                        # --- testing                        \n",
    "                        test_acc = 0.\n",
    "                        for _user_index, _pos_index, _neg_index in zip(\n",
    "                            test_minibatches['user_index_batches'],\n",
    "                            test_minibatches['pos_index_batches'],\n",
    "                            test_minibatches['neg_index_batches']\n",
    "                        ):\n",
    "                            minibatch_test_acc = network.get_test_accuracy(\n",
    "                                sess, resnet50_embeddings, _user_index, _pos_index, _neg_index)\n",
    "                            test_acc += minibatch_test_acc\n",
    "                        test_acc /= n_test_instances\n",
    "                    \n",
    "                        print((\"train_i=%d, train_loss = %.12f, test_accuracy = %.6f,\"\n",
    "                               \" check_secs = %.2f, total_secs = %.2f\") % (\n",
    "                                train_i, train_loss_ema, test_acc, elapsed_seconds_from_last_check, seconds_training))                        \n",
    "                        \n",
    "                        # check for improvements\n",
    "                        if (test_acc > best_test_acc) or (\n",
    "                            test_acc == best_test_acc and (\n",
    "                                last_improvement_loss is not None and\\\n",
    "                                last_improvement_loss > train_loss_ema\n",
    "                            )\n",
    "                        ):  \n",
    "                            last_improvement_loss = train_loss_ema\n",
    "                            best_test_acc = test_acc\n",
    "                            checks_with_no_improvement = 0\n",
    "                            saver = tf.train.Saver()\n",
    "                            save_path = saver.save(sess, MODEL_PATH)                    \n",
    "                            print(\"   ** improvement detected: model saved to path \", save_path)\n",
    "                            model_updated = True\n",
    "                        else:\n",
    "                            checks_with_no_improvement += 1                            \n",
    "                            model_updated = False\n",
    "\n",
    "                        # --- logging ---                        \n",
    "                        trainlogger.log_update(\n",
    "                            train_loss_ema, test_acc, n_train_instances, n_test_instances,\n",
    "                            elapsed_seconds_from_last_check, batch_size, learning_rates[lr_i], 't' if model_updated else 'f')\n",
    "                        \n",
    "                        # --- check for early stopping\n",
    "                        if checks_with_no_improvement >= early_stopping_checks:\n",
    "                            if lr_i + 1 < len(learning_rates):\n",
    "                                lr_i += 1\n",
    "                                checks_with_no_improvement = 0\n",
    "                                print(\"   *** %d checks with no improvements -> using a smaller learning_rate = %f\" % (\n",
    "                                    early_stopping_checks, learning_rates[lr_i]))\n",
    "                            else:\n",
    "                                print(\"   *** %d checks with no improvements -> early stopping :(\" % early_stopping_checks)\n",
    "                                return\n",
    "                        \n",
    "                        # --- reset check variables\n",
    "                        elapsed_seconds_from_last_check = 0\n",
    "            print('====== TIMEOUT ======')"
   ]
  },
  {
   "cell_type": "code",
   "execution_count": 58,
   "metadata": {
    "scrolled": true
   },
   "outputs": [
    {
     "name": "stdout",
     "output_type": "stream",
     "text": [
      "n_tuples =  9985460\n",
      "n_batches =  100\n"
     ]
    }
   ],
   "source": [
    "train_batch_size = 100000\n",
    "train_minibatches = generate_minibatches(train_instances, train_batch_size)\n",
    "sanity_check_minibatches(train_minibatches)"
   ]
  },
  {
   "cell_type": "code",
   "execution_count": 59,
   "metadata": {},
   "outputs": [
    {
     "name": "stdout",
     "output_type": "stream",
     "text": [
      "n_tuples =  300411\n",
      "n_batches =  3\n"
     ]
    }
   ],
   "source": [
    "test_batch_size = 101000\n",
    "test_minibatches = generate_minibatches(test_instances, test_batch_size)\n",
    "sanity_check_minibatches(test_minibatches)"
   ]
  },
  {
   "cell_type": "code",
   "execution_count": 61,
   "metadata": {},
   "outputs": [
    {
     "data": {
      "text/plain": [
       "[0.001,\n",
       " 0.0006,\n",
       " 0.00035999999999999997,\n",
       " 0.00021599999999999996,\n",
       " 0.00012959999999999998]"
      ]
     },
     "execution_count": 61,
     "metadata": {},
     "output_type": "execute_result"
    }
   ],
   "source": [
    "learning_rates = get_decaying_learning_rates(1e-3, 1e-4, 0.6)\n",
    "learning_rates"
   ]
  },
  {
   "cell_type": "code",
   "execution_count": 62,
   "metadata": {
    "scrolled": false
   },
   "outputs": [
    {
     "name": "stdout",
     "output_type": "stream",
     "text": [
      "learning_rates =  [0.001, 0.0006, 0.00035999999999999997, 0.00021599999999999996, 0.00012959999999999998]\n",
      "no checkpoint found: initializing variables with random values\n",
      "Before training: test_accuracy = 0.499193\n",
      "Starting training ...\n",
      "train_i=54, train_loss = 6.672528541760, test_accuracy = 0.993429, check_secs = 120.02, total_secs = 120.02\n",
      "   ** improvement detected: model saved to path  /mnt/workspace/pamessina_models/ugallery/VBPR/v7(10M-300K,+prof-nonprof,+nonprof_favc-nonfavc)/\n",
      "train_i=12, train_loss = 3.131629813937, test_accuracy = 0.997084, check_secs = 120.15, total_secs = 240.17\n",
      "   ** improvement detected: model saved to path  /mnt/workspace/pamessina_models/ugallery/VBPR/v7(10M-300K,+prof-nonprof,+nonprof_favc-nonfavc)/\n",
      "train_i=69, train_loss = 1.469510969448, test_accuracy = 0.997956, check_secs = 120.05, total_secs = 360.22\n",
      "   ** improvement detected: model saved to path  /mnt/workspace/pamessina_models/ugallery/VBPR/v7(10M-300K,+prof-nonprof,+nonprof_favc-nonfavc)/\n",
      "train_i=27, train_loss = 0.688575442679, test_accuracy = 0.998239, check_secs = 120.06, total_secs = 480.28\n",
      "   ** improvement detected: model saved to path  /mnt/workspace/pamessina_models/ugallery/VBPR/v7(10M-300K,+prof-nonprof,+nonprof_favc-nonfavc)/\n",
      "train_i=85, train_loss = 0.322606116399, test_accuracy = 0.998402, check_secs = 120.08, total_secs = 600.36\n",
      "   ** improvement detected: model saved to path  /mnt/workspace/pamessina_models/ugallery/VBPR/v7(10M-300K,+prof-nonprof,+nonprof_favc-nonfavc)/\n",
      "train_i=42, train_loss = 0.151297108726, test_accuracy = 0.998552, check_secs = 120.00, total_secs = 720.36\n",
      "   ** improvement detected: model saved to path  /mnt/workspace/pamessina_models/ugallery/VBPR/v7(10M-300K,+prof-nonprof,+nonprof_favc-nonfavc)/\n",
      "train_i=99, train_loss = 0.070959825585, test_accuracy = 0.998635, check_secs = 120.00, total_secs = 840.37\n",
      "   ** improvement detected: model saved to path  /mnt/workspace/pamessina_models/ugallery/VBPR/v7(10M-300K,+prof-nonprof,+nonprof_favc-nonfavc)/\n",
      "train_i=56, train_loss = 0.033283940406, test_accuracy = 0.998708, check_secs = 120.07, total_secs = 960.43\n",
      "   ** improvement detected: model saved to path  /mnt/workspace/pamessina_models/ugallery/VBPR/v7(10M-300K,+prof-nonprof,+nonprof_favc-nonfavc)/\n",
      "train_i=13, train_loss = 0.015614186884, test_accuracy = 0.998765, check_secs = 120.05, total_secs = 1080.49\n",
      "   ** improvement detected: model saved to path  /mnt/workspace/pamessina_models/ugallery/VBPR/v7(10M-300K,+prof-nonprof,+nonprof_favc-nonfavc)/\n",
      "train_i=71, train_loss = 0.007319203983, test_accuracy = 0.998825, check_secs = 120.07, total_secs = 1200.55\n",
      "   ** improvement detected: model saved to path  /mnt/workspace/pamessina_models/ugallery/VBPR/v7(10M-300K,+prof-nonprof,+nonprof_favc-nonfavc)/\n",
      "train_i=29, train_loss = 0.003432022492, test_accuracy = 0.998875, check_secs = 120.01, total_secs = 1320.57\n",
      "   ** improvement detected: model saved to path  /mnt/workspace/pamessina_models/ugallery/VBPR/v7(10M-300K,+prof-nonprof,+nonprof_favc-nonfavc)/\n",
      "train_i=87, train_loss = 0.001610082867, test_accuracy = 0.998938, check_secs = 120.14, total_secs = 1440.71\n",
      "   ** improvement detected: model saved to path  /mnt/workspace/pamessina_models/ugallery/VBPR/v7(10M-300K,+prof-nonprof,+nonprof_favc-nonfavc)/\n",
      "train_i=44, train_loss = 0.000756653196, test_accuracy = 0.998991, check_secs = 120.13, total_secs = 1560.84\n",
      "   ** improvement detected: model saved to path  /mnt/workspace/pamessina_models/ugallery/VBPR/v7(10M-300K,+prof-nonprof,+nonprof_favc-nonfavc)/\n",
      "train_i=1, train_loss = 0.000355975081, test_accuracy = 0.999041, check_secs = 120.03, total_secs = 1680.87\n",
      "   ** improvement detected: model saved to path  /mnt/workspace/pamessina_models/ugallery/VBPR/v7(10M-300K,+prof-nonprof,+nonprof_favc-nonfavc)/\n",
      "train_i=58, train_loss = 0.000167746382, test_accuracy = 0.999105, check_secs = 120.13, total_secs = 1801.00\n",
      "   ** improvement detected: model saved to path  /mnt/workspace/pamessina_models/ugallery/VBPR/v7(10M-300K,+prof-nonprof,+nonprof_favc-nonfavc)/\n",
      "train_i=15, train_loss = 0.000079242292, test_accuracy = 0.999141, check_secs = 120.14, total_secs = 1921.15\n",
      "   ** improvement detected: model saved to path  /mnt/workspace/pamessina_models/ugallery/VBPR/v7(10M-300K,+prof-nonprof,+nonprof_favc-nonfavc)/\n",
      "train_i=72, train_loss = 0.000037572340, test_accuracy = 0.999184, check_secs = 120.10, total_secs = 2041.25\n",
      "   ** improvement detected: model saved to path  /mnt/workspace/pamessina_models/ugallery/VBPR/v7(10M-300K,+prof-nonprof,+nonprof_favc-nonfavc)/\n",
      "train_i=29, train_loss = 0.000017914096, test_accuracy = 0.999211, check_secs = 120.13, total_secs = 2161.38\n",
      "   ** improvement detected: model saved to path  /mnt/workspace/pamessina_models/ugallery/VBPR/v7(10M-300K,+prof-nonprof,+nonprof_favc-nonfavc)/\n",
      "train_i=86, train_loss = 0.000008612591, test_accuracy = 0.999228, check_secs = 120.15, total_secs = 2281.53\n",
      "   ** improvement detected: model saved to path  /mnt/workspace/pamessina_models/ugallery/VBPR/v7(10M-300K,+prof-nonprof,+nonprof_favc-nonfavc)/\n",
      "train_i=42, train_loss = 0.000004196044, test_accuracy = 0.999258, check_secs = 120.11, total_secs = 2401.64\n",
      "   ** improvement detected: model saved to path  /mnt/workspace/pamessina_models/ugallery/VBPR/v7(10M-300K,+prof-nonprof,+nonprof_favc-nonfavc)/\n",
      "train_i=95, train_loss = 0.000002086976, test_accuracy = 0.999281, check_secs = 120.14, total_secs = 2521.78\n",
      "   ** improvement detected: model saved to path  /mnt/workspace/pamessina_models/ugallery/VBPR/v7(10M-300K,+prof-nonprof,+nonprof_favc-nonfavc)/\n",
      "train_i=50, train_loss = 0.000001062556, test_accuracy = 0.999314, check_secs = 120.04, total_secs = 2641.82\n",
      "   ** improvement detected: model saved to path  /mnt/workspace/pamessina_models/ugallery/VBPR/v7(10M-300K,+prof-nonprof,+nonprof_favc-nonfavc)/\n",
      "train_i=3, train_loss = 0.000000560826, test_accuracy = 0.999334, check_secs = 120.10, total_secs = 2761.92\n",
      "   ** improvement detected: model saved to path  /mnt/workspace/pamessina_models/ugallery/VBPR/v7(10M-300K,+prof-nonprof,+nonprof_favc-nonfavc)/\n",
      "train_i=58, train_loss = 0.000000308820, test_accuracy = 0.999364, check_secs = 120.11, total_secs = 2882.03\n",
      "   ** improvement detected: model saved to path  /mnt/workspace/pamessina_models/ugallery/VBPR/v7(10M-300K,+prof-nonprof,+nonprof_favc-nonfavc)/\n",
      "train_i=10, train_loss = 0.000000179639, test_accuracy = 0.999384, check_secs = 120.11, total_secs = 3002.14\n",
      "   ** improvement detected: model saved to path  /mnt/workspace/pamessina_models/ugallery/VBPR/v7(10M-300K,+prof-nonprof,+nonprof_favc-nonfavc)/\n",
      "train_i=64, train_loss = 0.000000110543, test_accuracy = 0.999407, check_secs = 120.09, total_secs = 3122.24\n",
      "   ** improvement detected: model saved to path  /mnt/workspace/pamessina_models/ugallery/VBPR/v7(10M-300K,+prof-nonprof,+nonprof_favc-nonfavc)/\n",
      "train_i=16, train_loss = 0.000000072171, test_accuracy = 0.999427, check_secs = 120.02, total_secs = 3242.26\n",
      "   ** improvement detected: model saved to path  /mnt/workspace/pamessina_models/ugallery/VBPR/v7(10M-300K,+prof-nonprof,+nonprof_favc-nonfavc)/\n",
      "train_i=70, train_loss = 0.000000049671, test_accuracy = 0.999441, check_secs = 120.15, total_secs = 3362.41\n",
      "   ** improvement detected: model saved to path  /mnt/workspace/pamessina_models/ugallery/VBPR/v7(10M-300K,+prof-nonprof,+nonprof_favc-nonfavc)/\n",
      "train_i=22, train_loss = 0.000000035862, test_accuracy = 0.999471, check_secs = 120.08, total_secs = 3482.48\n",
      "   ** improvement detected: model saved to path  /mnt/workspace/pamessina_models/ugallery/VBPR/v7(10M-300K,+prof-nonprof,+nonprof_favc-nonfavc)/\n",
      "train_i=76, train_loss = 0.000000026909, test_accuracy = 0.999477, check_secs = 120.14, total_secs = 3602.63\n",
      "   ** improvement detected: model saved to path  /mnt/workspace/pamessina_models/ugallery/VBPR/v7(10M-300K,+prof-nonprof,+nonprof_favc-nonfavc)/\n",
      "train_i=27, train_loss = 0.000000020886, test_accuracy = 0.999494, check_secs = 120.11, total_secs = 3722.74\n",
      "   ** improvement detected: model saved to path  /mnt/workspace/pamessina_models/ugallery/VBPR/v7(10M-300K,+prof-nonprof,+nonprof_favc-nonfavc)/\n",
      "train_i=81, train_loss = 0.000000016650, test_accuracy = 0.999504, check_secs = 120.14, total_secs = 3842.87\n",
      "   ** improvement detected: model saved to path  /mnt/workspace/pamessina_models/ugallery/VBPR/v7(10M-300K,+prof-nonprof,+nonprof_favc-nonfavc)/\n"
     ]
    },
    {
     "name": "stdout",
     "output_type": "stream",
     "text": [
      "train_i=34, train_loss = 0.000000013594, test_accuracy = 0.999507, check_secs = 120.14, total_secs = 3963.01\n",
      "   ** improvement detected: model saved to path  /mnt/workspace/pamessina_models/ugallery/VBPR/v7(10M-300K,+prof-nonprof,+nonprof_favc-nonfavc)/\n",
      "train_i=87, train_loss = 0.000000011335, test_accuracy = 0.999514, check_secs = 120.08, total_secs = 4083.10\n",
      "   ** improvement detected: model saved to path  /mnt/workspace/pamessina_models/ugallery/VBPR/v7(10M-300K,+prof-nonprof,+nonprof_favc-nonfavc)/\n",
      "train_i=39, train_loss = 0.000000009624, test_accuracy = 0.999514, check_secs = 120.01, total_secs = 4203.11\n",
      "   ** improvement detected: model saved to path  /mnt/workspace/pamessina_models/ugallery/VBPR/v7(10M-300K,+prof-nonprof,+nonprof_favc-nonfavc)/\n",
      "train_i=92, train_loss = 0.000000008308, test_accuracy = 0.999517, check_secs = 120.11, total_secs = 4323.21\n",
      "   ** improvement detected: model saved to path  /mnt/workspace/pamessina_models/ugallery/VBPR/v7(10M-300K,+prof-nonprof,+nonprof_favc-nonfavc)/\n",
      "train_i=44, train_loss = 0.000000007271, test_accuracy = 0.999514, check_secs = 120.02, total_secs = 4443.23\n",
      "   *** 1 checks with no improvements -> using a smaller learning_rate = 0.000600\n",
      "train_i=97, train_loss = 0.000000006475, test_accuracy = 0.999517, check_secs = 120.16, total_secs = 4563.39\n",
      "   ** improvement detected: model saved to path  /mnt/workspace/pamessina_models/ugallery/VBPR/v7(10M-300K,+prof-nonprof,+nonprof_favc-nonfavc)/\n",
      "train_i=50, train_loss = 0.000000005922, test_accuracy = 0.999514, check_secs = 120.05, total_secs = 4683.44\n",
      "   *** 1 checks with no improvements -> using a smaller learning_rate = 0.000360\n",
      "train_i=2, train_loss = 0.000000005518, test_accuracy = 0.999517, check_secs = 120.11, total_secs = 4803.55\n",
      "   ** improvement detected: model saved to path  /mnt/workspace/pamessina_models/ugallery/VBPR/v7(10M-300K,+prof-nonprof,+nonprof_favc-nonfavc)/\n",
      "train_i=55, train_loss = 0.000000005239, test_accuracy = 0.999514, check_secs = 120.05, total_secs = 4923.60\n",
      "   *** 1 checks with no improvements -> using a smaller learning_rate = 0.000216\n",
      "train_i=8, train_loss = 0.000000005033, test_accuracy = 0.999514, check_secs = 120.03, total_secs = 5043.63\n",
      "   *** 1 checks with no improvements -> using a smaller learning_rate = 0.000130\n",
      "train_i=61, train_loss = 0.000000004893, test_accuracy = 0.999514, check_secs = 120.08, total_secs = 5163.71\n",
      "   *** 1 checks with no improvements -> early stopping :(\n"
     ]
    }
   ],
   "source": [
    "train_network(\n",
    "    train_minibatches, test_minibatches,\n",
    "    len(train_instances), len(test_instances), train_batch_size,\n",
    "    max_seconds_training=3600*2,\n",
    "    min_seconds_to_check_improvement=60*2,\n",
    "    early_stopping_checks=1,\n",
    "    learning_rates=learning_rates)"
   ]
  }
 ],
 "metadata": {
  "kernelspec": {
   "display_name": "Python 3",
   "language": "python",
   "name": "python3"
  },
  "language_info": {
   "codemirror_mode": {
    "name": "ipython",
    "version": 3
   },
   "file_extension": ".py",
   "mimetype": "text/x-python",
   "name": "python",
   "nbconvert_exporter": "python",
   "pygments_lexer": "ipython3",
   "version": "3.5.2"
  }
 },
 "nbformat": 4,
 "nbformat_minor": 2
}
