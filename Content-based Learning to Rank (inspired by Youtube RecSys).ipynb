{
 "cells": [
  {
   "cell_type": "code",
   "execution_count": 2,
   "metadata": {},
   "outputs": [],
   "source": [
    "%load_ext autoreload\n",
    "%autoreload 1"
   ]
  },
  {
   "cell_type": "code",
   "execution_count": 3,
   "metadata": {},
   "outputs": [],
   "source": [
    "%aimport utils, Networks"
   ]
  },
  {
   "cell_type": "code",
   "execution_count": 4,
   "metadata": {},
   "outputs": [],
   "source": [
    "import numpy as np\n",
    "import pandas as pd\n",
    "import random\n",
    "import os\n",
    "import time\n",
    "from math import ceil, floor\n",
    "from sklearn.preprocessing import StandardScaler\n",
    "from utils import load_embeddings_and_ids, concatenate_featmats, User, VisualSimilarityHandler, get_decaying_learning_rates"
   ]
  },
  {
   "cell_type": "code",
   "execution_count": 5,
   "metadata": {},
   "outputs": [],
   "source": [
    "# use a single GPU because we want to be nice with other people :)\n",
    "os.environ[\"CUDA_VISIBLE_DEVICES\"]=\"1\""
   ]
  },
  {
   "cell_type": "markdown",
   "metadata": {},
   "source": [
    "###  Load pre-trained image embeddings"
   ]
  },
  {
   "cell_type": "code",
   "execution_count": 6,
   "metadata": {},
   "outputs": [],
   "source": [
    "resnet50 = load_embeddings_and_ids('/mnt/workspace/Ugallery/ResNet50/', 'flatten_1.npy', 'ids')"
   ]
  },
  {
   "cell_type": "code",
   "execution_count": 6,
   "metadata": {},
   "outputs": [],
   "source": [
    "# alexnet = load_embeddings_and_ids('/mnt/workspace/Ugallery/AlexNet/', 'fc7.npy', 'ids.npy')"
   ]
  },
  {
   "cell_type": "code",
   "execution_count": 7,
   "metadata": {},
   "outputs": [],
   "source": [
    "# inceptionv3 = load_embeddings_and_ids('/mnt/workspace/Ugallery/InceptionV3/', 'avg_pool.npy', 'ids')"
   ]
  },
  {
   "cell_type": "markdown",
   "metadata": {},
   "source": [
    "###  Concatenate embeddings + z-score normalization"
   ]
  },
  {
   "cell_type": "code",
   "execution_count": 7,
   "metadata": {},
   "outputs": [],
   "source": [
    "embedding_list = [\n",
    "    resnet50,\n",
    "#     alexnet,\n",
    "#     inceptionv3,\n",
    "]"
   ]
  },
  {
   "cell_type": "code",
   "execution_count": 8,
   "metadata": {},
   "outputs": [
    {
     "data": {
      "text/plain": [
       "13297"
      ]
     },
     "execution_count": 8,
     "metadata": {},
     "output_type": "execute_result"
    }
   ],
   "source": [
    "artwork_ids_set = set()\n",
    "for embedding in embedding_list:\n",
    "    artwork_ids_set.update(embedding['index2id'])\n",
    "artwork_ids = list(artwork_ids_set)\n",
    "artwork_id2index = {_id:i for i,_id in enumerate(artwork_ids)}\n",
    "n_artworks = len(artwork_ids)\n",
    "n_artworks"
   ]
  },
  {
   "cell_type": "code",
   "execution_count": 9,
   "metadata": {},
   "outputs": [],
   "source": [
    "featmat_list = [tmp['featmat'] for tmp in embedding_list]\n",
    "id2index_list = [tmp['id2index'] for tmp in embedding_list]\n",
    "concat_featmat = concatenate_featmats(artwork_ids, featmat_list, id2index_list)"
   ]
  },
  {
   "cell_type": "code",
   "execution_count": 10,
   "metadata": {},
   "outputs": [],
   "source": [
    "concat_featmat = StandardScaler().fit_transform(concat_featmat)"
   ]
  },
  {
   "cell_type": "code",
   "execution_count": 11,
   "metadata": {},
   "outputs": [
    {
     "data": {
      "text/plain": [
       "(13297, 2048)"
      ]
     },
     "execution_count": 11,
     "metadata": {},
     "output_type": "execute_result"
    }
   ],
   "source": [
    "concat_featmat.shape"
   ]
  },
  {
   "cell_type": "markdown",
   "metadata": {},
   "source": [
    "###  Load clusters"
   ]
  },
  {
   "cell_type": "code",
   "execution_count": 13,
   "metadata": {},
   "outputs": [],
   "source": [
    "import json"
   ]
  },
  {
   "cell_type": "code",
   "execution_count": 14,
   "metadata": {},
   "outputs": [],
   "source": [
    "# with open('/mnt/workspace/Ugallery/Clustering/artworkId2clusterId(resnet50+alexnet+inceptionv3+vgg19+incepresv2).json') as f:\n",
    "with open('/mnt/workspace/Ugallery/Clustering/artworkId2clusterId(resnet50).json') as f:\n",
    "    artworkId2clusterId = json.load(f)\n",
    "cluster_ids = np.full((n_artworks,), -1, dtype=int)\n",
    "for k, v in artworkId2clusterId.items():\n",
    "    cluster_ids[artwork_id2index[int(k)]] = v"
   ]
  },
  {
   "cell_type": "code",
   "execution_count": 15,
   "metadata": {},
   "outputs": [
    {
     "data": {
      "text/plain": [
       "(0, 99, (13297,))"
      ]
     },
     "execution_count": 15,
     "metadata": {},
     "output_type": "execute_result"
    }
   ],
   "source": [
    "cluster_ids.min(), cluster_ids.max(), cluster_ids.shape"
   ]
  },
  {
   "cell_type": "code",
   "execution_count": 16,
   "metadata": {},
   "outputs": [
    {
     "data": {
      "text/plain": [
       "100"
      ]
     },
     "execution_count": 16,
     "metadata": {},
     "output_type": "execute_result"
    }
   ],
   "source": [
    "n_clusters = len(set(cluster_ids))\n",
    "n_clusters"
   ]
  },
  {
   "cell_type": "code",
   "execution_count": 17,
   "metadata": {},
   "outputs": [],
   "source": [
    "clusterId2artworkIndexes = [[] for _ in range(n_clusters)]\n",
    "for i, cluster_id in enumerate(cluster_ids):\n",
    "    clusterId2artworkIndexes[cluster_id].append(i)"
   ]
  },
  {
   "cell_type": "markdown",
   "metadata": {},
   "source": [
    "###  Load PCA200 embeddings"
   ]
  },
  {
   "cell_type": "code",
   "execution_count": 20,
   "metadata": {},
   "outputs": [],
   "source": [
    "pca200 = load_embeddings_and_ids(\n",
    "#     '/mnt/workspace/Ugallery/PCA200(resnet50+alexnet+inceptionv3+vgg19+incepresv2)/',\n",
    "    '/mnt/workspace/Ugallery/PCA200(resnet50)/',\n",
    "    'embeddings.npy',\n",
    "    'ids.npy',\n",
    ")"
   ]
  },
  {
   "cell_type": "code",
   "execution_count": 21,
   "metadata": {},
   "outputs": [],
   "source": [
    "pca200_embeddings = pca200['featmat']\n",
    "pca200_index2id = pca200['index2id']\n",
    "pca200_id2index = pca200['id2index']"
   ]
  },
  {
   "cell_type": "code",
   "execution_count": 22,
   "metadata": {},
   "outputs": [
    {
     "data": {
      "text/plain": [
       "(13297, 200)"
      ]
     },
     "execution_count": 22,
     "metadata": {},
     "output_type": "execute_result"
    }
   ],
   "source": [
    "pca200_embeddings.shape"
   ]
  },
  {
   "cell_type": "code",
   "execution_count": 23,
   "metadata": {},
   "outputs": [],
   "source": [
    "assert np.array_equal(artwork_ids, pca200_index2id)"
   ]
  },
  {
   "cell_type": "markdown",
   "metadata": {},
   "source": [
    "###  Load transactions"
   ]
  },
  {
   "cell_type": "code",
   "execution_count": 24,
   "metadata": {},
   "outputs": [],
   "source": [
    "sales_df = pd.read_csv('./data/valid_sales.csv')\n",
    "artworks_df = pd.read_csv('./data/valid_artworks.csv')"
   ]
  },
  {
   "cell_type": "code",
   "execution_count": 25,
   "metadata": {},
   "outputs": [],
   "source": [
    "artist_ids = np.full((n_artworks,), -1, dtype=int)\n",
    "for _artworkId, _artistId in zip(artworks_df.id, artworks_df.artist_id):\n",
    "    i = artwork_id2index[_artworkId]\n",
    "    artist_ids[i] = _artistId"
   ]
  },
  {
   "cell_type": "code",
   "execution_count": 26,
   "metadata": {},
   "outputs": [],
   "source": [
    "artistId2artworkIndexes = dict()\n",
    "for i, _artistId in enumerate(artist_ids):\n",
    "    if _artistId == -1:\n",
    "        continue\n",
    "    try:\n",
    "        artistId2artworkIndexes[_artistId].append(i)\n",
    "    except KeyError:\n",
    "        artistId2artworkIndexes[_artistId] = [i]"
   ]
  },
  {
   "cell_type": "markdown",
   "metadata": {},
   "source": [
    "### Collect transactions per user (making sure we hide the last nonfirst purchase basket per user)"
   ]
  },
  {
   "cell_type": "markdown",
   "metadata": {},
   "source": [
    "#### create list of users"
   ]
  },
  {
   "cell_type": "code",
   "execution_count": 27,
   "metadata": {},
   "outputs": [
    {
     "data": {
      "text/plain": [
       "2919"
      ]
     },
     "execution_count": 27,
     "metadata": {},
     "output_type": "execute_result"
    }
   ],
   "source": [
    "user_ids = sales_df.customer_id.unique()\n",
    "user_id2index = { _id:i for i,_id in enumerate(user_ids) }\n",
    "users = [User(uid) for uid in user_ids]\n",
    "n_users = len(user_ids)\n",
    "n_users"
   ]
  },
  {
   "cell_type": "markdown",
   "metadata": {},
   "source": [
    "#### collect and sanity check transactions per user"
   ]
  },
  {
   "cell_type": "code",
   "execution_count": 116,
   "metadata": {},
   "outputs": [],
   "source": [
    "sorted_sales_df = sales_df.sort_values('order_date')"
   ]
  },
  {
   "cell_type": "code",
   "execution_count": 123,
   "metadata": {},
   "outputs": [],
   "source": [
    "# clear structures to prevent possible duplicate elements\n",
    "for user in users:\n",
    "    user.clear()\n",
    "\n",
    "# collect transactions per user sorted by timestamp\n",
    "for uid, aid, t in zip(sorted_sales_df.customer_id,\n",
    "                       sorted_sales_df.artwork_id,\n",
    "                       sorted_sales_df.order_date):\n",
    "    users[user_id2index[uid]].append_transaction(\n",
    "        aid, t, artwork_id2index, artist_ids, cluster_ids)\n",
    "    assert users[user_id2index[uid]]._uid == uid\n",
    "    \n",
    "# bin transctions with same timestamps into purchase baskets\n",
    "for user in users:\n",
    "    user.build_purchase_baskets()\n",
    "    user.sanity_check_purchase_baskets()\n",
    "    user.remove_last_nonfirst_purchase_basket(\n",
    "        artwork_id2index, artist_ids, cluster_ids)\n",
    "    user.sanity_check_purchase_baskets()\n",
    "    user.refresh_nonpurchased_cluster_ids(n_clusters)\n",
    "    user.refresh_cluster_ids()\n",
    "    user.refresh_artist_ids()"
   ]
  },
  {
   "cell_type": "markdown",
   "metadata": {},
   "source": [
    "### Generate training data"
   ]
  },
  {
   "cell_type": "code",
   "execution_count": 30,
   "metadata": {},
   "outputs": [],
   "source": [
    "_MOD = 402653189\n",
    "_BASE = 92821\n",
    "def hash_triple(profile, pi, ni):\n",
    "    h = 0\n",
    "    for x in profile:\n",
    "        h = ((h * _BASE) % _MOD + x) % _MOD\n",
    "    h = ((h * _BASE) % _MOD + pi) % _MOD\n",
    "    h = ((h * _BASE) % _MOD + ni) % _MOD\n",
    "    return h"
   ]
  },
  {
   "cell_type": "code",
   "execution_count": 31,
   "metadata": {},
   "outputs": [],
   "source": [
    "def sanity_check_instance(instance,\n",
    "                          pos_in_profile=True,\n",
    "                          profile_set=None,\n",
    "                          pos_sharing_cluster_artist=None,\n",
    "                          clusters_set=None,\n",
    "                          artists_set=None,\n",
    "                          neg_notsharing_artist=None,\n",
    "                          neg_notsharing_artist_cluster=None,\n",
    "                         ):\n",
    "    profile, pi, ni, ui = instance\n",
    "    try:\n",
    "        assert 0 <= pi < n_artworks\n",
    "        assert 0 <= ni < n_artworks\n",
    "        assert pi != ni        \n",
    "        assert not vissimhandler.same(pi,ni)\n",
    "        if ui == -1: return\n",
    "        \n",
    "        assert 0 <= ui < n_users\n",
    "        user = users[ui]\n",
    "        \n",
    "        assert all(i in user.artwork_idxs_set for i in profile)\n",
    "        \n",
    "        user_profile = user.artwork_idxs_set if profile_set is None else profile_set\n",
    "        \n",
    "        if pos_in_profile is True:\n",
    "            assert pi in user_profile\n",
    "        elif pos_in_profile is False:\n",
    "            assert pi not in user_profile\n",
    "            \n",
    "        if pos_sharing_cluster_artist:\n",
    "            assert cluster_ids[pi] in clusters_set\n",
    "            assert artist_ids[pi] in artists_set\n",
    "            \n",
    "        assert ni not in user_profile\n",
    "        \n",
    "        if neg_notsharing_artist:\n",
    "            assert artist_ids[ni] not in artists_set\n",
    "        if neg_notsharing_artist_cluster:\n",
    "            assert artist_ids[ni] not in artists_set\n",
    "            assert cluster_ids[ni] not in clusters_set\n",
    "\n",
    "    except AssertionError:\n",
    "        print('profile = ', profile)\n",
    "        print('pi = ', pi)\n",
    "        print('ni = ', ni)\n",
    "        print('ui = ', ui)\n",
    "        raise"
   ]
  },
  {
   "cell_type": "code",
   "execution_count": 32,
   "metadata": {},
   "outputs": [],
   "source": [
    "def append_instance(container, instance, **kwargs):\n",
    "    global _hash_collisions\n",
    "    profile, pi, ni, ui = instance\n",
    "    \n",
    "    h = hash_triple(profile, pi, ni)\n",
    "    if h in used_hashes:\n",
    "        _hash_collisions += 1\n",
    "        return False\n",
    "    \n",
    "    if vissimhandler.same(pi, ni):\n",
    "        return False\n",
    "    \n",
    "    sanity_check_instance(instance, **kwargs)\n",
    "    container.append(instance)\n",
    "    used_hashes.add(h)\n",
    "    return True"
   ]
  },
  {
   "cell_type": "code",
   "execution_count": 33,
   "metadata": {},
   "outputs": [],
   "source": [
    "def print_triple(t):\n",
    "    profile, pi, ni, ui = t\n",
    "    print ('profile = ', [artwork_ids[i] for i in profile])\n",
    "    print ('pi = ', artwork_ids[pi])\n",
    "    print ('ni = ', artwork_ids[ni])\n",
    "    print ('ui = ', user_ids[ui] if ui != -1 else -1)"
   ]
  },
  {
   "cell_type": "code",
   "execution_count": 34,
   "metadata": {},
   "outputs": [],
   "source": [
    "def print_num_samples(sampler_func):\n",
    "    def wrapper(instances_container, n_samples):\n",
    "        len_before = len(instances_container)\n",
    "        sampler_func(instances_container, n_samples)\n",
    "        actual_samples = len(instances_container) - len_before\n",
    "        print('  target samples: %d' % n_samples)\n",
    "        print('  actual samples: %d' % actual_samples)\n",
    "        print('  delta: %d' % (n_samples - actual_samples))\n",
    "    return wrapper"
   ]
  },
  {
   "cell_type": "code",
   "execution_count": 35,
   "metadata": {},
   "outputs": [],
   "source": [
    "vissimhandler = VisualSimilarityHandler(cluster_ids, pca200_embeddings)"
   ]
  },
  {
   "cell_type": "code",
   "execution_count": 125,
   "metadata": {},
   "outputs": [],
   "source": [
    "vissimhandler.count = 0\n",
    "used_hashes = set()\n",
    "_hash_collisions = 0\n",
    "train_instances = []\n",
    "test_instances = []"
   ]
  },
  {
   "cell_type": "code",
   "execution_count": 126,
   "metadata": {},
   "outputs": [
    {
     "data": {
      "text/plain": [
       "(1666666, 66666)"
      ]
     },
     "execution_count": 126,
     "metadata": {},
     "output_type": "execute_result"
    }
   ],
   "source": [
    "N_STRATEGIES = 6\n",
    "TOTAL_SAMPLES__TRAIN = 10000000\n",
    "TOTAL_SAMPLES__TEST =  400000\n",
    "N_SAMPLES_PER_STRATEGY__TRAIN = int(TOTAL_SAMPLES__TRAIN / N_STRATEGIES)\n",
    "N_SAMPLES_PER_STRATEGY__TEST = int(TOTAL_SAMPLES__TEST / N_STRATEGIES)\n",
    "N_SAMPLES_PER_STRATEGY__TRAIN, N_SAMPLES_PER_STRATEGY__TEST"
   ]
  },
  {
   "cell_type": "code",
   "execution_count": 127,
   "metadata": {},
   "outputs": [],
   "source": [
    "FINE_GRAINED_THRESHOLD = 0.6\n",
    "VISUAL_CONFIDENCE_THRESHOLD = 0.1"
   ]
  },
  {
   "cell_type": "markdown",
   "metadata": {},
   "source": [
    "## Original BPR strategy"
   ]
  },
  {
   "cell_type": "markdown",
   "metadata": {},
   "source": [
    "#### 1) given profile, recommend profile (real users)\n",
    "Given a user's profile, all items in the profile should be ranked higher than items outside the profile"
   ]
  },
  {
   "cell_type": "code",
   "execution_count": 67,
   "metadata": {},
   "outputs": [],
   "source": [
    "def sample_artwork_index__outsideprofile(profile_set, pi):\n",
    "    while True:\n",
    "        if random.random() <= FINE_GRAINED_THRESHOLD:\n",
    "            ni = random.choice(clusterId2artworkIndexes[cluster_ids[pi]])\n",
    "        else:            \n",
    "            c = random.randint(0, n_clusters-1)\n",
    "            ni = random.choice(clusterId2artworkIndexes[c])\n",
    "        if ni not in profile_set:\n",
    "            return ni"
   ]
  },
  {
   "cell_type": "code",
   "execution_count": 68,
   "metadata": {},
   "outputs": [],
   "source": [
    "# @print_num_samples\n",
    "# def generate_samples__rank_profile_above_nonprofile(instances_container, n_samples):\n",
    "#     n_samples_per_user = ceil(n_samples / n_users)\n",
    "    \n",
    "#     for ui, user in enumerate(users):\n",
    "        \n",
    "#         n_baskets = len(user.baskets)\n",
    "#         n_samples_per_basket = ceil(n_samples_per_user / n_baskets)\n",
    "        \n",
    "#         profile_list = []\n",
    "#         profile_set = set()\n",
    "#         for b in user.baskets:\n",
    "#             for j in range(b[0], b[0] + b[1]):                \n",
    "#                 idx_j = user.artwork_idxs[j]                \n",
    "#                 profile_list.append(idx_j)\n",
    "#                 profile_set.add(idx_j)                \n",
    "#             profile = profile_list.copy()\n",
    "#             for _ in range(n_samples_per_basket):\n",
    "#                 for __ in range(5):\n",
    "#                     pi = random.choice(profile)\n",
    "#                     ni = sample_artwork_index__nonpurchased(profile_set)\n",
    "#                     if append_instance(instances_container, (profile, pi, ni, ui),\n",
    "#                                        profile_set=profile_set):\n",
    "#                         break"
   ]
  },
  {
   "cell_type": "code",
   "execution_count": 69,
   "metadata": {},
   "outputs": [],
   "source": [
    "@print_num_samples\n",
    "def generate_samples__rank_profile_above_nonprofile(instances_container, n_samples):\n",
    "    n_samples_per_user = ceil(n_samples / n_users)    \n",
    "    for ui, user in enumerate(users):\n",
    "        profile = user.artwork_idxs\n",
    "        profile_set = user.artwork_idxs_set\n",
    "        for _ in range(n_samples_per_user):\n",
    "            for __ in range(5):\n",
    "                pi = random.choice(profile)\n",
    "                ni = sample_artwork_index__outsideprofile(profile_set, pi)\n",
    "                if append_instance(instances_container, (profile, pi, ni, ui),\n",
    "                                   profile_set=profile_set):\n",
    "                    break"
   ]
  },
  {
   "cell_type": "code",
   "execution_count": 129,
   "metadata": {
    "scrolled": false
   },
   "outputs": [
    {
     "name": "stdout",
     "output_type": "stream",
     "text": [
      "sampling train instances ...\n",
      "  target samples: 46666\n",
      "  actual samples: 43791\n",
      "  delta: 2875\n",
      "sampling test instances ...\n",
      "  target samples: 3619\n",
      "  actual samples: 5470\n",
      "  delta: -1851\n",
      "1664102 68532\n",
      "hash_collisions =  1306776\n",
      "visual_collisions =  67\n"
     ]
    }
   ],
   "source": [
    "print('sampling train instances ...')\n",
    "generate_samples__rank_profile_above_nonprofile(\n",
    "#     train_instances, n_samples=N_SAMPLES_PER_STRATEGY__TRAIN)\n",
    "    train_instances, n_samples=46666)\n",
    "print('sampling test instances ...')\n",
    "generate_samples__rank_profile_above_nonprofile(\n",
    "#     test_instances, n_samples=N_SAMPLES_PER_STRATEGY__TEST)\n",
    "    test_instances, n_samples=3619)\n",
    "print(len(train_instances), len(test_instances))\n",
    "print('hash_collisions = ', _hash_collisions)\n",
    "print('visual_collisions = ', vissimhandler.count)"
   ]
  },
  {
   "cell_type": "markdown",
   "metadata": {},
   "source": [
    "##### 2) Given profile, recommend profile (fake 1-item profiles)\n",
    "Given a fake profile of a single item, such item should be ranked higher than any other item"
   ]
  },
  {
   "cell_type": "code",
   "execution_count": 72,
   "metadata": {},
   "outputs": [],
   "source": [
    "def sample_artwork_index__nonidentical(pi):        \n",
    "    while True:\n",
    "        if random.random() <= FINE_GRAINED_THRESHOLD:\n",
    "            ni = random.choice(clusterId2artworkIndexes[cluster_ids[pi]])\n",
    "        else:            \n",
    "            c = random.randint(0, n_clusters-1)\n",
    "            ni = random.choice(clusterId2artworkIndexes[c])\n",
    "        if ni != pi:\n",
    "            return ni"
   ]
  },
  {
   "cell_type": "code",
   "execution_count": 73,
   "metadata": {},
   "outputs": [],
   "source": [
    "@print_num_samples\n",
    "def generate_samples__rank_single_item_above_anything_else(instances_container, n_samples):\n",
    "    n_samples_per_item = ceil(n_samples / n_artworks)\n",
    "    for pi in range(n_artworks):\n",
    "        profile = (pi,)\n",
    "        n = n_samples_per_item\n",
    "        while n > 0:\n",
    "            ni = sample_artwork_index__nonidentical(pi)\n",
    "            if append_instance(instances_container, (profile, pi, ni, -1)):\n",
    "                n -= 1"
   ]
  },
  {
   "cell_type": "code",
   "execution_count": 130,
   "metadata": {
    "scrolled": true
   },
   "outputs": [
    {
     "name": "stdout",
     "output_type": "stream",
     "text": [
      "sampling train instances ...\n",
      "  target samples: 1666666\n",
      "  actual samples: 1675422\n",
      "  delta: -8756\n",
      "sampling test instances ...\n",
      "  target samples: 66666\n",
      "  actual samples: 79782\n",
      "  delta: -13116\n",
      "3339524 148314\n",
      "hash_collisions =  2041461\n",
      "visual_collisions =  1004\n"
     ]
    }
   ],
   "source": [
    "print('sampling train instances ...')\n",
    "generate_samples__rank_single_item_above_anything_else(\n",
    "    train_instances, n_samples=N_SAMPLES_PER_STRATEGY__TRAIN)\n",
    "print('sampling test instances ...')\n",
    "generate_samples__rank_single_item_above_anything_else(\n",
    "    test_instances, n_samples=N_SAMPLES_PER_STRATEGY__TEST)\n",
    "print(len(train_instances), len(test_instances))\n",
    "print('hash_collisions = ', _hash_collisions)\n",
    "print('visual_collisions = ', vissimhandler.count)"
   ]
  },
  {
   "cell_type": "markdown",
   "metadata": {},
   "source": [
    "## Domain-specific strategies"
   ]
  },
  {
   "cell_type": "markdown",
   "metadata": {},
   "source": [
    "##### 3) Recommend visually similar items from favorite artists (real users)\n",
    "Given a user, any item outside the user's profile that shares artist and visual cluster with items in the user's profile should be ranked higher than any item from an artist and visual cluster not present in the user's profile"
   ]
  },
  {
   "cell_type": "code",
   "execution_count": 75,
   "metadata": {},
   "outputs": [],
   "source": [
    "def sample_artwork_index__outsideprofile__sharing_artist_cluster(profile_set, artists_list, clusters_set):\n",
    "    for _ in range(20): # try at most 20 times\n",
    "        # sharing artist\n",
    "        a = random.choice(artists_list)\n",
    "        i = random.choice(artistId2artworkIndexes[a])\n",
    "        # sharing cluster\n",
    "        if cluster_ids[i] not in clusters_set: continue\n",
    "        # oustide profile\n",
    "        if i in profile_set: continue\n",
    "        # done\n",
    "        return i\n",
    "    return None # failed to find"
   ]
  },
  {
   "cell_type": "code",
   "execution_count": 76,
   "metadata": {},
   "outputs": [],
   "source": [
    "def sample_artwork_index__notsharing_artist_cluster(artists_set, nonused_clusters_list):\n",
    "    while True:\n",
    "        # not sharing cluster\n",
    "        c = random.choice(nonused_clusters_list)\n",
    "        i = random.choice(clusterId2artworkIndexes[c])\n",
    "        # not sharing artist\n",
    "        if artist_ids[i] not in artists_set:\n",
    "            return i"
   ]
  },
  {
   "cell_type": "code",
   "execution_count": 77,
   "metadata": {},
   "outputs": [],
   "source": [
    "@print_num_samples\n",
    "def generate_samples__rank_sharing_artist_cluster_above_notsharing_artist_cluster(instances_container, n_samples):\n",
    "    n_samples_per_user = ceil(n_samples / n_users)    \n",
    "    for ui, user in enumerate(users):\n",
    "        profile = user.artwork_idxs\n",
    "        profile_set = user.artwork_idxs_set\n",
    "        artists_list = user.artist_ids\n",
    "        artists_set = user.artist_ids_set\n",
    "        clusters_set = user.cluster_ids_set\n",
    "        nonused_clusters_list = user.nonp_cluster_ids\n",
    "        for _ in range(n_samples_per_user):\n",
    "            for __ in range(5):\n",
    "                pi = sample_artwork_index__outsideprofile__sharing_artist_cluster(profile_set, artists_list, clusters_set)\n",
    "                if pi is None: continue\n",
    "                ni = sample_artwork_index__notsharing_artist_cluster(artists_set, nonused_clusters_list)\n",
    "                if append_instance(instances_container, (profile, pi, ni, ui),\n",
    "                                   pos_in_profile=False,\n",
    "                                   pos_sharing_cluster_artist=True,\n",
    "                                   neg_notsharing_artist_cluster=True,\n",
    "                                   profile_set = profile_set,\n",
    "                                   clusters_set = clusters_set,\n",
    "                                   artists_set = artists_set,\n",
    "                                  ):\n",
    "                    break"
   ]
  },
  {
   "cell_type": "code",
   "execution_count": 78,
   "metadata": {},
   "outputs": [],
   "source": [
    "# @print_num_samples\n",
    "# def generate_samples__rank_sharing_artist_cluster_above_notsharing_artist_cluster(instances_container, n_samples):\n",
    "#     n_samples_per_user = ceil(n_samples / n_users)\n",
    "    \n",
    "#     for ui, user in enumerate(users):\n",
    "        \n",
    "#         n_baskets = len(user.baskets)\n",
    "#         n_samples_per_basket = ceil(n_samples_per_user / n_baskets)\n",
    "        \n",
    "#         profile_list = []\n",
    "#         profile_set = set()\n",
    "#         artists_list = []\n",
    "#         artists_set = set()\n",
    "#         clusters_set = set()\n",
    "        \n",
    "#         for b in user.baskets:\n",
    "#             for j in range(b[0], b[0] + b[1]):\n",
    "#                 idx_j = user.artwork_idxs[j]                \n",
    "#                 profile_list.append(idx_j)\n",
    "#                 profile_set.add(idx_j)\n",
    "#                 artists_list.append(artist_ids[idx_j])\n",
    "#                 artists_set.add(artist_ids[idx_j])\n",
    "#                 clusters_set.add(cluster_ids[idx_j])\n",
    "                \n",
    "#             profile = profile_list.copy()\n",
    "#             nonused_clusters_list = [c for c in range(n_clusters) if c not in clusters_set]\n",
    "#             assert len(nonused_clusters_list) > 0\n",
    "            \n",
    "#             for _ in range(n_samples_per_basket):\n",
    "#                 for __ in range(5):\n",
    "#                     pi = sample_artwork_index__nonpurchased__sharing_artist_cluster(profile_set, artists_list, clusters_set)\n",
    "#                     if pi is None: continue\n",
    "#                     ni = sample_artwork_index__notsharing_artist_cluster(artists_set, nonused_clusters_list)\n",
    "#                     if append_instance(instances_container, (profile, pi, ni, ui),\n",
    "#                                        pos_in_profile=False,\n",
    "#                                        pos_sharing_cluster_artist=True,\n",
    "#                                        neg_notsharing_artist_cluster=True,\n",
    "#                                        profile_set = profile_set,\n",
    "#                                        clusters_set = clusters_set,\n",
    "#                                        artists_set = artists_set,\n",
    "#                                       ):\n",
    "#                         break"
   ]
  },
  {
   "cell_type": "code",
   "execution_count": 134,
   "metadata": {
    "scrolled": false
   },
   "outputs": [
    {
     "name": "stdout",
     "output_type": "stream",
     "text": [
      "sampling train instances ...\n",
      "  target samples: 23967\n",
      "  actual samples: 19737\n",
      "  delta: 4230\n",
      "5001960 216338\n",
      "hash_collisions =  2087782\n",
      "visual_collisions =  1004\n"
     ]
    }
   ],
   "source": [
    "print('sampling train instances ...')\n",
    "generate_samples__rank_sharing_artist_cluster_above_notsharing_artist_cluster(\n",
    "#     train_instances, n_samples=N_SAMPLES_PER_STRATEGY__TRAIN)\n",
    "    train_instances, n_samples=23967)\n",
    "# print('sampling test instances ...')\n",
    "# generate_samples__rank_sharing_artist_cluster_above_notsharing_artist_cluster(\n",
    "# #     test_instances, n_samples=N_SAMPLES_PER_STRATEGY__TEST)\n",
    "#     test_instances, n_samples=3031)\n",
    "print(len(train_instances), len(test_instances))\n",
    "print('hash_collisions = ', _hash_collisions)\n",
    "print('visual_collisions = ', vissimhandler.count)"
   ]
  },
  {
   "cell_type": "markdown",
   "metadata": {},
   "source": [
    "##### 4) Recommend visual similar items from favorite artists (fake 1-item profiles)\n",
    "Given a fake profile of a single item, other items sharing same artist should be ranked higher than items from different artists as long as the PCA200 embedding agrees"
   ]
  },
  {
   "cell_type": "code",
   "execution_count": 83,
   "metadata": {},
   "outputs": [],
   "source": [
    "def sample_artwork_index__nonidentical_sharing_artist(i):\n",
    "    a = artist_ids[i]\n",
    "    assert a != -1\n",
    "    candidate_idxs = artistId2artworkIndexes[a]\n",
    "    assert len(candidate_idxs) >= 2\n",
    "    while True:\n",
    "        pi = random.choice(candidate_idxs) # sharing artist\n",
    "        if pi != i: # non-identical\n",
    "            return pi"
   ]
  },
  {
   "cell_type": "code",
   "execution_count": 84,
   "metadata": {},
   "outputs": [],
   "source": [
    "def sample_artwork_index__notsharing_artist__visually_acceptable(i, pi):\n",
    "    for _ in range(20): # try at most 20 times\n",
    "        if random.random() <= FINE_GRAINED_THRESHOLD:\n",
    "            ni = random.choice(clusterId2artworkIndexes[cluster_ids[i]])\n",
    "        else:\n",
    "            c = random.randint(0, n_clusters-1)\n",
    "            ni = random.choice(clusterId2artworkIndexes[c])\n",
    "        if artist_ids[ni] == artist_ids[i]: # not sharing artist\n",
    "            continue        \n",
    "        if vissimhandler.validate_triple(i, pi, ni, margin=VISUAL_CONFIDENCE_THRESHOLD): # visually acceptable\n",
    "            return ni\n",
    "    return None"
   ]
  },
  {
   "cell_type": "code",
   "execution_count": 85,
   "metadata": {},
   "outputs": [],
   "source": [
    "@print_num_samples\n",
    "def generate_samples__rank_sharing_artist_above_notsharing_artist__visuallyacceptable__single_item(\n",
    "        instances_container, n_samples):\n",
    "    \n",
    "    n_valid_items = sum(1 for i in range(n_artworks) if artist_ids[i] != -1 and\\\n",
    "                        len(artistId2artworkIndexes[artist_ids[i]]) >= 2)\n",
    "    n_samples_per_item = ceil(n_samples / n_valid_items)\n",
    "    \n",
    "    for i in range(n_artworks):\n",
    "        a = artist_ids[i]\n",
    "        if a == -1 or len(artistId2artworkIndexes[a]) < 2:\n",
    "            continue\n",
    "        profile = (i,)\n",
    "        for _ in range(n_samples_per_item):\n",
    "            for __ in range(5):\n",
    "                pi = sample_artwork_index__nonidentical_sharing_artist(i)\n",
    "                ni = sample_artwork_index__notsharing_artist__visually_acceptable(i, pi)\n",
    "                if ni is None:\n",
    "                    continue\n",
    "                if append_instance(instances_container, (profile, pi, ni, -1)):\n",
    "                    break"
   ]
  },
  {
   "cell_type": "code",
   "execution_count": 135,
   "metadata": {},
   "outputs": [
    {
     "name": "stdout",
     "output_type": "stream",
     "text": [
      "sampling train instances ...\n",
      "  target samples: 1666666\n",
      "  actual samples: 1666487\n",
      "  delta: 179\n",
      "sampling test instances ...\n",
      "  target samples: 66666\n",
      "  actual samples: 68153\n",
      "  delta: -1487\n",
      "6668447 284491\n",
      "hash_collisions =  2131782\n",
      "visual_collisions =  1004\n"
     ]
    }
   ],
   "source": [
    "print('sampling train instances ...')\n",
    "generate_samples__rank_sharing_artist_above_notsharing_artist__visuallyacceptable__single_item(\n",
    "    train_instances, n_samples=N_SAMPLES_PER_STRATEGY__TRAIN)\n",
    "print('sampling test instances ...')\n",
    "generate_samples__rank_sharing_artist_above_notsharing_artist__visuallyacceptable__single_item(\n",
    "    test_instances, n_samples=N_SAMPLES_PER_STRATEGY__TEST)\n",
    "print(len(train_instances), len(test_instances))\n",
    "print('hash_collisions = ', _hash_collisions)\n",
    "print('visual_collisions = ', vissimhandler.count)"
   ]
  },
  {
   "cell_type": "markdown",
   "metadata": {},
   "source": [
    "##### 5) Learn fine-grained visual ranking within clusters (fake 1-item profiles)\n",
    "Given a fake profile of a single item, other items in the same visual cluster should be ranked according to PCA200 embedding if there is enough margin of confidence"
   ]
  },
  {
   "cell_type": "code",
   "execution_count": 87,
   "metadata": {},
   "outputs": [],
   "source": [
    "# def sample_positive_negative_pair__same_cluster(i):\n",
    "#     candidate_indexes = clusterId2artworkIndexes[cluster_ids[i]]\n",
    "#     for _ in range(10): # try at most 10 times\n",
    "#         pi, ni = random.sample(candidate_indexes, 2)\n",
    "#         if pi == i or ni == i: continue\n",
    "#         pi_sim = vissimhandler.similarity(i, pi)\n",
    "#         ni_sim = vissimhandler.similarity(i, ni)\n",
    "#         if abs(pi_sim - ni_sim) <= VISUAL_CONFIDENCE_THRESHOLD: continue\n",
    "#         if pi_sim < ni_sim:\n",
    "#             pi, ni = ni, pi\n",
    "#         return pi, ni\n",
    "#     return None, None"
   ]
  },
  {
   "cell_type": "code",
   "execution_count": 88,
   "metadata": {},
   "outputs": [],
   "source": [
    "# @print_num_samples\n",
    "# def generate_samples__finegrained_ranking_within_cluster(instances_container, n_samples):\n",
    "#     n_samples_per_item = ceil(n_samples / n_artworks)\n",
    "#     for i in range(n_artworks):\n",
    "#         profile = (i,)\n",
    "#         for _ in range(n_samples_per_item):\n",
    "#             for __ in range(5):\n",
    "#                 pi, ni = sample_positive_negative_pair__same_cluster(i)\n",
    "#                 if pi is None: continue\n",
    "#                 if append_instance(instances_container, (profile, pi, ni, -1)):\n",
    "#                     break"
   ]
  },
  {
   "cell_type": "code",
   "execution_count": 89,
   "metadata": {
    "scrolled": false
   },
   "outputs": [],
   "source": [
    "# print('sampling train instances ...')\n",
    "# generate_samples__finegrained_ranking_within_cluster(\n",
    "#     train_instances, n_samples=N_SAMPLES_PER_STRATEGY__TRAIN)\n",
    "# print('sampling test instances ...')\n",
    "# generate_samples__finegrained_ranking_within_cluster(\n",
    "#     test_instances, n_samples=N_SAMPLES_PER_STRATEGY__TEST)\n",
    "# print(len(train_instances), len(test_instances))\n",
    "# print('hash_collisions = ', _hash_collisions)\n",
    "# print('visual_collisions = ', vissimhandler.count)"
   ]
  },
  {
   "cell_type": "code",
   "execution_count": 90,
   "metadata": {},
   "outputs": [],
   "source": [
    "# (i_,),p_,n_,u_ = test_instances[-3]"
   ]
  },
  {
   "cell_type": "code",
   "execution_count": 91,
   "metadata": {},
   "outputs": [],
   "source": [
    "# vissimhandler.similarity(i_,p_)"
   ]
  },
  {
   "cell_type": "code",
   "execution_count": 92,
   "metadata": {},
   "outputs": [],
   "source": [
    "# vissimhandler.similarity(i_,n_)"
   ]
  },
  {
   "cell_type": "code",
   "execution_count": 93,
   "metadata": {},
   "outputs": [],
   "source": [
    "# print_triple(test_instances[-3])"
   ]
  },
  {
   "cell_type": "markdown",
   "metadata": {},
   "source": [
    "##### 6) Predict next purchase basket\n",
    "Given all previous purchases, rank each  item of the next purchase basket higher than any item from a never purchased artist and cluster"
   ]
  },
  {
   "cell_type": "code",
   "execution_count": 94,
   "metadata": {},
   "outputs": [],
   "source": [
    "@print_num_samples\n",
    "def generate_samples__given_past_rank_next(instances_container, n_samples):\n",
    "    \n",
    "    n_valid_users = sum(1 for user in users if len(user.baskets) >= 2) # at last 2 purchase baskets\n",
    "    n_samples_per_user = ceil(n_samples / n_valid_users)\n",
    "    \n",
    "    for ui, user in enumerate(users):\n",
    "        n = len(user.baskets)\n",
    "        if n <= 1:\n",
    "            continue\n",
    "        past_items = []        \n",
    "        n_samples_per_basket = ceil(n_samples_per_user / (n-1))\n",
    "        for bi in range(n-1):\n",
    "            cur_b = user.baskets[bi]\n",
    "            for j in range(cur_b[0], cur_b[0] + cur_b[1]):\n",
    "                past_items.append(user.artwork_idxs[j])\n",
    "            next_b  = user.baskets[bi+1]\n",
    "            profile = past_items.copy()\n",
    "            for _ in range(n_samples_per_basket):\n",
    "                for __ in range(5):\n",
    "                    pi = user.artwork_idxs[random.randint(next_b[0], next_b[0] + next_b[1] - 1)]\n",
    "                    ni = sample_artwork_index__notsharing_artist_cluster(user.artist_ids_set, user.nonp_cluster_ids)\n",
    "                    if append_instance(instances_container, (profile, pi, ni, ui),\n",
    "                                      neg_notsharing_artist_cluster=True,\n",
    "                                      artists_set=user.artist_ids_set,\n",
    "                                      clusters_set=user.cluster_ids_set,\n",
    "                                      ):\n",
    "                        break"
   ]
  },
  {
   "cell_type": "code",
   "execution_count": 136,
   "metadata": {},
   "outputs": [
    {
     "name": "stdout",
     "output_type": "stream",
     "text": [
      "sampling train instances ...\n",
      "  target samples: 1666666\n",
      "  actual samples: 1662758\n",
      "  delta: 3908\n",
      "sampling test instances ...\n",
      "  target samples: 66666\n",
      "  actual samples: 66121\n",
      "  delta: 545\n",
      "8331205 350612\n",
      "hash_collisions =  2570557\n",
      "visual_collisions =  1004\n"
     ]
    }
   ],
   "source": [
    "print('sampling train instances ...')\n",
    "generate_samples__given_past_rank_next(\n",
    "    train_instances, n_samples=N_SAMPLES_PER_STRATEGY__TRAIN)\n",
    "print('sampling test instances ...')\n",
    "generate_samples__given_past_rank_next(\n",
    "    test_instances, n_samples=N_SAMPLES_PER_STRATEGY__TEST)\n",
    "print(len(train_instances), len(test_instances))\n",
    "print('hash_collisions = ', _hash_collisions)\n",
    "print('visual_collisions = ', vissimhandler.count)"
   ]
  },
  {
   "cell_type": "markdown",
   "metadata": {},
   "source": [
    "##### 7) Predict hidden item in the k-th purchase basket given first k\n",
    "Given the first k purchase baskets of a user, hide one item in the k-th purchase basket, use the rest as profile and rank the hidden item higher than any item from a never purchased artist and cluster"
   ]
  },
  {
   "cell_type": "code",
   "execution_count": 98,
   "metadata": {},
   "outputs": [],
   "source": [
    "@print_num_samples\n",
    "def generate_samples__hide_and_predict_one_from_last__first_k_purchase_baskets(instances_container, n_samples):\n",
    "    \n",
    "    n_valid_baskets_list = [sum(1 for b in user.baskets if b[1] >= 2) for user in users]\n",
    "    n_valid_users = sum(1 for x in n_valid_baskets_list if x > 0)\n",
    "    n_samples_per_user = ceil(n_samples / n_valid_users)\n",
    "    \n",
    "    for ui, (user, n_valid_baskets) in enumerate(zip(users, n_valid_baskets_list)):\n",
    "        if n_valid_baskets == 0:\n",
    "            continue\n",
    "        n_samples_per_basket = ceil(n_samples_per_user / n_valid_baskets)\n",
    "        u_artwork_idxs = user.artwork_idxs\n",
    "        purchased = []\n",
    "        for b in user.baskets:            \n",
    "            bs = b[0]\n",
    "            be = b[0] + b[1]\n",
    "            purchased.extend(u_artwork_idxs[j] for j in range(bs, be))\n",
    "            assert len(purchased) == be\n",
    "            if b[1] < 2:\n",
    "                continue            \n",
    "            n_samples_per_item = ceil(n_samples_per_basket / b[1])            \n",
    "            for i in range(bs, be):\n",
    "                profile = [purchased[j] for j in range(be) if j != i]\n",
    "                assert len(profile) == be - 1\n",
    "                assert len(profile) > 0\n",
    "                pi = purchased[i]\n",
    "                for _ in range(n_samples_per_item):\n",
    "                    for __ in range(5):\n",
    "                        ni = sample_artwork_index__notsharing_artist_cluster(user.artist_ids_set, user.nonp_cluster_ids)\n",
    "                        if append_instance(instances_container, (profile, pi, ni, ui),\n",
    "                                          neg_notsharing_artist_cluster=True,\n",
    "                                          artists_set=user.artist_ids_set,\n",
    "                                          clusters_set=user.cluster_ids_set,\n",
    "                                          ):\n",
    "                            break"
   ]
  },
  {
   "cell_type": "code",
   "execution_count": 137,
   "metadata": {},
   "outputs": [
    {
     "name": "stdout",
     "output_type": "stream",
     "text": [
      "sampling train instances ...\n",
      "  target samples: 1666666\n",
      "  actual samples: 1667587\n",
      "  delta: -921\n",
      "sampling test instances ...\n",
      "  target samples: 66666\n",
      "  actual samples: 67221\n",
      "  delta: -555\n",
      "9998792 417833\n",
      "hash_collisions =  2747751\n",
      "visual_collisions =  1004\n"
     ]
    }
   ],
   "source": [
    "print('sampling train instances ...')\n",
    "generate_samples__hide_and_predict_one_from_last__first_k_purchase_baskets(\n",
    "    train_instances, n_samples=N_SAMPLES_PER_STRATEGY__TRAIN)\n",
    "print('sampling test instances ...')\n",
    "generate_samples__hide_and_predict_one_from_last__first_k_purchase_baskets(\n",
    "    test_instances, n_samples=N_SAMPLES_PER_STRATEGY__TEST)\n",
    "print(len(train_instances), len(test_instances))\n",
    "print('hash_collisions = ', _hash_collisions)\n",
    "print('visual_collisions = ', vissimhandler.count)"
   ]
  },
  {
   "cell_type": "markdown",
   "metadata": {},
   "source": [
    "##### 8) Predict hidden item in purchase basket\n",
    "Given a single purchase basket, hide one item, use the rest as profile and rank the hidden item higher than any item from a never purchased artist and cluster"
   ]
  },
  {
   "cell_type": "code",
   "execution_count": 100,
   "metadata": {},
   "outputs": [],
   "source": [
    "# @print_num_samples\n",
    "# def generate_samples__hide_and_predict_one__single_purchase_basket(instances_container, n_samples):\n",
    "    \n",
    "#     n_valid_baskets_list = [sum(1 for b in user.baskets if b[1] >= 2) for user in users]\n",
    "#     n_valid_users = sum(1 for x in n_valid_baskets_list if x > 0)\n",
    "#     n_samples_per_user = ceil(n_samples / n_valid_users)\n",
    "    \n",
    "#     for ui, (user, n_valid_baskets) in enumerate(zip(users, n_valid_baskets_list)):        \n",
    "#         if n_valid_baskets == 0:\n",
    "#             continue\n",
    "#         n_samples_per_basket = ceil(n_samples_per_user / n_valid_baskets)\n",
    "#         for b in user.baskets:\n",
    "#             if b[1] < 2:\n",
    "#                 continue\n",
    "#             bs = b[0]\n",
    "#             be = b[0] + b[1]\n",
    "#             n_samples_per_item = ceil(n_samples_per_basket / b[1])\n",
    "            \n",
    "#             for i in range(bs, be):\n",
    "#                 profile = [user.artwork_idxs[j] for j in range(bs, be) if j != i]                \n",
    "#                 assert len(profile) == be - bs - 1\n",
    "#                 assert len(profile) > 0                \n",
    "#                 pi = user.artwork_idxs[i]\n",
    "#                 for _ in range(n_samples_per_item):\n",
    "#                     for __ in range(5):\n",
    "#                         ni = sample_artwork_index__notsharing_artist_cluster(user.artist_ids_set, user.nonp_cluster_ids)\n",
    "#                         if append_instance(instances_container, (profile, pi, ni, ui),\n",
    "#                                           neg_notsharing_artist_cluster=True,\n",
    "#                                           artists_set=user.artist_ids_set,\n",
    "#                                           clusters_set=user.cluster_ids_set,\n",
    "#                                           ):\n",
    "#                             break"
   ]
  },
  {
   "cell_type": "code",
   "execution_count": 101,
   "metadata": {},
   "outputs": [],
   "source": [
    "# print('sampling train instances ...')\n",
    "# generate_samples__hide_and_predict_one__single_purchase_basket(\n",
    "#     train_instances, n_samples=N_SAMPLES_PER_STRATEGY__TRAIN)\n",
    "# print('sampling test instances ...')\n",
    "# generate_samples__hide_and_predict_one__single_purchase_basket(\n",
    "#     test_instances, n_samples=N_SAMPLES_PER_STRATEGY__TEST)\n",
    "# print(len(train_instances), len(test_instances))\n",
    "# print('hash_collisions = ', _hash_collisions)\n",
    "# print('visual_collisions = ', vissimhandler.count)"
   ]
  },
  {
   "cell_type": "markdown",
   "metadata": {},
   "source": [
    "##### 9) Predict hidden item in user's history up to his k-th purchase basket\n",
    "Given the user's history up to his k-th purchase basket, hide one item, use the rest as profile and rank the hidden item higher than any item from a never purchased artist and cluster"
   ]
  },
  {
   "cell_type": "code",
   "execution_count": 102,
   "metadata": {},
   "outputs": [],
   "source": [
    "# @print_num_samples\n",
    "# def generate_samples__hide_and_predict_one__first_k_purchase_baskets(instances_container, n_samples):\n",
    "    \n",
    "#     n_valid_users = sum(1 for u in users if len(u.baskets) >= 2)\n",
    "#     n_samples_per_user = ceil(n_samples / n_valid_users)\n",
    "    \n",
    "#     for ui, user in enumerate(users):\n",
    "#         if (len(user.baskets) < 2):\n",
    "#             continue\n",
    "#         u_baskets = user.baskets\n",
    "#         u_artwork_idxs = user.artwork_idxs\n",
    "#         n_baskets = len(u_baskets)\n",
    "#         purchased = []\n",
    "#         n_samples_per_basket = ceil(n_samples_per_user / (n_baskets-1))\n",
    "        \n",
    "#         for i in range(n_baskets):\n",
    "#             b = u_baskets[i]\n",
    "#             purchased.extend(u_artwork_idxs[j] for j in range(b[0], b[0] + b[1]))\n",
    "#             if i == 0:\n",
    "#                 continue\n",
    "#             assert len(purchased) == b[0] + b[1]\n",
    "#             jmax = b[0] + (b[1] if b[1] >= 2 else 0)\n",
    "#             assert jmax > 0\n",
    "#             n_samples_per_item = ceil(n_samples_per_basket / jmax)\n",
    "#             for j in range(jmax):\n",
    "#                 profile = [x for k,x in enumerate(purchased) if k != j]\n",
    "#                 pi = purchased[j]\n",
    "#                 assert pi == u_artwork_idxs[j]\n",
    "#                 for _ in range(n_samples_per_item):\n",
    "#                     for __ in range(5):\n",
    "#                         ni = sample_artwork_index__notsharing_artist_cluster(user.artist_ids_set, user.nonp_cluster_ids)\n",
    "#                         if append_instance(instances_container, (profile, pi, ni, ui),\n",
    "#                                           neg_notsharing_artist_cluster=True,\n",
    "#                                           artists_set=user.artist_ids_set,\n",
    "#                                           clusters_set=user.cluster_ids_set,\n",
    "#                                           ):\n",
    "#                             break"
   ]
  },
  {
   "cell_type": "code",
   "execution_count": 103,
   "metadata": {},
   "outputs": [],
   "source": [
    "# print('sampling train instances ...')\n",
    "# generate_samples__hide_and_predict_one__first_k_purchase_baskets(\n",
    "#     train_instances, n_samples=N_SAMPLES_PER_STRATEGY__TRAIN)\n",
    "# print('sampling test instances ...')\n",
    "# generate_samples__hide_and_predict_one__first_k_purchase_baskets(\n",
    "#     test_instances, n_samples=N_SAMPLES_PER_STRATEGY__TEST)\n",
    "# print(len(train_instances), len(test_instances))\n",
    "# print('hash_collisions = ', _hash_collisions)\n",
    "# print('visual_collisions = ', vissimhandler.count)"
   ]
  },
  {
   "cell_type": "markdown",
   "metadata": {},
   "source": [
    "#### sort train and test instances by profile size"
   ]
  },
  {
   "cell_type": "code",
   "execution_count": 138,
   "metadata": {},
   "outputs": [],
   "source": [
    "random.shuffle(train_instances)\n",
    "train_instances.sort(key=lambda x: len(x[0]))\n",
    "test_instances.sort(key=lambda x: len(x[0]))"
   ]
  },
  {
   "cell_type": "markdown",
   "metadata": {},
   "source": [
    "### Train Model"
   ]
  },
  {
   "cell_type": "code",
   "execution_count": 105,
   "metadata": {},
   "outputs": [],
   "source": [
    "def generate_minibatches(tuples, max_users_items_per_batch):\n",
    "    ui_count = 0\n",
    "    offset = 0\n",
    "    \n",
    "    batch_ranges = []\n",
    "    for i, t in enumerate(tuples):\n",
    "        ui_count += len(t[0]) + 3\n",
    "        if ui_count > max_users_items_per_batch:\n",
    "            batch_ranges.append((offset, i))\n",
    "            ui_count = len(t[0]) + 3\n",
    "            offset = i\n",
    "            assert ui_count <= max_users_items_per_batch\n",
    "    assert offset < len(tuples)\n",
    "    batch_ranges.append((offset, len(tuples)))\n",
    "            \n",
    "    n_tuples = len(tuples)\n",
    "    n_batches = len(batch_ranges)\n",
    "    print('n_tuples = ', n_tuples)\n",
    "    print('n_batches = ', n_batches)\n",
    "    \n",
    "    assert batch_ranges[0][0] == 0\n",
    "    assert all(batch_ranges[i][1] == batch_ranges[i+1][0] for i in range(n_batches-1))\n",
    "    assert batch_ranges[-1][1] == n_tuples\n",
    "    assert sum(b[1] - b[0] for b in batch_ranges) == n_tuples\n",
    "    \n",
    "    profile_indexes_batches = [None] * n_batches\n",
    "    profile_size_batches = [None] * n_batches\n",
    "    positive_index_batches = [None] * n_batches\n",
    "    negative_index_batches = [None] * n_batches\n",
    "    \n",
    "    for i, (jmin, jmax) in enumerate(batch_ranges):\n",
    "        actual_batch_size = jmax - jmin\n",
    "        profile_maxlen = max(len(tuples[j][0]) for j in range(jmin, jmax))\n",
    "        profile_indexes_batch = np.full((actual_batch_size, profile_maxlen), 0, dtype=int)\n",
    "        profile_size_batch = np.empty((actual_batch_size,))\n",
    "        positive_index_batch = np.empty((actual_batch_size,), dtype=int)\n",
    "        negative_index_batch = np.empty((actual_batch_size,), dtype=int)\n",
    "        \n",
    "        for j in range(actual_batch_size):\n",
    "            # profile indexes\n",
    "            for k,v in enumerate(tuples[jmin+j][0]):\n",
    "                profile_indexes_batch[j][k] = v\n",
    "            # profile size\n",
    "            profile_size_batch[j] = len(tuples[jmin+j][0])        \n",
    "            # positive index\n",
    "            positive_index_batch[j] = tuples[jmin+j][1]\n",
    "            # negative index\n",
    "            negative_index_batch[j] = tuples[jmin+j][2]\n",
    "            \n",
    "        profile_indexes_batches[i] = profile_indexes_batch\n",
    "        profile_size_batches[i] = profile_size_batch\n",
    "        positive_index_batches[i] = positive_index_batch\n",
    "        negative_index_batches[i] = negative_index_batch\n",
    "        \n",
    "    return dict(\n",
    "        profile_indexes_batches = profile_indexes_batches,\n",
    "        profile_size_batches    = profile_size_batches,\n",
    "        positive_index_batches  = positive_index_batches,\n",
    "        negative_index_batches  = negative_index_batches,\n",
    "        n_batches               = n_batches,\n",
    "    )\n",
    "    \n",
    "# def generate_minibatches(tuples, batch_size):\n",
    "#     n_tuples = len(tuples)\n",
    "#     n_batches = ceil(n_tuples / batch_size)\n",
    "    \n",
    "#     print('n_tuples = ', n_tuples)\n",
    "#     print('n_batches = ', n_batches)\n",
    "    \n",
    "#     profile_indexes_batches = [None] * n_batches\n",
    "#     profile_size_batches = [None] * n_batches\n",
    "#     positive_index_batches = [None] * n_batches\n",
    "#     negative_index_batches = [None] * n_batches\n",
    "    \n",
    "#     for i in range(n_batches):\n",
    "#         jmin = i * batch_size\n",
    "#         jmax = min(jmin + batch_size, n_tuples)\n",
    "#         actual_batch_size = jmax - jmin\n",
    "        \n",
    "#         profile_maxlen = max(len(tuples[j][0]) for j in range(jmin, jmax))\n",
    "#         profile_indexes_batch = np.full((actual_batch_size, profile_maxlen), 0, dtype=int)\n",
    "#         profile_size_batch = np.empty((actual_batch_size,))\n",
    "#         positive_index_batch = np.empty((actual_batch_size,), dtype=int)\n",
    "#         negative_index_batch = np.empty((actual_batch_size,), dtype=int)\n",
    "        \n",
    "#         for j in range(actual_batch_size):            \n",
    "#             # profile indexes\n",
    "#             for k,v in enumerate(tuples[jmin+j][0]):\n",
    "#                 profile_indexes_batch[j][k] = v\n",
    "#             # profile size\n",
    "#             profile_size_batch[j] = len(tuples[jmin+j][0])        \n",
    "#             # positive index\n",
    "#             positive_index_batch[j] = tuples[jmin+j][1]\n",
    "#             # negative index\n",
    "#             negative_index_batch[j] = tuples[jmin+j][2]\n",
    "            \n",
    "#         profile_indexes_batches[i] = profile_indexes_batch\n",
    "#         profile_size_batches[i] = profile_size_batch\n",
    "#         positive_index_batches[i] = positive_index_batch\n",
    "#         negative_index_batches[i] = negative_index_batch\n",
    "        \n",
    "#     return dict(\n",
    "#         profile_indexes_batches = profile_indexes_batches,\n",
    "#         profile_size_batches    = profile_size_batches,\n",
    "#         positive_index_batches  = positive_index_batches,\n",
    "#         negative_index_batches  = negative_index_batches,\n",
    "#         n_batches               = n_batches,\n",
    "#     )"
   ]
  },
  {
   "cell_type": "code",
   "execution_count": 106,
   "metadata": {},
   "outputs": [],
   "source": [
    "def sanity_check_minibatches(minibatches):\n",
    "    profile_indexes_batches = minibatches['profile_indexes_batches']\n",
    "    profile_size_batches = minibatches['profile_size_batches']\n",
    "    positive_index_batches = minibatches['positive_index_batches']\n",
    "    negative_index_batches = minibatches['negative_index_batches']\n",
    "    n_batches = minibatches['n_batches']\n",
    "    assert n_batches == len(profile_indexes_batches)\n",
    "    assert n_batches == len(profile_size_batches)\n",
    "    assert n_batches == len(positive_index_batches)\n",
    "    assert n_batches == len(negative_index_batches)\n",
    "    assert n_batches > 0\n",
    "    \n",
    "    for profile_indexes, profile_size, positive_index, negative_index in zip(\n",
    "        profile_indexes_batches,\n",
    "        profile_size_batches,\n",
    "        positive_index_batches,\n",
    "        negative_index_batches\n",
    "    ):\n",
    "        n = profile_size.shape[0]\n",
    "        assert n == profile_indexes.shape[0]\n",
    "        assert n == positive_index.shape[0]\n",
    "        assert n == negative_index.shape[0]\n",
    "        \n",
    "        for i in range(n):\n",
    "            assert positive_index[i] != negative_index[i]\n",
    "            psz = int(profile_size[i])\n",
    "            m = profile_indexes[i].shape[0]\n",
    "            assert psz <= m\n",
    "            for j in range(psz, m):\n",
    "                assert profile_indexes[i][j] == 0"
   ]
  },
  {
   "cell_type": "code",
   "execution_count": 107,
   "metadata": {},
   "outputs": [],
   "source": [
    "import tensorflow as tf\n",
    "from Networks import ContentBasedLearn2RankNetwork_Train, TrainLogger"
   ]
  },
  {
   "cell_type": "code",
   "execution_count": null,
   "metadata": {
    "scrolled": false
   },
   "outputs": [],
   "source": [
    "# # DEBUGGING NETWORK\n",
    "# with tf.Graph().as_default():\n",
    "#     network = ContentBasedLearn2RankNetwork_Train(\n",
    "#         pretrained_embedding_dim=concat_featmat.shape[1],\n",
    "#         user_layer_units=[300, 300, 200],\n",
    "#         item_layer_units=[200, 200],\n",
    "#         profile_pooling_mode='AVG+MAX',\n",
    "#     )\n",
    "#     with tf.Session() as sess:\n",
    "#         sess.run(tf.global_variables_initializer())\n",
    "#         debug_ = sess.run(\n",
    "#             [network._profile_masks__avgpool,\n",
    "#              network._profile_masks__maxpool,\n",
    "#              network._masked_profile_item_embeddings__avgpool,\n",
    "#              network._masked_profile_item_embeddings__maxpool,\n",
    "#              network._profile_items_avgpool,\n",
    "#              network._profile_items_maxpool,\n",
    "#             ], feed_dict={\n",
    "#                 network._pretrained_embeddings: concat_featmat,\n",
    "#                 network._profile_item_indexes: [[0,1,2,9,9,9], [1,2,3,4,5,6]],\n",
    "#                 network._profile_sizes: [3,6],\n",
    "#             }\n",
    "#         )\n",
    "#         for x in tf.global_variables():\n",
    "#             print(x)        \n",
    "# #         for op in sess.graph.get_operations():\n",
    "# #             print(op.name)"
   ]
  },
  {
   "cell_type": "code",
   "execution_count": 108,
   "metadata": {
    "scrolled": true
   },
   "outputs": [],
   "source": [
    "def train_network(train_minibatches, test_minibatches,\n",
    "                  n_train_instances, n_test_instances, batch_size,\n",
    "                  pretrained_embeddings,\n",
    "                  user_layer_units,\n",
    "                  item_layer_units,\n",
    "                  profile_pooling_mode,\n",
    "                  model_path,\n",
    "                  max_seconds_training=3600,\n",
    "                  min_seconds_to_check_improvement=60,\n",
    "                  early_stopping_checks=4,\n",
    "                  learning_rates=[1e-3]):\n",
    "    \n",
    "    n_train_batches = train_minibatches['n_batches']\n",
    "    n_test_batches = test_minibatches['n_batches']\n",
    "    \n",
    "    print('learning_rates = ', learning_rates)\n",
    "    \n",
    "    with tf.Graph().as_default():\n",
    "        network = ContentBasedLearn2RankNetwork_Train(\n",
    "            pretrained_embedding_dim=pretrained_embeddings.shape[1],\n",
    "            user_layer_units=user_layer_units,\n",
    "            item_layer_units=item_layer_units,\n",
    "            profile_pooling_mode=profile_pooling_mode,\n",
    "        )\n",
    "        \n",
    "        print('Variables to be trained:')\n",
    "        for x in tf.global_variables():\n",
    "            print('\\t', x)\n",
    "            \n",
    "        with tf.Session() as sess:\n",
    "            try:\n",
    "                saver = tf.train.Saver()            \n",
    "                saver.restore(sess, tf.train.latest_checkpoint(model_path))\n",
    "                print('model successfully restored from checkpoint!')\n",
    "            except ValueError:\n",
    "                print('no checkpoint found: initializing variables with random values')\n",
    "                os.makedirs(model_path, exist_ok=True)\n",
    "                sess.run(tf.global_variables_initializer())            \n",
    "            trainlogger = TrainLogger(model_path + 'train_logs.csv')\n",
    "\n",
    "            # ========= BEFORE TRAINING ============\n",
    "            \n",
    "            initial_test_acc = 0.\n",
    "            for profile_indexes, profile_size, positive_index, negative_index in zip(\n",
    "                test_minibatches['profile_indexes_batches'],\n",
    "                test_minibatches['profile_size_batches'],\n",
    "                test_minibatches['positive_index_batches'],\n",
    "                test_minibatches['negative_index_batches']\n",
    "            ):\n",
    "                minibatch_test_acc = network.get_test_accuracy(\n",
    "                    sess, pretrained_embeddings, profile_indexes, profile_size, positive_index, negative_index)\n",
    "                initial_test_acc += minibatch_test_acc\n",
    "            initial_test_acc /= n_test_instances\n",
    "\n",
    "            print(\"Before training: test_accuracy = %f\" % initial_test_acc)\n",
    "            \n",
    "            best_test_acc = initial_test_acc\n",
    "            seconds_training = 0\n",
    "            elapsed_seconds_from_last_check = 0\n",
    "            checks_with_no_improvement = 0\n",
    "            last_improvement_loss = None\n",
    "            \n",
    "            # ========= TRAINING ============\n",
    "            \n",
    "            print ('Starting training ...')\n",
    "            n_lr = len(learning_rates)\n",
    "            lr_i = 0\n",
    "            train_loss_ema = 0. # exponential moving average\n",
    "            \n",
    "            while seconds_training < max_seconds_training:\n",
    "                \n",
    "                for train_i, (profile_indexes, profile_size, positive_index, negative_index) in enumerate(zip(\n",
    "                    train_minibatches['profile_indexes_batches'],\n",
    "                    train_minibatches['profile_size_batches'],\n",
    "                    train_minibatches['positive_index_batches'],\n",
    "                    train_minibatches['negative_index_batches']\n",
    "                )):\n",
    "                    # optimize and get traing loss\n",
    "                    start_t = time.time()\n",
    "                    _, minibatch_train_loss = network.optimize_and_get_train_loss(\n",
    "                        sess, learning_rates[lr_i], pretrained_embeddings, profile_indexes,\n",
    "                        profile_size, positive_index, negative_index)\n",
    "                    delta_t = time.time() - start_t\n",
    "                    \n",
    "                    # update train loss exponential moving average\n",
    "                    train_loss_ema = 0.999 * train_loss_ema + 0.001 * minibatch_train_loss\n",
    "                    \n",
    "                    # update time tracking variables\n",
    "                    seconds_training += delta_t\n",
    "                    elapsed_seconds_from_last_check += delta_t\n",
    "                    \n",
    "                    # check for improvements using test set if it's time to do so\n",
    "                    if elapsed_seconds_from_last_check >= min_seconds_to_check_improvement:\n",
    "                        \n",
    "                        # --- testing\n",
    "                        test_acc = 0.\n",
    "                        for _profile_indexes, _profile_size, _positive_index, _negative_index in zip(\n",
    "                            test_minibatches['profile_indexes_batches'],\n",
    "                            test_minibatches['profile_size_batches'],\n",
    "                            test_minibatches['positive_index_batches'],\n",
    "                            test_minibatches['negative_index_batches']\n",
    "                        ):\n",
    "                            minibatch_test_acc = network.get_test_accuracy(\n",
    "                                sess, pretrained_embeddings, _profile_indexes,\n",
    "                                _profile_size, _positive_index, _negative_index)                            \n",
    "                            test_acc += minibatch_test_acc\n",
    "                        test_acc /= n_test_instances\n",
    "                    \n",
    "                        print((\"train_i=%d, train_loss = %.12f, test_accuracy = %.7f,\"\n",
    "                               \" check_secs = %.2f, total_secs = %.2f\") % (\n",
    "                                train_i, train_loss_ema, test_acc, elapsed_seconds_from_last_check, seconds_training))                        \n",
    "                        \n",
    "                        # check for improvements\n",
    "                        if (test_acc > best_test_acc) or (\n",
    "                            test_acc == best_test_acc and (\n",
    "                                last_improvement_loss is not None and\\\n",
    "                                last_improvement_loss > train_loss_ema\n",
    "                            )\n",
    "                        ):  \n",
    "                            last_improvement_loss = train_loss_ema\n",
    "                            best_test_acc = test_acc\n",
    "                            checks_with_no_improvement = 0\n",
    "                            saver = tf.train.Saver()\n",
    "                            save_path = saver.save(sess, model_path)                    \n",
    "                            print(\"   ** improvement detected: model saved to path \", save_path)\n",
    "                            model_updated = True\n",
    "                        else:\n",
    "                            checks_with_no_improvement += 1                            \n",
    "                            model_updated = False\n",
    "\n",
    "                        # --- logging ---                        \n",
    "                        trainlogger.log_update(\n",
    "                            train_loss_ema, test_acc, n_train_instances, n_test_instances,\n",
    "                            elapsed_seconds_from_last_check, batch_size, learning_rates[lr_i], 't' if model_updated else 'f')\n",
    "                        \n",
    "                        # --- check for early stopping\n",
    "                        if checks_with_no_improvement >= early_stopping_checks:\n",
    "                            if lr_i + 1 < len(learning_rates):\n",
    "                                lr_i += 1\n",
    "                                checks_with_no_improvement = 0\n",
    "                                print(\"   *** %d checks with no improvements -> using a smaller learning_rate = %.8f\" % (\n",
    "                                    early_stopping_checks, learning_rates[lr_i]))\n",
    "                            else:\n",
    "                                print(\"   *** %d checks with no improvements -> early stopping :(\" % early_stopping_checks)\n",
    "                                return\n",
    "                        \n",
    "                        # --- reset check variables\n",
    "                        elapsed_seconds_from_last_check = 0\n",
    "            print('====== TIMEOUT ======')"
   ]
  },
  {
   "cell_type": "code",
   "execution_count": 139,
   "metadata": {},
   "outputs": [
    {
     "name": "stdout",
     "output_type": "stream",
     "text": [
      "n_tuples =  9998792\n",
      "n_batches =  1267\n"
     ]
    }
   ],
   "source": [
    "train_minibatches = generate_minibatches(train_instances, max_users_items_per_batch=4000*10)\n",
    "sanity_check_minibatches(train_minibatches)"
   ]
  },
  {
   "cell_type": "code",
   "execution_count": 140,
   "metadata": {},
   "outputs": [
    {
     "name": "stdout",
     "output_type": "stream",
     "text": [
      "n_tuples =  417833\n",
      "n_batches =  53\n"
     ]
    }
   ],
   "source": [
    "test_minibatches = generate_minibatches(test_instances, max_users_items_per_batch=4000*10)\n",
    "sanity_check_minibatches(test_minibatches)"
   ]
  },
  {
   "cell_type": "code",
   "execution_count": 141,
   "metadata": {},
   "outputs": [
    {
     "data": {
      "text/plain": [
       "[0.0001,\n",
       " 6e-05,\n",
       " 3.6e-05,\n",
       " 2.16e-05,\n",
       " 1.296e-05,\n",
       " 7.776e-06,\n",
       " 4.6656e-06,\n",
       " 2.79936e-06,\n",
       " 1.679616e-06,\n",
       " 1.0077696e-06]"
      ]
     },
     "execution_count": 141,
     "metadata": {},
     "output_type": "execute_result"
    }
   ],
   "source": [
    "learning_rates = get_decaying_learning_rates(1e-4, 1e-6, 0.6)\n",
    "learning_rates"
   ]
  },
  {
   "cell_type": "code",
   "execution_count": 142,
   "metadata": {},
   "outputs": [
    {
     "data": {
      "text/plain": [
       "(0.6, 0.1)"
      ]
     },
     "execution_count": 142,
     "metadata": {},
     "output_type": "execute_result"
    }
   ],
   "source": [
    "FINE_GRAINED_THRESHOLD, VISUAL_CONFIDENCE_THRESHOLD"
   ]
  },
  {
   "cell_type": "code",
   "execution_count": 143,
   "metadata": {},
   "outputs": [
    {
     "data": {
      "text/plain": [
       "'/mnt/workspace/pamessina_models/ugallery/youtube_like/v18(10M-400K,avg+max,rsnt50,u(300,300,200)i(200,200),+p(rl&fk)-np,+npfavc(rl&fk)-nfavc,+nxt+hdaccklst-nfavc,fg.6,vcf.1)/'"
      ]
     },
     "execution_count": 143,
     "metadata": {},
     "output_type": "execute_result"
    }
   ],
   "source": [
    "# MODEL_PATH = ('/mnt/workspace/pamessina_models/ugallery/youtube_like/v9(10M-300K,avg+max,'\n",
    "#              '+prof(rl&fk)-nprof,+nproffavc(rl&fk)-nfavc_loc,+nxt+hide1+hideacc-nfavc_glob)/')\n",
    "# MODEL_PATH = ('/mnt/workspace/pamessina_models/ugallery/youtube_like/v16c(10M-400K,avg+max,rsnt50+alxnt+incepv3,'\n",
    "#               'u(300,300,200)i(200,200),+p(rl&fk)-np,+npfavc(rl&fk)-nfavc,+nxt+hdaccklst-nfavc,fg.6,vcf.1)/')\n",
    "MODEL_PATH = ('/mnt/workspace/pamessina_models/ugallery/youtube_like/v18(10M-400K,avg+max,rsnt50,'\n",
    "              'u(300,300,200)i(200,200),+p(rl&fk)-np,+npfavc(rl&fk)-nfavc,+nxt+hdaccklst-nfavc,fg.6,vcf.1)/')\n",
    "MODEL_PATH"
   ]
  },
  {
   "cell_type": "code",
   "execution_count": 144,
   "metadata": {},
   "outputs": [
    {
     "data": {
      "text/plain": [
       "7892"
      ]
     },
     "execution_count": 144,
     "metadata": {},
     "output_type": "execute_result"
    }
   ],
   "source": [
    "avg_train_batch_size = ceil(np.mean([b.shape[0] for b in train_minibatches['profile_indexes_batches']]))\n",
    "avg_train_batch_size"
   ]
  },
  {
   "cell_type": "code",
   "execution_count": null,
   "metadata": {
    "scrolled": false
   },
   "outputs": [
    {
     "name": "stdout",
     "output_type": "stream",
     "text": [
      "learning_rates =  [0.0001, 6e-05, 3.6e-05, 2.16e-05, 1.296e-05, 7.776e-06, 4.6656e-06, 2.79936e-06, 1.679616e-06, 1.0077696e-06]\n",
      "Variables to be trained:\n",
      "\t <tf.Variable 'trainable_item_embedding/fc1/kernel:0' shape=(2048, 200) dtype=float32_ref>\n",
      "\t <tf.Variable 'trainable_item_embedding/fc1/bias:0' shape=(200,) dtype=float32_ref>\n",
      "\t <tf.Variable 'trainable_item_embedding/fc2/kernel:0' shape=(200, 200) dtype=float32_ref>\n",
      "\t <tf.Variable 'trainable_item_embedding/fc2/bias:0' shape=(200,) dtype=float32_ref>\n",
      "\t <tf.Variable 'user_hidden_1/kernel:0' shape=(400, 300) dtype=float32_ref>\n",
      "\t <tf.Variable 'user_hidden_1/bias:0' shape=(300,) dtype=float32_ref>\n",
      "\t <tf.Variable 'user_hidden_2/kernel:0' shape=(300, 300) dtype=float32_ref>\n",
      "\t <tf.Variable 'user_hidden_2/bias:0' shape=(300,) dtype=float32_ref>\n",
      "\t <tf.Variable 'user_vector/kernel:0' shape=(300, 200) dtype=float32_ref>\n",
      "\t <tf.Variable 'user_vector/bias:0' shape=(200,) dtype=float32_ref>\n",
      "\t <tf.Variable 'beta1_power:0' shape=() dtype=float32_ref>\n",
      "\t <tf.Variable 'beta2_power:0' shape=() dtype=float32_ref>\n",
      "\t <tf.Variable 'trainable_item_embedding/fc1/kernel/Adam:0' shape=(2048, 200) dtype=float32_ref>\n",
      "\t <tf.Variable 'trainable_item_embedding/fc1/kernel/Adam_1:0' shape=(2048, 200) dtype=float32_ref>\n",
      "\t <tf.Variable 'trainable_item_embedding/fc1/bias/Adam:0' shape=(200,) dtype=float32_ref>\n",
      "\t <tf.Variable 'trainable_item_embedding/fc1/bias/Adam_1:0' shape=(200,) dtype=float32_ref>\n",
      "\t <tf.Variable 'trainable_item_embedding/fc2/kernel/Adam:0' shape=(200, 200) dtype=float32_ref>\n",
      "\t <tf.Variable 'trainable_item_embedding/fc2/kernel/Adam_1:0' shape=(200, 200) dtype=float32_ref>\n",
      "\t <tf.Variable 'trainable_item_embedding/fc2/bias/Adam:0' shape=(200,) dtype=float32_ref>\n",
      "\t <tf.Variable 'trainable_item_embedding/fc2/bias/Adam_1:0' shape=(200,) dtype=float32_ref>\n",
      "\t <tf.Variable 'user_hidden_1/kernel/Adam:0' shape=(400, 300) dtype=float32_ref>\n",
      "\t <tf.Variable 'user_hidden_1/kernel/Adam_1:0' shape=(400, 300) dtype=float32_ref>\n",
      "\t <tf.Variable 'user_hidden_1/bias/Adam:0' shape=(300,) dtype=float32_ref>\n",
      "\t <tf.Variable 'user_hidden_1/bias/Adam_1:0' shape=(300,) dtype=float32_ref>\n",
      "\t <tf.Variable 'user_hidden_2/kernel/Adam:0' shape=(300, 300) dtype=float32_ref>\n",
      "\t <tf.Variable 'user_hidden_2/kernel/Adam_1:0' shape=(300, 300) dtype=float32_ref>\n",
      "\t <tf.Variable 'user_hidden_2/bias/Adam:0' shape=(300,) dtype=float32_ref>\n",
      "\t <tf.Variable 'user_hidden_2/bias/Adam_1:0' shape=(300,) dtype=float32_ref>\n",
      "\t <tf.Variable 'user_vector/kernel/Adam:0' shape=(300, 200) dtype=float32_ref>\n",
      "\t <tf.Variable 'user_vector/kernel/Adam_1:0' shape=(300, 200) dtype=float32_ref>\n",
      "\t <tf.Variable 'user_vector/bias/Adam:0' shape=(200,) dtype=float32_ref>\n",
      "\t <tf.Variable 'user_vector/bias/Adam_1:0' shape=(200,) dtype=float32_ref>\n",
      "no checkpoint found: initializing variables with random values\n",
      "Before training: test_accuracy = 0.507191\n",
      "Starting training ...\n",
      "train_i=931, train_loss = 0.133443445976, test_accuracy = 0.9910132, check_secs = 300.01, total_secs = 300.01\n",
      "   ** improvement detected: model saved to path  /mnt/workspace/pamessina_models/ugallery/youtube_like/v18(10M-400K,avg+max,rsnt50,u(300,300,200)i(200,200),+p(rl&fk)-np,+npfavc(rl&fk)-nfavc,+nxt+hdaccklst-nfavc,fg.6,vcf.1)/\n",
      "train_i=593, train_loss = 0.029426003628, test_accuracy = 0.9773235, check_secs = 300.01, total_secs = 600.01\n",
      "train_i=254, train_loss = 0.017229529747, test_accuracy = 0.9890913, check_secs = 300.05, total_secs = 900.06\n",
      "   *** 2 checks with no improvements -> using a smaller learning_rate = 0.00006000\n",
      "train_i=1181, train_loss = 0.005003692874, test_accuracy = 0.9974416, check_secs = 300.01, total_secs = 1200.08\n",
      "   ** improvement detected: model saved to path  /mnt/workspace/pamessina_models/ugallery/youtube_like/v18(10M-400K,avg+max,rsnt50,u(300,300,200)i(200,200),+p(rl&fk)-np,+npfavc(rl&fk)-nfavc,+nxt+hdaccklst-nfavc,fg.6,vcf.1)/\n",
      "train_i=839, train_loss = 0.004349162596, test_accuracy = 0.9971951, check_secs = 300.04, total_secs = 1500.12\n",
      "train_i=496, train_loss = 0.003480454222, test_accuracy = 0.9962401, check_secs = 300.01, total_secs = 1800.13\n",
      "   *** 2 checks with no improvements -> using a smaller learning_rate = 0.00003600\n",
      "train_i=150, train_loss = 0.000825977412, test_accuracy = 0.9987651, check_secs = 300.08, total_secs = 2100.21\n",
      "   ** improvement detected: model saved to path  /mnt/workspace/pamessina_models/ugallery/youtube_like/v18(10M-400K,avg+max,rsnt50,u(300,300,200)i(200,200),+p(rl&fk)-np,+npfavc(rl&fk)-nfavc,+nxt+hdaccklst-nfavc,fg.6,vcf.1)/\n",
      "train_i=1074, train_loss = 0.000450823257, test_accuracy = 0.9988991, check_secs = 300.08, total_secs = 2400.29\n",
      "   ** improvement detected: model saved to path  /mnt/workspace/pamessina_models/ugallery/youtube_like/v18(10M-400K,avg+max,rsnt50,u(300,300,200)i(200,200),+p(rl&fk)-np,+npfavc(rl&fk)-nfavc,+nxt+hdaccklst-nfavc,fg.6,vcf.1)/\n",
      "train_i=730, train_loss = 0.000586763108, test_accuracy = 0.9988345, check_secs = 300.02, total_secs = 2700.31\n",
      "train_i=384, train_loss = 0.000679001674, test_accuracy = 0.9989876, check_secs = 300.03, total_secs = 3000.33\n",
      "   ** improvement detected: model saved to path  /mnt/workspace/pamessina_models/ugallery/youtube_like/v18(10M-400K,avg+max,rsnt50,u(300,300,200)i(200,200),+p(rl&fk)-np,+npfavc(rl&fk)-nfavc,+nxt+hdaccklst-nfavc,fg.6,vcf.1)/\n",
      "train_i=1264, train_loss = 0.000513165268, test_accuracy = 0.9979298, check_secs = 300.08, total_secs = 3300.41\n",
      "train_i=636, train_loss = 0.000727011233, test_accuracy = 0.9986430, check_secs = 300.06, total_secs = 3600.47\n",
      "   *** 2 checks with no improvements -> using a smaller learning_rate = 0.00002160\n",
      "train_i=154, train_loss = 0.000309432300, test_accuracy = 0.9991743, check_secs = 300.05, total_secs = 3900.53\n",
      "   ** improvement detected: model saved to path  /mnt/workspace/pamessina_models/ugallery/youtube_like/v18(10M-400K,avg+max,rsnt50,u(300,300,200)i(200,200),+p(rl&fk)-np,+npfavc(rl&fk)-nfavc,+nxt+hdaccklst-nfavc,fg.6,vcf.1)/\n",
      "train_i=947, train_loss = 0.000245010641, test_accuracy = 0.9991767, check_secs = 300.04, total_secs = 4200.56\n",
      "   ** improvement detected: model saved to path  /mnt/workspace/pamessina_models/ugallery/youtube_like/v18(10M-400K,avg+max,rsnt50,u(300,300,200)i(200,200),+p(rl&fk)-np,+npfavc(rl&fk)-nfavc,+nxt+hdaccklst-nfavc,fg.6,vcf.1)/\n",
      "train_i=469, train_loss = 0.000407855862, test_accuracy = 0.9990594, check_secs = 300.01, total_secs = 4500.57\n",
      "train_i=1256, train_loss = 0.000058611689, test_accuracy = 0.9991647, check_secs = 300.07, total_secs = 4800.64\n",
      "   *** 2 checks with no improvements -> using a smaller learning_rate = 0.00001296\n",
      "train_i=781, train_loss = 0.000025792953, test_accuracy = 0.9992964, check_secs = 300.06, total_secs = 5100.70\n",
      "   ** improvement detected: model saved to path  /mnt/workspace/pamessina_models/ugallery/youtube_like/v18(10M-400K,avg+max,rsnt50,u(300,300,200)i(200,200),+p(rl&fk)-np,+npfavc(rl&fk)-nfavc,+nxt+hdaccklst-nfavc,fg.6,vcf.1)/\n"
     ]
    }
   ],
   "source": [
    "train_network(\n",
    "    train_minibatches, test_minibatches,\n",
    "    len(train_instances), len(test_instances),\n",
    "    batch_size=avg_train_batch_size,\n",
    "    pretrained_embeddings=concat_featmat,\n",
    "    user_layer_units=[300,300,200],\n",
    "    item_layer_units=[200,200],\n",
    "    profile_pooling_mode='AVG+MAX',\n",
    "    model_path = MODEL_PATH,\n",
    "    max_seconds_training=3600 * 4,\n",
    "    min_seconds_to_check_improvement=60 * 5,\n",
    "    early_stopping_checks=2,\n",
    "    learning_rates=learning_rates,\n",
    ")"
   ]
  }
 ],
 "metadata": {
  "kernelspec": {
   "display_name": "Python 3",
   "language": "python",
   "name": "python3"
  },
  "language_info": {
   "codemirror_mode": {
    "name": "ipython",
    "version": 3
   },
   "file_extension": ".py",
   "mimetype": "text/x-python",
   "name": "python",
   "nbconvert_exporter": "python",
   "pygments_lexer": "ipython3",
   "version": "3.5.2"
  }
 },
 "nbformat": 4,
 "nbformat_minor": 2
}
