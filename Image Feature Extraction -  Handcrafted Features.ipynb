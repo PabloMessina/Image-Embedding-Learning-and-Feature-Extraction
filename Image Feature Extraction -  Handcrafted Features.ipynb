{
 "cells": [
  {
   "cell_type": "code",
   "execution_count": 11,
   "metadata": {
    "scrolled": true
   },
   "outputs": [],
   "source": [
    "import cv2\n",
    "import glob\n",
    "import numpy as np\n",
    "from skimage.feature import local_binary_pattern"
   ]
  },
  {
   "cell_type": "code",
   "execution_count": 12,
   "metadata": {},
   "outputs": [],
   "source": [
    "def get_brightness(img):\n",
    "    img_yuv = cv2.cvtColor(img, cv2.COLOR_BGR2YUV)\n",
    "    (y, u, v) = cv2.split(img_yuv)\n",
    "    brightness = y.mean()\n",
    "    return brightness\n",
    "\n",
    "def get_sharpness(img_gray):\n",
    "    n = img_gray.shape[0]\n",
    "    m = img_gray.shape[1]\n",
    "    N = float(n*m)    \n",
    "    img_blur = cv2.blur(img_gray,(3,3))\n",
    "    img_lap = cv2.Laplacian(img_gray,3)\n",
    "    Sh = 0\n",
    "    for i in range(len(img_lap)):\n",
    "        for j in range(len(img_lap[0])):\n",
    "            if(img_blur[i][j] != 0):\n",
    "                Sh += np.abs(float(img_lap[i][j])/float(img_blur[i][j]))\n",
    "    return Sh/N\n",
    "\n",
    "def get_colorfulness(img):\n",
    "    (b,g,r) = cv2.split(img)\n",
    "    rg = r - g\n",
    "    yb = 0.5*(r + g) - b\n",
    "    sigma = np.sqrt(rg.var() + yb.var())\n",
    "    mu = np.sqrt(rg.mean()**2 + yb.mean()**2)\n",
    "    Cf = sigma + 0.3*mu\n",
    "    return Cf\n",
    "\n",
    "def get_hue(img):\n",
    "    hsv = cv2.cvtColor(img, cv2.COLOR_BGR2HSV)\n",
    "    imghsv = cv2.cvtColor(img, cv2.COLOR_BGR2HSV).astype(\"float32\")\n",
    "    (h, s, v) = cv2.split(imghsv)\n",
    "    h_m = h.mean()\n",
    "    return h_m\n",
    "\n",
    "def get_saturation(img):\n",
    "    hsv = cv2.cvtColor(img, cv2.COLOR_BGR2HSV)\n",
    "    imghsv = cv2.cvtColor(img, cv2.COLOR_BGR2HSV).astype(\"float32\")\n",
    "    (h, s, v) = cv2.split(imghsv)\n",
    "    s = s.mean()\n",
    "    return s\n",
    "\n",
    "def get_entropy(img):\n",
    "    img = cv2.cvtColor(img, cv2.COLOR_BGR2GRAY)\n",
    "    hist = cv2.calcHist([img],[0],None,[256],[0,256])\n",
    "    hist = hist.ravel()/float(hist.sum())\n",
    "    logs = np.log2(hist+0.00001)\n",
    "    entropy = -1 * (hist*logs).sum()\n",
    "    return entropy \n",
    "\n",
    "def get_contrast(img):\n",
    "    (b,g,r) = cv2.split(img)\n",
    "    b_mean = b.mean()\n",
    "    g_mean = g.mean()\n",
    "    r_mean = r.mean()\n",
    "    contrast = ((b - b_mean)**2 + (g - g_mean)**2 + (r - r_mean)**2).sum() / float(img.shape[0]*img.shape[1])\n",
    "    return contrast"
   ]
  },
  {
   "cell_type": "code",
   "execution_count": 13,
   "metadata": {},
   "outputs": [],
   "source": [
    "from torch.utils.data import Dataset\n",
    "from torch.utils.data import DataLoader"
   ]
  },
  {
   "cell_type": "code",
   "execution_count": 22,
   "metadata": {},
   "outputs": [],
   "source": [
    "class ImageDataset(Dataset):\n",
    "    def __init__(self):\n",
    "        self.image_files = glob.glob(\"/mnt/workspace/Ugallery/images/*.jpg\")        \n",
    "        self.artwork_ids = [int(f[f.rfind('/')+1:-4]) for f in self.image_files]\n",
    "\n",
    "    def __len__(self):\n",
    "        return len(self.image_files)\n",
    "\n",
    "    def __getitem__(self, idx):        \n",
    "        \n",
    "        # load image\n",
    "        file = self.image_files[idx]\n",
    "        img = cv2.imread(file, cv2.IMREAD_COLOR)\n",
    "        img_gray = cv2.cvtColor(img, cv2.COLOR_BGR2GRAY)        \n",
    "        \n",
    "        # attractiveness\n",
    "        att_vector = np.array([\n",
    "            get_brightness(img),\n",
    "            get_sharpness(img_gray),\n",
    "            get_saturation(img),\n",
    "            get_colorfulness(img),\n",
    "            get_entropy(img),\n",
    "            get_contrast(img),\n",
    "        ])\n",
    "        \n",
    "        # LBP\n",
    "        tmp = local_binary_pattern(img_gray, 8, 1, method='nri_uniform')\n",
    "        bins, counts = np.unique(tmp, return_counts=True)\n",
    "        lbp_vector = np.zeros((59,))\n",
    "        for b,c in zip(bins,counts):\n",
    "            lbp_vector[int(b)] = c\n",
    "        lbp_vector /= (tmp.shape[0] * tmp.shape[1])\n",
    "        \n",
    "        # return item\n",
    "        return {'id': self.artwork_ids[idx],\n",
    "                'att': att_vector,\n",
    "                'lbp': lbp_vector}"
   ]
  },
  {
   "cell_type": "code",
   "execution_count": 67,
   "metadata": {},
   "outputs": [],
   "source": [
    "image_dataset = ImageDataset()"
   ]
  },
  {
   "cell_type": "code",
   "execution_count": 68,
   "metadata": {},
   "outputs": [],
   "source": [
    "dataloader = DataLoader(image_dataset, batch_size=256, num_workers=8)"
   ]
  },
  {
   "cell_type": "code",
   "execution_count": 69,
   "metadata": {},
   "outputs": [],
   "source": [
    "N = len(image_dataset)\n",
    "output_ids = np.empty((N,), dtype=int)\n",
    "output_att_features = np.empty((N,6), dtype=np.float16)\n",
    "output_lbp_features = np.empty((N,59), dtype=np.float16)"
   ]
  },
  {
   "cell_type": "code",
   "execution_count": 70,
   "metadata": {},
   "outputs": [],
   "source": [
    "from time import time"
   ]
  },
  {
   "cell_type": "code",
   "execution_count": 71,
   "metadata": {},
   "outputs": [
    {
     "name": "stdout",
     "output_type": "stream",
     "text": [
      "i_batch = 0, offset = 256, batch_size = 256, elapsed_time = 530.39\n",
      "i_batch = 1, offset = 512, batch_size = 256, elapsed_time = 533.04\n",
      "i_batch = 2, offset = 768, batch_size = 256, elapsed_time = 540.82\n",
      "i_batch = 3, offset = 1024, batch_size = 256, elapsed_time = 542.79\n",
      "i_batch = 4, offset = 1280, batch_size = 256, elapsed_time = 542.79\n",
      "i_batch = 5, offset = 1536, batch_size = 256, elapsed_time = 542.80\n",
      "i_batch = 6, offset = 1792, batch_size = 256, elapsed_time = 542.80\n",
      "i_batch = 7, offset = 2048, batch_size = 256, elapsed_time = 542.80\n",
      "i_batch = 8, offset = 2304, batch_size = 256, elapsed_time = 1041.70\n",
      "i_batch = 9, offset = 2560, batch_size = 256, elapsed_time = 1050.69\n",
      "i_batch = 10, offset = 2816, batch_size = 256, elapsed_time = 1052.92\n",
      "i_batch = 11, offset = 3072, batch_size = 256, elapsed_time = 1059.67\n",
      "i_batch = 12, offset = 3328, batch_size = 256, elapsed_time = 1060.99\n",
      "i_batch = 13, offset = 3584, batch_size = 256, elapsed_time = 1087.09\n",
      "i_batch = 14, offset = 3840, batch_size = 256, elapsed_time = 1087.09\n",
      "i_batch = 15, offset = 4096, batch_size = 256, elapsed_time = 1087.09\n",
      "i_batch = 16, offset = 4352, batch_size = 256, elapsed_time = 1578.05\n",
      "i_batch = 17, offset = 4608, batch_size = 256, elapsed_time = 1583.93\n",
      "i_batch = 18, offset = 4864, batch_size = 256, elapsed_time = 1583.93\n",
      "i_batch = 19, offset = 5120, batch_size = 256, elapsed_time = 1598.63\n",
      "i_batch = 20, offset = 5376, batch_size = 256, elapsed_time = 1607.09\n",
      "i_batch = 21, offset = 5632, batch_size = 256, elapsed_time = 1607.09\n",
      "i_batch = 22, offset = 5888, batch_size = 256, elapsed_time = 1612.59\n",
      "i_batch = 23, offset = 6144, batch_size = 256, elapsed_time = 1613.68\n",
      "i_batch = 24, offset = 6400, batch_size = 256, elapsed_time = 2126.01\n",
      "i_batch = 25, offset = 6656, batch_size = 256, elapsed_time = 2126.01\n",
      "i_batch = 26, offset = 6912, batch_size = 256, elapsed_time = 2126.01\n",
      "i_batch = 27, offset = 7168, batch_size = 256, elapsed_time = 2126.01\n",
      "i_batch = 28, offset = 7424, batch_size = 256, elapsed_time = 2129.55\n",
      "i_batch = 29, offset = 7680, batch_size = 256, elapsed_time = 2142.90\n",
      "i_batch = 30, offset = 7936, batch_size = 256, elapsed_time = 2142.90\n",
      "i_batch = 31, offset = 8192, batch_size = 256, elapsed_time = 2153.98\n",
      "i_batch = 32, offset = 8448, batch_size = 256, elapsed_time = 2632.68\n",
      "i_batch = 33, offset = 8704, batch_size = 256, elapsed_time = 2646.08\n",
      "i_batch = 34, offset = 8960, batch_size = 256, elapsed_time = 2646.08\n",
      "i_batch = 35, offset = 9216, batch_size = 256, elapsed_time = 2675.60\n",
      "i_batch = 36, offset = 9472, batch_size = 256, elapsed_time = 2675.60\n",
      "i_batch = 37, offset = 9728, batch_size = 256, elapsed_time = 2675.60\n",
      "i_batch = 38, offset = 9984, batch_size = 256, elapsed_time = 2684.70\n",
      "i_batch = 39, offset = 10240, batch_size = 256, elapsed_time = 2686.95\n",
      "i_batch = 40, offset = 10496, batch_size = 256, elapsed_time = 3141.82\n",
      "i_batch = 41, offset = 10752, batch_size = 256, elapsed_time = 3170.24\n",
      "i_batch = 42, offset = 11008, batch_size = 256, elapsed_time = 3188.68\n",
      "i_batch = 43, offset = 11264, batch_size = 256, elapsed_time = 3188.68\n",
      "i_batch = 44, offset = 11520, batch_size = 256, elapsed_time = 3193.15\n",
      "i_batch = 45, offset = 11776, batch_size = 256, elapsed_time = 3207.49\n",
      "i_batch = 46, offset = 12032, batch_size = 256, elapsed_time = 3209.08\n",
      "i_batch = 47, offset = 12288, batch_size = 256, elapsed_time = 3214.26\n",
      "i_batch = 48, offset = 12544, batch_size = 256, elapsed_time = 3490.26\n",
      "i_batch = 49, offset = 12800, batch_size = 256, elapsed_time = 3506.53\n",
      "i_batch = 50, offset = 13056, batch_size = 256, elapsed_time = 3506.54\n",
      "i_batch = 51, offset = 13297, batch_size = 241, elapsed_time = 3506.54\n"
     ]
    }
   ],
   "source": [
    "offset = 0\n",
    "start_time = time()\n",
    "for i_batch, batch in enumerate(dataloader):    \n",
    "    assert offset < N\n",
    "    \n",
    "    batch_ids = batch['id'].numpy()\n",
    "    batch_att_features = batch['att'].numpy()\n",
    "    batch_lbp_features = batch['lbp'].numpy()\n",
    "    batch_size = len(batch_ids)\n",
    "    \n",
    "    output_ids[offset:offset+batch_size] = batch_ids\n",
    "    output_att_features[offset:offset+batch_size] = batch_att_features\n",
    "    output_lbp_features[offset:offset+batch_size] = batch_lbp_features\n",
    "    \n",
    "    elapsed_time = time() - start_time    \n",
    "    offset += batch_size    \n",
    "    print('i_batch = %d, offset = %d, batch_size = %d, elapsed_time = %.2f' % (i_batch, offset, batch_size, elapsed_time))"
   ]
  },
  {
   "cell_type": "code",
   "execution_count": 72,
   "metadata": {},
   "outputs": [],
   "source": [
    "import os\n",
    "dir_path = \"/mnt/workspace/Ugallery/Handcrafted/\"\n",
    "os.makedirs(dir_path, exist_ok=True)\n",
    "output_att_features.dump(dir_path + \"attractiveness.npy\")\n",
    "output_lbp_features.dump(dir_path + \"lbp.npy\")\n",
    "output_ids.dump(dir_path + \"ids.npy\")"
   ]
  }
 ],
 "metadata": {
  "kernelspec": {
   "display_name": "Python 3",
   "language": "python",
   "name": "python3"
  },
  "language_info": {
   "codemirror_mode": {
    "name": "ipython",
    "version": 3
   },
   "file_extension": ".py",
   "mimetype": "text/x-python",
   "name": "python",
   "nbconvert_exporter": "python",
   "pygments_lexer": "ipython3",
   "version": "3.5.2"
  }
 },
 "nbformat": 4,
 "nbformat_minor": 2
}
