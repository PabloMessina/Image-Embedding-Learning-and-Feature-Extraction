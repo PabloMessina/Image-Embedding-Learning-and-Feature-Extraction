{
 "cells": [
  {
   "cell_type": "code",
   "execution_count": 1,
   "metadata": {},
   "outputs": [
    {
     "name": "stdout",
     "output_type": "stream",
     "text": [
      "/usr/local/cuda-9.0/lib64/\r\n"
     ]
    }
   ],
   "source": [
    "!echo $LD_LIBRARY_PATH"
   ]
  },
  {
   "cell_type": "code",
   "execution_count": 2,
   "metadata": {},
   "outputs": [],
   "source": [
    "%load_ext autoreload\n",
    "%autoreload 1"
   ]
  },
  {
   "cell_type": "code",
   "execution_count": 3,
   "metadata": {},
   "outputs": [],
   "source": [
    "import tensorflow as tf\n",
    "from tensorflow.keras.preprocessing import image\n",
    "from tensorflow.keras.applications.vgg19 import preprocess_input\n",
    "from tensorflow.python.keras.backend import set_session\n",
    "import numpy as np\n",
    "import glob\n",
    "import os\n",
    "from tqdm import tqdm\n",
    "%aimport utils"
   ]
  },
  {
   "cell_type": "code",
   "execution_count": 4,
   "metadata": {},
   "outputs": [],
   "source": [
    "os.environ[\"CUDA_VISIBLE_DEVICES\"]=\"0\""
   ]
  },
  {
   "cell_type": "code",
   "execution_count": 5,
   "metadata": {},
   "outputs": [],
   "source": [
    "def vgg_layers(layer_names):\n",
    "    vgg = tf.keras.applications.VGG19(include_top=False, weights='imagenet')\n",
    "    vgg.trainable = False\n",
    "    outputs = [vgg.get_layer(name).output for name in layer_names]\n",
    "    model = tf.keras.Model([vgg.input], outputs)\n",
    "    return model"
   ]
  },
  {
   "cell_type": "code",
   "execution_count": 6,
   "metadata": {},
   "outputs": [],
   "source": [
    "def gram_matrix(input_tensor):\n",
    "    result = tf.linalg.einsum('bijc,bijd->bcd', input_tensor, input_tensor)\n",
    "    input_shape = tf.shape(input_tensor)\n",
    "    num_locations = tf.cast(input_shape[1]*input_shape[2], tf.float32)\n",
    "    return result/(num_locations)"
   ]
  },
  {
   "cell_type": "code",
   "execution_count": 7,
   "metadata": {},
   "outputs": [],
   "source": [
    "image_files = glob.glob(\"/mnt/workspace/Ugallery/images/*.jpg\")"
   ]
  },
  {
   "cell_type": "code",
   "execution_count": 8,
   "metadata": {},
   "outputs": [],
   "source": [
    "artwork_ids = [int(f[f.rfind('/')+1:-4]) for f in image_files]"
   ]
  },
  {
   "cell_type": "code",
   "execution_count": 9,
   "metadata": {},
   "outputs": [
    {
     "data": {
      "text/plain": [
       "13297"
      ]
     },
     "execution_count": 9,
     "metadata": {},
     "output_type": "execute_result"
    }
   ],
   "source": [
    "N = len(artwork_ids)\n",
    "N"
   ]
  },
  {
   "cell_type": "code",
   "execution_count": 10,
   "metadata": {},
   "outputs": [
    {
     "name": "stderr",
     "output_type": "stream",
     "text": [
      "100%|██████████| 13297/13297 [01:36<00:00, 137.80it/s]\n"
     ]
    }
   ],
   "source": [
    "raw_images = np.empty((N, 224, 224, 3), dtype=np.float32)\n",
    "for i in tqdm(range(N)):\n",
    "    img_file = image_files[i]\n",
    "    img = image.load_img(img_file, target_size=(224, 224), interpolation='bicubic')\n",
    "    raw_images[i] = image.img_to_array(img)"
   ]
  },
  {
   "cell_type": "code",
   "execution_count": 11,
   "metadata": {},
   "outputs": [
    {
     "data": {
      "text/plain": [
       "(13297, 224, 224, 3)"
      ]
     },
     "execution_count": 11,
     "metadata": {},
     "output_type": "execute_result"
    }
   ],
   "source": [
    "raw_images.shape"
   ]
  },
  {
   "cell_type": "code",
   "execution_count": 14,
   "metadata": {},
   "outputs": [],
   "source": [
    "batch_size = 64"
   ]
  },
  {
   "cell_type": "code",
   "execution_count": 15,
   "metadata": {
    "scrolled": false
   },
   "outputs": [
    {
     "name": "stderr",
     "output_type": "stream",
     "text": [
      "  0%|          | 1/208 [00:01<06:00,  1.74s/it]"
     ]
    },
    {
     "name": "stdout",
     "output_type": "stream",
     "text": [
      "gm_feat_dicts[block1_conv1] created with shape= (13297, 64, 64)\n",
      "gm_feat_dicts[block2_conv1] created with shape= (13297, 128, 128)\n"
     ]
    },
    {
     "name": "stderr",
     "output_type": "stream",
     "text": [
      "100%|██████████| 208/208 [05:40<00:00,  1.64s/it]\n"
     ]
    }
   ],
   "source": [
    "gm_feat_dict = dict()\n",
    "\n",
    "sess = tf.Session()\n",
    "graph = tf.get_default_graph()\n",
    "\n",
    "style_layers = ['block1_conv1',\n",
    "                'block2_conv1']\n",
    "\n",
    "with graph.as_default():\n",
    "    with sess.as_default():\n",
    "        \n",
    "        style_extractor = vgg_layers(style_layers)\n",
    "        \n",
    "        conv_feat_tensor = tf.placeholder(shape=[None, None, None, None], dtype=tf.float32)\n",
    "        gram_mat_tensor = gram_matrix(conv_feat_tensor)        \n",
    "        \n",
    "        for offset in tqdm(range(0, N, batch_size)):\n",
    "            \n",
    "            actual_batch_size = min(batch_size, N - offset)\n",
    "            conv_features = style_extractor.predict(raw_images[offset : offset + actual_batch_size])\n",
    "            \n",
    "            gm_features = [\n",
    "                sess.run(gram_mat_tensor, feed_dict={conv_feat_tensor: conv_feat})\n",
    "                for conv_feat in conv_features\n",
    "            ]\n",
    "            \n",
    "            assert len(gm_features) == len(style_layers)\n",
    "            \n",
    "            for sl, gmf in zip(style_layers, gm_features):\n",
    "                try:\n",
    "                    gm_feats = gm_feat_dict[sl]\n",
    "                except KeyError:\n",
    "                    gm_feats = gm_feat_dict[sl] = np.empty((N, *gmf.shape[1:]), dtype=np.float32)\n",
    "                    print('gm_feat_dicts[%s] created with shape='%sl, gm_feats.shape)\n",
    "                gm_feats[offset : offset + actual_batch_size] = gmf"
   ]
  },
  {
   "cell_type": "code",
   "execution_count": 22,
   "metadata": {},
   "outputs": [],
   "source": [
    "for key in gm_feat_dict.keys():\n",
    "    gm_feat_dict[key] = gm_feat_dict[key].reshape(N, -1)"
   ]
  },
  {
   "cell_type": "code",
   "execution_count": 31,
   "metadata": {},
   "outputs": [
    {
     "data": {
      "text/plain": [
       "5540.252"
      ]
     },
     "execution_count": 31,
     "metadata": {},
     "output_type": "execute_result"
    }
   ],
   "source": [
    "gm_feat_dict['block1_conv1'].std()"
   ]
  },
  {
   "cell_type": "code",
   "execution_count": 32,
   "metadata": {},
   "outputs": [],
   "source": [
    "dir_path = \"/mnt/workspace/Ugallery/gram_matrix/\"\n",
    "os.makedirs(dir_path, exist_ok=True)\n",
    "for key, gmf in gm_feat_dict.items():\n",
    "    gmf.dump(dir_path + \"%s.npy\" % key)\n",
    "with open(dir_path + 'ids', 'w') as f:\n",
    "    for _id in artwork_ids:\n",
    "        f.write('%d\\n' % _id)"
   ]
  }
 ],
 "metadata": {
  "kernelspec": {
   "display_name": ".venv",
   "language": "python",
   "name": ".venv"
  },
  "language_info": {
   "codemirror_mode": {
    "name": "ipython",
    "version": 3
   },
   "file_extension": ".py",
   "mimetype": "text/x-python",
   "name": "python",
   "nbconvert_exporter": "python",
   "pygments_lexer": "ipython3",
   "version": "3.5.2"
  }
 },
 "nbformat": 4,
 "nbformat_minor": 2
}
