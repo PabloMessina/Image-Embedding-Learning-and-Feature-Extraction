{
 "cells": [
  {
   "cell_type": "code",
   "execution_count": 1,
   "metadata": {},
   "outputs": [],
   "source": [
    "%load_ext autoreload\n",
    "%autoreload 1"
   ]
  },
  {
   "cell_type": "code",
   "execution_count": 2,
   "metadata": {},
   "outputs": [],
   "source": [
    "%aimport utils"
   ]
  },
  {
   "cell_type": "code",
   "execution_count": 3,
   "metadata": {},
   "outputs": [],
   "source": [
    "import numpy as np\n",
    "import pandas as pd\n",
    "import os\n",
    "import tensorflow as tf\n",
    "from os import path\n",
    "from utils import load_embeddings_and_ids, User"
   ]
  },
  {
   "cell_type": "code",
   "execution_count": 4,
   "metadata": {},
   "outputs": [],
   "source": [
    "# use a single GPU because we want to be nice with other people :)\n",
    "os.environ[\"CUDA_VISIBLE_DEVICES\"]=\"1\""
   ]
  },
  {
   "cell_type": "markdown",
   "metadata": {},
   "source": [
    "###  Load pre-trained ResNet50 image embeddings"
   ]
  },
  {
   "cell_type": "code",
   "execution_count": 5,
   "metadata": {},
   "outputs": [],
   "source": [
    "resnet50_embeddings,\\\n",
    "artwork_ids,\\\n",
    "artwork_id2index = load_embeddings_and_ids(\n",
    "'/mnt/workspace/Ugallery/ResNet50/', 'flatten_1.npy', 'ids')"
   ]
  },
  {
   "cell_type": "code",
   "execution_count": 6,
   "metadata": {},
   "outputs": [
    {
     "data": {
      "text/plain": [
       "13297"
      ]
     },
     "execution_count": 6,
     "metadata": {},
     "output_type": "execute_result"
    }
   ],
   "source": [
    "n_artworks = len(artwork_ids)\n",
    "n_artworks"
   ]
  },
  {
   "cell_type": "markdown",
   "metadata": {},
   "source": [
    "### Load user list from transactions"
   ]
  },
  {
   "cell_type": "code",
   "execution_count": 7,
   "metadata": {},
   "outputs": [],
   "source": [
    "sales_df = pd.read_csv('./valid_sales.csv')\n",
    "user_ids = sales_df.customer_id.unique()\n",
    "n_users = len(user_ids)"
   ]
  },
  {
   "cell_type": "code",
   "execution_count": 8,
   "metadata": {},
   "outputs": [
    {
     "data": {
      "text/plain": [
       "2919"
      ]
     },
     "execution_count": 8,
     "metadata": {},
     "output_type": "execute_result"
    }
   ],
   "source": [
    "n_users"
   ]
  },
  {
   "cell_type": "markdown",
   "metadata": {},
   "source": [
    "### Tensorflow Network Graph"
   ]
  },
  {
   "cell_type": "code",
   "execution_count": 9,
   "metadata": {},
   "outputs": [],
   "source": [
    "class Network:\n",
    "    def __init__(self, n_users, n_items, user_latent_dim, item_latent_dim, item_visual_dim,\n",
    "                 pretrained_dim=2048):\n",
    "        \n",
    "        # --- placeholders\n",
    "        self._pretrained_image_embeddings = tf.placeholder(shape=[None, pretrained_dim], dtype=tf.float32)\n",
    "        self._item_index = tf.placeholder(shape=[None], dtype=tf.int32)\n",
    "            \n",
    "        # ------------------------------------\n",
    "        # ---- Global trainable variables\n",
    "        \n",
    "        # -- user latent factor matrix\n",
    "        # (n_users x user_latent_dim)\n",
    "        self._user_latent_factors = tf.Variable(\n",
    "            tf.random_uniform([n_users, user_latent_dim], -1.0, 1.0),\n",
    "            name='user_latent_factors'\n",
    "        )\n",
    "        \n",
    "        # -- item latent factor matrix\n",
    "        # (n_items x item_latent_dim)\n",
    "        self._item_latent_factors = tf.Variable(\n",
    "            tf.random_uniform([n_items, item_latent_dim], -1.0, 1.0),\n",
    "            name='item_latent_factors'\n",
    "        )\n",
    "        \n",
    "        # -- item latent biases\n",
    "        self._item_latent_biases = tf.Variable(\n",
    "            tf.random_uniform([n_items], -1.0, 1.0),\n",
    "            name='item_latent_biases'\n",
    "        )\n",
    "        \n",
    "        # -- global visual bias\n",
    "        self._visual_bias = tf.Variable(\n",
    "            tf.random_uniform([pretrained_dim], -1.0, 1.0),\n",
    "            name='visual_bias'\n",
    "        )\n",
    "        \n",
    "        # -------------------------------\n",
    "        # ---- minibatch tensors\n",
    "        \n",
    "        item_pre_vector = tf.gather(self._pretrained_image_embeddings, self._item_index)\n",
    "        \n",
    "        # 1) item vector\n",
    "        #    1.1) visual vector\n",
    "        item_visual_vector = self.trainable_image_embedding(item_pre_vector, item_visual_dim)\n",
    "        #    1.2) latent vector\n",
    "        item_latent_vector = tf.gather(self._item_latent_factors, self._item_index)\n",
    "        #    1.3) concatenation\n",
    "        self._item_final_vector = tf.concat([item_visual_vector, item_latent_vector], 1)\n",
    "        \n",
    "        # 2) item bias\n",
    "        #    1.1) visual bias\n",
    "        item_visual_bias = tf.reduce_sum(item_pre_vector * self._visual_bias, 1)\n",
    "        #    1.2) latent bias\n",
    "        item_latent_bias = tf.gather(self._item_latent_biases, self._item_index)\n",
    "        #    1.3) final bias\n",
    "        self._item_final_bias = item_visual_bias + item_latent_bias\n",
    "        \n",
    "    @staticmethod\n",
    "    def trainable_image_embedding(X, output_dim):\n",
    "        with tf.variable_scope(\"trainable_image_embedding\", reuse=tf.AUTO_REUSE):\n",
    "            fc1 = tf.layers.dense( # None -> output_dim\n",
    "                inputs=X,\n",
    "                units=output_dim,\n",
    "                name='fc1'\n",
    "            )\n",
    "            return fc1\n",
    "    \n",
    "    def get_item_final_vector_bias(self, sess, pretrained_image_embeddings, item_index):\n",
    "        return sess.run([\n",
    "            self._item_final_vector,\n",
    "            self._item_final_bias,\n",
    "        ], feed_dict={\n",
    "            self._pretrained_image_embeddings: pretrained_image_embeddings,\n",
    "            self._item_index: item_index,\n",
    "        })\n",
    "    \n",
    "    def get_user_latent_vectors(self, sess):\n",
    "        return sess.run(self._user_latent_factors)"
   ]
  },
  {
   "cell_type": "code",
   "execution_count": 10,
   "metadata": {},
   "outputs": [],
   "source": [
    "MODEL_PATH = '/mnt/workspace/pamessina_models/ugallery/VBPR/v2_hidinglast/'"
   ]
  },
  {
   "cell_type": "code",
   "execution_count": 11,
   "metadata": {},
   "outputs": [],
   "source": [
    "all_indexes = list(range(n_artworks))"
   ]
  },
  {
   "cell_type": "code",
   "execution_count": 12,
   "metadata": {
    "scrolled": true
   },
   "outputs": [
    {
     "name": "stdout",
     "output_type": "stream",
     "text": [
      "INFO:tensorflow:Restoring parameters from /mnt/workspace/pamessina_models/ugallery/VBPR/v2_hidinglast/\n"
     ]
    }
   ],
   "source": [
    "with tf.Graph().as_default():\n",
    "    network = Network(\n",
    "        n_users=n_users,\n",
    "        n_items=n_artworks,\n",
    "        user_latent_dim=128,\n",
    "        item_latent_dim=64,\n",
    "        item_visual_dim=64,\n",
    "        pretrained_dim=2048,\n",
    "    )\n",
    "    with tf.Session() as sess:\n",
    "        saver = tf.train.Saver()\n",
    "        saver.restore(sess, tf.train.latest_checkpoint(MODEL_PATH))\n",
    "        user_latent_vectors = network.get_user_latent_vectors(sess)\n",
    "        item_vectors, item_biases = network.get_item_final_vector_bias(sess, resnet50_embeddings, all_indexes)"
   ]
  },
  {
   "cell_type": "code",
   "execution_count": 13,
   "metadata": {},
   "outputs": [
    {
     "data": {
      "text/plain": [
       "((13297, 128), (13297,))"
      ]
     },
     "execution_count": 13,
     "metadata": {},
     "output_type": "execute_result"
    }
   ],
   "source": [
    "item_vectors.shape, item_biases.shape"
   ]
  },
  {
   "cell_type": "code",
   "execution_count": 14,
   "metadata": {},
   "outputs": [
    {
     "data": {
      "text/plain": [
       "(2919, 128)"
      ]
     },
     "execution_count": 14,
     "metadata": {},
     "output_type": "execute_result"
    }
   ],
   "source": [
    "user_latent_vectors.shape"
   ]
  },
  {
   "cell_type": "code",
   "execution_count": 15,
   "metadata": {},
   "outputs": [],
   "source": [
    "dir_path = \"/mnt/workspace/Ugallery/VBPR/v2_hidinglast/\"\n",
    "os.makedirs(dir_path, exist_ok=True)\n",
    "\n",
    "# users\n",
    "user_latent_vectors.dump(dir_path + \"user_vectors.npy\")\n",
    "with open(dir_path + 'user_ids', 'w') as f:\n",
    "    for _id in user_ids:\n",
    "        f.write('%d\\n' % _id)\n",
    "        \n",
    "# items\n",
    "item_vectors.dump(dir_path + \"item_vectors.npy\")\n",
    "item_biases.dump(dir_path + \"item_biases.npy\")\n",
    "with open(dir_path + 'items_ids', 'w') as f:\n",
    "    for _id in artwork_ids:\n",
    "        f.write('%d\\n' % _id)"
   ]
  }
 ],
 "metadata": {
  "kernelspec": {
   "display_name": "Python 3",
   "language": "python",
   "name": "python3"
  },
  "language_info": {
   "codemirror_mode": {
    "name": "ipython",
    "version": 3
   },
   "file_extension": ".py",
   "mimetype": "text/x-python",
   "name": "python",
   "nbconvert_exporter": "python",
   "pygments_lexer": "ipython3",
   "version": "3.5.2"
  }
 },
 "nbformat": 4,
 "nbformat_minor": 2
}
