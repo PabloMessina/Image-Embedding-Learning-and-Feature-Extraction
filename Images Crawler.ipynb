{
 "cells": [
  {
   "cell_type": "code",
   "execution_count": 1,
   "metadata": {},
   "outputs": [],
   "source": [
    "%load_ext autoreload\n",
    "%autoreload 1"
   ]
  },
  {
   "cell_type": "code",
   "execution_count": 2,
   "metadata": {},
   "outputs": [],
   "source": [
    "%aimport utils"
   ]
  },
  {
   "cell_type": "code",
   "execution_count": 101,
   "metadata": {},
   "outputs": [],
   "source": [
    "import glob\n",
    "import os\n",
    "import urllib.request\n",
    "import urllib.parse"
   ]
  },
  {
   "cell_type": "code",
   "execution_count": 103,
   "metadata": {},
   "outputs": [],
   "source": [
    "id2url = utils.get_id2url_map()"
   ]
  },
  {
   "cell_type": "code",
   "execution_count": 116,
   "metadata": {},
   "outputs": [
    {
     "data": {
      "text/plain": [
       "13297"
      ]
     },
     "execution_count": 116,
     "metadata": {},
     "output_type": "execute_result"
    }
   ],
   "source": [
    "image_files = glob.glob(\"/mnt/workspace/Ugallery/images/*.jpg\")\n",
    "len(image_files)"
   ]
  },
  {
   "cell_type": "code",
   "execution_count": 117,
   "metadata": {},
   "outputs": [],
   "source": [
    "ids_already_with_image = set(int(f[f.rfind('/')+1:-4]) for f in image_files)"
   ]
  },
  {
   "cell_type": "code",
   "execution_count": 118,
   "metadata": {},
   "outputs": [],
   "source": [
    "ids_without_image = id2url.keys() - ids_already_with_image"
   ]
  },
  {
   "cell_type": "code",
   "execution_count": 119,
   "metadata": {},
   "outputs": [
    {
     "data": {
      "text/plain": [
       "6"
      ]
     },
     "execution_count": 119,
     "metadata": {},
     "output_type": "execute_result"
    }
   ],
   "source": [
    "len(ids_without_image)"
   ]
  },
  {
   "cell_type": "code",
   "execution_count": 108,
   "metadata": {},
   "outputs": [],
   "source": [
    "os.makedirs(\"/mnt/workspace/Ugallery/images/\", exist_ok=True)"
   ]
  },
  {
   "cell_type": "code",
   "execution_count": 109,
   "metadata": {
    "scrolled": true
   },
   "outputs": [
    {
     "name": "stdout",
     "output_type": "stream",
     "text": [
      "HTTPError detected, url =  http://static.ugallery.com/webdata/product/55624/Images/Large_test5.jpg\n",
      "HTTPError detected, url =  http://static.ugallery.com/webdata/product/53466/Images/Large_test2.jpg\n",
      "HTTPError detected, url =  http://static.ugallery.com/webdata/product/51917/Images/Large_test1.jpg\n",
      "HTTPError detected, url =  http://static.ugallery.com/webdata/product/52754/Images/Large_test2.jpg\n",
      "HTTPError detected, url =  http://static.ugallery.com/webdata/product/50106/Images/Large_test3.jpg\n",
      "HTTPError detected, url =  http://static.ugallery.com/webdata/product/46399/Images/Large_test2.jpg\n"
     ]
    }
   ],
   "source": [
    "n = len(ids_without_image)\n",
    "for i,_id in enumerate(ids_without_image):\n",
    "    url = id2url[_id]\n",
    "    try:\n",
    "        urllib.request.urlretrieve(url, \"/mnt/workspace/Ugallery/images/%d.jpg\" % _id)\n",
    "    except UnicodeEncodeError:\n",
    "        print('UnicodeEncodeError detected, url = ', url)\n",
    "        continue\n",
    "    except urllib.error.HTTPError:\n",
    "        print('HTTPError detected, url = ', url)\n",
    "        continue\n",
    "    print('image %d/%d: %s' % (i+1,n,url))"
   ]
  }
 ],
 "metadata": {
  "kernelspec": {
   "display_name": "Python 3",
   "language": "python",
   "name": "python3"
  },
  "language_info": {
   "codemirror_mode": {
    "name": "ipython",
    "version": 3
   },
   "file_extension": ".py",
   "mimetype": "text/x-python",
   "name": "python",
   "nbconvert_exporter": "python",
   "pygments_lexer": "ipython3",
   "version": "3.5.2"
  }
 },
 "nbformat": 4,
 "nbformat_minor": 2
}
