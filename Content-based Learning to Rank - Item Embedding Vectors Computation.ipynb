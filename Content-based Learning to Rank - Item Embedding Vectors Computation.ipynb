{
 "cells": [
  {
   "cell_type": "code",
   "execution_count": 2,
   "metadata": {},
   "outputs": [],
   "source": [
    "import numpy as np\n",
    "import tensorflow as tf\n",
    "import os\n",
    "from os import path\n",
    "from utils import load_embeddings_and_ids"
   ]
  },
  {
   "cell_type": "code",
   "execution_count": 3,
   "metadata": {},
   "outputs": [],
   "source": [
    "resnet50_embeddings,\\\n",
    "resnet50_ids,\\\n",
    "resnet50_id2index = load_embeddings_and_ids(\n",
    "'/mnt/workspace/Ugallery/ResNet50/', 'flatten_1.npy', 'ids')"
   ]
  },
  {
   "cell_type": "code",
   "execution_count": 4,
   "metadata": {},
   "outputs": [],
   "source": [
    "class Network:\n",
    "    def __init__(self):\n",
    "        \n",
    "        # --- placeholder\n",
    "        self._pretrained_embeddings = tf.placeholder(shape=[None, 2048], dtype=tf.float32,\n",
    "                                                     name='pretrained_embeddings')\n",
    "        # ---- item vectors\n",
    "        self._item_vectors = self.trainable_item_embedding(self._pretrained_embeddings)\n",
    "        \n",
    "    @staticmethod\n",
    "    def trainable_item_embedding(X):\n",
    "        with tf.variable_scope(\"trainable_item_embedding\", reuse=tf.AUTO_REUSE):\n",
    "            fc1 = tf.layers.dense( # None -> 256\n",
    "                inputs=X,\n",
    "                units=256,\n",
    "                activation=tf.nn.selu,\n",
    "                name='fc1'\n",
    "            )\n",
    "            fc2 = tf.layers.dense( # 256 -> 128\n",
    "                inputs=fc1,\n",
    "                units=128,\n",
    "                activation=tf.nn.selu,\n",
    "                name='fc2'\n",
    "            )\n",
    "            return fc2\n",
    "    \n",
    "    def get_embedding_vectors(self, sess, pretrained_embeddings):\n",
    "        return sess.run(self._item_vectors, feed_dict={\n",
    "            self._pretrained_embeddings: pretrained_embeddings,\n",
    "        })"
   ]
  },
  {
   "cell_type": "code",
   "execution_count": 5,
   "metadata": {},
   "outputs": [],
   "source": [
    "MODEL_PATH = '/mnt/workspace/pamessina_models/ugallery/youtube_like/v3_hidelast_usermodelbigger/'"
   ]
  },
  {
   "cell_type": "code",
   "execution_count": 6,
   "metadata": {},
   "outputs": [
    {
     "name": "stdout",
     "output_type": "stream",
     "text": [
      "INFO:tensorflow:Restoring parameters from /mnt/workspace/pamessina_models/ugallery/youtube_like/v3_hidelast_usermodelbigger/\n"
     ]
    }
   ],
   "source": [
    "with tf.Graph().as_default():\n",
    "    network = Network()  \n",
    "    with tf.Session() as sess:\n",
    "        saver = tf.train.Saver()\n",
    "        saver.restore(sess, tf.train.latest_checkpoint(MODEL_PATH))\n",
    "        item_embeddings = network.get_embedding_vectors(sess, resnet50_embeddings)"
   ]
  },
  {
   "cell_type": "code",
   "execution_count": 7,
   "metadata": {},
   "outputs": [
    {
     "data": {
      "text/plain": [
       "(13297, 128)"
      ]
     },
     "execution_count": 7,
     "metadata": {},
     "output_type": "execute_result"
    }
   ],
   "source": [
    "item_embeddings.shape"
   ]
  },
  {
   "cell_type": "code",
   "execution_count": 8,
   "metadata": {},
   "outputs": [],
   "source": [
    "dir_path = \"/mnt/workspace/Ugallery/Youtube-like/v3_hidelast_usermodelbigger/\"\n",
    "os.makedirs(dir_path, exist_ok=True)\n",
    "item_embeddings.dump(dir_path + \"embeddings.npy\")\n",
    "with open(dir_path + 'ids', 'w') as f:\n",
    "    for _id in resnet50_ids:\n",
    "        f.write('%d\\n' % _id)"
   ]
  }
 ],
 "metadata": {
  "kernelspec": {
   "display_name": "Python 3",
   "language": "python",
   "name": "python3"
  },
  "language_info": {
   "codemirror_mode": {
    "name": "ipython",
    "version": 3
   },
   "file_extension": ".py",
   "mimetype": "text/x-python",
   "name": "python",
   "nbconvert_exporter": "python",
   "pygments_lexer": "ipython3",
   "version": "3.5.2"
  }
 },
 "nbformat": 4,
 "nbformat_minor": 2
}
