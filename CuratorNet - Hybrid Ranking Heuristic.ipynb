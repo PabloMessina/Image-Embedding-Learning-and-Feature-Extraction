{
 "cells": [
  {
   "cell_type": "code",
   "execution_count": 1,
   "metadata": {},
   "outputs": [],
   "source": [
    "%load_ext autoreload\n",
    "%autoreload 1"
   ]
  },
  {
   "cell_type": "code",
   "execution_count": 2,
   "metadata": {
    "scrolled": false
   },
   "outputs": [],
   "source": [
    "%aimport utils, Networks"
   ]
  },
  {
   "cell_type": "code",
   "execution_count": 3,
   "metadata": {},
   "outputs": [],
   "source": [
    "import numpy as np\n",
    "import pandas as pd\n",
    "import random\n",
    "import os\n",
    "import time\n",
    "from math import ceil\n",
    "from sklearn.preprocessing import StandardScaler\n",
    "from utils import load_embeddings_and_ids, concatenate_featmats, User, HybridScorer,\\\n",
    "        VisualSimilarityHandler, VisualSimilarityHandler_ContentAndStyle, get_decaying_learning_rates"
   ]
  },
  {
   "cell_type": "code",
   "execution_count": 5,
   "metadata": {},
   "outputs": [],
   "source": [
    "# use a single GPU because we want to be nice with other people :)\n",
    "os.environ[\"CUDA_VISIBLE_DEVICES\"]=\"0\""
   ]
  },
  {
   "cell_type": "markdown",
   "metadata": {},
   "source": [
    "###  Load pre-trained image embeddings"
   ]
  },
  {
   "cell_type": "code",
   "execution_count": 6,
   "metadata": {},
   "outputs": [],
   "source": [
    "resnet50 = load_embeddings_and_ids('/mnt/workspace/Ugallery/ResNet50/', 'flatten_1.npy', 'ids')"
   ]
  },
  {
   "cell_type": "code",
   "execution_count": 7,
   "metadata": {},
   "outputs": [],
   "source": [
    "resnext101 = load_embeddings_and_ids('/mnt/workspace/Ugallery/resnext101_32x8d_wsl/', 'features.npy', 'ids.npy')"
   ]
  },
  {
   "cell_type": "markdown",
   "metadata": {},
   "source": [
    "###  Concatenate embeddings + z-score normalization"
   ]
  },
  {
   "cell_type": "code",
   "execution_count": 8,
   "metadata": {},
   "outputs": [],
   "source": [
    "embedding_list = [\n",
    "    resnet50,\n",
    "    resnext101,\n",
    "]"
   ]
  },
  {
   "cell_type": "code",
   "execution_count": 9,
   "metadata": {},
   "outputs": [
    {
     "data": {
      "text/plain": [
       "13297"
      ]
     },
     "execution_count": 9,
     "metadata": {},
     "output_type": "execute_result"
    }
   ],
   "source": [
    "artwork_ids_set = set()\n",
    "for embedding in embedding_list:\n",
    "    if len(artwork_ids_set) == 0:        \n",
    "        artwork_ids_set.update(embedding['index2id'])\n",
    "    else:\n",
    "        artwork_ids_set.intersection_update(embedding['index2id'])\n",
    "artwork_ids = list(artwork_ids_set)\n",
    "artwork_id2index = {_id:i for i,_id in enumerate(artwork_ids)}\n",
    "n_artworks = len(artwork_ids)\n",
    "n_artworks"
   ]
  },
  {
   "cell_type": "code",
   "execution_count": 10,
   "metadata": {},
   "outputs": [],
   "source": [
    "featmat_list = [tmp['featmat'] for tmp in embedding_list]\n",
    "id2index_list = [tmp['id2index'] for tmp in embedding_list]\n",
    "concat_featmat = concatenate_featmats(artwork_ids, featmat_list, id2index_list)"
   ]
  },
  {
   "cell_type": "code",
   "execution_count": 11,
   "metadata": {},
   "outputs": [],
   "source": [
    "concat_featmat = StandardScaler().fit_transform(concat_featmat)"
   ]
  },
  {
   "cell_type": "code",
   "execution_count": 12,
   "metadata": {},
   "outputs": [
    {
     "data": {
      "text/plain": [
       "(13297, 4096)"
      ]
     },
     "execution_count": 12,
     "metadata": {},
     "output_type": "execute_result"
    }
   ],
   "source": [
    "concat_featmat.shape"
   ]
  },
  {
   "cell_type": "markdown",
   "metadata": {},
   "source": [
    "###  Load clusters"
   ]
  },
  {
   "cell_type": "code",
   "execution_count": 13,
   "metadata": {},
   "outputs": [],
   "source": [
    "import json"
   ]
  },
  {
   "cell_type": "code",
   "execution_count": 14,
   "metadata": {},
   "outputs": [],
   "source": [
    "def load_clusters(json_path):\n",
    "    with open(json_path) as f:\n",
    "        artId2clustId = json.load(f)\n",
    "    cluster_ids = np.full((n_artworks,), -1, dtype=int)\n",
    "    for k, v in artId2clustId.items():\n",
    "        cluster_ids[artwork_id2index[int(k)]] = v\n",
    "    return cluster_ids, artId2clustId"
   ]
  },
  {
   "cell_type": "code",
   "execution_count": 15,
   "metadata": {},
   "outputs": [],
   "source": [
    "def get_art_indexes_per_cluster(cluster_ids, n_clusters):\n",
    "    clusterId2artworkIndexes = [[] for _ in range(n_clusters)]\n",
    "    for i, cluster_id in enumerate(cluster_ids):\n",
    "        clusterId2artworkIndexes[cluster_id].append(i)\n",
    "    return clusterId2artworkIndexes"
   ]
  },
  {
   "cell_type": "code",
   "execution_count": 16,
   "metadata": {},
   "outputs": [],
   "source": [
    "cluster_ids, artId2clustId = load_clusters(\n",
    "    '/mnt/workspace/Ugallery/Clustering/artworkId2clusterId(resnet50+resnext101).json')"
   ]
  },
  {
   "cell_type": "code",
   "execution_count": 17,
   "metadata": {},
   "outputs": [
    {
     "name": "stdout",
     "output_type": "stream",
     "text": [
      "0 99 (13297,)\n"
     ]
    }
   ],
   "source": [
    "print(cluster_ids.min(), cluster_ids.max(), cluster_ids.shape)"
   ]
  },
  {
   "cell_type": "code",
   "execution_count": 18,
   "metadata": {},
   "outputs": [
    {
     "data": {
      "text/plain": [
       "100"
      ]
     },
     "execution_count": 18,
     "metadata": {},
     "output_type": "execute_result"
    }
   ],
   "source": [
    "n_clusters = len(set(cluster_ids))\n",
    "n_clusters"
   ]
  },
  {
   "cell_type": "code",
   "execution_count": 19,
   "metadata": {},
   "outputs": [],
   "source": [
    "clustId2artIndexes = get_art_indexes_per_cluster(cluster_ids, n_clusters)"
   ]
  },
  {
   "cell_type": "markdown",
   "metadata": {},
   "source": [
    "###  Load PCA200 embeddings"
   ]
  },
  {
   "cell_type": "code",
   "execution_count": 20,
   "metadata": {},
   "outputs": [],
   "source": [
    "pca200 = load_embeddings_and_ids(\n",
    "    '/mnt/workspace/Ugallery/PCA200(resnet50+resnext101)/',\n",
    "    'embeddings.npy',\n",
    "    'ids.npy',\n",
    ")"
   ]
  },
  {
   "cell_type": "code",
   "execution_count": 21,
   "metadata": {},
   "outputs": [],
   "source": [
    "pca200_embeddings = pca200['featmat']\n",
    "pca200_index2id = pca200['index2id']\n",
    "pca200_id2index = pca200['id2index']"
   ]
  },
  {
   "cell_type": "code",
   "execution_count": 22,
   "metadata": {},
   "outputs": [],
   "source": [
    "assert np.array_equal(artwork_ids, pca200_index2id)"
   ]
  },
  {
   "cell_type": "markdown",
   "metadata": {},
   "source": [
    "###  Load transactions"
   ]
  },
  {
   "cell_type": "code",
   "execution_count": 23,
   "metadata": {},
   "outputs": [],
   "source": [
    "sales_df = pd.read_csv('./data/valid_sales.csv')\n",
    "artworks_df = pd.read_csv('./data/valid_artworks.csv')"
   ]
  },
  {
   "cell_type": "code",
   "execution_count": 24,
   "metadata": {},
   "outputs": [],
   "source": [
    "artist_ids = np.full((n_artworks,), -1, dtype=int)\n",
    "for _artworkId, _artistId in zip(artworks_df.id, artworks_df.artist_id):\n",
    "    i = artwork_id2index[_artworkId]\n",
    "    artist_ids[i] = _artistId"
   ]
  },
  {
   "cell_type": "code",
   "execution_count": 25,
   "metadata": {},
   "outputs": [],
   "source": [
    "artistId2artworkIndexes = dict()\n",
    "for i, _artistId in enumerate(artist_ids):\n",
    "    if _artistId == -1:\n",
    "        continue\n",
    "    try:\n",
    "        artistId2artworkIndexes[_artistId].append(i)\n",
    "    except KeyError:\n",
    "        artistId2artworkIndexes[_artistId] = [i]"
   ]
  },
  {
   "cell_type": "markdown",
   "metadata": {},
   "source": [
    "### Collect transactions per user (making sure we hide the last nonfirst purchase basket per user)"
   ]
  },
  {
   "cell_type": "markdown",
   "metadata": {},
   "source": [
    "#### create list of users"
   ]
  },
  {
   "cell_type": "code",
   "execution_count": 26,
   "metadata": {},
   "outputs": [
    {
     "data": {
      "text/plain": [
       "2919"
      ]
     },
     "execution_count": 26,
     "metadata": {},
     "output_type": "execute_result"
    }
   ],
   "source": [
    "user_ids = sales_df.customer_id.unique()\n",
    "user_id2index = { _id:i for i,_id in enumerate(user_ids) }\n",
    "users = [User(uid) for uid in user_ids]\n",
    "n_users = len(user_ids)\n",
    "n_users"
   ]
  },
  {
   "cell_type": "markdown",
   "metadata": {},
   "source": [
    "#### collect and sanity check transactions per user"
   ]
  },
  {
   "cell_type": "code",
   "execution_count": 27,
   "metadata": {},
   "outputs": [],
   "source": [
    "sorted_sales_df = sales_df.sort_values('order_date')"
   ]
  },
  {
   "cell_type": "code",
   "execution_count": 28,
   "metadata": {},
   "outputs": [],
   "source": [
    "# clear structures to prevent possible duplicate elements\n",
    "for user in users:\n",
    "    user.clear()\n",
    "\n",
    "# collect transactions per user sorted by timestamp\n",
    "for uid, aid, t in zip(sorted_sales_df.customer_id,\n",
    "                       sorted_sales_df.artwork_id,\n",
    "                       sorted_sales_df.order_date):\n",
    "    users[user_id2index[uid]].append_transaction(\n",
    "        aid, t, artwork_id2index, artist_ids, cluster_ids, cluster_ids)\n",
    "    assert users[user_id2index[uid]]._uid == uid\n",
    "    \n",
    "# bin transctions with same timestamps into purchase baskets\n",
    "for user in users:\n",
    "    user.build_purchase_baskets()\n",
    "    user.sanity_check_purchase_baskets()\n",
    "    user.remove_last_nonfirst_purchase_basket(\n",
    "        artwork_id2index, artist_ids, cluster_ids, cluster_ids)\n",
    "    user.sanity_check_purchase_baskets()\n",
    "    user.refresh_nonpurchased_cluster_ids(n_clusters, n_clusters)\n",
    "    user.refresh_cluster_ids()\n",
    "    user.refresh_artist_ids()"
   ]
  },
  {
   "cell_type": "markdown",
   "metadata": {},
   "source": [
    "### Generate training data"
   ]
  },
  {
   "cell_type": "code",
   "execution_count": 29,
   "metadata": {},
   "outputs": [],
   "source": [
    "_MOD = 402653189\n",
    "_BASE = 92821\n",
    "def hash_triple(profile, pi, ni):\n",
    "    h = 0\n",
    "    for x in profile:\n",
    "        h = ((h * _BASE) % _MOD + x) % _MOD\n",
    "    h = ((h * _BASE) % _MOD + pi) % _MOD\n",
    "    h = ((h * _BASE) % _MOD + ni) % _MOD\n",
    "    return h"
   ]
  },
  {
   "cell_type": "code",
   "execution_count": 30,
   "metadata": {},
   "outputs": [],
   "source": [
    "def sanity_check_instance(instance, pos_in_profile=True, profile_set=None):\n",
    "    profile, pi, ni, ui = instance\n",
    "    try:\n",
    "        assert 0 <= pi < n_artworks\n",
    "        assert 0 <= ni < n_artworks\n",
    "        assert pi != ni        \n",
    "        assert not vissimhandler.same(pi,ni)\n",
    "        if ui == -1: return\n",
    "        \n",
    "        assert 0 <= ui < n_users\n",
    "        user = users[ui]\n",
    "        assert all(i in user.artwork_idxs_set for i in profile)\n",
    "        user_profile = user.artwork_idxs_set if profile_set is None else profile_set\n",
    "        assert ni not in user_profile\n",
    "        if pos_in_profile is not None:\n",
    "            assert (pi in user_profile) == pos_in_profile\n",
    "        spi = hybrid_scorer.get_score(ui, user.artwork_idxs, pi)\n",
    "        sni = hybrid_scorer.get_score(ui, user.artwork_idxs, ni)\n",
    "        assert spi > sni\n",
    "\n",
    "    except AssertionError:\n",
    "        print('profile = ', profile)\n",
    "        print('pi = ', pi)\n",
    "        print('ni = ', ni)\n",
    "        print('ui = ', ui)\n",
    "        raise"
   ]
  },
  {
   "cell_type": "code",
   "execution_count": 31,
   "metadata": {},
   "outputs": [],
   "source": [
    "def append_instance(container, instance, **kwargs):\n",
    "    global _hash_collisions\n",
    "    profile, pi, ni, ui = instance\n",
    "    \n",
    "    h = hash_triple(profile, pi, ni)\n",
    "    if h in used_hashes:\n",
    "        _hash_collisions += 1\n",
    "        return False\n",
    "    \n",
    "    if vissimhandler.same(pi, ni):\n",
    "        return False\n",
    "    \n",
    "    sanity_check_instance(instance, **kwargs)\n",
    "    container.append(instance)\n",
    "    used_hashes.add(h)\n",
    "    return True"
   ]
  },
  {
   "cell_type": "code",
   "execution_count": 32,
   "metadata": {},
   "outputs": [],
   "source": [
    "def print_triple(t):\n",
    "    profile, pi, ni, ui = t\n",
    "    print ('profile = ', [artwork_ids[i] for i in profile])\n",
    "    print ('pi = ', artwork_ids[pi])\n",
    "    print ('ni = ', artwork_ids[ni])\n",
    "    print ('ui = ', user_ids[ui] if ui != -1 else -1)"
   ]
  },
  {
   "cell_type": "code",
   "execution_count": 33,
   "metadata": {},
   "outputs": [],
   "source": [
    "def print_num_samples(sampler_func):\n",
    "    def wrapper(instances_container, n_samples):        \n",
    "        while True:\n",
    "            len_before = len(instances_container)\n",
    "            sampler_func(instances_container, n_samples)\n",
    "            actual_samples = len(instances_container) - len_before\n",
    "            delta = n_samples - actual_samples\n",
    "            print('  target samples: %d' % n_samples)\n",
    "            print('  actual samples: %d' % actual_samples)\n",
    "            print('  delta: %d' % (delta))\n",
    "            if delta <= 0: break\n",
    "            print('  ** delta > 0 -> sampling more instances again ...')\n",
    "            n_samples = delta\n",
    "    return wrapper"
   ]
  },
  {
   "cell_type": "code",
   "execution_count": 34,
   "metadata": {},
   "outputs": [],
   "source": [
    "FINE_GRAINED_THRESHOLD = 0.7\n",
    "ARTIST_BOOST = 0.2\n",
    "CONFIDENCE_MARGIN = 0.18"
   ]
  },
  {
   "cell_type": "code",
   "execution_count": 35,
   "metadata": {},
   "outputs": [],
   "source": [
    "vissimhandler = VisualSimilarityHandler(cluster_ids, pca200_embeddings)"
   ]
  },
  {
   "cell_type": "code",
   "execution_count": 36,
   "metadata": {},
   "outputs": [],
   "source": [
    "hybrid_scorer = HybridScorer(vissimhandler, artist_ids, artist_boost=ARTIST_BOOST)"
   ]
  },
  {
   "cell_type": "code",
   "execution_count": 37,
   "metadata": {},
   "outputs": [],
   "source": [
    "vissimhandler.count = 0\n",
    "used_hashes = set()\n",
    "_hash_collisions = 0\n",
    "train_instances = []\n",
    "test_instances = []"
   ]
  },
  {
   "cell_type": "code",
   "execution_count": 38,
   "metadata": {},
   "outputs": [
    {
     "name": "stdout",
     "output_type": "stream",
     "text": [
      "0 0\n",
      "5000000 250000\n"
     ]
    }
   ],
   "source": [
    "N_STRATEGIES_FAKE = 2\n",
    "N_STRATEGIES_REAL = 2\n",
    "FAKE_COEF = 0.\n",
    "TOTAL_SAMPLES__TRAIN = 10000000\n",
    "TOTAL_SAMPLES__TEST =  TOTAL_SAMPLES__TRAIN * 0.05\n",
    "\n",
    "N_SAMPLES_PER_FAKE_STRATEGY__TRAIN = ceil(TOTAL_SAMPLES__TRAIN * FAKE_COEF / N_STRATEGIES_FAKE)\n",
    "N_SAMPLES_PER_FAKE_STRATEGY__TEST = ceil(TOTAL_SAMPLES__TEST * FAKE_COEF / N_STRATEGIES_FAKE)\n",
    "N_SAMPLES_PER_REAL_STRATEGY__TRAIN = ceil(TOTAL_SAMPLES__TRAIN * (1. - FAKE_COEF) / N_STRATEGIES_REAL)\n",
    "N_SAMPLES_PER_REAL_STRATEGY__TEST = ceil(TOTAL_SAMPLES__TEST * (1. - FAKE_COEF) / N_STRATEGIES_REAL)\n",
    "\n",
    "print(N_SAMPLES_PER_FAKE_STRATEGY__TRAIN, N_SAMPLES_PER_FAKE_STRATEGY__TEST)\n",
    "print(N_SAMPLES_PER_REAL_STRATEGY__TRAIN, N_SAMPLES_PER_REAL_STRATEGY__TEST)"
   ]
  },
  {
   "cell_type": "markdown",
   "metadata": {},
   "source": [
    "## Sampling Triplets for Ranking"
   ]
  },
  {
   "cell_type": "markdown",
   "metadata": {},
   "source": [
    "#### 1) given profile, recommend profile (real users)\n",
    "Given a user's profile, all items in the profile should be ranked higher than items outside the profile (as long as the hybrid scorer agrees)"
   ]
  },
  {
   "cell_type": "code",
   "execution_count": 39,
   "metadata": {},
   "outputs": [],
   "source": [
    "def sample_artwork_index(i):\n",
    "    if random.random() <= FINE_GRAINED_THRESHOLD:\n",
    "        if artist_ids[i] == -1 or random.random() <= 0.5:\n",
    "            j = random.choice(clustId2artIndexes[cluster_ids[i]])\n",
    "        else:\n",
    "            j = random.choice(artistId2artworkIndexes[artist_ids[i]])\n",
    "    else:\n",
    "        c = random.randint(0, n_clusters-1)\n",
    "        j = random.choice(clustId2artIndexes[c])\n",
    "    return j"
   ]
  },
  {
   "cell_type": "code",
   "execution_count": 40,
   "metadata": {},
   "outputs": [],
   "source": [
    "def sample_artwork_index__outsideprofile(profile_set, pi):\n",
    "    while True:\n",
    "        ni = sample_artwork_index(pi)\n",
    "        if ni not in profile_set:\n",
    "            return ni"
   ]
  },
  {
   "cell_type": "code",
   "execution_count": 41,
   "metadata": {},
   "outputs": [],
   "source": [
    "@print_num_samples\n",
    "def generate_samples__rank_profile_above_nonprofile(instances_container, n_samples):\n",
    "    n_samples_per_user = ceil(n_samples / n_users)    \n",
    "    for ui, user in enumerate(users):\n",
    "        profile = user.artwork_idxs\n",
    "        profile_set = user.artwork_idxs_set        \n",
    "        n = n_samples_per_user\n",
    "        while n > 0:\n",
    "            pi = random.choice(profile)\n",
    "            ni = sample_artwork_index__outsideprofile(profile_set, pi)\n",
    "            spi = hybrid_scorer.get_score(ui, profile, pi)\n",
    "            sni = hybrid_scorer.get_score(ui, profile, ni)\n",
    "            if spi <= sni: continue\n",
    "            if append_instance(instances_container, (profile, pi, ni, ui),\n",
    "                               pos_in_profile=True,\n",
    "                               profile_set=profile_set):\n",
    "                    n -= 1"
   ]
  },
  {
   "cell_type": "code",
   "execution_count": 42,
   "metadata": {
    "scrolled": false
   },
   "outputs": [
    {
     "name": "stdout",
     "output_type": "stream",
     "text": [
      "=======================================\n",
      "sampling train instances ...\n",
      "  target samples: 5000000\n",
      "  actual samples: 5000247\n",
      "  delta: -247\n",
      "=======================================\n",
      "sampling test instances ...\n",
      "  target samples: 250000\n",
      "  actual samples: 251034\n",
      "  delta: -1034\n",
      "5000247 251034\n",
      "hash_collisions =  10996683\n",
      "visual_collisions =  0\n"
     ]
    }
   ],
   "source": [
    "print('=======================================\\nsampling train instances ...')\n",
    "generate_samples__rank_profile_above_nonprofile(\n",
    "    train_instances, n_samples=N_SAMPLES_PER_REAL_STRATEGY__TRAIN)\n",
    "\n",
    "print('=======================================\\nsampling test instances ...')\n",
    "generate_samples__rank_profile_above_nonprofile(\n",
    "    test_instances, n_samples=N_SAMPLES_PER_REAL_STRATEGY__TEST)\n",
    "\n",
    "print(len(train_instances), len(test_instances))\n",
    "print('hash_collisions = ', _hash_collisions)\n",
    "print('visual_collisions = ', vissimhandler.count)"
   ]
  },
  {
   "cell_type": "markdown",
   "metadata": {},
   "source": [
    "##### 2) Given profile, recommend profile (fake 1-item profiles)\n",
    "Given a fake profile of a single item, such item should be ranked higher than any other item"
   ]
  },
  {
   "cell_type": "code",
   "execution_count": 43,
   "metadata": {},
   "outputs": [],
   "source": [
    "def sample_artwork_index__nonidentical(i):\n",
    "    while True:\n",
    "        j = sample_artwork_index(i)\n",
    "        if j != i: return j"
   ]
  },
  {
   "cell_type": "code",
   "execution_count": 44,
   "metadata": {},
   "outputs": [],
   "source": [
    "@print_num_samples\n",
    "def generate_samples__rank_single_item_above_anything_else(instances_container, n_samples):\n",
    "    n_samples_per_item = ceil(n_samples / n_artworks)\n",
    "    for pi in range(n_artworks):\n",
    "        profile = (pi,)\n",
    "        n = n_samples_per_item\n",
    "        while n > 0:\n",
    "            ni = sample_artwork_index__nonidentical(pi)\n",
    "            if append_instance(instances_container, (profile, pi, ni, -1)):\n",
    "                n -= 1"
   ]
  },
  {
   "cell_type": "code",
   "execution_count": 45,
   "metadata": {
    "scrolled": false
   },
   "outputs": [
    {
     "name": "stdout",
     "output_type": "stream",
     "text": [
      "=======================================\n",
      "sampling train instances ...\n",
      "  target samples: 0\n",
      "  actual samples: 0\n",
      "  delta: 0\n",
      "=======================================\n",
      "sampling test instances ...\n",
      "  target samples: 0\n",
      "  actual samples: 0\n",
      "  delta: 0\n",
      "5000247 251034\n",
      "hash_collisions =  10996683\n",
      "visual_collisions =  0\n"
     ]
    }
   ],
   "source": [
    "print('=======================================\\nsampling train instances ...')\n",
    "generate_samples__rank_single_item_above_anything_else(\n",
    "    train_instances, n_samples=N_SAMPLES_PER_FAKE_STRATEGY__TRAIN)\n",
    "\n",
    "print('=======================================\\nsampling test instances ...')\n",
    "generate_samples__rank_single_item_above_anything_else(\n",
    "    test_instances, n_samples=N_SAMPLES_PER_FAKE_STRATEGY__TEST)\n",
    "\n",
    "print(len(train_instances), len(test_instances))\n",
    "print('hash_collisions = ', _hash_collisions)\n",
    "print('visual_collisions = ', vissimhandler.count)"
   ]
  },
  {
   "cell_type": "markdown",
   "metadata": {},
   "source": [
    "##### 3) Recommend outside profile items according to hybrid recommender (real users)\n",
    "Given a user and two items outside the user's profile, the two items should be ranked according to the hybrid recommender (if a certain margin of confidence is met)"
   ]
  },
  {
   "cell_type": "code",
   "execution_count": 46,
   "metadata": {},
   "outputs": [],
   "source": [
    "def sample_artwork_index__outside_profile(\n",
    "        artists_list, clusters_list, profile_set):\n",
    "    while True:\n",
    "        if random.random() <= FINE_GRAINED_THRESHOLD:\n",
    "            if random.random() <= 0.5:\n",
    "                a = random.choice(artists_list)\n",
    "                i = random.choice(artistId2artworkIndexes[a])\n",
    "            else:\n",
    "                c = random.choice(clusters_list)\n",
    "                i = random.choice(clustId2artIndexes[c])\n",
    "        else:\n",
    "            c = random.randint(0, n_clusters-1)\n",
    "            i = random.choice(clustId2artIndexes[c])\n",
    "        if i not in profile_set: return i"
   ]
  },
  {
   "cell_type": "code",
   "execution_count": 47,
   "metadata": {},
   "outputs": [],
   "source": [
    "@print_num_samples\n",
    "def generate_samples__outside_profile__real_users(\n",
    "        instances_container, n_samples):\n",
    "    \n",
    "    n_samples_per_user = ceil(n_samples / n_users)\n",
    "    debug = 0\n",
    "    for ui, user in enumerate(users):        \n",
    "        profile = user.artwork_idxs\n",
    "        profile_set = user.artwork_idxs_set\n",
    "        artists_list = user.artist_ids\n",
    "        clusters_list = user.content_cluster_ids\n",
    "        n = n_samples_per_user\n",
    "        user_margin = CONFIDENCE_MARGIN / len(profile)\n",
    "        while n > 0:\n",
    "            pi = sample_artwork_index__outside_profile(artists_list, clusters_list, profile_set)\n",
    "            ni = sample_artwork_index__outside_profile(artists_list, clusters_list, profile_set)\n",
    "            if pi == ni: continue\n",
    "            pi_score = hybrid_scorer.get_score(ui, profile, pi)\n",
    "            ni_score = hybrid_scorer.get_score(ui, profile, ni)\n",
    "            if pi_score < ni_score:\n",
    "                pi_score, ni_score = ni_score, pi_score\n",
    "                pi, ni = ni, pi\n",
    "            if pi_score < ni_score + user_margin: continue\n",
    "            if append_instance(instances_container, (profile, pi, ni, ui),\n",
    "                               profile_set=profile_set, pos_in_profile=False):                \n",
    "                n -= 1\n",
    "                if n == 0 or debug % 1000 == 0:\n",
    "                    print('debug: user %d/%d : n=%d' % (ui, len(users), n), flush=True, end='\\r')\n",
    "                debug += 1"
   ]
  },
  {
   "cell_type": "code",
   "execution_count": 48,
   "metadata": {
    "scrolled": false
   },
   "outputs": [
    {
     "name": "stdout",
     "output_type": "stream",
     "text": [
      "=======================================\n",
      "sampling train instances ...\n",
      "  target samples: 5000000=0466\n",
      "  actual samples: 5000247\n",
      "  delta: -247\n",
      "=======================================\n",
      "sampling test instances ...\n",
      "  target samples: 250000n=03\n",
      "  actual samples: 251034\n",
      "  delta: -1034\n",
      "10000494 502068\n",
      "hash_collisions =  11525962\n",
      "visual_collisions =  0\n"
     ]
    }
   ],
   "source": [
    "print('=======================================\\nsampling train instances ...')\n",
    "generate_samples__outside_profile__real_users(\n",
    "    train_instances, n_samples=N_SAMPLES_PER_REAL_STRATEGY__TRAIN)\n",
    "\n",
    "print('=======================================\\nsampling test instances ...')\n",
    "generate_samples__outside_profile__real_users(\n",
    "    test_instances, n_samples=N_SAMPLES_PER_REAL_STRATEGY__TEST)\n",
    "\n",
    "print(len(train_instances), len(test_instances))\n",
    "print('hash_collisions = ', _hash_collisions)\n",
    "print('visual_collisions = ', vissimhandler.count)"
   ]
  },
  {
   "cell_type": "markdown",
   "metadata": {},
   "source": [
    "##### 4) Recommend outside profile items according to hybrid recommender (fake 1-item profiles)\n",
    "Given a fake profile of a single item, two other items should be ranked according to the hybrid recommender (provided that a certain margin of confidence is met)"
   ]
  },
  {
   "cell_type": "code",
   "execution_count": 49,
   "metadata": {},
   "outputs": [],
   "source": [
    "@print_num_samples\n",
    "def generate_samples__outside_profile__fake_users(\n",
    "        instances_container, n_samples):\n",
    "    \n",
    "    n_samples_per_item = ceil(n_samples / n_artworks)\n",
    "    for i in range(n_artworks):\n",
    "        n = n_samples_per_item\n",
    "        profile = (i,)\n",
    "        while n > 0:\n",
    "            pi = sample_artwork_index__nonidentical(i)\n",
    "            ni = sample_artwork_index__nonidentical(i)\n",
    "            pi_score = hybrid_scorer.simfunc(i, pi)\n",
    "            ni_score = hybrid_scorer.simfunc(i, ni)            \n",
    "            if pi_score < ni_score:\n",
    "                pi_score, ni_score = ni_score, pi_score\n",
    "                pi, ni = ni, pi\n",
    "            if pi_score < ni_score + CONFIDENCE_MARGIN: continue\n",
    "            if append_instance(instances_container, (profile, pi, ni, -1)):\n",
    "                n -= 1"
   ]
  },
  {
   "cell_type": "code",
   "execution_count": 50,
   "metadata": {
    "scrolled": false
   },
   "outputs": [
    {
     "name": "stdout",
     "output_type": "stream",
     "text": [
      "=======================================\n",
      "sampling train instances ...\n",
      "  target samples: 0\n",
      "  actual samples: 0\n",
      "  delta: 0\n",
      "=======================================\n",
      "sampling test instances ...\n",
      "  target samples: 0\n",
      "  actual samples: 0\n",
      "  delta: 0\n",
      "10000494 502068\n",
      "hash_collisions =  11525962\n",
      "visual_collisions =  0\n"
     ]
    }
   ],
   "source": [
    "print('=======================================\\nsampling train instances ...')\n",
    "generate_samples__outside_profile__fake_users(\n",
    "    train_instances, n_samples=N_SAMPLES_PER_FAKE_STRATEGY__TRAIN)\n",
    "\n",
    "print('=======================================\\nsampling test instances ...')\n",
    "generate_samples__outside_profile__fake_users(\n",
    "    test_instances, n_samples=N_SAMPLES_PER_FAKE_STRATEGY__TEST)\n",
    "\n",
    "print(len(train_instances), len(test_instances))\n",
    "print('hash_collisions = ', _hash_collisions)\n",
    "print('visual_collisions = ', vissimhandler.count)"
   ]
  },
  {
   "cell_type": "code",
   "execution_count": 51,
   "metadata": {},
   "outputs": [
    {
     "data": {
      "text/plain": [
       "13607"
      ]
     },
     "execution_count": 51,
     "metadata": {},
     "output_type": "execute_result"
    }
   ],
   "source": [
    "artist_ids[595]"
   ]
  },
  {
   "cell_type": "code",
   "execution_count": 52,
   "metadata": {},
   "outputs": [
    {
     "data": {
      "text/plain": [
       "0.608797301113996"
      ]
     },
     "execution_count": 52,
     "metadata": {},
     "output_type": "execute_result"
    }
   ],
   "source": [
    "hybrid_scorer.simfunc(13296, 1223)"
   ]
  },
  {
   "cell_type": "code",
   "execution_count": 53,
   "metadata": {},
   "outputs": [
    {
     "name": "stdout",
     "output_type": "stream",
     "text": [
      "profile =  [31112, 43633]\n",
      "pi =  27685\n",
      "ni =  29033\n",
      "ui =  37364\n"
     ]
    }
   ],
   "source": [
    "print_triple(test_instances[-214757])"
   ]
  },
  {
   "cell_type": "markdown",
   "metadata": {},
   "source": [
    "#### sort train and test instances by profile size"
   ]
  },
  {
   "cell_type": "code",
   "execution_count": 51,
   "metadata": {},
   "outputs": [],
   "source": [
    "random.shuffle(train_instances)\n",
    "train_instances.sort(key=lambda x: len(x[0]))\n",
    "test_instances.sort(key=lambda x: len(x[0]))"
   ]
  },
  {
   "cell_type": "markdown",
   "metadata": {},
   "source": [
    "### Train Model"
   ]
  },
  {
   "cell_type": "code",
   "execution_count": 52,
   "metadata": {},
   "outputs": [],
   "source": [
    "def generate_minibatches(tuples, max_users_items_per_batch):\n",
    "    ui_count = 0\n",
    "    offset = 0\n",
    "    \n",
    "    batch_ranges = []\n",
    "    for i, t in enumerate(tuples):\n",
    "        ui_count += len(t[0]) + 3\n",
    "        if ui_count > max_users_items_per_batch:\n",
    "            batch_ranges.append((offset, i))\n",
    "            ui_count = len(t[0]) + 3\n",
    "            offset = i\n",
    "            assert ui_count <= max_users_items_per_batch\n",
    "    assert offset < len(tuples)\n",
    "    batch_ranges.append((offset, len(tuples)))\n",
    "            \n",
    "    n_tuples = len(tuples)\n",
    "    n_batches = len(batch_ranges)\n",
    "    print('n_tuples = ', n_tuples)\n",
    "    print('n_batches = ', n_batches)\n",
    "    \n",
    "    assert batch_ranges[0][0] == 0\n",
    "    assert all(batch_ranges[i][1] == batch_ranges[i+1][0] for i in range(n_batches-1))\n",
    "    assert batch_ranges[-1][1] == n_tuples\n",
    "    assert sum(b[1] - b[0] for b in batch_ranges) == n_tuples\n",
    "    \n",
    "    profile_indexes_batches = [None] * n_batches\n",
    "    profile_size_batches = [None] * n_batches\n",
    "    positive_index_batches = [None] * n_batches\n",
    "    negative_index_batches = [None] * n_batches\n",
    "    \n",
    "    for i, (jmin, jmax) in enumerate(batch_ranges):\n",
    "        actual_batch_size = jmax - jmin\n",
    "        profile_maxlen = max(len(tuples[j][0]) for j in range(jmin, jmax))\n",
    "        profile_indexes_batch = np.full((actual_batch_size, profile_maxlen), 0, dtype=int)\n",
    "        profile_size_batch = np.empty((actual_batch_size,))\n",
    "        positive_index_batch = np.empty((actual_batch_size,), dtype=int)\n",
    "        negative_index_batch = np.empty((actual_batch_size,), dtype=int)\n",
    "        \n",
    "        for j in range(actual_batch_size):\n",
    "            # profile indexes\n",
    "            for k,v in enumerate(tuples[jmin+j][0]):\n",
    "                profile_indexes_batch[j][k] = v\n",
    "            # profile size\n",
    "            profile_size_batch[j] = len(tuples[jmin+j][0])        \n",
    "            # positive index\n",
    "            positive_index_batch[j] = tuples[jmin+j][1]\n",
    "            # negative index\n",
    "            negative_index_batch[j] = tuples[jmin+j][2]\n",
    "            \n",
    "        profile_indexes_batches[i] = profile_indexes_batch\n",
    "        profile_size_batches[i] = profile_size_batch\n",
    "        positive_index_batches[i] = positive_index_batch\n",
    "        negative_index_batches[i] = negative_index_batch\n",
    "        \n",
    "    return dict(\n",
    "        profile_indexes_batches = profile_indexes_batches,\n",
    "        profile_size_batches    = profile_size_batches,\n",
    "        positive_index_batches  = positive_index_batches,\n",
    "        negative_index_batches  = negative_index_batches,\n",
    "        n_batches               = n_batches,\n",
    "    )"
   ]
  },
  {
   "cell_type": "code",
   "execution_count": 53,
   "metadata": {},
   "outputs": [],
   "source": [
    "def sanity_check_minibatches(minibatches):\n",
    "    profile_indexes_batches = minibatches['profile_indexes_batches']\n",
    "    profile_size_batches = minibatches['profile_size_batches']\n",
    "    positive_index_batches = minibatches['positive_index_batches']\n",
    "    negative_index_batches = minibatches['negative_index_batches']\n",
    "    n_batches = minibatches['n_batches']\n",
    "    assert n_batches == len(profile_indexes_batches)\n",
    "    assert n_batches == len(profile_size_batches)\n",
    "    assert n_batches == len(positive_index_batches)\n",
    "    assert n_batches == len(negative_index_batches)\n",
    "    assert n_batches > 0\n",
    "    \n",
    "    for profile_indexes, profile_size, positive_index, negative_index in zip(\n",
    "        profile_indexes_batches,\n",
    "        profile_size_batches,\n",
    "        positive_index_batches,\n",
    "        negative_index_batches\n",
    "    ):\n",
    "        n = profile_size.shape[0]\n",
    "        assert n == profile_indexes.shape[0]\n",
    "        assert n == positive_index.shape[0]\n",
    "        assert n == negative_index.shape[0]\n",
    "        \n",
    "        for i in range(n):\n",
    "            assert positive_index[i] != negative_index[i]\n",
    "            psz = int(profile_size[i])\n",
    "            m = profile_indexes[i].shape[0]\n",
    "            assert psz <= m\n",
    "            for j in range(psz, m):\n",
    "                assert profile_indexes[i][j] == 0"
   ]
  },
  {
   "cell_type": "code",
   "execution_count": 54,
   "metadata": {},
   "outputs": [],
   "source": [
    "import tensorflow as tf\n",
    "from Networks import CuratorNet_Train, TrainLogger"
   ]
  },
  {
   "cell_type": "code",
   "execution_count": 55,
   "metadata": {
    "scrolled": false
   },
   "outputs": [],
   "source": [
    "# # DEBUGGING NETWORK\n",
    "# with tf.Graph().as_default():\n",
    "#     network = CuratorNet_Train(\n",
    "#         pretrained_embedding_dim=concat_featmat.shape[1],\n",
    "#         user_layer_units=[300, 300, 200],\n",
    "#         item_layer_units=[200, 200],\n",
    "#         weight_decay=0.0001,\n",
    "#         profile_pooling_mode='AVG+MAX',\n",
    "#     )\n",
    "#     with tf.Session() as sess:\n",
    "#         sess.run(tf.global_variables_initializer())\n",
    "#         debug_ = sess.run(\n",
    "#             [network._profile_masks__avgpool,\n",
    "#              network._profile_masks__maxpool,\n",
    "#              network._masked_profile_item_embeddings__avgpool,\n",
    "#              network._masked_profile_item_embeddings__maxpool,\n",
    "#              network._profile_items_avgpool,\n",
    "#              network._profile_items_maxpool,\n",
    "#             ], feed_dict={\n",
    "#                 network._pretrained_embeddings: concat_featmat,\n",
    "#                 network._profile_item_indexes: [[0,1,2,9,9,9], [1,2,3,4,5,6]],\n",
    "#                 network._profile_sizes: [3,6],\n",
    "#             }\n",
    "#         )\n",
    "#         for x in tf.global_variables():\n",
    "#             print(x)        \n",
    "# #         for op in sess.graph.get_operations():\n",
    "# #             print(op.name)"
   ]
  },
  {
   "cell_type": "code",
   "execution_count": 56,
   "metadata": {
    "scrolled": true
   },
   "outputs": [],
   "source": [
    "def train_network(train_minibatches, test_minibatches,\n",
    "                  n_train_instances, n_test_instances, batch_size,\n",
    "                  pretrained_embeddings,\n",
    "                  user_layer_units,\n",
    "                  item_layer_units,\n",
    "                  profile_pooling_mode,\n",
    "                  model_path,\n",
    "                  max_seconds_training=3600,\n",
    "                  min_seconds_to_check_improvement=60,\n",
    "                  early_stopping_checks=4,\n",
    "                  weight_decay=0.001,\n",
    "                  learning_rates=[1e-3]):\n",
    "    \n",
    "    n_train_batches = train_minibatches['n_batches']\n",
    "    n_test_batches = test_minibatches['n_batches']\n",
    "    \n",
    "    print('learning_rates = ', learning_rates)\n",
    "    \n",
    "    with tf.Graph().as_default():\n",
    "        network = CuratorNet_Train(\n",
    "            pretrained_embedding_dim=pretrained_embeddings.shape[1],\n",
    "            user_layer_units=user_layer_units,\n",
    "            item_layer_units=item_layer_units,\n",
    "            weight_decay=weight_decay,\n",
    "            profile_pooling_mode=profile_pooling_mode,\n",
    "        )\n",
    "        \n",
    "        print('Variables to be trained:')\n",
    "        for x in tf.global_variables():\n",
    "            print('\\t', x)            \n",
    "        \n",
    "        gpu_options = tf.GPUOptions(\n",
    "            per_process_gpu_memory_fraction=0.99,\n",
    "            allow_growth=True\n",
    "        )\n",
    "        config = tf.ConfigProto(gpu_options=gpu_options)\n",
    "        with tf.Session(config=config) as sess:\n",
    "            try:\n",
    "                saver = tf.train.Saver()            \n",
    "                saver.restore(sess, tf.train.latest_checkpoint(model_path))\n",
    "                print('model successfully restored from checkpoint!')\n",
    "            except ValueError:\n",
    "                print('no checkpoint found: initializing variables with random values')\n",
    "                os.makedirs(model_path, exist_ok=True)\n",
    "                sess.run(tf.global_variables_initializer())            \n",
    "            trainlogger = TrainLogger(model_path + 'train_logs.csv')\n",
    "\n",
    "            # ========= BEFORE TRAINING ============\n",
    "            \n",
    "            initial_test_acc = 0.\n",
    "            for profile_indexes, profile_size, positive_index, negative_index in zip(\n",
    "                test_minibatches['profile_indexes_batches'],\n",
    "                test_minibatches['profile_size_batches'],\n",
    "                test_minibatches['positive_index_batches'],\n",
    "                test_minibatches['negative_index_batches']\n",
    "            ):\n",
    "                minibatch_test_acc = network.get_test_accuracy(\n",
    "                    sess, pretrained_embeddings, profile_indexes, profile_size, positive_index, negative_index)\n",
    "                initial_test_acc += minibatch_test_acc\n",
    "            initial_test_acc /= n_test_instances\n",
    "\n",
    "            print(\"Before training: test_accuracy = %f\" % initial_test_acc)\n",
    "            \n",
    "            best_test_acc = initial_test_acc\n",
    "            seconds_training = 0\n",
    "            elapsed_seconds_from_last_check = 0\n",
    "            checks_with_no_improvement = 0\n",
    "            last_improvement_loss = None\n",
    "            \n",
    "            # ========= TRAINING ============\n",
    "            \n",
    "            print ('Starting training ...')\n",
    "            n_lr = len(learning_rates)\n",
    "            lr_i = 0\n",
    "            train_loss_ema = 0. # exponential moving average\n",
    "            \n",
    "            while seconds_training < max_seconds_training:\n",
    "                \n",
    "                for train_i, (profile_indexes, profile_size, positive_index, negative_index) in enumerate(zip(\n",
    "                    train_minibatches['profile_indexes_batches'],\n",
    "                    train_minibatches['profile_size_batches'],\n",
    "                    train_minibatches['positive_index_batches'],\n",
    "                    train_minibatches['negative_index_batches']\n",
    "                )):\n",
    "                    # optimize and get traing loss\n",
    "                    start_t = time.time()\n",
    "                    _, minibatch_train_loss = network.optimize_and_get_train_loss(\n",
    "                        sess, learning_rates[lr_i], pretrained_embeddings, profile_indexes,\n",
    "                        profile_size, positive_index, negative_index)\n",
    "                    delta_t = time.time() - start_t\n",
    "                    \n",
    "                    # update train loss exponential moving average\n",
    "                    train_loss_ema = 0.999 * train_loss_ema + 0.001 * minibatch_train_loss\n",
    "                    \n",
    "                    # update time tracking variables\n",
    "                    seconds_training += delta_t\n",
    "                    elapsed_seconds_from_last_check += delta_t\n",
    "                    \n",
    "                    # check for improvements using test set if it's time to do so\n",
    "                    if elapsed_seconds_from_last_check >= min_seconds_to_check_improvement:\n",
    "                        \n",
    "                        # --- testing\n",
    "                        test_acc = 0.\n",
    "                        for _profile_indexes, _profile_size, _positive_index, _negative_index in zip(\n",
    "                            test_minibatches['profile_indexes_batches'],\n",
    "                            test_minibatches['profile_size_batches'],\n",
    "                            test_minibatches['positive_index_batches'],\n",
    "                            test_minibatches['negative_index_batches']\n",
    "                        ):\n",
    "                            minibatch_test_acc = network.get_test_accuracy(\n",
    "                                sess, pretrained_embeddings, _profile_indexes,\n",
    "                                _profile_size, _positive_index, _negative_index)                            \n",
    "                            test_acc += minibatch_test_acc\n",
    "                        test_acc /= n_test_instances\n",
    "                    \n",
    "                        print((\"train_i=%d, train_loss = %.12f, test_accuracy = %.7f,\"\n",
    "                               \" check_secs = %.2f, total_secs = %.2f\") % (\n",
    "                                train_i, train_loss_ema, test_acc, elapsed_seconds_from_last_check, seconds_training))                        \n",
    "                        \n",
    "                        # check for improvements\n",
    "                        if (test_acc > best_test_acc) or (\n",
    "                            test_acc == best_test_acc and (\n",
    "                                last_improvement_loss is not None and\\\n",
    "                                last_improvement_loss > train_loss_ema\n",
    "                            )\n",
    "                        ):  \n",
    "                            last_improvement_loss = train_loss_ema\n",
    "                            best_test_acc = test_acc\n",
    "                            checks_with_no_improvement = 0\n",
    "                            saver = tf.train.Saver()\n",
    "                            save_path = saver.save(sess, model_path)                    \n",
    "                            print(\"   ** improvement detected: model saved to path \", save_path)\n",
    "                            model_updated = True\n",
    "                        else:\n",
    "                            checks_with_no_improvement += 1                            \n",
    "                            model_updated = False\n",
    "\n",
    "                        # --- logging ---                        \n",
    "                        trainlogger.log_update(\n",
    "                            train_loss_ema, test_acc, n_train_instances, n_test_instances,\n",
    "                            elapsed_seconds_from_last_check, batch_size, learning_rates[lr_i], 't' if model_updated else 'f')\n",
    "                        \n",
    "                        # --- check for early stopping\n",
    "                        if checks_with_no_improvement >= early_stopping_checks:\n",
    "                            if lr_i + 1 < len(learning_rates):\n",
    "                                lr_i += 1\n",
    "                                checks_with_no_improvement = 0\n",
    "                                print(\"   *** %d checks with no improvements -> using a smaller learning_rate = %.8f\" % (\n",
    "                                    early_stopping_checks, learning_rates[lr_i]))\n",
    "                            else:\n",
    "                                print(\"   *** %d checks with no improvements -> early stopping :(\" % early_stopping_checks)\n",
    "                                return\n",
    "                        \n",
    "                        # --- reset check variables\n",
    "                        elapsed_seconds_from_last_check = 0\n",
    "            print('====== TIMEOUT ======')"
   ]
  },
  {
   "cell_type": "code",
   "execution_count": 57,
   "metadata": {},
   "outputs": [
    {
     "name": "stdout",
     "output_type": "stream",
     "text": [
      "n_tuples =  10000494\n",
      "n_batches =  819\n"
     ]
    }
   ],
   "source": [
    "train_minibatches = generate_minibatches(train_instances, max_users_items_per_batch=6000*10)\n",
    "sanity_check_minibatches(train_minibatches)"
   ]
  },
  {
   "cell_type": "code",
   "execution_count": 58,
   "metadata": {},
   "outputs": [
    {
     "name": "stdout",
     "output_type": "stream",
     "text": [
      "n_tuples =  502068\n",
      "n_batches =  42\n"
     ]
    }
   ],
   "source": [
    "test_minibatches = generate_minibatches(test_instances, max_users_items_per_batch=6000*10)\n",
    "sanity_check_minibatches(test_minibatches)"
   ]
  },
  {
   "cell_type": "code",
   "execution_count": 61,
   "metadata": {},
   "outputs": [
    {
     "data": {
      "text/plain": [
       "[0.0001,\n",
       " 6e-05,\n",
       " 3.6e-05,\n",
       " 2.16e-05,\n",
       " 1.296e-05,\n",
       " 7.776e-06,\n",
       " 4.6656e-06,\n",
       " 2.79936e-06,\n",
       " 1.679616e-06,\n",
       " 1.0077696e-06]"
      ]
     },
     "execution_count": 61,
     "metadata": {},
     "output_type": "execute_result"
    }
   ],
   "source": [
    "learning_rates = get_decaying_learning_rates(1e-4, 1e-6, 0.6)\n",
    "# learning_rates = get_decaying_learning_rates(0.00000280, 1e-6, 0.6)\n",
    "learning_rates"
   ]
  },
  {
   "cell_type": "code",
   "execution_count": 62,
   "metadata": {},
   "outputs": [
    {
     "data": {
      "text/plain": [
       "(0.7, 0.2, 0.18)"
      ]
     },
     "execution_count": 62,
     "metadata": {},
     "output_type": "execute_result"
    }
   ],
   "source": [
    "FINE_GRAINED_THRESHOLD, ARTIST_BOOST, CONFIDENCE_MARGIN"
   ]
  },
  {
   "cell_type": "code",
   "execution_count": 64,
   "metadata": {},
   "outputs": [],
   "source": [
    "# !ls /mnt/workspace/pamessina_models/ugallery/youtube_like/"
   ]
  },
  {
   "cell_type": "code",
   "execution_count": 63,
   "metadata": {},
   "outputs": [
    {
     "data": {
      "text/plain": [
       "'/mnt/workspace/pamessina_models/ugallery/youtube_like/v34(10M-500K,avg+max,rsnt50+rsnxt101,u(300,300,200)i(200,200),hyb(fa+dnn),rl(full),ab.2,cm.18,fg.7,wd.0001)/'"
      ]
     },
     "execution_count": 63,
     "metadata": {},
     "output_type": "execute_result"
    }
   ],
   "source": [
    "# MODEL_PATH = ('/mnt/workspace/pamessina_models/ugallery/youtube_like/v9(10M-300K,avg+max,'\n",
    "#              '+prof(rl&fk)-nprof,+nproffavc(rl&fk)-nfavc_loc,+nxt+hide1+hideacc-nfavc_glob)/')\n",
    "# MODEL_PATH = ('/mnt/workspace/pamessina_models/ugallery/youtube_like/v16c(10M-400K,avg+max,rsnt50+alxnt+incepv3,'\n",
    "#               'u(300,300,200)i(200,200),+p(rl&fk)-np,+npfavc(rl&fk)-nfavc,+nxt+hdaccklst-nfavc,fg.6,vcf.1)/')\n",
    "# MODEL_PATH = ('/mnt/workspace/pamessina_models/ugallery/youtube_like/v26(10M-500K,avg+max,rsnt50+grmmtb1c1,'\n",
    "#               'u(300,300,200)i(200,200),+p(fk)-np,+npfavc(fk)-nfavc,fg.6,vcf.1,wd.0001)/')\n",
    "MODEL_PATH = ('/mnt/workspace/pamessina_models/ugallery/youtube_like/v34(10M-500K,avg+max,rsnt50+rsnxt101,'\n",
    "              'u(300,300,200)i(200,200),hyb(fa+dnn),rl(full),ab.2,cm.18,fg.7,wd.0001)/')\n",
    "MODEL_PATH"
   ]
  },
  {
   "cell_type": "code",
   "execution_count": 64,
   "metadata": {},
   "outputs": [
    {
     "data": {
      "text/plain": [
       "12211"
      ]
     },
     "execution_count": 64,
     "metadata": {},
     "output_type": "execute_result"
    }
   ],
   "source": [
    "avg_train_batch_size = ceil(np.mean([b.shape[0] for b in train_minibatches['profile_indexes_batches']]))\n",
    "avg_train_batch_size"
   ]
  },
  {
   "cell_type": "code",
   "execution_count": 65,
   "metadata": {
    "scrolled": false
   },
   "outputs": [
    {
     "name": "stdout",
     "output_type": "stream",
     "text": [
      "learning_rates =  [0.0001, 6e-05, 3.6e-05, 2.16e-05, 1.296e-05, 7.776e-06, 4.6656e-06, 2.79936e-06, 1.679616e-06, 1.0077696e-06]\n",
      "Variables to be trained:\n",
      "\t <tf.Variable 'trainable_item_embedding/fc1/kernel:0' shape=(4096, 200) dtype=float32_ref>\n",
      "\t <tf.Variable 'trainable_item_embedding/fc1/bias:0' shape=(200,) dtype=float32_ref>\n",
      "\t <tf.Variable 'trainable_item_embedding/fc2/kernel:0' shape=(200, 200) dtype=float32_ref>\n",
      "\t <tf.Variable 'trainable_item_embedding/fc2/bias:0' shape=(200,) dtype=float32_ref>\n",
      "\t <tf.Variable 'user_hidden_1/kernel:0' shape=(400, 300) dtype=float32_ref>\n",
      "\t <tf.Variable 'user_hidden_1/bias:0' shape=(300,) dtype=float32_ref>\n",
      "\t <tf.Variable 'user_hidden_2/kernel:0' shape=(300, 300) dtype=float32_ref>\n",
      "\t <tf.Variable 'user_hidden_2/bias:0' shape=(300,) dtype=float32_ref>\n",
      "\t <tf.Variable 'user_vector/kernel:0' shape=(300, 200) dtype=float32_ref>\n",
      "\t <tf.Variable 'user_vector/bias:0' shape=(200,) dtype=float32_ref>\n",
      "\t <tf.Variable 'beta1_power:0' shape=() dtype=float32_ref>\n",
      "\t <tf.Variable 'beta2_power:0' shape=() dtype=float32_ref>\n",
      "\t <tf.Variable 'trainable_item_embedding/fc1/kernel/Adam:0' shape=(4096, 200) dtype=float32_ref>\n",
      "\t <tf.Variable 'trainable_item_embedding/fc1/kernel/Adam_1:0' shape=(4096, 200) dtype=float32_ref>\n",
      "\t <tf.Variable 'trainable_item_embedding/fc1/bias/Adam:0' shape=(200,) dtype=float32_ref>\n",
      "\t <tf.Variable 'trainable_item_embedding/fc1/bias/Adam_1:0' shape=(200,) dtype=float32_ref>\n",
      "\t <tf.Variable 'trainable_item_embedding/fc2/kernel/Adam:0' shape=(200, 200) dtype=float32_ref>\n",
      "\t <tf.Variable 'trainable_item_embedding/fc2/kernel/Adam_1:0' shape=(200, 200) dtype=float32_ref>\n",
      "\t <tf.Variable 'trainable_item_embedding/fc2/bias/Adam:0' shape=(200,) dtype=float32_ref>\n",
      "\t <tf.Variable 'trainable_item_embedding/fc2/bias/Adam_1:0' shape=(200,) dtype=float32_ref>\n",
      "\t <tf.Variable 'user_hidden_1/kernel/Adam:0' shape=(400, 300) dtype=float32_ref>\n",
      "\t <tf.Variable 'user_hidden_1/kernel/Adam_1:0' shape=(400, 300) dtype=float32_ref>\n",
      "\t <tf.Variable 'user_hidden_1/bias/Adam:0' shape=(300,) dtype=float32_ref>\n",
      "\t <tf.Variable 'user_hidden_1/bias/Adam_1:0' shape=(300,) dtype=float32_ref>\n",
      "\t <tf.Variable 'user_hidden_2/kernel/Adam:0' shape=(300, 300) dtype=float32_ref>\n",
      "\t <tf.Variable 'user_hidden_2/kernel/Adam_1:0' shape=(300, 300) dtype=float32_ref>\n",
      "\t <tf.Variable 'user_hidden_2/bias/Adam:0' shape=(300,) dtype=float32_ref>\n",
      "\t <tf.Variable 'user_hidden_2/bias/Adam_1:0' shape=(300,) dtype=float32_ref>\n",
      "\t <tf.Variable 'user_vector/kernel/Adam:0' shape=(300, 200) dtype=float32_ref>\n",
      "\t <tf.Variable 'user_vector/kernel/Adam_1:0' shape=(300, 200) dtype=float32_ref>\n",
      "\t <tf.Variable 'user_vector/bias/Adam:0' shape=(200,) dtype=float32_ref>\n",
      "\t <tf.Variable 'user_vector/bias/Adam_1:0' shape=(200,) dtype=float32_ref>\n",
      "no checkpoint found: initializing variables with random values\n",
      "Before training: test_accuracy = 0.471018\n",
      "Starting training ...\n",
      "train_i=624, train_loss = 0.341776129602, test_accuracy = 0.9810803, check_secs = 150.14, total_secs = 300.15\n",
      "   ** improvement detected: model saved to path  /mnt/workspace/pamessina_models/ugallery/youtube_like/v34(10M-500K,avg+max,rsnt50+rsnxt101,u(300,300,200)i(200,200),hyb(fa+dnn),rl(full),ab.2,cm.18,fg.7,wd.0001)/\n",
      "train_i=528, train_loss = 0.360746541223, test_accuracy = 0.9790088, check_secs = 150.07, total_secs = 450.22\n",
      "train_i=431, train_loss = 0.333839860836, test_accuracy = 0.9707390, check_secs = 150.13, total_secs = 600.35\n",
      "   *** 2 checks with no improvements -> using a smaller learning_rate = 0.00006000\n",
      "train_i=334, train_loss = 0.309273148541, test_accuracy = 0.9811878, check_secs = 150.19, total_secs = 750.54\n",
      "   ** improvement detected: model saved to path  /mnt/workspace/pamessina_models/ugallery/youtube_like/v34(10M-500K,avg+max,rsnt50+rsnxt101,u(300,300,200)i(200,200),hyb(fa+dnn),rl(full),ab.2,cm.18,fg.7,wd.0001)/\n",
      "train_i=238, train_loss = 0.273998186195, test_accuracy = 0.9778855, check_secs = 150.12, total_secs = 900.67\n",
      "train_i=142, train_loss = 0.247329234381, test_accuracy = 0.9851494, check_secs = 150.11, total_secs = 1050.78\n",
      "   ** improvement detected: model saved to path  /mnt/workspace/pamessina_models/ugallery/youtube_like/v34(10M-500K,avg+max,rsnt50+rsnxt101,u(300,300,200)i(200,200),hyb(fa+dnn),rl(full),ab.2,cm.18,fg.7,wd.0001)/\n",
      "train_i=45, train_loss = 0.223017873804, test_accuracy = 0.9835361, check_secs = 150.08, total_secs = 1200.86\n",
      "train_i=768, train_loss = 0.180394183158, test_accuracy = 0.9908459, check_secs = 150.08, total_secs = 1350.94\n",
      "   ** improvement detected: model saved to path  /mnt/workspace/pamessina_models/ugallery/youtube_like/v34(10M-500K,avg+max,rsnt50+rsnxt101,u(300,300,200)i(200,200),hyb(fa+dnn),rl(full),ab.2,cm.18,fg.7,wd.0001)/\n",
      "train_i=672, train_loss = 0.159470308324, test_accuracy = 0.9921564, check_secs = 150.09, total_secs = 1501.03\n",
      "   ** improvement detected: model saved to path  /mnt/workspace/pamessina_models/ugallery/youtube_like/v34(10M-500K,avg+max,rsnt50+rsnxt101,u(300,300,200)i(200,200),hyb(fa+dnn),rl(full),ab.2,cm.18,fg.7,wd.0001)/\n",
      "train_i=575, train_loss = 0.149902097158, test_accuracy = 0.9906387, check_secs = 150.03, total_secs = 1651.07\n",
      "train_i=478, train_loss = 0.143651187735, test_accuracy = 0.9889636, check_secs = 150.06, total_secs = 1801.13\n",
      "   *** 2 checks with no improvements -> using a smaller learning_rate = 0.00003600\n",
      "train_i=380, train_loss = 0.146552553608, test_accuracy = 0.9897325, check_secs = 150.08, total_secs = 1951.21\n",
      "train_i=282, train_loss = 0.135799411540, test_accuracy = 0.9904973, check_secs = 150.04, total_secs = 2101.25\n",
      "   *** 2 checks with no improvements -> using a smaller learning_rate = 0.00002160\n",
      "train_i=184, train_loss = 0.127839672234, test_accuracy = 0.9911426, check_secs = 150.07, total_secs = 2251.31\n",
      "train_i=86, train_loss = 0.113730072079, test_accuracy = 0.9927380, check_secs = 150.04, total_secs = 2401.35\n",
      "   ** improvement detected: model saved to path  /mnt/workspace/pamessina_models/ugallery/youtube_like/v34(10M-500K,avg+max,rsnt50+rsnxt101,u(300,300,200)i(200,200),hyb(fa+dnn),rl(full),ab.2,cm.18,fg.7,wd.0001)/\n",
      "train_i=808, train_loss = 0.101008722190, test_accuracy = 0.9939371, check_secs = 150.07, total_secs = 2551.42\n",
      "   ** improvement detected: model saved to path  /mnt/workspace/pamessina_models/ugallery/youtube_like/v34(10M-500K,avg+max,rsnt50+rsnxt101,u(300,300,200)i(200,200),hyb(fa+dnn),rl(full),ab.2,cm.18,fg.7,wd.0001)/\n",
      "train_i=713, train_loss = 0.090650664766, test_accuracy = 0.9949051, check_secs = 150.11, total_secs = 2701.53\n",
      "   ** improvement detected: model saved to path  /mnt/workspace/pamessina_models/ugallery/youtube_like/v34(10M-500K,avg+max,rsnt50+rsnxt101,u(300,300,200)i(200,200),hyb(fa+dnn),rl(full),ab.2,cm.18,fg.7,wd.0001)/\n",
      "train_i=617, train_loss = 0.083549114034, test_accuracy = 0.9950286, check_secs = 150.06, total_secs = 2851.59\n",
      "   ** improvement detected: model saved to path  /mnt/workspace/pamessina_models/ugallery/youtube_like/v34(10M-500K,avg+max,rsnt50+rsnxt101,u(300,300,200)i(200,200),hyb(fa+dnn),rl(full),ab.2,cm.18,fg.7,wd.0001)/\n",
      "train_i=520, train_loss = 0.079294647540, test_accuracy = 0.9950505, check_secs = 150.00, total_secs = 3001.59\n",
      "   ** improvement detected: model saved to path  /mnt/workspace/pamessina_models/ugallery/youtube_like/v34(10M-500K,avg+max,rsnt50+rsnxt101,u(300,300,200)i(200,200),hyb(fa+dnn),rl(full),ab.2,cm.18,fg.7,wd.0001)/\n",
      "train_i=423, train_loss = 0.077235638613, test_accuracy = 0.9948613, check_secs = 150.06, total_secs = 3151.65\n",
      "train_i=325, train_loss = 0.077256015005, test_accuracy = 0.9945067, check_secs = 150.15, total_secs = 3301.80\n",
      "   *** 2 checks with no improvements -> using a smaller learning_rate = 0.00001296\n",
      "train_i=227, train_loss = 0.079836487510, test_accuracy = 0.9937060, check_secs = 150.15, total_secs = 3451.95\n",
      "train_i=128, train_loss = 0.077623925940, test_accuracy = 0.9949867, check_secs = 150.01, total_secs = 3601.96\n",
      "   *** 2 checks with no improvements -> using a smaller learning_rate = 0.00000778\n",
      "train_i=30, train_loss = 0.074593673501, test_accuracy = 0.9954588, check_secs = 150.08, total_secs = 3752.04\n",
      "   ** improvement detected: model saved to path  /mnt/workspace/pamessina_models/ugallery/youtube_like/v34(10M-500K,avg+max,rsnt50+rsnxt101,u(300,300,200)i(200,200),hyb(fa+dnn),rl(full),ab.2,cm.18,fg.7,wd.0001)/\n"
     ]
    },
    {
     "name": "stdout",
     "output_type": "stream",
     "text": [
      "train_i=752, train_loss = 0.072251139142, test_accuracy = 0.9956221, check_secs = 150.00, total_secs = 3902.04\n",
      "   ** improvement detected: model saved to path  /mnt/workspace/pamessina_models/ugallery/youtube_like/v34(10M-500K,avg+max,rsnt50+rsnxt101,u(300,300,200)i(200,200),hyb(fa+dnn),rl(full),ab.2,cm.18,fg.7,wd.0001)/\n",
      "train_i=655, train_loss = 0.070471502387, test_accuracy = 0.9956580, check_secs = 150.03, total_secs = 4052.07\n",
      "   ** improvement detected: model saved to path  /mnt/workspace/pamessina_models/ugallery/youtube_like/v34(10M-500K,avg+max,rsnt50+rsnxt101,u(300,300,200)i(200,200),hyb(fa+dnn),rl(full),ab.2,cm.18,fg.7,wd.0001)/\n",
      "train_i=558, train_loss = 0.069329664767, test_accuracy = 0.9956679, check_secs = 150.09, total_secs = 4202.16\n",
      "   ** improvement detected: model saved to path  /mnt/workspace/pamessina_models/ugallery/youtube_like/v34(10M-500K,avg+max,rsnt50+rsnxt101,u(300,300,200)i(200,200),hyb(fa+dnn),rl(full),ab.2,cm.18,fg.7,wd.0001)/\n",
      "train_i=460, train_loss = 0.068586361945, test_accuracy = 0.9956858, check_secs = 150.05, total_secs = 4352.21\n",
      "   ** improvement detected: model saved to path  /mnt/workspace/pamessina_models/ugallery/youtube_like/v34(10M-500K,avg+max,rsnt50+rsnxt101,u(300,300,200)i(200,200),hyb(fa+dnn),rl(full),ab.2,cm.18,fg.7,wd.0001)/\n",
      "train_i=363, train_loss = 0.068105427651, test_accuracy = 0.9957297, check_secs = 150.01, total_secs = 4502.22\n",
      "   ** improvement detected: model saved to path  /mnt/workspace/pamessina_models/ugallery/youtube_like/v34(10M-500K,avg+max,rsnt50+rsnxt101,u(300,300,200)i(200,200),hyb(fa+dnn),rl(full),ab.2,cm.18,fg.7,wd.0001)/\n",
      "train_i=265, train_loss = 0.067670674168, test_accuracy = 0.9957038, check_secs = 150.08, total_secs = 4652.30\n",
      "train_i=166, train_loss = 0.067235420231, test_accuracy = 0.9957775, check_secs = 150.01, total_secs = 4802.31\n",
      "   ** improvement detected: model saved to path  /mnt/workspace/pamessina_models/ugallery/youtube_like/v34(10M-500K,avg+max,rsnt50+rsnxt101,u(300,300,200)i(200,200),hyb(fa+dnn),rl(full),ab.2,cm.18,fg.7,wd.0001)/\n",
      "train_i=68, train_loss = 0.066787135760, test_accuracy = 0.9958372, check_secs = 150.20, total_secs = 4952.51\n",
      "   ** improvement detected: model saved to path  /mnt/workspace/pamessina_models/ugallery/youtube_like/v34(10M-500K,avg+max,rsnt50+rsnxt101,u(300,300,200)i(200,200),hyb(fa+dnn),rl(full),ab.2,cm.18,fg.7,wd.0001)/\n",
      "train_i=789, train_loss = 0.066352139081, test_accuracy = 0.9959129, check_secs = 150.15, total_secs = 5102.66\n",
      "   ** improvement detected: model saved to path  /mnt/workspace/pamessina_models/ugallery/youtube_like/v34(10M-500K,avg+max,rsnt50+rsnxt101,u(300,300,200)i(200,200),hyb(fa+dnn),rl(full),ab.2,cm.18,fg.7,wd.0001)/\n",
      "train_i=692, train_loss = 0.065763971044, test_accuracy = 0.9959428, check_secs = 150.10, total_secs = 5252.76\n",
      "   ** improvement detected: model saved to path  /mnt/workspace/pamessina_models/ugallery/youtube_like/v34(10M-500K,avg+max,rsnt50+rsnxt101,u(300,300,200)i(200,200),hyb(fa+dnn),rl(full),ab.2,cm.18,fg.7,wd.0001)/\n",
      "train_i=592, train_loss = 0.065192034264, test_accuracy = 0.9959468, check_secs = 150.03, total_secs = 5402.78\n",
      "   ** improvement detected: model saved to path  /mnt/workspace/pamessina_models/ugallery/youtube_like/v34(10M-500K,avg+max,rsnt50+rsnxt101,u(300,300,200)i(200,200),hyb(fa+dnn),rl(full),ab.2,cm.18,fg.7,wd.0001)/\n",
      "train_i=492, train_loss = 0.064683781865, test_accuracy = 0.9959547, check_secs = 150.18, total_secs = 5552.96\n",
      "   ** improvement detected: model saved to path  /mnt/workspace/pamessina_models/ugallery/youtube_like/v34(10M-500K,avg+max,rsnt50+rsnxt101,u(300,300,200)i(200,200),hyb(fa+dnn),rl(full),ab.2,cm.18,fg.7,wd.0001)/\n",
      "train_i=386, train_loss = 0.064314758995, test_accuracy = 0.9958412, check_secs = 150.01, total_secs = 5702.97\n",
      "train_i=278, train_loss = 0.064286019272, test_accuracy = 0.9956619, check_secs = 150.04, total_secs = 5853.01\n",
      "   *** 2 checks with no improvements -> using a smaller learning_rate = 0.00000467\n",
      "train_i=158, train_loss = 0.064652250149, test_accuracy = 0.9957974, check_secs = 150.10, total_secs = 6003.11\n",
      "train_i=34, train_loss = 0.064100586800, test_accuracy = 0.9960782, check_secs = 150.16, total_secs = 6153.27\n",
      "   ** improvement detected: model saved to path  /mnt/workspace/pamessina_models/ugallery/youtube_like/v34(10M-500K,avg+max,rsnt50+rsnxt101,u(300,300,200)i(200,200),hyb(fa+dnn),rl(full),ab.2,cm.18,fg.7,wd.0001)/\n",
      "train_i=732, train_loss = 0.063546865289, test_accuracy = 0.9961081, check_secs = 150.08, total_secs = 6303.35\n",
      "   ** improvement detected: model saved to path  /mnt/workspace/pamessina_models/ugallery/youtube_like/v34(10M-500K,avg+max,rsnt50+rsnxt101,u(300,300,200)i(200,200),hyb(fa+dnn),rl(full),ab.2,cm.18,fg.7,wd.0001)/\n",
      "train_i=610, train_loss = 0.063123548765, test_accuracy = 0.9961539, check_secs = 150.05, total_secs = 6453.40\n",
      "   ** improvement detected: model saved to path  /mnt/workspace/pamessina_models/ugallery/youtube_like/v34(10M-500K,avg+max,rsnt50+rsnxt101,u(300,300,200)i(200,200),hyb(fa+dnn),rl(full),ab.2,cm.18,fg.7,wd.0001)/\n",
      "train_i=488, train_loss = 0.062825048422, test_accuracy = 0.9961579, check_secs = 150.11, total_secs = 6603.51\n",
      "   ** improvement detected: model saved to path  /mnt/workspace/pamessina_models/ugallery/youtube_like/v34(10M-500K,avg+max,rsnt50+rsnxt101,u(300,300,200)i(200,200),hyb(fa+dnn),rl(full),ab.2,cm.18,fg.7,wd.0001)/\n",
      "train_i=366, train_loss = 0.062568943737, test_accuracy = 0.9961678, check_secs = 150.03, total_secs = 6753.55\n",
      "   ** improvement detected: model saved to path  /mnt/workspace/pamessina_models/ugallery/youtube_like/v34(10M-500K,avg+max,rsnt50+rsnxt101,u(300,300,200)i(200,200),hyb(fa+dnn),rl(full),ab.2,cm.18,fg.7,wd.0001)/\n",
      "train_i=244, train_loss = 0.062281635120, test_accuracy = 0.9961858, check_secs = 150.07, total_secs = 6903.61\n",
      "   ** improvement detected: model saved to path  /mnt/workspace/pamessina_models/ugallery/youtube_like/v34(10M-500K,avg+max,rsnt50+rsnxt101,u(300,300,200)i(200,200),hyb(fa+dnn),rl(full),ab.2,cm.18,fg.7,wd.0001)/\n",
      "train_i=123, train_loss = 0.061932274673, test_accuracy = 0.9962117, check_secs = 150.21, total_secs = 7053.83\n",
      "   ** improvement detected: model saved to path  /mnt/workspace/pamessina_models/ugallery/youtube_like/v34(10M-500K,avg+max,rsnt50+rsnxt101,u(300,300,200)i(200,200),hyb(fa+dnn),rl(full),ab.2,cm.18,fg.7,wd.0001)/\n",
      "train_i=2, train_loss = 0.061507124223, test_accuracy = 0.9962555, check_secs = 150.20, total_secs = 7204.03\n",
      "   ** improvement detected: model saved to path  /mnt/workspace/pamessina_models/ugallery/youtube_like/v34(10M-500K,avg+max,rsnt50+rsnxt101,u(300,300,200)i(200,200),hyb(fa+dnn),rl(full),ab.2,cm.18,fg.7,wd.0001)/\n",
      "train_i=701, train_loss = 0.060945569526, test_accuracy = 0.9962913, check_secs = 150.18, total_secs = 7354.21\n",
      "   ** improvement detected: model saved to path  /mnt/workspace/pamessina_models/ugallery/youtube_like/v34(10M-500K,avg+max,rsnt50+rsnxt101,u(300,300,200)i(200,200),hyb(fa+dnn),rl(full),ab.2,cm.18,fg.7,wd.0001)/\n",
      "train_i=581, train_loss = 0.060294599563, test_accuracy = 0.9963053, check_secs = 150.00, total_secs = 7504.21\n",
      "   ** improvement detected: model saved to path  /mnt/workspace/pamessina_models/ugallery/youtube_like/v34(10M-500K,avg+max,rsnt50+rsnxt101,u(300,300,200)i(200,200),hyb(fa+dnn),rl(full),ab.2,cm.18,fg.7,wd.0001)/\n",
      "train_i=462, train_loss = 0.059615364788, test_accuracy = 0.9963431, check_secs = 150.19, total_secs = 7654.40\n",
      "   ** improvement detected: model saved to path  /mnt/workspace/pamessina_models/ugallery/youtube_like/v34(10M-500K,avg+max,rsnt50+rsnxt101,u(300,300,200)i(200,200),hyb(fa+dnn),rl(full),ab.2,cm.18,fg.7,wd.0001)/\n",
      "train_i=341, train_loss = 0.058908526426, test_accuracy = 0.9963730, check_secs = 150.02, total_secs = 7804.42\n",
      "   ** improvement detected: model saved to path  /mnt/workspace/pamessina_models/ugallery/youtube_like/v34(10M-500K,avg+max,rsnt50+rsnxt101,u(300,300,200)i(200,200),hyb(fa+dnn),rl(full),ab.2,cm.18,fg.7,wd.0001)/\n",
      "train_i=221, train_loss = 0.058170367437, test_accuracy = 0.9964248, check_secs = 150.17, total_secs = 7954.59\n",
      "   ** improvement detected: model saved to path  /mnt/workspace/pamessina_models/ugallery/youtube_like/v34(10M-500K,avg+max,rsnt50+rsnxt101,u(300,300,200)i(200,200),hyb(fa+dnn),rl(full),ab.2,cm.18,fg.7,wd.0001)/\n"
     ]
    },
    {
     "name": "stdout",
     "output_type": "stream",
     "text": [
      "train_i=101, train_loss = 0.057421166304, test_accuracy = 0.9964567, check_secs = 150.17, total_secs = 8104.76\n",
      "   ** improvement detected: model saved to path  /mnt/workspace/pamessina_models/ugallery/youtube_like/v34(10M-500K,avg+max,rsnt50+rsnxt101,u(300,300,200)i(200,200),hyb(fa+dnn),rl(full),ab.2,cm.18,fg.7,wd.0001)/\n",
      "train_i=801, train_loss = 0.056689242936, test_accuracy = 0.9964208, check_secs = 150.21, total_secs = 8254.97\n",
      "train_i=683, train_loss = 0.055903723127, test_accuracy = 0.9965104, check_secs = 150.10, total_secs = 8405.07\n",
      "   ** improvement detected: model saved to path  /mnt/workspace/pamessina_models/ugallery/youtube_like/v34(10M-500K,avg+max,rsnt50+rsnxt101,u(300,300,200)i(200,200),hyb(fa+dnn),rl(full),ab.2,cm.18,fg.7,wd.0001)/\n",
      "train_i=564, train_loss = 0.055232431980, test_accuracy = 0.9964806, check_secs = 150.16, total_secs = 8555.23\n",
      "train_i=444, train_loss = 0.054725438499, test_accuracy = 0.9964965, check_secs = 150.17, total_secs = 8705.40\n",
      "   *** 2 checks with no improvements -> using a smaller learning_rate = 0.00000280\n",
      "train_i=323, train_loss = 0.054413460230, test_accuracy = 0.9965124, check_secs = 150.01, total_secs = 8855.42\n",
      "   ** improvement detected: model saved to path  /mnt/workspace/pamessina_models/ugallery/youtube_like/v34(10M-500K,avg+max,rsnt50+rsnxt101,u(300,300,200)i(200,200),hyb(fa+dnn),rl(full),ab.2,cm.18,fg.7,wd.0001)/\n",
      "train_i=203, train_loss = 0.054124514403, test_accuracy = 0.9965064, check_secs = 150.16, total_secs = 9005.58\n",
      "train_i=83, train_loss = 0.053879514951, test_accuracy = 0.9965662, check_secs = 150.20, total_secs = 9155.78\n",
      "   ** improvement detected: model saved to path  /mnt/workspace/pamessina_models/ugallery/youtube_like/v34(10M-500K,avg+max,rsnt50+rsnxt101,u(300,300,200)i(200,200),hyb(fa+dnn),rl(full),ab.2,cm.18,fg.7,wd.0001)/\n",
      "train_i=782, train_loss = 0.053659098021, test_accuracy = 0.9965821, check_secs = 150.15, total_secs = 9305.93\n",
      "   ** improvement detected: model saved to path  /mnt/workspace/pamessina_models/ugallery/youtube_like/v34(10M-500K,avg+max,rsnt50+rsnxt101,u(300,300,200)i(200,200),hyb(fa+dnn),rl(full),ab.2,cm.18,fg.7,wd.0001)/\n",
      "train_i=663, train_loss = 0.053354304657, test_accuracy = 0.9966001, check_secs = 150.04, total_secs = 9455.97\n",
      "   ** improvement detected: model saved to path  /mnt/workspace/pamessina_models/ugallery/youtube_like/v34(10M-500K,avg+max,rsnt50+rsnxt101,u(300,300,200)i(200,200),hyb(fa+dnn),rl(full),ab.2,cm.18,fg.7,wd.0001)/\n",
      "train_i=544, train_loss = 0.053039992964, test_accuracy = 0.9966160, check_secs = 150.19, total_secs = 9606.15\n",
      "   ** improvement detected: model saved to path  /mnt/workspace/pamessina_models/ugallery/youtube_like/v34(10M-500K,avg+max,rsnt50+rsnxt101,u(300,300,200)i(200,200),hyb(fa+dnn),rl(full),ab.2,cm.18,fg.7,wd.0001)/\n",
      "train_i=423, train_loss = 0.052698890179, test_accuracy = 0.9966419, check_secs = 150.06, total_secs = 9756.21\n",
      "   ** improvement detected: model saved to path  /mnt/workspace/pamessina_models/ugallery/youtube_like/v34(10M-500K,avg+max,rsnt50+rsnxt101,u(300,300,200)i(200,200),hyb(fa+dnn),rl(full),ab.2,cm.18,fg.7,wd.0001)/\n",
      "train_i=303, train_loss = 0.052317049981, test_accuracy = 0.9966339, check_secs = 150.20, total_secs = 9906.41\n",
      "train_i=182, train_loss = 0.051894926232, test_accuracy = 0.9966558, check_secs = 150.02, total_secs = 10056.43\n",
      "   ** improvement detected: model saved to path  /mnt/workspace/pamessina_models/ugallery/youtube_like/v34(10M-500K,avg+max,rsnt50+rsnxt101,u(300,300,200)i(200,200),hyb(fa+dnn),rl(full),ab.2,cm.18,fg.7,wd.0001)/\n",
      "train_i=62, train_loss = 0.051445121052, test_accuracy = 0.9966180, check_secs = 150.17, total_secs = 10206.60\n",
      "train_i=761, train_loss = 0.050973200677, test_accuracy = 0.9966678, check_secs = 150.00, total_secs = 10356.60\n",
      "   ** improvement detected: model saved to path  /mnt/workspace/pamessina_models/ugallery/youtube_like/v34(10M-500K,avg+max,rsnt50+rsnxt101,u(300,300,200)i(200,200),hyb(fa+dnn),rl(full),ab.2,cm.18,fg.7,wd.0001)/\n",
      "train_i=643, train_loss = 0.050412241811, test_accuracy = 0.9966997, check_secs = 150.15, total_secs = 10506.76\n",
      "   ** improvement detected: model saved to path  /mnt/workspace/pamessina_models/ugallery/youtube_like/v34(10M-500K,avg+max,rsnt50+rsnxt101,u(300,300,200)i(200,200),hyb(fa+dnn),rl(full),ab.2,cm.18,fg.7,wd.0001)/\n",
      "train_i=524, train_loss = 0.049897934983, test_accuracy = 0.9967236, check_secs = 150.08, total_secs = 10656.84\n",
      "   ** improvement detected: model saved to path  /mnt/workspace/pamessina_models/ugallery/youtube_like/v34(10M-500K,avg+max,rsnt50+rsnxt101,u(300,300,200)i(200,200),hyb(fa+dnn),rl(full),ab.2,cm.18,fg.7,wd.0001)/\n",
      "train_i=404, train_loss = 0.049414824000, test_accuracy = 0.9967295, check_secs = 150.14, total_secs = 10806.98\n",
      "   ** improvement detected: model saved to path  /mnt/workspace/pamessina_models/ugallery/youtube_like/v34(10M-500K,avg+max,rsnt50+rsnxt101,u(300,300,200)i(200,200),hyb(fa+dnn),rl(full),ab.2,cm.18,fg.7,wd.0001)/\n",
      "train_i=284, train_loss = 0.048946676918, test_accuracy = 0.9967375, check_secs = 150.09, total_secs = 10957.07\n",
      "   ** improvement detected: model saved to path  /mnt/workspace/pamessina_models/ugallery/youtube_like/v34(10M-500K,avg+max,rsnt50+rsnxt101,u(300,300,200)i(200,200),hyb(fa+dnn),rl(full),ab.2,cm.18,fg.7,wd.0001)/\n",
      "train_i=164, train_loss = 0.048487868591, test_accuracy = 0.9967753, check_secs = 150.01, total_secs = 11107.09\n",
      "   ** improvement detected: model saved to path  /mnt/workspace/pamessina_models/ugallery/youtube_like/v34(10M-500K,avg+max,rsnt50+rsnxt101,u(300,300,200)i(200,200),hyb(fa+dnn),rl(full),ab.2,cm.18,fg.7,wd.0001)/\n",
      "train_i=44, train_loss = 0.048040660869, test_accuracy = 0.9967753, check_secs = 150.19, total_secs = 11257.28\n",
      "   ** improvement detected: model saved to path  /mnt/workspace/pamessina_models/ugallery/youtube_like/v34(10M-500K,avg+max,rsnt50+rsnxt101,u(300,300,200)i(200,200),hyb(fa+dnn),rl(full),ab.2,cm.18,fg.7,wd.0001)/\n",
      "train_i=744, train_loss = 0.047574944938, test_accuracy = 0.9968311, check_secs = 150.16, total_secs = 11407.44\n",
      "   ** improvement detected: model saved to path  /mnt/workspace/pamessina_models/ugallery/youtube_like/v34(10M-500K,avg+max,rsnt50+rsnxt101,u(300,300,200)i(200,200),hyb(fa+dnn),rl(full),ab.2,cm.18,fg.7,wd.0001)/\n",
      "train_i=626, train_loss = 0.047053563658, test_accuracy = 0.9968152, check_secs = 150.18, total_secs = 11557.62\n",
      "train_i=507, train_loss = 0.046590856442, test_accuracy = 0.9968371, check_secs = 150.18, total_secs = 11707.80\n",
      "   ** improvement detected: model saved to path  /mnt/workspace/pamessina_models/ugallery/youtube_like/v34(10M-500K,avg+max,rsnt50+rsnxt101,u(300,300,200)i(200,200),hyb(fa+dnn),rl(full),ab.2,cm.18,fg.7,wd.0001)/\n",
      "train_i=388, train_loss = 0.046166476936, test_accuracy = 0.9968331, check_secs = 150.03, total_secs = 11857.83\n",
      "train_i=270, train_loss = 0.045755433592, test_accuracy = 0.9968690, check_secs = 150.20, total_secs = 12008.03\n",
      "   ** improvement detected: model saved to path  /mnt/workspace/pamessina_models/ugallery/youtube_like/v34(10M-500K,avg+max,rsnt50+rsnxt101,u(300,300,200)i(200,200),hyb(fa+dnn),rl(full),ab.2,cm.18,fg.7,wd.0001)/\n",
      "train_i=151, train_loss = 0.045354871165, test_accuracy = 0.9968809, check_secs = 150.17, total_secs = 12158.20\n",
      "   ** improvement detected: model saved to path  /mnt/workspace/pamessina_models/ugallery/youtube_like/v34(10M-500K,avg+max,rsnt50+rsnxt101,u(300,300,200)i(200,200),hyb(fa+dnn),rl(full),ab.2,cm.18,fg.7,wd.0001)/\n",
      "train_i=32, train_loss = 0.044965648158, test_accuracy = 0.9968889, check_secs = 150.13, total_secs = 12308.33\n",
      "   ** improvement detected: model saved to path  /mnt/workspace/pamessina_models/ugallery/youtube_like/v34(10M-500K,avg+max,rsnt50+rsnxt101,u(300,300,200)i(200,200),hyb(fa+dnn),rl(full),ab.2,cm.18,fg.7,wd.0001)/\n",
      "train_i=733, train_loss = 0.044537008855, test_accuracy = 0.9969207, check_secs = 150.04, total_secs = 12458.37\n",
      "   ** improvement detected: model saved to path  /mnt/workspace/pamessina_models/ugallery/youtube_like/v34(10M-500K,avg+max,rsnt50+rsnxt101,u(300,300,200)i(200,200),hyb(fa+dnn),rl(full),ab.2,cm.18,fg.7,wd.0001)/\n",
      "train_i=616, train_loss = 0.044066768214, test_accuracy = 0.9969327, check_secs = 150.02, total_secs = 12608.39\n"
     ]
    },
    {
     "name": "stdout",
     "output_type": "stream",
     "text": [
      "   ** improvement detected: model saved to path  /mnt/workspace/pamessina_models/ugallery/youtube_like/v34(10M-500K,avg+max,rsnt50+rsnxt101,u(300,300,200)i(200,200),hyb(fa+dnn),rl(full),ab.2,cm.18,fg.7,wd.0001)/\n",
      "train_i=499, train_loss = 0.043655277479, test_accuracy = 0.9969526, check_secs = 150.20, total_secs = 12758.59\n",
      "   ** improvement detected: model saved to path  /mnt/workspace/pamessina_models/ugallery/youtube_like/v34(10M-500K,avg+max,rsnt50+rsnxt101,u(300,300,200)i(200,200),hyb(fa+dnn),rl(full),ab.2,cm.18,fg.7,wd.0001)/\n",
      "train_i=381, train_loss = 0.043283734688, test_accuracy = 0.9970044, check_secs = 150.02, total_secs = 12908.61\n",
      "   ** improvement detected: model saved to path  /mnt/workspace/pamessina_models/ugallery/youtube_like/v34(10M-500K,avg+max,rsnt50+rsnxt101,u(300,300,200)i(200,200),hyb(fa+dnn),rl(full),ab.2,cm.18,fg.7,wd.0001)/\n",
      "train_i=262, train_loss = 0.042924289989, test_accuracy = 0.9970183, check_secs = 150.07, total_secs = 13058.69\n",
      "   ** improvement detected: model saved to path  /mnt/workspace/pamessina_models/ugallery/youtube_like/v34(10M-500K,avg+max,rsnt50+rsnxt101,u(300,300,200)i(200,200),hyb(fa+dnn),rl(full),ab.2,cm.18,fg.7,wd.0001)/\n",
      "train_i=144, train_loss = 0.042572486495, test_accuracy = 0.9969944, check_secs = 150.17, total_secs = 13208.85\n",
      "train_i=26, train_loss = 0.042230959651, test_accuracy = 0.9970004, check_secs = 150.14, total_secs = 13358.99\n",
      "   *** 2 checks with no improvements -> using a smaller learning_rate = 0.00000168\n",
      "train_i=728, train_loss = 0.041868804945, test_accuracy = 0.9970183, check_secs = 150.18, total_secs = 13509.18\n",
      "   ** improvement detected: model saved to path  /mnt/workspace/pamessina_models/ugallery/youtube_like/v34(10M-500K,avg+max,rsnt50+rsnxt101,u(300,300,200)i(200,200),hyb(fa+dnn),rl(full),ab.2,cm.18,fg.7,wd.0001)/\n",
      "train_i=611, train_loss = 0.041526660264, test_accuracy = 0.9970502, check_secs = 150.07, total_secs = 13659.25\n",
      "   ** improvement detected: model saved to path  /mnt/workspace/pamessina_models/ugallery/youtube_like/v34(10M-500K,avg+max,rsnt50+rsnxt101,u(300,300,200)i(200,200),hyb(fa+dnn),rl(full),ab.2,cm.18,fg.7,wd.0001)/\n",
      "train_i=494, train_loss = 0.041263932467, test_accuracy = 0.9970582, check_secs = 150.18, total_secs = 13809.43\n",
      "   ** improvement detected: model saved to path  /mnt/workspace/pamessina_models/ugallery/youtube_like/v34(10M-500K,avg+max,rsnt50+rsnxt101,u(300,300,200)i(200,200),hyb(fa+dnn),rl(full),ab.2,cm.18,fg.7,wd.0001)/\n",
      "train_i=377, train_loss = 0.041049650366, test_accuracy = 0.9970741, check_secs = 150.21, total_secs = 13959.64\n",
      "   ** improvement detected: model saved to path  /mnt/workspace/pamessina_models/ugallery/youtube_like/v34(10M-500K,avg+max,rsnt50+rsnxt101,u(300,300,200)i(200,200),hyb(fa+dnn),rl(full),ab.2,cm.18,fg.7,wd.0001)/\n",
      "train_i=259, train_loss = 0.040847381740, test_accuracy = 0.9970661, check_secs = 150.13, total_secs = 14109.77\n",
      "train_i=140, train_loss = 0.040652855481, test_accuracy = 0.9970681, check_secs = 150.01, total_secs = 14259.77\n",
      "   *** 2 checks with no improvements -> using a smaller learning_rate = 0.00000101\n",
      "train_i=22, train_loss = 0.040484982233, test_accuracy = 0.9970661, check_secs = 150.10, total_secs = 14409.87\n",
      "train_i=723, train_loss = 0.040284723111, test_accuracy = 0.9971020, check_secs = 150.02, total_secs = 14559.89\n",
      "   ** improvement detected: model saved to path  /mnt/workspace/pamessina_models/ugallery/youtube_like/v34(10M-500K,avg+max,rsnt50+rsnxt101,u(300,300,200)i(200,200),hyb(fa+dnn),rl(full),ab.2,cm.18,fg.7,wd.0001)/\n",
      "train_i=607, train_loss = 0.040072806347, test_accuracy = 0.9971020, check_secs = 150.03, total_secs = 14709.92\n",
      "   ** improvement detected: model saved to path  /mnt/workspace/pamessina_models/ugallery/youtube_like/v34(10M-500K,avg+max,rsnt50+rsnxt101,u(300,300,200)i(200,200),hyb(fa+dnn),rl(full),ab.2,cm.18,fg.7,wd.0001)/\n",
      "train_i=491, train_loss = 0.039921115366, test_accuracy = 0.9970920, check_secs = 150.02, total_secs = 14859.94\n",
      "train_i=373, train_loss = 0.039809568792, test_accuracy = 0.9971040, check_secs = 150.01, total_secs = 15009.95\n",
      "   ** improvement detected: model saved to path  /mnt/workspace/pamessina_models/ugallery/youtube_like/v34(10M-500K,avg+max,rsnt50+rsnxt101,u(300,300,200)i(200,200),hyb(fa+dnn),rl(full),ab.2,cm.18,fg.7,wd.0001)/\n",
      "train_i=256, train_loss = 0.039703593719, test_accuracy = 0.9971080, check_secs = 150.09, total_secs = 15160.03\n",
      "   ** improvement detected: model saved to path  /mnt/workspace/pamessina_models/ugallery/youtube_like/v34(10M-500K,avg+max,rsnt50+rsnxt101,u(300,300,200)i(200,200),hyb(fa+dnn),rl(full),ab.2,cm.18,fg.7,wd.0001)/\n",
      "train_i=139, train_loss = 0.039601663911, test_accuracy = 0.9971159, check_secs = 150.20, total_secs = 15310.24\n",
      "   ** improvement detected: model saved to path  /mnt/workspace/pamessina_models/ugallery/youtube_like/v34(10M-500K,avg+max,rsnt50+rsnxt101,u(300,300,200)i(200,200),hyb(fa+dnn),rl(full),ab.2,cm.18,fg.7,wd.0001)/\n",
      "train_i=21, train_loss = 0.039506013858, test_accuracy = 0.9971259, check_secs = 150.07, total_secs = 15460.31\n",
      "   ** improvement detected: model saved to path  /mnt/workspace/pamessina_models/ugallery/youtube_like/v34(10M-500K,avg+max,rsnt50+rsnxt101,u(300,300,200)i(200,200),hyb(fa+dnn),rl(full),ab.2,cm.18,fg.7,wd.0001)/\n",
      "train_i=724, train_loss = 0.039340321280, test_accuracy = 0.9971438, check_secs = 150.05, total_secs = 15610.36\n",
      "   ** improvement detected: model saved to path  /mnt/workspace/pamessina_models/ugallery/youtube_like/v34(10M-500K,avg+max,rsnt50+rsnxt101,u(300,300,200)i(200,200),hyb(fa+dnn),rl(full),ab.2,cm.18,fg.7,wd.0001)/\n",
      "train_i=608, train_loss = 0.039146318513, test_accuracy = 0.9971378, check_secs = 150.21, total_secs = 15760.57\n",
      "train_i=491, train_loss = 0.039007398295, test_accuracy = 0.9971358, check_secs = 150.01, total_secs = 15910.58\n",
      "   *** 2 checks with no improvements -> early stopping :(\n"
     ]
    }
   ],
   "source": [
    "train_network(\n",
    "    train_minibatches, test_minibatches,\n",
    "    len(train_instances), len(test_instances),\n",
    "    batch_size=avg_train_batch_size,\n",
    "    pretrained_embeddings=concat_featmat,\n",
    "    user_layer_units=[300,300,200],\n",
    "    item_layer_units=[200,200],\n",
    "    profile_pooling_mode='AVG+MAX',\n",
    "    model_path = MODEL_PATH,\n",
    "    max_seconds_training=3600 * 6,\n",
    "    min_seconds_to_check_improvement=150,\n",
    "    early_stopping_checks=2,\n",
    "    weight_decay=.0001,\n",
    "    learning_rates=learning_rates,\n",
    ")"
   ]
  }
 ],
 "metadata": {
  "kernelspec": {
   "display_name": ".venv",
   "language": "python",
   "name": ".venv"
  },
  "language_info": {
   "codemirror_mode": {
    "name": "ipython",
    "version": 3
   },
   "file_extension": ".py",
   "mimetype": "text/x-python",
   "name": "python",
   "nbconvert_exporter": "python",
   "pygments_lexer": "ipython3",
   "version": "3.5.2"
  }
 },
 "nbformat": 4,
 "nbformat_minor": 2
}
