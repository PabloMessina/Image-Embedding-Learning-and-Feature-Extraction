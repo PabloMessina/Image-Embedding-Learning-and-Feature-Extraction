{
 "cells": [
  {
   "cell_type": "code",
   "execution_count": 1,
   "metadata": {},
   "outputs": [],
   "source": [
    "%load_ext autoreload\n",
    "%autoreload 1"
   ]
  },
  {
   "cell_type": "code",
   "execution_count": 2,
   "metadata": {},
   "outputs": [],
   "source": [
    "%aimport utils, Networks"
   ]
  },
  {
   "cell_type": "code",
   "execution_count": 3,
   "metadata": {},
   "outputs": [],
   "source": [
    "import numpy as np\n",
    "import pandas as pd\n",
    "import random\n",
    "import os\n",
    "import time\n",
    "from math import ceil\n",
    "from sklearn.preprocessing import StandardScaler\n",
    "from utils import load_embeddings_and_ids, concatenate_featmats, User, VisualSimilarityHandler, get_decaying_learning_rates"
   ]
  },
  {
   "cell_type": "code",
   "execution_count": 4,
   "metadata": {},
   "outputs": [],
   "source": [
    "# use a single GPU because we want to be nice with other people :)\n",
    "os.environ[\"CUDA_VISIBLE_DEVICES\"]=\"0\""
   ]
  },
  {
   "cell_type": "markdown",
   "metadata": {},
   "source": [
    "###  Load pre-trained image embeddings"
   ]
  },
  {
   "cell_type": "code",
   "execution_count": 5,
   "metadata": {},
   "outputs": [],
   "source": [
    "resnet50 = load_embeddings_and_ids('/mnt/workspace/Ugallery/ResNet50/', 'flatten_1.npy', 'ids')"
   ]
  },
  {
   "cell_type": "code",
   "execution_count": 6,
   "metadata": {},
   "outputs": [],
   "source": [
    "resnext101 = load_embeddings_and_ids('/mnt/workspace/Ugallery/resnext101_32x8d_wsl/', 'features.npy', 'ids.npy')"
   ]
  },
  {
   "cell_type": "code",
   "execution_count": 6,
   "metadata": {},
   "outputs": [],
   "source": [
    "# alexnet = load_embeddings_and_ids('/mnt/workspace/Ugallery/AlexNet/', 'fc7.npy', 'ids.npy')"
   ]
  },
  {
   "cell_type": "code",
   "execution_count": 7,
   "metadata": {},
   "outputs": [],
   "source": [
    "# inceptionv3 = load_embeddings_and_ids('/mnt/workspace/Ugallery/InceptionV3/', 'avg_pool.npy', 'ids')"
   ]
  },
  {
   "cell_type": "markdown",
   "metadata": {},
   "source": [
    "###  Concatenate embeddings + z-score normalization"
   ]
  },
  {
   "cell_type": "code",
   "execution_count": 7,
   "metadata": {},
   "outputs": [],
   "source": [
    "embedding_list = [\n",
    "    resnet50,\n",
    "    resnext101,\n",
    "#     alexnet,\n",
    "#     inceptionv3,\n",
    "]"
   ]
  },
  {
   "cell_type": "code",
   "execution_count": 8,
   "metadata": {},
   "outputs": [
    {
     "data": {
      "text/plain": [
       "13297"
      ]
     },
     "execution_count": 8,
     "metadata": {},
     "output_type": "execute_result"
    }
   ],
   "source": [
    "artwork_ids_set = set()\n",
    "for embedding in embedding_list:\n",
    "    if len(artwork_ids_set) == 0:        \n",
    "        artwork_ids_set.update(embedding['index2id'])\n",
    "    else:\n",
    "        artwork_ids_set.intersection_update(embedding['index2id'])\n",
    "artwork_ids = list(artwork_ids_set)\n",
    "artwork_id2index = {_id:i for i,_id in enumerate(artwork_ids)}\n",
    "n_artworks = len(artwork_ids)\n",
    "n_artworks"
   ]
  },
  {
   "cell_type": "code",
   "execution_count": 9,
   "metadata": {},
   "outputs": [],
   "source": [
    "featmat_list = [tmp['featmat'] for tmp in embedding_list]\n",
    "id2index_list = [tmp['id2index'] for tmp in embedding_list]\n",
    "concat_featmat = concatenate_featmats(artwork_ids, featmat_list, id2index_list)"
   ]
  },
  {
   "cell_type": "code",
   "execution_count": 10,
   "metadata": {},
   "outputs": [],
   "source": [
    "concat_featmat = StandardScaler().fit_transform(concat_featmat)"
   ]
  },
  {
   "cell_type": "code",
   "execution_count": 12,
   "metadata": {},
   "outputs": [
    {
     "data": {
      "text/plain": [
       "(13297, 4096)"
      ]
     },
     "execution_count": 12,
     "metadata": {},
     "output_type": "execute_result"
    }
   ],
   "source": [
    "concat_featmat.shape"
   ]
  },
  {
   "cell_type": "markdown",
   "metadata": {},
   "source": [
    "###  Load clusters"
   ]
  },
  {
   "cell_type": "code",
   "execution_count": 13,
   "metadata": {},
   "outputs": [],
   "source": [
    "import json"
   ]
  },
  {
   "cell_type": "code",
   "execution_count": 14,
   "metadata": {},
   "outputs": [],
   "source": [
    "def load_clusters(json_path):\n",
    "    with open(json_path) as f:\n",
    "        artId2clustId = json.load(f)\n",
    "    cluster_ids = np.full((n_artworks,), -1, dtype=int)\n",
    "    for k, v in artId2clustId.items():\n",
    "        cluster_ids[artwork_id2index[int(k)]] = v\n",
    "    return cluster_ids, artId2clustId"
   ]
  },
  {
   "cell_type": "code",
   "execution_count": 15,
   "metadata": {},
   "outputs": [],
   "source": [
    "def get_art_indexes_per_cluster(cluster_ids, n_clusters):\n",
    "    clusterId2artworkIndexes = [[] for _ in range(n_clusters)]\n",
    "    for i, cluster_id in enumerate(cluster_ids):\n",
    "        clusterId2artworkIndexes[cluster_id].append(i)\n",
    "    return clusterId2artworkIndexes"
   ]
  },
  {
   "cell_type": "code",
   "execution_count": 16,
   "metadata": {},
   "outputs": [],
   "source": [
    "cluster_ids, artId2clustId = load_clusters(\n",
    "    '/mnt/workspace/Ugallery/Clustering/artworkId2clusterId(resnet50+resnext101).json')"
   ]
  },
  {
   "cell_type": "code",
   "execution_count": 17,
   "metadata": {},
   "outputs": [
    {
     "name": "stdout",
     "output_type": "stream",
     "text": [
      "0 99 (13297,)\n"
     ]
    }
   ],
   "source": [
    "print(cluster_ids.min(), cluster_ids.max(), cluster_ids.shape)"
   ]
  },
  {
   "cell_type": "code",
   "execution_count": 18,
   "metadata": {},
   "outputs": [
    {
     "data": {
      "text/plain": [
       "100"
      ]
     },
     "execution_count": 18,
     "metadata": {},
     "output_type": "execute_result"
    }
   ],
   "source": [
    "n_clusters = len(set(cluster_ids))\n",
    "n_clusters"
   ]
  },
  {
   "cell_type": "code",
   "execution_count": 19,
   "metadata": {},
   "outputs": [],
   "source": [
    "clustId2artIndexes = get_art_indexes_per_cluster(cluster_ids, n_clusters)"
   ]
  },
  {
   "cell_type": "markdown",
   "metadata": {},
   "source": [
    "###  Load PCA200 embeddings"
   ]
  },
  {
   "cell_type": "code",
   "execution_count": 20,
   "metadata": {},
   "outputs": [],
   "source": [
    "pca200 = load_embeddings_and_ids(\n",
    "    '/mnt/workspace/Ugallery/PCA200(resnet50+resnext101)/',\n",
    "    'embeddings.npy',\n",
    "    'ids.npy',\n",
    ")"
   ]
  },
  {
   "cell_type": "code",
   "execution_count": 21,
   "metadata": {},
   "outputs": [],
   "source": [
    "pca200_embeddings = pca200['featmat']\n",
    "pca200_index2id = pca200['index2id']\n",
    "pca200_id2index = pca200['id2index']"
   ]
  },
  {
   "cell_type": "code",
   "execution_count": 22,
   "metadata": {},
   "outputs": [
    {
     "data": {
      "text/plain": [
       "(13297, 200)"
      ]
     },
     "execution_count": 22,
     "metadata": {},
     "output_type": "execute_result"
    }
   ],
   "source": [
    "pca200_embeddings.shape"
   ]
  },
  {
   "cell_type": "code",
   "execution_count": 23,
   "metadata": {},
   "outputs": [],
   "source": [
    "assert np.array_equal(artwork_ids, pca200_index2id)"
   ]
  },
  {
   "cell_type": "markdown",
   "metadata": {},
   "source": [
    "###  Load transactions"
   ]
  },
  {
   "cell_type": "code",
   "execution_count": 24,
   "metadata": {},
   "outputs": [],
   "source": [
    "sales_df = pd.read_csv('./data/valid_sales.csv')\n",
    "artworks_df = pd.read_csv('./data/valid_artworks.csv')"
   ]
  },
  {
   "cell_type": "code",
   "execution_count": 25,
   "metadata": {},
   "outputs": [],
   "source": [
    "artist_ids = np.full((n_artworks,), -1, dtype=int)\n",
    "for _artworkId, _artistId in zip(artworks_df.id, artworks_df.artist_id):\n",
    "    i = artwork_id2index[_artworkId]\n",
    "    artist_ids[i] = _artistId"
   ]
  },
  {
   "cell_type": "code",
   "execution_count": 26,
   "metadata": {},
   "outputs": [],
   "source": [
    "artistId2artworkIndexes = dict()\n",
    "for i, _artistId in enumerate(artist_ids):\n",
    "    if _artistId == -1:\n",
    "        continue\n",
    "    try:\n",
    "        artistId2artworkIndexes[_artistId].append(i)\n",
    "    except KeyError:\n",
    "        artistId2artworkIndexes[_artistId] = [i]"
   ]
  },
  {
   "cell_type": "markdown",
   "metadata": {},
   "source": [
    "### Collect transactions per user (making sure we hide the last nonfirst purchase basket per user)"
   ]
  },
  {
   "cell_type": "markdown",
   "metadata": {},
   "source": [
    "#### create list of users"
   ]
  },
  {
   "cell_type": "code",
   "execution_count": 27,
   "metadata": {},
   "outputs": [
    {
     "data": {
      "text/plain": [
       "2919"
      ]
     },
     "execution_count": 27,
     "metadata": {},
     "output_type": "execute_result"
    }
   ],
   "source": [
    "user_ids = sales_df.customer_id.unique()\n",
    "user_id2index = { _id:i for i,_id in enumerate(user_ids) }\n",
    "users = [User(uid) for uid in user_ids]\n",
    "n_users = len(user_ids)\n",
    "n_users"
   ]
  },
  {
   "cell_type": "markdown",
   "metadata": {},
   "source": [
    "#### collect and sanity check transactions per user"
   ]
  },
  {
   "cell_type": "code",
   "execution_count": 28,
   "metadata": {},
   "outputs": [],
   "source": [
    "sorted_sales_df = sales_df.sort_values('order_date')"
   ]
  },
  {
   "cell_type": "code",
   "execution_count": 29,
   "metadata": {},
   "outputs": [],
   "source": [
    "# clear structures to prevent possible duplicate elements\n",
    "for user in users:\n",
    "    user.clear()\n",
    "\n",
    "# collect transactions per user sorted by timestamp\n",
    "for uid, aid, t in zip(sorted_sales_df.customer_id,\n",
    "                       sorted_sales_df.artwork_id,\n",
    "                       sorted_sales_df.order_date):\n",
    "    users[user_id2index[uid]].append_transaction(\n",
    "        aid, t, artwork_id2index, artist_ids, cluster_ids, cluster_ids)\n",
    "    assert users[user_id2index[uid]]._uid == uid\n",
    "    \n",
    "# bin transctions with same timestamps into purchase baskets\n",
    "for user in users:\n",
    "    user.build_purchase_baskets()\n",
    "    user.sanity_check_purchase_baskets()\n",
    "    user.remove_last_nonfirst_purchase_basket(\n",
    "        artwork_id2index, artist_ids, cluster_ids, cluster_ids)\n",
    "    user.sanity_check_purchase_baskets()\n",
    "    user.refresh_nonpurchased_cluster_ids(n_clusters, n_clusters)\n",
    "    user.refresh_cluster_ids()\n",
    "    user.refresh_artist_ids()"
   ]
  },
  {
   "cell_type": "markdown",
   "metadata": {},
   "source": [
    "### Generate training data"
   ]
  },
  {
   "cell_type": "code",
   "execution_count": 30,
   "metadata": {},
   "outputs": [],
   "source": [
    "def hash_triple(ui, pi, ni):\n",
    "    return  ((pi * n_artworks) + ni) * n_users + ui"
   ]
  },
  {
   "cell_type": "code",
   "execution_count": 31,
   "metadata": {},
   "outputs": [],
   "source": [
    "def sanity_check_instance(instance, pos_in_profile=True):\n",
    "    ui, pi, ni = instance    \n",
    "    try:\n",
    "        assert 0 <= ui < n_users\n",
    "        assert 0 <= pi < n_artworks\n",
    "        assert 0 <= ni < n_artworks\n",
    "        assert pi != ni\n",
    "        assert not vissimhandler.same(pi,ni)        \n",
    "        user = users[ui]        \n",
    "        assert ni not in user.artwork_idxs_set        \n",
    "        if pos_in_profile is not None:\n",
    "            assert (pi in user.artwork_idxs_set) == pos_in_profile\n",
    "    except AssertionError:\n",
    "        print('ui = ', ui)\n",
    "        print('pi = ', pi)\n",
    "        print('ni = ', ni)\n",
    "        raise"
   ]
  },
  {
   "cell_type": "code",
   "execution_count": 32,
   "metadata": {},
   "outputs": [],
   "source": [
    "def append_instance(container, instance, **kwargs):\n",
    "    global _hash_collisions\n",
    "    ui, pi, ni = instance\n",
    "    \n",
    "    h = hash_triple(ui, pi, ni)\n",
    "    if h in used_hashes:\n",
    "        _hash_collisions += 1\n",
    "        return False\n",
    "    \n",
    "    if vissimhandler.same(pi, ni):\n",
    "        return False\n",
    "    \n",
    "    sanity_check_instance(instance, **kwargs)\n",
    "    container.append(instance)\n",
    "    used_hashes.add(h)\n",
    "    return True"
   ]
  },
  {
   "cell_type": "code",
   "execution_count": 33,
   "metadata": {},
   "outputs": [],
   "source": [
    "def print_num_samples(sampler_func):\n",
    "    def wrapper(instances_container, n_samples):\n",
    "        len_before = len(instances_container)\n",
    "        sampler_func(instances_container, n_samples)\n",
    "        actual_samples = len(instances_container) - len_before\n",
    "        print('  target samples: %d' % n_samples)\n",
    "        print('  actual samples: %d' % actual_samples)\n",
    "        print('  delta: %d' % (n_samples - actual_samples))\n",
    "    return wrapper"
   ]
  },
  {
   "cell_type": "code",
   "execution_count": 34,
   "metadata": {},
   "outputs": [],
   "source": [
    "vissimhandler = VisualSimilarityHandler(cluster_ids, pca200_embeddings)"
   ]
  },
  {
   "cell_type": "code",
   "execution_count": 35,
   "metadata": {},
   "outputs": [],
   "source": [
    "vissimhandler.count = 0\n",
    "used_hashes = set()\n",
    "_hash_collisions = 0\n",
    "train_instances = []\n",
    "test_instances = []"
   ]
  },
  {
   "cell_type": "code",
   "execution_count": 41,
   "metadata": {},
   "outputs": [
    {
     "name": "stdout",
     "output_type": "stream",
     "text": [
      "10000000 500000\n"
     ]
    }
   ],
   "source": [
    "N_STRATEGIES = 1\n",
    "TOTAL_SAMPLES__TRAIN = 10000000\n",
    "TOTAL_SAMPLES__TEST =  TOTAL_SAMPLES__TRAIN * 0.05\n",
    "N_SAMPLES_PER_STRATEGY__TRAIN = ceil(TOTAL_SAMPLES__TRAIN / N_STRATEGIES)\n",
    "N_SAMPLES_PER_STRATEGY__TEST = ceil(TOTAL_SAMPLES__TEST / N_STRATEGIES)\n",
    "print(N_SAMPLES_PER_STRATEGY__TRAIN, N_SAMPLES_PER_STRATEGY__TEST)"
   ]
  },
  {
   "cell_type": "markdown",
   "metadata": {},
   "source": [
    "## Original BPR strategy"
   ]
  },
  {
   "cell_type": "markdown",
   "metadata": {},
   "source": [
    "#### 1) given profile, recommend profile\n",
    "Given a user's profile, all items in the profile should be ranked higher than items outside the profile"
   ]
  },
  {
   "cell_type": "code",
   "execution_count": 43,
   "metadata": {},
   "outputs": [],
   "source": [
    "def sample_artwork_index__outsideprofile__naive(profile_set):\n",
    "    while True:        \n",
    "        ni = random.randint(0, n_artworks-1)\n",
    "        if ni not in profile_set:\n",
    "            return ni"
   ]
  },
  {
   "cell_type": "code",
   "execution_count": 44,
   "metadata": {},
   "outputs": [],
   "source": [
    "@print_num_samples\n",
    "def generate_samples__rank_profile_above_nonprofile__naive(instances_container, n_samples):\n",
    "    n_samples_per_user = ceil(n_samples / n_users)    \n",
    "    for ui, user in enumerate(users):\n",
    "        profile = user.artwork_idxs\n",
    "        profile_set = user.artwork_idxs_set\n",
    "        n = n_samples_per_user\n",
    "        while n > 0:\n",
    "            pi = random.choice(profile)\n",
    "            ni = sample_artwork_index__outsideprofile__naive(profile_set)\n",
    "            if append_instance(instances_container, (ui, pi, ni)):\n",
    "                n -= 1"
   ]
  },
  {
   "cell_type": "code",
   "execution_count": 46,
   "metadata": {
    "scrolled": false
   },
   "outputs": [
    {
     "name": "stdout",
     "output_type": "stream",
     "text": [
      "====================\n",
      "sampling train instances ...\n",
      "  target samples: 10000000\n",
      "  actual samples: 10000494\n",
      "  delta: -494\n",
      "====================\n",
      "sampling test instances ...\n",
      "  target samples: 500000\n",
      "  actual samples: 502068\n",
      "  delta: -2068\n",
      "10000494 502068\n",
      "hash_collisions =  1434240\n",
      "visual_collisions =  0\n"
     ]
    }
   ],
   "source": [
    "print('====================\\nsampling train instances ...')\n",
    "generate_samples__rank_profile_above_nonprofile__naive(\n",
    "    train_instances, n_samples=N_SAMPLES_PER_STRATEGY__TRAIN)\n",
    "\n",
    "print('====================\\nsampling test instances ...')\n",
    "generate_samples__rank_profile_above_nonprofile__naive(\n",
    "    test_instances, n_samples=N_SAMPLES_PER_STRATEGY__TEST)\n",
    "\n",
    "print(len(train_instances), len(test_instances))\n",
    "print('hash_collisions = ', _hash_collisions)\n",
    "print('visual_collisions = ', vissimhandler.count)"
   ]
  },
  {
   "cell_type": "markdown",
   "metadata": {},
   "source": [
    "#### shuffle train instances"
   ]
  },
  {
   "cell_type": "code",
   "execution_count": 48,
   "metadata": {},
   "outputs": [],
   "source": [
    "random.shuffle(train_instances)"
   ]
  },
  {
   "cell_type": "markdown",
   "metadata": {},
   "source": [
    "### Training Model"
   ]
  },
  {
   "cell_type": "code",
   "execution_count": 49,
   "metadata": {},
   "outputs": [],
   "source": [
    "def generate_minibatches(tuples, batch_size):\n",
    "    n_tuples = len(tuples)\n",
    "    n_batches = ceil(n_tuples / batch_size)\n",
    "    \n",
    "    assert n_batches * batch_size >= n_tuples\n",
    "    assert (n_batches - 1) * batch_size < n_tuples\n",
    "    \n",
    "    indexes = list(range(n_tuples))\n",
    "    random.shuffle(indexes)\n",
    "    \n",
    "    print('n_tuples = ', n_tuples)\n",
    "    print('n_batches = ', n_batches)\n",
    "    \n",
    "    user_index_batches = [None] * n_batches\n",
    "    pos_index_batches = [None] * n_batches\n",
    "    neg_index_batches = [None] * n_batches\n",
    "    \n",
    "    for i in range(n_batches):\n",
    "        jmin = i * batch_size\n",
    "        jmax = min(jmin + batch_size, n_tuples)\n",
    "        actual_batch_size = jmax - jmin\n",
    "        \n",
    "        user_index_batch = np.empty((actual_batch_size,), dtype=int)\n",
    "        pos_index_batch = np.empty((actual_batch_size,), dtype=int)\n",
    "        neg_index_batch = np.empty((actual_batch_size,), dtype=int)\n",
    "        \n",
    "        for j in range(actual_batch_size):\n",
    "            t = tuples[indexes[jmin+j]]\n",
    "            user_index_batch[j] = t[0]\n",
    "            pos_index_batch[j] = t[1]\n",
    "            neg_index_batch[j] = t[2]\n",
    "\n",
    "        user_index_batches[i] = user_index_batch\n",
    "        pos_index_batches[i] = pos_index_batch\n",
    "        neg_index_batches[i] = neg_index_batch\n",
    "        \n",
    "    return dict(\n",
    "        user_index_batches = user_index_batches,\n",
    "        pos_index_batches  = pos_index_batches,\n",
    "        neg_index_batches  = neg_index_batches,\n",
    "        n_batches          = n_batches,\n",
    "    )"
   ]
  },
  {
   "cell_type": "code",
   "execution_count": 50,
   "metadata": {},
   "outputs": [],
   "source": [
    "def sanity_check_minibatches(minibatches):\n",
    "    user_index_batches = minibatches['user_index_batches']\n",
    "    pos_index_batches = minibatches['pos_index_batches']\n",
    "    neg_index_batches = minibatches['neg_index_batches']\n",
    "    n_batches = minibatches['n_batches']\n",
    "    assert n_batches == len(user_index_batches)\n",
    "    assert n_batches == len(pos_index_batches)\n",
    "    assert n_batches == len(neg_index_batches)\n",
    "    assert n_batches > 0\n",
    "    \n",
    "    for user_index, pos_index, neg_index in zip(\n",
    "        user_index_batches,\n",
    "        pos_index_batches,\n",
    "        neg_index_batches\n",
    "    ):\n",
    "        n = user_index.shape[0]\n",
    "        assert n == pos_index.shape[0]\n",
    "        assert n == neg_index.shape[0]\n",
    "        \n",
    "        for i in range(n):\n",
    "            ui = user_index[i]\n",
    "            pi = pos_index[i]\n",
    "            ni = neg_index[i]\n",
    "            assert pi != ni\n",
    "            assert ni not in users[ui].artwork_idxs_set"
   ]
  },
  {
   "cell_type": "code",
   "execution_count": 66,
   "metadata": {},
   "outputs": [],
   "source": [
    "import tensorflow as tf\n",
    "from Networks import VBPR_Network_Train, TrainLogger"
   ]
  },
  {
   "cell_type": "code",
   "execution_count": 63,
   "metadata": {},
   "outputs": [],
   "source": [
    "def train_network(train_minibatches, test_minibatches,\n",
    "                  n_train_instances, n_test_instances, batch_size,\n",
    "                  pretrained_embeddings,\n",
    "                  user_latent_dim,\n",
    "                  item_latent_dim,\n",
    "                  item_visual_dim,\n",
    "                  model_path,\n",
    "                  max_seconds_training=3600,\n",
    "                  min_seconds_to_check_improvement=60,\n",
    "                  early_stopping_checks=4,\n",
    "                  weight_decay=0.001,\n",
    "                  learning_rates=[1e-3]):\n",
    "    \n",
    "    n_train_batches = train_minibatches['n_batches']\n",
    "    n_test_batches = test_minibatches['n_batches']\n",
    "    \n",
    "    print('learning_rates = ', learning_rates)\n",
    "    \n",
    "    with tf.Graph().as_default():\n",
    "        network = VBPR_Network_Train(\n",
    "            n_users=n_users,\n",
    "            n_items=n_artworks,\n",
    "            user_latent_dim=user_latent_dim,\n",
    "            item_latent_dim=item_latent_dim,\n",
    "            item_visual_dim=item_visual_dim,            \n",
    "            pretrained_dim=pretrained_embeddings.shape[1],\n",
    "            weight_decay=weight_decay,\n",
    "        )\n",
    "        \n",
    "        print('Variables to be trained:')\n",
    "        for x in tf.global_variables():\n",
    "            print('\\t', x)        \n",
    "        \n",
    "        gpu_options = tf.GPUOptions(\n",
    "            per_process_gpu_memory_fraction=0.5,\n",
    "            allow_growth=True\n",
    "        )\n",
    "        config = tf.ConfigProto(gpu_options=gpu_options)\n",
    "        with tf.Session() as sess:\n",
    "            try:\n",
    "                saver = tf.train.Saver()            \n",
    "                saver.restore(sess, tf.train.latest_checkpoint(model_path))\n",
    "                print('model successfully restored from checkpoint!')\n",
    "            except ValueError:\n",
    "                print('no checkpoint found: initializing variables with random values')\n",
    "                os.makedirs(MODEL_PATH, exist_ok=True)\n",
    "                sess.run(tf.global_variables_initializer())            \n",
    "            trainlogger = TrainLogger(model_path + 'train_logs.csv')\n",
    "\n",
    "            # ========= BEFORE TRAINING ============\n",
    "            \n",
    "            initial_test_acc = 0.            \n",
    "            for user_index, pos_index, neg_index in zip(\n",
    "                test_minibatches['user_index_batches'],\n",
    "                test_minibatches['pos_index_batches'],\n",
    "                test_minibatches['neg_index_batches']\n",
    "            ):\n",
    "                minibatch_test_acc = network.get_test_accuracy(\n",
    "                    sess, pretrained_embeddings, user_index, pos_index, neg_index)\n",
    "                initial_test_acc += minibatch_test_acc\n",
    "            initial_test_acc /= n_test_instances\n",
    "\n",
    "            print(\"Before training: test_accuracy = %f\" % initial_test_acc)\n",
    "            \n",
    "            best_test_acc = initial_test_acc\n",
    "            seconds_training = 0\n",
    "            elapsed_seconds_from_last_check = 0\n",
    "            checks_with_no_improvement = 0\n",
    "            last_improvement_loss = None\n",
    "            \n",
    "            # ========= TRAINING ============\n",
    "            \n",
    "            print ('Starting training ...')\n",
    "            n_lr = len(learning_rates)\n",
    "            lr_i = 0\n",
    "            train_loss_ema = None # exponential moving average\n",
    "            \n",
    "            while seconds_training < max_seconds_training:\n",
    "                \n",
    "                for train_i, (user_index, pos_index, neg_index) in enumerate(zip(\n",
    "                    train_minibatches['user_index_batches'],\n",
    "                    train_minibatches['pos_index_batches'],\n",
    "                    train_minibatches['neg_index_batches']\n",
    "                )):\n",
    "                    # optimize and get traing loss\n",
    "                    start_t = time.time()\n",
    "                    _, minibatch_train_loss = network.optimize_and_get_train_loss(\n",
    "                        sess, pretrained_embeddings, user_index, pos_index, neg_index, learning_rates[lr_i])\n",
    "                    delta_t = time.time() - start_t\n",
    "                    \n",
    "                    # update train loss exponential moving average\n",
    "                    train_loss_ema = minibatch_train_loss if train_loss_ema is None else\\\n",
    "                                    0.999 * train_loss_ema + 0.001 * minibatch_train_loss\n",
    "                    \n",
    "                    # update time tracking variables\n",
    "                    seconds_training += delta_t\n",
    "                    elapsed_seconds_from_last_check += delta_t\n",
    "                    \n",
    "                    # check for improvements using test set if it's time to do so\n",
    "                    if elapsed_seconds_from_last_check >= min_seconds_to_check_improvement:\n",
    "                        \n",
    "                        # --- testing                        \n",
    "                        test_acc = 0.\n",
    "                        for _user_index, _pos_index, _neg_index in zip(\n",
    "                            test_minibatches['user_index_batches'],\n",
    "                            test_minibatches['pos_index_batches'],\n",
    "                            test_minibatches['neg_index_batches']\n",
    "                        ):\n",
    "                            minibatch_test_acc = network.get_test_accuracy(\n",
    "                                sess, pretrained_embeddings, _user_index, _pos_index, _neg_index)\n",
    "                            test_acc += minibatch_test_acc\n",
    "                        test_acc /= n_test_instances\n",
    "                    \n",
    "                        print((\"train_i=%d, train_loss = %.12f, test_accuracy = %.6f,\"\n",
    "                               \" check_secs = %.2f, total_secs = %.2f\") % (\n",
    "                                train_i, train_loss_ema, test_acc, elapsed_seconds_from_last_check, seconds_training))                        \n",
    "                        \n",
    "                        # check for improvements\n",
    "                        if (test_acc > best_test_acc) or (\n",
    "                            test_acc == best_test_acc and (\n",
    "                                last_improvement_loss is not None and\\\n",
    "                                last_improvement_loss > train_loss_ema\n",
    "                            )\n",
    "                        ):  \n",
    "                            last_improvement_loss = train_loss_ema\n",
    "                            best_test_acc = test_acc\n",
    "                            checks_with_no_improvement = 0\n",
    "                            saver = tf.train.Saver()\n",
    "                            save_path = saver.save(sess, MODEL_PATH)                    \n",
    "                            print(\"   ** improvement detected: model saved to path \", save_path)\n",
    "                            model_updated = True\n",
    "                        else:\n",
    "                            checks_with_no_improvement += 1                            \n",
    "                            model_updated = False\n",
    "\n",
    "                        # --- logging ---                        \n",
    "                        trainlogger.log_update(\n",
    "                            train_loss_ema, test_acc, n_train_instances, n_test_instances,\n",
    "                            elapsed_seconds_from_last_check, batch_size, learning_rates[lr_i], 't' if model_updated else 'f')\n",
    "                        \n",
    "                        # --- check for early stopping\n",
    "                        if checks_with_no_improvement >= early_stopping_checks:\n",
    "                            if lr_i + 1 < len(learning_rates):\n",
    "                                lr_i += 1\n",
    "                                checks_with_no_improvement = 0\n",
    "                                print(\"   *** %d checks with no improvements -> using a smaller learning_rate = %f\" % (\n",
    "                                    early_stopping_checks, learning_rates[lr_i]))\n",
    "                            else:\n",
    "                                print(\"   *** %d checks with no improvements -> early stopping :(\" % early_stopping_checks)\n",
    "                                return\n",
    "                        \n",
    "                        # --- reset check variables\n",
    "                        elapsed_seconds_from_last_check = 0\n",
    "            print('====== TIMEOUT ======')"
   ]
  },
  {
   "cell_type": "code",
   "execution_count": 59,
   "metadata": {
    "scrolled": true
   },
   "outputs": [
    {
     "name": "stdout",
     "output_type": "stream",
     "text": [
      "n_tuples =  10000494\n",
      "n_batches =  239\n"
     ]
    }
   ],
   "source": [
    "train_batch_size = 42000\n",
    "train_minibatches = generate_minibatches(train_instances, train_batch_size)\n",
    "sanity_check_minibatches(train_minibatches)"
   ]
  },
  {
   "cell_type": "code",
   "execution_count": 60,
   "metadata": {},
   "outputs": [
    {
     "name": "stdout",
     "output_type": "stream",
     "text": [
      "n_tuples =  502068\n",
      "n_batches =  12\n"
     ]
    }
   ],
   "source": [
    "test_batch_size = 42000\n",
    "test_minibatches = generate_minibatches(test_instances, test_batch_size)\n",
    "sanity_check_minibatches(test_minibatches)"
   ]
  },
  {
   "cell_type": "code",
   "execution_count": 61,
   "metadata": {},
   "outputs": [
    {
     "data": {
      "text/plain": [
       "[0.001,\n",
       " 0.0006,\n",
       " 0.00035999999999999997,\n",
       " 0.00021599999999999996,\n",
       " 0.00012959999999999998]"
      ]
     },
     "execution_count": 61,
     "metadata": {},
     "output_type": "execute_result"
    }
   ],
   "source": [
    "learning_rates = get_decaying_learning_rates(1e-3, 1e-4, 0.6)\n",
    "learning_rates"
   ]
  },
  {
   "cell_type": "code",
   "execution_count": 55,
   "metadata": {},
   "outputs": [],
   "source": [
    "# FINE_GRAINED_THRESHOLD, VISUAL_CONFIDENCE_THRESHOLD"
   ]
  },
  {
   "cell_type": "code",
   "execution_count": 64,
   "metadata": {},
   "outputs": [
    {
     "data": {
      "text/plain": [
       "'/mnt/workspace/pamessina_models/ugallery/VBPR/v13(10M-500k,rsnt50+rsnxt101,i(100l+100v),+p-np,wd.0001)'"
      ]
     },
     "execution_count": 64,
     "metadata": {},
     "output_type": "execute_result"
    }
   ],
   "source": [
    "# MODEL_PATH = '/mnt/workspace/pamessina_models/ugallery/VBPR/v8(10M-400K,rsnt50,u(200)i(100l+100v),+p-np,+npfavc-nfavc,fg.6,vcf.1)/'\n",
    "MODEL_PATH = '/mnt/workspace/pamessina_models/ugallery/VBPR/v13(10M-500k,rsnt50+rsnxt101,i(100l+100v),+p-np,wd.0001)/'\n",
    "MODEL_PATH"
   ]
  },
  {
   "cell_type": "code",
   "execution_count": 67,
   "metadata": {
    "scrolled": false
   },
   "outputs": [
    {
     "name": "stdout",
     "output_type": "stream",
     "text": [
      "learning_rates =  [0.001, 0.0006, 0.00035999999999999997, 0.00021599999999999996, 0.00012959999999999998]\n",
      "Variables to be trained:\n",
      "\t <tf.Variable 'user_latent_factors:0' shape=(2919, 200) dtype=float32_ref>\n",
      "\t <tf.Variable 'item_latent_factors:0' shape=(13297, 100) dtype=float32_ref>\n",
      "\t <tf.Variable 'item_latent_biases:0' shape=(13297,) dtype=float32_ref>\n",
      "\t <tf.Variable 'visual_bias:0' shape=(4096,) dtype=float32_ref>\n",
      "\t <tf.Variable 'trainable_image_embedding/fc1/kernel:0' shape=(4096, 100) dtype=float32_ref>\n",
      "\t <tf.Variable 'beta1_power:0' shape=() dtype=float32_ref>\n",
      "\t <tf.Variable 'beta2_power:0' shape=() dtype=float32_ref>\n",
      "\t <tf.Variable 'user_latent_factors/Adam:0' shape=(2919, 200) dtype=float32_ref>\n",
      "\t <tf.Variable 'user_latent_factors/Adam_1:0' shape=(2919, 200) dtype=float32_ref>\n",
      "\t <tf.Variable 'item_latent_factors/Adam:0' shape=(13297, 100) dtype=float32_ref>\n",
      "\t <tf.Variable 'item_latent_factors/Adam_1:0' shape=(13297, 100) dtype=float32_ref>\n",
      "\t <tf.Variable 'item_latent_biases/Adam:0' shape=(13297,) dtype=float32_ref>\n",
      "\t <tf.Variable 'item_latent_biases/Adam_1:0' shape=(13297,) dtype=float32_ref>\n",
      "\t <tf.Variable 'visual_bias/Adam:0' shape=(4096,) dtype=float32_ref>\n",
      "\t <tf.Variable 'visual_bias/Adam_1:0' shape=(4096,) dtype=float32_ref>\n",
      "\t <tf.Variable 'trainable_image_embedding/fc1/kernel/Adam:0' shape=(4096, 100) dtype=float32_ref>\n",
      "\t <tf.Variable 'trainable_image_embedding/fc1/kernel/Adam_1:0' shape=(4096, 100) dtype=float32_ref>\n",
      "no checkpoint found: initializing variables with random values\n",
      "Before training: test_accuracy = 0.505714\n",
      "Starting training ...\n",
      "train_i=44, train_loss = 46.035033184143, test_accuracy = 0.993180, check_secs = 80.18, total_secs = 80.18\n",
      "   ** improvement detected: model saved to path  /mnt/workspace/pamessina_models/ugallery/VBPR/v13(10M-500k,rsnt50+rsnxt101,i(100l+100v),+p-np,wd.0001)\n",
      "train_i=88, train_loss = 37.108586277358, test_accuracy = 0.995076, check_secs = 80.23, total_secs = 160.41\n",
      "   ** improvement detected: model saved to path  /mnt/workspace/pamessina_models/ugallery/VBPR/v13(10M-500k,rsnt50+rsnxt101,i(100l+100v),+p-np,wd.0001)\n",
      "train_i=128, train_loss = 29.057657664354, test_accuracy = 0.995397, check_secs = 80.21, total_secs = 240.62\n",
      "   ** improvement detected: model saved to path  /mnt/workspace/pamessina_models/ugallery/VBPR/v13(10M-500k,rsnt50+rsnxt101,i(100l+100v),+p-np,wd.0001)\n",
      "train_i=168, train_loss = 22.371071005823, test_accuracy = 0.995983, check_secs = 80.16, total_secs = 320.78\n",
      "   ** improvement detected: model saved to path  /mnt/workspace/pamessina_models/ugallery/VBPR/v13(10M-500k,rsnt50+rsnxt101,i(100l+100v),+p-np,wd.0001)\n",
      "train_i=206, train_loss = 17.113470531638, test_accuracy = 0.996327, check_secs = 80.01, total_secs = 400.80\n",
      "   ** improvement detected: model saved to path  /mnt/workspace/pamessina_models/ugallery/VBPR/v13(10M-500k,rsnt50+rsnxt101,i(100l+100v),+p-np,wd.0001)\n",
      "train_i=5, train_loss = 13.044838071380, test_accuracy = 0.996612, check_secs = 80.26, total_secs = 481.05\n",
      "   ** improvement detected: model saved to path  /mnt/workspace/pamessina_models/ugallery/VBPR/v13(10M-500k,rsnt50+rsnxt101,i(100l+100v),+p-np,wd.0001)\n",
      "train_i=47, train_loss = 9.892211990970, test_accuracy = 0.996885, check_secs = 80.22, total_secs = 561.28\n",
      "   ** improvement detected: model saved to path  /mnt/workspace/pamessina_models/ugallery/VBPR/v13(10M-500k,rsnt50+rsnxt101,i(100l+100v),+p-np,wd.0001)\n",
      "train_i=92, train_loss = 7.478330427209, test_accuracy = 0.997186, check_secs = 80.21, total_secs = 641.49\n",
      "   ** improvement detected: model saved to path  /mnt/workspace/pamessina_models/ugallery/VBPR/v13(10M-500k,rsnt50+rsnxt101,i(100l+100v),+p-np,wd.0001)\n",
      "train_i=135, train_loss = 5.666920085851, test_accuracy = 0.997297, check_secs = 80.24, total_secs = 721.72\n",
      "   ** improvement detected: model saved to path  /mnt/workspace/pamessina_models/ugallery/VBPR/v13(10M-500k,rsnt50+rsnxt101,i(100l+100v),+p-np,wd.0001)\n",
      "train_i=178, train_loss = 4.297379676861, test_accuracy = 0.997327, check_secs = 80.09, total_secs = 801.81\n",
      "   ** improvement detected: model saved to path  /mnt/workspace/pamessina_models/ugallery/VBPR/v13(10M-500k,rsnt50+rsnxt101,i(100l+100v),+p-np,wd.0001)\n",
      "train_i=219, train_loss = 3.268377279735, test_accuracy = 0.997413, check_secs = 80.22, total_secs = 882.03\n",
      "   ** improvement detected: model saved to path  /mnt/workspace/pamessina_models/ugallery/VBPR/v13(10M-500k,rsnt50+rsnxt101,i(100l+100v),+p-np,wd.0001)\n",
      "train_i=22, train_loss = 2.486343352651, test_accuracy = 0.997488, check_secs = 80.20, total_secs = 962.24\n",
      "   ** improvement detected: model saved to path  /mnt/workspace/pamessina_models/ugallery/VBPR/v13(10M-500k,rsnt50+rsnxt101,i(100l+100v),+p-np,wd.0001)\n",
      "train_i=62, train_loss = 1.897880812160, test_accuracy = 0.997560, check_secs = 80.28, total_secs = 1042.52\n",
      "   ** improvement detected: model saved to path  /mnt/workspace/pamessina_models/ugallery/VBPR/v13(10M-500k,rsnt50+rsnxt101,i(100l+100v),+p-np,wd.0001)\n",
      "train_i=104, train_loss = 1.448441270586, test_accuracy = 0.997747, check_secs = 80.15, total_secs = 1122.67\n",
      "   ** improvement detected: model saved to path  /mnt/workspace/pamessina_models/ugallery/VBPR/v13(10M-500k,rsnt50+rsnxt101,i(100l+100v),+p-np,wd.0001)\n",
      "train_i=143, train_loss = 1.110913734011, test_accuracy = 0.997729, check_secs = 80.04, total_secs = 1202.71\n",
      "train_i=185, train_loss = 0.851705770822, test_accuracy = 0.997845, check_secs = 80.14, total_secs = 1282.85\n",
      "   ** improvement detected: model saved to path  /mnt/workspace/pamessina_models/ugallery/VBPR/v13(10M-500k,rsnt50+rsnxt101,i(100l+100v),+p-np,wd.0001)\n",
      "train_i=223, train_loss = 0.657326370612, test_accuracy = 0.997919, check_secs = 80.06, total_secs = 1362.91\n",
      "   ** improvement detected: model saved to path  /mnt/workspace/pamessina_models/ugallery/VBPR/v13(10M-500k,rsnt50+rsnxt101,i(100l+100v),+p-np,wd.0001)\n",
      "train_i=26, train_loss = 0.507118568327, test_accuracy = 0.997996, check_secs = 80.11, total_secs = 1443.02\n",
      "   ** improvement detected: model saved to path  /mnt/workspace/pamessina_models/ugallery/VBPR/v13(10M-500k,rsnt50+rsnxt101,i(100l+100v),+p-np,wd.0001)\n",
      "train_i=66, train_loss = 0.393494094036, test_accuracy = 0.998140, check_secs = 80.07, total_secs = 1523.10\n",
      "   ** improvement detected: model saved to path  /mnt/workspace/pamessina_models/ugallery/VBPR/v13(10M-500k,rsnt50+rsnxt101,i(100l+100v),+p-np,wd.0001)\n",
      "train_i=107, train_loss = 0.306408372582, test_accuracy = 0.998235, check_secs = 80.16, total_secs = 1603.26\n",
      "   ** improvement detected: model saved to path  /mnt/workspace/pamessina_models/ugallery/VBPR/v13(10M-500k,rsnt50+rsnxt101,i(100l+100v),+p-np,wd.0001)\n",
      "train_i=149, train_loss = 0.239595372448, test_accuracy = 0.998353, check_secs = 80.00, total_secs = 1683.26\n",
      "   ** improvement detected: model saved to path  /mnt/workspace/pamessina_models/ugallery/VBPR/v13(10M-500k,rsnt50+rsnxt101,i(100l+100v),+p-np,wd.0001)\n",
      "train_i=191, train_loss = 0.188426132446, test_accuracy = 0.998488, check_secs = 80.02, total_secs = 1763.29\n",
      "   ** improvement detected: model saved to path  /mnt/workspace/pamessina_models/ugallery/VBPR/v13(10M-500k,rsnt50+rsnxt101,i(100l+100v),+p-np,wd.0001)\n",
      "train_i=231, train_loss = 0.149367199612, test_accuracy = 0.998677, check_secs = 80.17, total_secs = 1843.45\n",
      "   ** improvement detected: model saved to path  /mnt/workspace/pamessina_models/ugallery/VBPR/v13(10M-500k,rsnt50+rsnxt101,i(100l+100v),+p-np,wd.0001)\n",
      "train_i=36, train_loss = 0.118844760425, test_accuracy = 0.998743, check_secs = 80.22, total_secs = 1923.68\n",
      "   ** improvement detected: model saved to path  /mnt/workspace/pamessina_models/ugallery/VBPR/v13(10M-500k,rsnt50+rsnxt101,i(100l+100v),+p-np,wd.0001)\n",
      "train_i=78, train_loss = 0.095439128595, test_accuracy = 0.998903, check_secs = 80.10, total_secs = 2003.78\n",
      "   ** improvement detected: model saved to path  /mnt/workspace/pamessina_models/ugallery/VBPR/v13(10M-500k,rsnt50+rsnxt101,i(100l+100v),+p-np,wd.0001)\n",
      "train_i=119, train_loss = 0.077331870180, test_accuracy = 0.999052, check_secs = 80.01, total_secs = 2083.79\n",
      "   ** improvement detected: model saved to path  /mnt/workspace/pamessina_models/ugallery/VBPR/v13(10M-500k,rsnt50+rsnxt101,i(100l+100v),+p-np,wd.0001)\n"
     ]
    },
    {
     "name": "stdout",
     "output_type": "stream",
     "text": [
      "train_i=160, train_loss = 0.063207663160, test_accuracy = 0.999169, check_secs = 80.07, total_secs = 2163.86\n",
      "   ** improvement detected: model saved to path  /mnt/workspace/pamessina_models/ugallery/VBPR/v13(10M-500k,rsnt50+rsnxt101,i(100l+100v),+p-np,wd.0001)\n",
      "train_i=226, train_loss = 0.051276658977, test_accuracy = 0.999243, check_secs = 80.06, total_secs = 2243.92\n",
      "   ** improvement detected: model saved to path  /mnt/workspace/pamessina_models/ugallery/VBPR/v13(10M-500k,rsnt50+rsnxt101,i(100l+100v),+p-np,wd.0001)\n",
      "train_i=52, train_loss = 0.042112794344, test_accuracy = 0.999339, check_secs = 80.03, total_secs = 2323.94\n",
      "   ** improvement detected: model saved to path  /mnt/workspace/pamessina_models/ugallery/VBPR/v13(10M-500k,rsnt50+rsnxt101,i(100l+100v),+p-np,wd.0001)\n",
      "train_i=116, train_loss = 0.035027742303, test_accuracy = 0.999430, check_secs = 80.09, total_secs = 2404.04\n",
      "   ** improvement detected: model saved to path  /mnt/workspace/pamessina_models/ugallery/VBPR/v13(10M-500k,rsnt50+rsnxt101,i(100l+100v),+p-np,wd.0001)\n",
      "train_i=181, train_loss = 0.029485238356, test_accuracy = 0.999500, check_secs = 80.25, total_secs = 2484.28\n",
      "   ** improvement detected: model saved to path  /mnt/workspace/pamessina_models/ugallery/VBPR/v13(10M-500k,rsnt50+rsnxt101,i(100l+100v),+p-np,wd.0001)\n",
      "train_i=7, train_loss = 0.025148675958, test_accuracy = 0.999588, check_secs = 80.10, total_secs = 2564.38\n",
      "   ** improvement detected: model saved to path  /mnt/workspace/pamessina_models/ugallery/VBPR/v13(10M-500k,rsnt50+rsnxt101,i(100l+100v),+p-np,wd.0001)\n",
      "train_i=71, train_loss = 0.021759961439, test_accuracy = 0.999671, check_secs = 80.01, total_secs = 2644.39\n",
      "   ** improvement detected: model saved to path  /mnt/workspace/pamessina_models/ugallery/VBPR/v13(10M-500k,rsnt50+rsnxt101,i(100l+100v),+p-np,wd.0001)\n",
      "train_i=135, train_loss = 0.019091179209, test_accuracy = 0.999691, check_secs = 80.08, total_secs = 2724.47\n",
      "   ** improvement detected: model saved to path  /mnt/workspace/pamessina_models/ugallery/VBPR/v13(10M-500k,rsnt50+rsnxt101,i(100l+100v),+p-np,wd.0001)\n",
      "train_i=199, train_loss = 0.016991758057, test_accuracy = 0.999717, check_secs = 80.10, total_secs = 2804.57\n",
      "   ** improvement detected: model saved to path  /mnt/workspace/pamessina_models/ugallery/VBPR/v13(10M-500k,rsnt50+rsnxt101,i(100l+100v),+p-np,wd.0001)\n",
      "train_i=27, train_loss = 0.015327789306, test_accuracy = 0.999767, check_secs = 80.22, total_secs = 2884.79\n",
      "   ** improvement detected: model saved to path  /mnt/workspace/pamessina_models/ugallery/VBPR/v13(10M-500k,rsnt50+rsnxt101,i(100l+100v),+p-np,wd.0001)\n",
      "train_i=94, train_loss = 0.014026979572, test_accuracy = 0.999775, check_secs = 80.07, total_secs = 2964.85\n",
      "   ** improvement detected: model saved to path  /mnt/workspace/pamessina_models/ugallery/VBPR/v13(10M-500k,rsnt50+rsnxt101,i(100l+100v),+p-np,wd.0001)\n",
      "train_i=159, train_loss = 0.013017543729, test_accuracy = 0.999781, check_secs = 80.08, total_secs = 3044.94\n",
      "   ** improvement detected: model saved to path  /mnt/workspace/pamessina_models/ugallery/VBPR/v13(10M-500k,rsnt50+rsnxt101,i(100l+100v),+p-np,wd.0001)\n",
      "train_i=231, train_loss = 0.012214441633, test_accuracy = 0.999767, check_secs = 80.08, total_secs = 3125.02\n",
      "train_i=61, train_loss = 0.011603888764, test_accuracy = 0.999773, check_secs = 80.01, total_secs = 3205.03\n",
      "   *** 2 checks with no improvements -> using a smaller learning_rate = 0.000600\n",
      "train_i=132, train_loss = 0.011057297552, test_accuracy = 0.999793, check_secs = 80.02, total_secs = 3285.06\n",
      "   ** improvement detected: model saved to path  /mnt/workspace/pamessina_models/ugallery/VBPR/v13(10M-500k,rsnt50+rsnxt101,i(100l+100v),+p-np,wd.0001)\n",
      "train_i=202, train_loss = 0.010640613843, test_accuracy = 0.999797, check_secs = 80.00, total_secs = 3365.06\n",
      "   ** improvement detected: model saved to path  /mnt/workspace/pamessina_models/ugallery/VBPR/v13(10M-500k,rsnt50+rsnxt101,i(100l+100v),+p-np,wd.0001)\n",
      "train_i=35, train_loss = 0.010324616786, test_accuracy = 0.999805, check_secs = 80.25, total_secs = 3445.31\n",
      "   ** improvement detected: model saved to path  /mnt/workspace/pamessina_models/ugallery/VBPR/v13(10M-500k,rsnt50+rsnxt101,i(100l+100v),+p-np,wd.0001)\n",
      "train_i=107, train_loss = 0.010085729096, test_accuracy = 0.999825, check_secs = 80.03, total_secs = 3525.34\n",
      "   ** improvement detected: model saved to path  /mnt/workspace/pamessina_models/ugallery/VBPR/v13(10M-500k,rsnt50+rsnxt101,i(100l+100v),+p-np,wd.0001)\n",
      "train_i=180, train_loss = 0.009903324312, test_accuracy = 0.999795, check_secs = 80.08, total_secs = 3605.42\n",
      "train_i=15, train_loss = 0.009761523655, test_accuracy = 0.999819, check_secs = 80.21, total_secs = 3685.63\n",
      "   *** 2 checks with no improvements -> using a smaller learning_rate = 0.000360\n",
      "train_i=88, train_loss = 0.009610268659, test_accuracy = 0.999815, check_secs = 80.14, total_secs = 3765.77\n",
      "train_i=160, train_loss = 0.009492048038, test_accuracy = 0.999815, check_secs = 80.04, total_secs = 3845.81\n",
      "   *** 2 checks with no improvements -> using a smaller learning_rate = 0.000216\n",
      "train_i=233, train_loss = 0.009376784816, test_accuracy = 0.999817, check_secs = 80.04, total_secs = 3925.85\n",
      "train_i=67, train_loss = 0.009288643523, test_accuracy = 0.999841, check_secs = 80.22, total_secs = 4006.06\n",
      "   ** improvement detected: model saved to path  /mnt/workspace/pamessina_models/ugallery/VBPR/v13(10M-500k,rsnt50+rsnxt101,i(100l+100v),+p-np,wd.0001)\n",
      "train_i=141, train_loss = 0.009221970705, test_accuracy = 0.999825, check_secs = 80.15, total_secs = 4086.21\n",
      "train_i=214, train_loss = 0.009171306877, test_accuracy = 0.999825, check_secs = 80.24, total_secs = 4166.45\n",
      "   *** 2 checks with no improvements -> using a smaller learning_rate = 0.000130\n",
      "train_i=48, train_loss = 0.009117054072, test_accuracy = 0.999849, check_secs = 80.02, total_secs = 4246.46\n",
      "   ** improvement detected: model saved to path  /mnt/workspace/pamessina_models/ugallery/VBPR/v13(10M-500k,rsnt50+rsnxt101,i(100l+100v),+p-np,wd.0001)\n",
      "train_i=122, train_loss = 0.009074534312, test_accuracy = 0.999843, check_secs = 80.21, total_secs = 4326.67\n",
      "train_i=195, train_loss = 0.009041776301, test_accuracy = 0.999825, check_secs = 80.03, total_secs = 4406.70\n",
      "   *** 2 checks with no improvements -> early stopping :(\n"
     ]
    }
   ],
   "source": [
    "train_network(\n",
    "    train_minibatches, test_minibatches,\n",
    "    len(train_instances), len(test_instances),\n",
    "    batch_size=train_batch_size,\n",
    "    pretrained_embeddings=concat_featmat,\n",
    "    user_latent_dim=200,\n",
    "    item_latent_dim=100,\n",
    "    item_visual_dim=100,\n",
    "    model_path = MODEL_PATH,\n",
    "    max_seconds_training=3600*1.5,\n",
    "    min_seconds_to_check_improvement=80,\n",
    "    early_stopping_checks=2,\n",
    "    weight_decay=0.0001,\n",
    "    learning_rates=learning_rates,\n",
    ")"
   ]
  }
 ],
 "metadata": {
  "kernelspec": {
   "display_name": ".venv",
   "language": "python",
   "name": ".venv"
  },
  "language_info": {
   "codemirror_mode": {
    "name": "ipython",
    "version": 3
   },
   "file_extension": ".py",
   "mimetype": "text/x-python",
   "name": "python",
   "nbconvert_exporter": "python",
   "pygments_lexer": "ipython3",
   "version": "3.5.2"
  }
 },
 "nbformat": 4,
 "nbformat_minor": 2
}
