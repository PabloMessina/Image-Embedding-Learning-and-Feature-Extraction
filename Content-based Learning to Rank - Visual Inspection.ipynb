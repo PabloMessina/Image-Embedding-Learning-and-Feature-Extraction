{
 "cells": [
  {
   "cell_type": "code",
   "execution_count": 1,
   "metadata": {},
   "outputs": [],
   "source": [
    "%load_ext autoreload\n",
    "%autoreload 1"
   ]
  },
  {
   "cell_type": "code",
   "execution_count": 2,
   "metadata": {},
   "outputs": [],
   "source": [
    "%aimport utils, Networks"
   ]
  },
  {
   "cell_type": "code",
   "execution_count": 3,
   "metadata": {},
   "outputs": [],
   "source": [
    "import numpy as np\n",
    "import tensorflow as tf\n",
    "import matplotlib.pyplot as plt\n",
    "import random\n",
    "from utils import plot_images, load_embeddings_and_ids\n",
    "from Networks import ContentBasedLearn2RankNetwork_Evaluation"
   ]
  },
  {
   "cell_type": "code",
   "execution_count": 4,
   "metadata": {},
   "outputs": [],
   "source": [
    "import os\n",
    "os.environ[\"CUDA_VISIBLE_DEVICES\"]=\"0\""
   ]
  },
  {
   "cell_type": "markdown",
   "metadata": {},
   "source": [
    "###  Load pre-trained image embeddings"
   ]
  },
  {
   "cell_type": "code",
   "execution_count": 5,
   "metadata": {},
   "outputs": [],
   "source": [
    "youtube_like = load_embeddings_and_ids(\n",
    "('/mnt/workspace/Ugallery/Youtube-like/v34(10M-500K,avg+max,rsnt50+rsnxt101,u(300,300,200)i(200,200),hyb(fa+dnn),rl(full),ab.2,cm.18,fg.7,wd.0001)/'),\n",
    "'item_vectors.npy', 'ids')"
   ]
  },
  {
   "cell_type": "code",
   "execution_count": 6,
   "metadata": {},
   "outputs": [],
   "source": [
    "youtube_like_embeddings = youtube_like['featmat']\n",
    "artwork_ids = youtube_like['index2id']\n",
    "artwork_id2index = youtube_like['id2index']"
   ]
  },
  {
   "cell_type": "code",
   "execution_count": 7,
   "metadata": {},
   "outputs": [
    {
     "data": {
      "text/plain": [
       "13297"
      ]
     },
     "execution_count": 7,
     "metadata": {},
     "output_type": "execute_result"
    }
   ],
   "source": [
    "n_artworks = len(artwork_ids)\n",
    "n_artworks"
   ]
  },
  {
   "cell_type": "code",
   "execution_count": 8,
   "metadata": {},
   "outputs": [
    {
     "data": {
      "text/plain": [
       "(13297, 200)"
      ]
     },
     "execution_count": 8,
     "metadata": {},
     "output_type": "execute_result"
    }
   ],
   "source": [
    "youtube_like_embeddings.shape"
   ]
  },
  {
   "cell_type": "markdown",
   "metadata": {},
   "source": [
    "### Testing Network"
   ]
  },
  {
   "cell_type": "code",
   "execution_count": 9,
   "metadata": {},
   "outputs": [
    {
     "data": {
      "text/plain": [
       "'/mnt/workspace/pamessina_models/ugallery/youtube_like/v34(10M-500K,avg+max,rsnt50+rsnxt101,u(300,300,200)i(200,200),hyb(fa+dnn),rl(full),ab.2,cm.18,fg.7,wd.0001)/'"
      ]
     },
     "execution_count": 9,
     "metadata": {},
     "output_type": "execute_result"
    }
   ],
   "source": [
    "MODEL_PATH = '/mnt/workspace/pamessina_models/ugallery/youtube_like/v34(10M-500K,avg+max,rsnt50+rsnxt101,u(300,300,200)i(200,200),hyb(fa+dnn),rl(full),ab.2,cm.18,fg.7,wd.0001)/'\n",
    "MODEL_PATH"
   ]
  },
  {
   "cell_type": "code",
   "execution_count": 10,
   "metadata": {},
   "outputs": [],
   "source": [
    "image_cache = dict()"
   ]
  },
  {
   "cell_type": "code",
   "execution_count": 11,
   "metadata": {},
   "outputs": [],
   "source": [
    "all_indexes = list(range(n_artworks))"
   ]
  },
  {
   "cell_type": "code",
   "execution_count": 12,
   "metadata": {
    "scrolled": true
   },
   "outputs": [],
   "source": [
    "def get_recommendation(profile_indexes, topk=10):    \n",
    "#     candidate_indexes = set(random.sample(all_indexes, 10000))\n",
    "#     candidate_indexes.update(profile_indexes)\n",
    "#     candidate_indexes = list(candidate_indexes)\n",
    "    candidate_indexes = all_indexes\n",
    "    with tf.Graph().as_default():      \n",
    "        network = ContentBasedLearn2RankNetwork_Evaluation(\n",
    "            user_layer_units=[300,300,200],\n",
    "            latent_space_dim=200,\n",
    "            profile_pooling_mode='AVG+MAX',\n",
    "        )\n",
    "        with tf.Session() as sess:\n",
    "            saver = tf.train.Saver()            \n",
    "            saver.restore(sess, tf.train.latest_checkpoint(MODEL_PATH))\n",
    "            match_scores = network.get_match_scores(sess, youtube_like_embeddings, profile_indexes, candidate_indexes)\n",
    "            tuples = [(s,i) for i,s in zip(candidate_indexes, match_scores)]\n",
    "            tuples.sort(reverse=True)\n",
    "            return [tuples[i][1] for i in range(topk)]"
   ]
  },
  {
   "cell_type": "code",
   "execution_count": 51,
   "metadata": {
    "scrolled": false
   },
   "outputs": [
    {
     "name": "stdout",
     "output_type": "stream",
     "text": [
      "INFO:tensorflow:Restoring parameters from /mnt/workspace/pamessina_models/ugallery/youtube_like/v34(10M-500K,avg+max,rsnt50+rsnxt101,u(300,300,200)i(200,200),hyb(fa+dnn),rl(full),ab.2,cm.18,fg.7,wd.0001)/\n",
      "profile_indexes =  [1961, 4346, 653]\n",
      "profile_ids =  [38952, 44999, 34966]\n",
      "recommendation:  [38952, 34966, 42436, 31793, 40391, 52312, 42095, 38445, 35456, 50704, 32053, 43902, 47318, 43923, 37138, 42501, 24795, 47949, 56383, 33654]\n"
     ]
    }
   ],
   "source": [
    "profile_indexes = random.sample(all_indexes, 3)\n",
    "# profile_indexes = [artwork_id2index[45020]]\n",
    "# profile_indexes = [artwork_id2index[46314]]\n",
    "# profile_indexes = [artwork_id2index[53547]]\n",
    "# profile_indexes = [artwork_id2index[56625]]\n",
    "# profile_indexes = [artwork_id2index[37735]]\n",
    "# profile_indexes = [artwork_id2index[59149]]\n",
    "# profile_indexes = [artwork_id2index[36604]]\n",
    "# profile_indexes = [artwork_id2index[28839]]\n",
    "# profile_indexes = [artwork_id2index[53089]]\n",
    "# profile_indexes = [artwork_id2index[48587]]\n",
    "# profile_indexes = [artwork_id2index[31245]]\n",
    "profile_ids = [artwork_ids[i] for i in profile_indexes]\n",
    "rec = get_recommendation(profile_indexes, topk=20)\n",
    "rec_ids = [artwork_ids[i] for i in rec]\n",
    "print('profile_indexes = ', profile_indexes)\n",
    "print('profile_ids = ', profile_ids)\n",
    "print('recommendation: ', rec_ids)"
   ]
  },
  {
   "cell_type": "code",
   "execution_count": 53,
   "metadata": {
    "scrolled": false
   },
   "outputs": [],
   "source": [
    "# print('-------------------------------')\n",
    "# plot_images(plt, image_cache, profile_ids)\n",
    "# print('-------------------------------')\n",
    "# plot_images(plt, image_cache, rec_ids)"
   ]
  },
  {
   "cell_type": "code",
   "execution_count": null,
   "metadata": {},
   "outputs": [],
   "source": []
  }
 ],
 "metadata": {
  "kernelspec": {
   "display_name": ".venv",
   "language": "python",
   "name": ".venv"
  },
  "language_info": {
   "codemirror_mode": {
    "name": "ipython",
    "version": 3
   },
   "file_extension": ".py",
   "mimetype": "text/x-python",
   "name": "python",
   "nbconvert_exporter": "python",
   "pygments_lexer": "ipython3",
   "version": "3.5.2"
  }
 },
 "nbformat": 4,
 "nbformat_minor": 2
}
